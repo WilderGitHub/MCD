{
 "cells": [
  {
   "cell_type": "markdown",
   "metadata": {},
   "source": [
    "Ejercicio 3."
   ]
  },
  {
   "cell_type": "code",
   "execution_count": 1,
   "metadata": {},
   "outputs": [
    {
     "name": "stdout",
     "output_type": "stream",
     "text": [
      "Her boy said fast\n",
      "That girl heard\n",
      "One girraffe ate\n",
      "Another woman laughed happily\n",
      "His chicken laughed seriously\n"
     ]
    }
   ],
   "source": [
    "import random\n",
    "articulo = [\"One\", \"My\", \"That\",\"Our\", \"Another\", \"A\",\"His\", \"Her\",\"The\"]\n",
    "sujeto = [\"cat\",\"chicken\", \"butterfly\",\"girraffe\",\"horse\",\"woman\", \"girl\",\"cat\", \"dog\", \"boy\" ]\n",
    "verbo = [\"moved\",\"said\", \"fought\", \"saw\",\"felt\", \"heard\", \"slept\",\"cried\",\"laughed\",\"ate\",\"danced\",\"worked\"]\n",
    "adverbio = [\"seriously\",\"quickly\", \"slowly\", \"more\",\"well\", \"badly\",\"incredibly\",\"happily\",\"fast\",\"carefully\"]\n",
    "\n",
    "estructura=[articulo,sujeto,verbo,adverbio]\n",
    "#w=lambda x: random.choice(x)\n",
    "for x in range(5):\n",
    "    poema=(map(random.choice,estructura[0:3]),map(random.choice,estructura))\n",
    "    print(*poema[random.randint(0, 1)],sep=\" \")"
   ]
  }
 ],
 "metadata": {
  "kernelspec": {
   "display_name": "Python 3",
   "language": "python",
   "name": "python3"
  },
  "language_info": {
   "codemirror_mode": {
    "name": "ipython",
    "version": 3
   },
   "file_extension": ".py",
   "mimetype": "text/x-python",
   "name": "python",
   "nbconvert_exporter": "python",
   "pygments_lexer": "ipython3",
   "version": "3.8.5"
  }
 },
 "nbformat": 4,
 "nbformat_minor": 2
}
