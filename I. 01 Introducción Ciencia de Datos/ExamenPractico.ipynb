{
 "cells": [
  {
   "cell_type": "markdown",
   "id": "d5bbda5a",
   "metadata": {},
   "source": [
    "# <span style='color:Blue'> Exportaciones de Bienes y Servicios en las Gestiones 2019 y 2020 </span>"
   ]
  },
  {
   "cell_type": "markdown",
   "id": "bd6c8bad",
   "metadata": {},
   "source": [
    "#### Las exportaciones de Bienes y Servicios de Bolivia se expresan en millones de dolares"
   ]
  },
  {
   "cell_type": "markdown",
   "id": "dfd202d8",
   "metadata": {},
   "source": [
    "### Informacion en formato .csv de mi repositorio en GitHubGist"
   ]
  },
  {
   "cell_type": "code",
   "execution_count": 1,
   "id": "0fad6d8a",
   "metadata": {
    "scrolled": true
   },
   "outputs": [
    {
     "data": {
      "text/html": [
       "<div>\n",
       "<style scoped>\n",
       "    .dataframe tbody tr th:only-of-type {\n",
       "        vertical-align: middle;\n",
       "    }\n",
       "\n",
       "    .dataframe tbody tr th {\n",
       "        vertical-align: top;\n",
       "    }\n",
       "\n",
       "    .dataframe thead th {\n",
       "        text-align: right;\n",
       "    }\n",
       "</style>\n",
       "<table border=\"1\" class=\"dataframe\">\n",
       "  <thead>\n",
       "    <tr style=\"text-align: right;\">\n",
       "      <th></th>\n",
       "      <th>Gestion</th>\n",
       "      <th>Mes</th>\n",
       "      <th>Destino</th>\n",
       "      <th>Concepto</th>\n",
       "      <th>Valor</th>\n",
       "    </tr>\n",
       "  </thead>\n",
       "  <tbody>\n",
       "    <tr>\n",
       "      <th>0</th>\n",
       "      <td>2019</td>\n",
       "      <td>1</td>\n",
       "      <td>Brasil</td>\n",
       "      <td>Servicios</td>\n",
       "      <td>51</td>\n",
       "    </tr>\n",
       "    <tr>\n",
       "      <th>1</th>\n",
       "      <td>2019</td>\n",
       "      <td>2</td>\n",
       "      <td>Brasil</td>\n",
       "      <td>Servicios</td>\n",
       "      <td>81</td>\n",
       "    </tr>\n",
       "    <tr>\n",
       "      <th>2</th>\n",
       "      <td>2019</td>\n",
       "      <td>3</td>\n",
       "      <td>Brasil</td>\n",
       "      <td>Servicios</td>\n",
       "      <td>69</td>\n",
       "    </tr>\n",
       "    <tr>\n",
       "      <th>3</th>\n",
       "      <td>2019</td>\n",
       "      <td>4</td>\n",
       "      <td>Brasil</td>\n",
       "      <td>Servicios</td>\n",
       "      <td>39</td>\n",
       "    </tr>\n",
       "    <tr>\n",
       "      <th>4</th>\n",
       "      <td>2019</td>\n",
       "      <td>5</td>\n",
       "      <td>Brasil</td>\n",
       "      <td>Servicios</td>\n",
       "      <td>37</td>\n",
       "    </tr>\n",
       "  </tbody>\n",
       "</table>\n",
       "</div>"
      ],
      "text/plain": [
       "   Gestion  Mes Destino   Concepto  Valor\n",
       "0     2019    1  Brasil  Servicios     51\n",
       "1     2019    2  Brasil  Servicios     81\n",
       "2     2019    3  Brasil  Servicios     69\n",
       "3     2019    4  Brasil  Servicios     39\n",
       "4     2019    5  Brasil  Servicios     37"
      ]
     },
     "execution_count": 1,
     "metadata": {},
     "output_type": "execute_result"
    }
   ],
   "source": [
    "import seaborn as sns\n",
    "import pandas as pd\n",
    "url = \"https://gist.githubusercontent.com/WilderGitHub/77aa750c28f1fc76ec90209736327961/raw/74174c69a0d73ddb28d302eb270f2198667a4b8f/exportaciones.csv\"\n",
    "exportaciones = c=pd.read_csv(url,sep=';')\n",
    "#exportaciones = pd.read_csv('data/exportaciones1.csv',sep=';')\n",
    "exportaciones.head()\n"
   ]
  },
  {
   "cell_type": "markdown",
   "id": "8aed209c",
   "metadata": {},
   "source": [
    "## Exportaciones totales por gestion\n",
    "    "
   ]
  },
  {
   "cell_type": "markdown",
   "id": "f15e5df1",
   "metadata": {},
   "source": [
    "#### Destaca la disminución del valor promedio de exportaciones de bienes y servicios en la gestión 2020 debido a las restricciones de movilidad debido a la emergencia sanitaria"
   ]
  },
  {
   "cell_type": "code",
   "execution_count": 2,
   "id": "31a05ab4",
   "metadata": {},
   "outputs": [
    {
     "data": {
      "text/html": [
       "<div>\n",
       "<style scoped>\n",
       "    .dataframe tbody tr th:only-of-type {\n",
       "        vertical-align: middle;\n",
       "    }\n",
       "\n",
       "    .dataframe tbody tr th {\n",
       "        vertical-align: top;\n",
       "    }\n",
       "\n",
       "    .dataframe thead th {\n",
       "        text-align: right;\n",
       "    }\n",
       "</style>\n",
       "<table border=\"1\" class=\"dataframe\">\n",
       "  <thead>\n",
       "    <tr style=\"text-align: right;\">\n",
       "      <th>Gestion</th>\n",
       "      <th>2017</th>\n",
       "      <th>2018</th>\n",
       "      <th>2019</th>\n",
       "      <th>2020</th>\n",
       "    </tr>\n",
       "    <tr>\n",
       "      <th>Concepto</th>\n",
       "      <th></th>\n",
       "      <th></th>\n",
       "      <th></th>\n",
       "      <th></th>\n",
       "    </tr>\n",
       "  </thead>\n",
       "  <tbody>\n",
       "    <tr>\n",
       "      <th>Bienes</th>\n",
       "      <td>364.916667</td>\n",
       "      <td>358.000000</td>\n",
       "      <td>407.500000</td>\n",
       "      <td>393.250000</td>\n",
       "    </tr>\n",
       "    <tr>\n",
       "      <th>Servicios</th>\n",
       "      <td>344.833333</td>\n",
       "      <td>359.166667</td>\n",
       "      <td>410.083333</td>\n",
       "      <td>397.416667</td>\n",
       "    </tr>\n",
       "  </tbody>\n",
       "</table>\n",
       "</div>"
      ],
      "text/plain": [
       "Gestion          2017        2018        2019        2020\n",
       "Concepto                                                 \n",
       "Bienes     364.916667  358.000000  407.500000  393.250000\n",
       "Servicios  344.833333  359.166667  410.083333  397.416667"
      ]
     },
     "execution_count": 2,
     "metadata": {},
     "output_type": "execute_result"
    }
   ],
   "source": [
    "exportaciones.pivot_table('Valor', index='Destino', columns=['Concepto','Gestion']).sum().unstack()\n"
   ]
  },
  {
   "cell_type": "markdown",
   "id": "07ee69b5",
   "metadata": {},
   "source": [
    "## Análisis por Destino"
   ]
  },
  {
   "cell_type": "markdown",
   "id": "5ea0152f",
   "metadata": {},
   "source": [
    "## Media del total exportaciones por destino y gestion"
   ]
  },
  {
   "cell_type": "markdown",
   "id": "870e890b",
   "metadata": {},
   "source": [
    "#### El destino principal de exportaciones de Bienes y Servicios en la gestion 2020 fue Peru"
   ]
  },
  {
   "cell_type": "code",
   "execution_count": 3,
   "id": "168fe866",
   "metadata": {},
   "outputs": [
    {
     "data": {
      "text/html": [
       "<div>\n",
       "<style scoped>\n",
       "    .dataframe tbody tr th:only-of-type {\n",
       "        vertical-align: middle;\n",
       "    }\n",
       "\n",
       "    .dataframe tbody tr th {\n",
       "        vertical-align: top;\n",
       "    }\n",
       "\n",
       "    .dataframe thead th {\n",
       "        text-align: right;\n",
       "    }\n",
       "</style>\n",
       "<table border=\"1\" class=\"dataframe\">\n",
       "  <thead>\n",
       "    <tr style=\"text-align: right;\">\n",
       "      <th>Gestion</th>\n",
       "      <th>2017</th>\n",
       "      <th>2018</th>\n",
       "      <th>2019</th>\n",
       "      <th>2020</th>\n",
       "    </tr>\n",
       "    <tr>\n",
       "      <th>Destino</th>\n",
       "      <th></th>\n",
       "      <th></th>\n",
       "      <th></th>\n",
       "      <th></th>\n",
       "    </tr>\n",
       "  </thead>\n",
       "  <tbody>\n",
       "    <tr>\n",
       "      <th>Peru</th>\n",
       "      <td>51.333333</td>\n",
       "      <td>51.208333</td>\n",
       "      <td>34.625000</td>\n",
       "      <td>61.458333</td>\n",
       "    </tr>\n",
       "    <tr>\n",
       "      <th>China</th>\n",
       "      <td>49.958333</td>\n",
       "      <td>52.875000</td>\n",
       "      <td>70.625000</td>\n",
       "      <td>60.625000</td>\n",
       "    </tr>\n",
       "    <tr>\n",
       "      <th>Colombia</th>\n",
       "      <td>48.875000</td>\n",
       "      <td>43.083333</td>\n",
       "      <td>31.375000</td>\n",
       "      <td>58.416667</td>\n",
       "    </tr>\n",
       "    <tr>\n",
       "      <th>Argentina</th>\n",
       "      <td>53.541667</td>\n",
       "      <td>54.583333</td>\n",
       "      <td>53.750000</td>\n",
       "      <td>58.166667</td>\n",
       "    </tr>\n",
       "    <tr>\n",
       "      <th>EEUU</th>\n",
       "      <td>48.125000</td>\n",
       "      <td>49.083333</td>\n",
       "      <td>70.125000</td>\n",
       "      <td>56.416667</td>\n",
       "    </tr>\n",
       "    <tr>\n",
       "      <th>Brasil</th>\n",
       "      <td>52.166667</td>\n",
       "      <td>53.000000</td>\n",
       "      <td>69.166667</td>\n",
       "      <td>50.625000</td>\n",
       "    </tr>\n",
       "    <tr>\n",
       "      <th>Europa</th>\n",
       "      <td>50.875000</td>\n",
       "      <td>54.750000</td>\n",
       "      <td>79.125000</td>\n",
       "      <td>49.625000</td>\n",
       "    </tr>\n",
       "  </tbody>\n",
       "</table>\n",
       "</div>"
      ],
      "text/plain": [
       "Gestion         2017       2018       2019       2020\n",
       "Destino                                              \n",
       "Peru       51.333333  51.208333  34.625000  61.458333\n",
       "China      49.958333  52.875000  70.625000  60.625000\n",
       "Colombia   48.875000  43.083333  31.375000  58.416667\n",
       "Argentina  53.541667  54.583333  53.750000  58.166667\n",
       "EEUU       48.125000  49.083333  70.125000  56.416667\n",
       "Brasil     52.166667  53.000000  69.166667  50.625000\n",
       "Europa     50.875000  54.750000  79.125000  49.625000"
      ]
     },
     "execution_count": 3,
     "metadata": {},
     "output_type": "execute_result"
    }
   ],
   "source": [
    "destino = exportaciones.groupby(['Destino', 'Gestion'])['Valor'].aggregate('mean').unstack()\n",
    "destino.sort_values(destino.columns[3],ascending=False,inplace=True)\n",
    "destino\n"
   ]
  },
  {
   "cell_type": "markdown",
   "id": "b0bf96b8",
   "metadata": {},
   "source": [
    "## La media de exportaciones por rubro"
   ]
  },
  {
   "cell_type": "code",
   "execution_count": 4,
   "id": "6517eea5",
   "metadata": {},
   "outputs": [
    {
     "data": {
      "text/html": [
       "<div>\n",
       "<style scoped>\n",
       "    .dataframe tbody tr th:only-of-type {\n",
       "        vertical-align: middle;\n",
       "    }\n",
       "\n",
       "    .dataframe tbody tr th {\n",
       "        vertical-align: top;\n",
       "    }\n",
       "\n",
       "    .dataframe thead th {\n",
       "        text-align: right;\n",
       "    }\n",
       "</style>\n",
       "<table border=\"1\" class=\"dataframe\">\n",
       "  <thead>\n",
       "    <tr style=\"text-align: right;\">\n",
       "      <th></th>\n",
       "      <th>Destino</th>\n",
       "      <th>Argentina</th>\n",
       "      <th>Brasil</th>\n",
       "      <th>China</th>\n",
       "      <th>Colombia</th>\n",
       "      <th>EEUU</th>\n",
       "      <th>Europa</th>\n",
       "      <th>Peru</th>\n",
       "    </tr>\n",
       "    <tr>\n",
       "      <th>Gestion</th>\n",
       "      <th>Concepto</th>\n",
       "      <th></th>\n",
       "      <th></th>\n",
       "      <th></th>\n",
       "      <th></th>\n",
       "      <th></th>\n",
       "      <th></th>\n",
       "      <th></th>\n",
       "    </tr>\n",
       "  </thead>\n",
       "  <tbody>\n",
       "    <tr>\n",
       "      <th rowspan=\"2\" valign=\"top\">2017</th>\n",
       "      <th>Bienes</th>\n",
       "      <td>51.083333</td>\n",
       "      <td>51.833333</td>\n",
       "      <td>53.250000</td>\n",
       "      <td>50.083333</td>\n",
       "      <td>45.333333</td>\n",
       "      <td>57.750000</td>\n",
       "      <td>55.583333</td>\n",
       "    </tr>\n",
       "    <tr>\n",
       "      <th>Servicios</th>\n",
       "      <td>56.000000</td>\n",
       "      <td>52.500000</td>\n",
       "      <td>46.666667</td>\n",
       "      <td>47.666667</td>\n",
       "      <td>50.916667</td>\n",
       "      <td>44.000000</td>\n",
       "      <td>47.083333</td>\n",
       "    </tr>\n",
       "    <tr>\n",
       "      <th rowspan=\"2\" valign=\"top\">2018</th>\n",
       "      <th>Bienes</th>\n",
       "      <td>55.166667</td>\n",
       "      <td>50.250000</td>\n",
       "      <td>51.750000</td>\n",
       "      <td>44.083333</td>\n",
       "      <td>48.916667</td>\n",
       "      <td>56.416667</td>\n",
       "      <td>51.416667</td>\n",
       "    </tr>\n",
       "    <tr>\n",
       "      <th>Servicios</th>\n",
       "      <td>54.000000</td>\n",
       "      <td>55.750000</td>\n",
       "      <td>54.000000</td>\n",
       "      <td>42.083333</td>\n",
       "      <td>49.250000</td>\n",
       "      <td>53.083333</td>\n",
       "      <td>51.000000</td>\n",
       "    </tr>\n",
       "    <tr>\n",
       "      <th rowspan=\"2\" valign=\"top\">2019</th>\n",
       "      <th>Bienes</th>\n",
       "      <td>48.916667</td>\n",
       "      <td>69.000000</td>\n",
       "      <td>74.583333</td>\n",
       "      <td>31.250000</td>\n",
       "      <td>68.583333</td>\n",
       "      <td>78.833333</td>\n",
       "      <td>36.333333</td>\n",
       "    </tr>\n",
       "    <tr>\n",
       "      <th>Servicios</th>\n",
       "      <td>58.583333</td>\n",
       "      <td>69.333333</td>\n",
       "      <td>66.666667</td>\n",
       "      <td>31.500000</td>\n",
       "      <td>71.666667</td>\n",
       "      <td>79.416667</td>\n",
       "      <td>32.916667</td>\n",
       "    </tr>\n",
       "    <tr>\n",
       "      <th rowspan=\"2\" valign=\"top\">2020</th>\n",
       "      <th>Bienes</th>\n",
       "      <td>65.166667</td>\n",
       "      <td>45.666667</td>\n",
       "      <td>60.583333</td>\n",
       "      <td>51.916667</td>\n",
       "      <td>54.833333</td>\n",
       "      <td>50.750000</td>\n",
       "      <td>64.333333</td>\n",
       "    </tr>\n",
       "    <tr>\n",
       "      <th>Servicios</th>\n",
       "      <td>51.166667</td>\n",
       "      <td>55.583333</td>\n",
       "      <td>60.666667</td>\n",
       "      <td>64.916667</td>\n",
       "      <td>58.000000</td>\n",
       "      <td>48.500000</td>\n",
       "      <td>58.583333</td>\n",
       "    </tr>\n",
       "  </tbody>\n",
       "</table>\n",
       "</div>"
      ],
      "text/plain": [
       "Destino            Argentina     Brasil      China   Colombia       EEUU  \\\n",
       "Gestion Concepto                                                           \n",
       "2017    Bienes     51.083333  51.833333  53.250000  50.083333  45.333333   \n",
       "        Servicios  56.000000  52.500000  46.666667  47.666667  50.916667   \n",
       "2018    Bienes     55.166667  50.250000  51.750000  44.083333  48.916667   \n",
       "        Servicios  54.000000  55.750000  54.000000  42.083333  49.250000   \n",
       "2019    Bienes     48.916667  69.000000  74.583333  31.250000  68.583333   \n",
       "        Servicios  58.583333  69.333333  66.666667  31.500000  71.666667   \n",
       "2020    Bienes     65.166667  45.666667  60.583333  51.916667  54.833333   \n",
       "        Servicios  51.166667  55.583333  60.666667  64.916667  58.000000   \n",
       "\n",
       "Destino               Europa       Peru  \n",
       "Gestion Concepto                         \n",
       "2017    Bienes     57.750000  55.583333  \n",
       "        Servicios  44.000000  47.083333  \n",
       "2018    Bienes     56.416667  51.416667  \n",
       "        Servicios  53.083333  51.000000  \n",
       "2019    Bienes     78.833333  36.333333  \n",
       "        Servicios  79.416667  32.916667  \n",
       "2020    Bienes     50.750000  64.333333  \n",
       "        Servicios  48.500000  58.583333  "
      ]
     },
     "execution_count": 4,
     "metadata": {},
     "output_type": "execute_result"
    }
   ],
   "source": [
    "exportaciones.pivot_table('Valor', index=['Gestion','Concepto'], columns=['Destino'],aggfunc={'Valor':'mean'})"
   ]
  },
  {
   "cell_type": "markdown",
   "id": "725b4c71",
   "metadata": {},
   "source": [
    "## Exportaciones promedio mensual"
   ]
  },
  {
   "cell_type": "markdown",
   "id": "e8533d52",
   "metadata": {},
   "source": [
    "#### Las exportaciones totales promedio por mes tienen un fuerte componente estacional debido a la alta demanda de  bienes y servicios a fin de gestion"
   ]
  },
  {
   "cell_type": "code",
   "execution_count": 5,
   "id": "2d07145d",
   "metadata": {
    "scrolled": true
   },
   "outputs": [
    {
     "data": {
      "text/plain": [
       "Text(0, 0.5, 'Millones de USD')"
      ]
     },
     "execution_count": 5,
     "metadata": {},
     "output_type": "execute_result"
    },
    {
     "data": {
      "image/png": "[encoded data removed]",
      "text/plain": [
       "<Figure size 432x288 with 1 Axes>"
      ]
     },
     "metadata": {
      "needs_background": "light"
     },
     "output_type": "display_data"
    }
   ],
   "source": [
    "mensual =exportaciones.groupby(['Mes'])['Valor'].aggregate('mean')\n",
    "\n",
    "ax=mensual.plot()\n",
    "ax.annotate('Alta Demanda de Bienes', xy=(9.5, 85), xytext=(2, 80), arrowprops=dict(facecolor='black', shrink=0.05))\n",
    "ax.set_title(\"Exportaciones promedio mensual\")\n",
    "ax.set_ylabel(\"Millones de USD\")"
   ]
  },
  {
   "cell_type": "code",
   "execution_count": 6,
   "id": "fdfe2724",
   "metadata": {},
   "outputs": [
    {
     "data": {
      "text/plain": [
       "Text(0, 0.5, 'Exportaciones de Servicios')"
      ]
     },
     "execution_count": 6,
     "metadata": {},
     "output_type": "execute_result"
    },
    {
     "data": {
      "image/png": "[encoded data removed]",
      "text/plain": [
       "<Figure size 432x288 with 1 Axes>"
      ]
     },
     "metadata": {
      "needs_background": "light"
     },
     "output_type": "display_data"
    }
   ],
   "source": [
    "#sns.set_palette(\"viridis\")\n",
    "sca=exportaciones.pivot_table('Valor', index=['Gestion','Mes','Destino'], columns=['Concepto'])\n",
    "#sca.reset_index(drop=True,inplace=True)\n",
    "x= sns.scatterplot(data=sca, x=\"Bienes\", y=\"Servicios\",hue=\"Mes\")\n",
    "x.set_title(\"Exportaciones por mes\")\n",
    "x.set_xlabel(\"Exportaciones de Bienes\")\n",
    "x.set_ylabel(\"Exportaciones de Servicios\")"
   ]
  },
  {
   "cell_type": "markdown",
   "id": "b29bf28f",
   "metadata": {},
   "source": [
    "##  Exportaciones totales de la gestion 2020"
   ]
  },
  {
   "cell_type": "code",
   "execution_count": 7,
   "id": "85c677c4",
   "metadata": {
    "scrolled": true
   },
   "outputs": [
    {
     "data": {
      "image/png": "[encoded data removed]",
      "text/plain": [
       "<Figure size 432x288 with 1 Axes>"
      ]
     },
     "metadata": {
      "needs_background": "light"
     },
     "output_type": "display_data"
    }
   ],
   "source": [
    "import pandas as pd\n",
    "import matplotlib.pyplot as plt\n",
    "import seaborn as sns\n",
    "%matplotlib inline\n",
    "gestion2020= exportaciones[exportaciones['Gestion']==2020]\n",
    "ax = sns.barplot(x=\"Destino\", y=\"Valor\",hue=\"Concepto\" ,data=gestion2020)"
   ]
  },
  {
   "cell_type": "code",
   "execution_count": null,
   "id": "3118f726",
   "metadata": {},
   "outputs": [],
   "source": []
  }
 ],
 "metadata": {
  "kernelspec": {
   "display_name": "Python 3",
   "language": "python",
   "name": "python3"
  },
  "language_info": {
   "codemirror_mode": {
    "name": "ipython",
    "version": 3
   },
   "file_extension": ".py",
   "mimetype": "text/x-python",
   "name": "python",
   "nbconvert_exporter": "python",
   "pygments_lexer": "ipython3",
   "version": "3.8.8"
  }
 },
 "nbformat": 4,
 "nbformat_minor": 5
}
