{
 "cells": [
  {
   "cell_type": "markdown",
   "id": "35df891c",
   "metadata": {},
   "source": [
    "# Genero"
   ]
  },
  {
   "cell_type": "code",
   "execution_count": 1,
   "id": "6c313580",
   "metadata": {},
   "outputs": [],
   "source": [
    "import gc\n",
    "\n",
    "import pandas as pd\n",
    "import matplotlib.pyplot as plt\n",
    "import seaborn as sns\n",
    "%matplotlib inline\n",
    "\n",
    "import warnings\n",
    "warnings.filterwarnings('ignore')"
   ]
  },
  {
   "cell_type": "code",
   "execution_count": null,
   "id": "161874b5",
   "metadata": {},
   "outputs": [],
   "source": []
  },
  {
   "cell_type": "code",
   "execution_count": 2,
   "id": "4c4bd382",
   "metadata": {},
   "outputs": [],
   "source": [
    "df2020 = pd.read_csv('../kaggle_survey_2020_responses.csv',\n",
    "                               low_memory=False)\n",
    "df2018 = pd.read_csv('../multipleChoiceResponses.csv',\n",
    "                               low_memory=False)"
   ]
  },
  {
   "cell_type": "code",
   "execution_count": 3,
   "id": "6ee7a2de",
   "metadata": {},
   "outputs": [],
   "source": [
    "#para 2020\n",
    "columnasAgeGenderCountry = ['Q1','Q2','Q3']"
   ]
  },
  {
   "cell_type": "code",
   "execution_count": 4,
   "id": "388e0e26",
   "metadata": {},
   "outputs": [],
   "source": [
    "dfGenero2020 = df2020[columnasAgeGenderCountry]\n",
    "dfGenero2018 = df2018[columnasAgeGenderCountry]\n"
   ]
  },
  {
   "cell_type": "code",
   "execution_count": 5,
   "id": "c215ddfd",
   "metadata": {},
   "outputs": [],
   "source": [
    "dfGenero2020[\"Year\"]=2020\n",
    "dfGenero2018[\"Year\"]=2018"
   ]
  },
  {
   "cell_type": "code",
   "execution_count": 6,
   "id": "961c5c78",
   "metadata": {},
   "outputs": [
    {
     "data": {
      "text/plain": [
       "20037"
      ]
     },
     "execution_count": 6,
     "metadata": {},
     "output_type": "execute_result"
    }
   ],
   "source": [
    "dfGenero2020.shape[0]"
   ]
  },
  {
   "cell_type": "code",
   "execution_count": 7,
   "id": "25239aa6",
   "metadata": {},
   "outputs": [],
   "source": [
    "dfGenero2020.drop([0],inplace=True)\n",
    "dfGenero2020.reset_index(drop=True,inplace=True)\n",
    "dfGenero2018.drop([0],inplace=True)\n",
    "dfGenero2018.reset_index(drop=True,inplace=True)"
   ]
  },
  {
   "cell_type": "code",
   "execution_count": 8,
   "id": "f811db3c",
   "metadata": {},
   "outputs": [],
   "source": [
    "dict1 = {'Q1': 'P2',\n",
    "        'Q2': 'P1'}\n",
    "  \n",
    "dfGenero2018.rename(columns=dict1,inplace=True)\n",
    "dfGenero2018_new = dfGenero2018\n",
    "#dfGenero2018_new.head()"
   ]
  },
  {
   "cell_type": "code",
   "execution_count": 9,
   "id": "3f18201e",
   "metadata": {},
   "outputs": [],
   "source": [
    "dict2 = {'P1': 'Q1',\n",
    "        'P2': 'Q2'}\n",
    "dfGenero2018.rename(columns=dict2,inplace=True)\n",
    "dfGenero2018_new = dfGenero2018\n",
    "#dfGenero2018_new.head()"
   ]
  },
  {
   "cell_type": "code",
   "execution_count": 10,
   "id": "ca1e1258",
   "metadata": {},
   "outputs": [],
   "source": [
    "dfGenero2018_new[\"Q2\"].replace({\"Female\": \"Woman\", \"Male\": \"Man\"}, inplace=True)"
   ]
  },
  {
   "cell_type": "code",
   "execution_count": 11,
   "id": "369ccc04",
   "metadata": {},
   "outputs": [
    {
     "data": {
      "text/html": [
       "<div>\n",
       "<style scoped>\n",
       "    .dataframe tbody tr th:only-of-type {\n",
       "        vertical-align: middle;\n",
       "    }\n",
       "\n",
       "    .dataframe tbody tr th {\n",
       "        vertical-align: top;\n",
       "    }\n",
       "\n",
       "    .dataframe thead th {\n",
       "        text-align: right;\n",
       "    }\n",
       "</style>\n",
       "<table border=\"1\" class=\"dataframe\">\n",
       "  <thead>\n",
       "    <tr style=\"text-align: right;\">\n",
       "      <th></th>\n",
       "      <th>Q1</th>\n",
       "      <th>Q2</th>\n",
       "      <th>Q3</th>\n",
       "      <th>Year</th>\n",
       "    </tr>\n",
       "  </thead>\n",
       "  <tbody>\n",
       "    <tr>\n",
       "      <th>0</th>\n",
       "      <td>35-39</td>\n",
       "      <td>Man</td>\n",
       "      <td>Colombia</td>\n",
       "      <td>2020</td>\n",
       "    </tr>\n",
       "    <tr>\n",
       "      <th>13356</th>\n",
       "      <td>25-29</td>\n",
       "      <td>Man</td>\n",
       "      <td>Brazil</td>\n",
       "      <td>2020</td>\n",
       "    </tr>\n",
       "    <tr>\n",
       "      <th>13363</th>\n",
       "      <td>18-21</td>\n",
       "      <td>Man</td>\n",
       "      <td>India</td>\n",
       "      <td>2020</td>\n",
       "    </tr>\n",
       "    <tr>\n",
       "      <th>13362</th>\n",
       "      <td>50-54</td>\n",
       "      <td>Man</td>\n",
       "      <td>Morocco</td>\n",
       "      <td>2020</td>\n",
       "    </tr>\n",
       "    <tr>\n",
       "      <th>13361</th>\n",
       "      <td>40-44</td>\n",
       "      <td>Man</td>\n",
       "      <td>Taiwan</td>\n",
       "      <td>2020</td>\n",
       "    </tr>\n",
       "    <tr>\n",
       "      <th>...</th>\n",
       "      <td>...</td>\n",
       "      <td>...</td>\n",
       "      <td>...</td>\n",
       "      <td>...</td>\n",
       "    </tr>\n",
       "    <tr>\n",
       "      <th>27985</th>\n",
       "      <td>35-39</td>\n",
       "      <td>Man</td>\n",
       "      <td>India</td>\n",
       "      <td>2018</td>\n",
       "    </tr>\n",
       "    <tr>\n",
       "      <th>27984</th>\n",
       "      <td>25-29</td>\n",
       "      <td>Man</td>\n",
       "      <td>India</td>\n",
       "      <td>2018</td>\n",
       "    </tr>\n",
       "    <tr>\n",
       "      <th>27983</th>\n",
       "      <td>25-29</td>\n",
       "      <td>Man</td>\n",
       "      <td>China</td>\n",
       "      <td>2018</td>\n",
       "    </tr>\n",
       "    <tr>\n",
       "      <th>27982</th>\n",
       "      <td>22-24</td>\n",
       "      <td>Man</td>\n",
       "      <td>China</td>\n",
       "      <td>2018</td>\n",
       "    </tr>\n",
       "    <tr>\n",
       "      <th>43894</th>\n",
       "      <td>25-29</td>\n",
       "      <td>Man</td>\n",
       "      <td>Spain</td>\n",
       "      <td>2018</td>\n",
       "    </tr>\n",
       "  </tbody>\n",
       "</table>\n",
       "<p>43895 rows × 4 columns</p>\n",
       "</div>"
      ],
      "text/plain": [
       "          Q1   Q2        Q3  Year\n",
       "0      35-39  Man  Colombia  2020\n",
       "13356  25-29  Man    Brazil  2020\n",
       "13363  18-21  Man     India  2020\n",
       "13362  50-54  Man   Morocco  2020\n",
       "13361  40-44  Man    Taiwan  2020\n",
       "...      ...  ...       ...   ...\n",
       "27985  35-39  Man     India  2018\n",
       "27984  25-29  Man     India  2018\n",
       "27983  25-29  Man     China  2018\n",
       "27982  22-24  Man     China  2018\n",
       "43894  25-29  Man     Spain  2018\n",
       "\n",
       "[43895 rows x 4 columns]"
      ]
     },
     "execution_count": 11,
     "metadata": {},
     "output_type": "execute_result"
    }
   ],
   "source": [
    "df2018y2020 = pd.concat([dfGenero2020, dfGenero2018_new], ignore_index=True)\n",
    "df2018y2020.sort_values(by=['Year'], ascending=False)\n",
    "#df2018y2020.head(-10)"
   ]
  },
  {
   "cell_type": "code",
   "execution_count": 12,
   "id": "2aa8daa6",
   "metadata": {},
   "outputs": [
    {
     "data": {
      "text/plain": [
       "<AxesSubplot:xlabel='count', ylabel='Q2'>"
      ]
     },
     "execution_count": 12,
     "metadata": {},
     "output_type": "execute_result"
    },
    {
     "data": {
      "image/png": "[encoded data removed]",
      "text/plain": [
       "<Figure size 432x288 with 1 Axes>"
      ]
     },
     "metadata": {
      "needs_background": "light"
     },
     "output_type": "display_data"
    }
   ],
   "source": [
    "sns.countplot(data = df2018y2020,y = \"Q2\",hue=\"Year\",hue_order=[2018, 2020])"
   ]
  },
  {
   "cell_type": "markdown",
   "id": "d30bd0d4",
   "metadata": {},
   "source": [
    "# Gender (mean)"
   ]
  },
  {
   "cell_type": "code",
   "execution_count": 13,
   "id": "15cff075",
   "metadata": {},
   "outputs": [],
   "source": [
    "cxx= df2018y2020.groupby(['Q2','Year'], as_index=True).agg({'Year': ['count']})\n",
    "cxx=cxx.reset_index()"
   ]
  },
  {
   "cell_type": "code",
   "execution_count": 14,
   "id": "37dd8f6d",
   "metadata": {},
   "outputs": [],
   "source": [
    "#cxx"
   ]
  },
  {
   "cell_type": "code",
   "execution_count": 15,
   "id": "dd334aa9",
   "metadata": {},
   "outputs": [],
   "source": [
    "data={'Gender':cxx.iloc[:,0],'Year':cxx.iloc[:,1],'Count':cxx.iloc[:,2]}\n"
   ]
  },
  {
   "cell_type": "code",
   "execution_count": 16,
   "id": "f48077fb",
   "metadata": {},
   "outputs": [],
   "source": [
    "dfresumen=pd.DataFrame(data)\n",
    "dfresumen['mean']=''\n"
   ]
  },
  {
   "cell_type": "code",
   "execution_count": 17,
   "id": "6ac525d4",
   "metadata": {},
   "outputs": [],
   "source": [
    "\n",
    "#dfresumen.iloc[1][1]\n",
    "#type(dfresumen['Year'][0])\n",
    "#len(dfresumen)\n",
    "#len(df2018)"
   ]
  },
  {
   "cell_type": "code",
   "execution_count": 18,
   "id": "ffd121fc",
   "metadata": {},
   "outputs": [
    {
     "data": {
      "text/html": [
       "<div>\n",
       "<style scoped>\n",
       "    .dataframe tbody tr th:only-of-type {\n",
       "        vertical-align: middle;\n",
       "    }\n",
       "\n",
       "    .dataframe tbody tr th {\n",
       "        vertical-align: top;\n",
       "    }\n",
       "\n",
       "    .dataframe thead th {\n",
       "        text-align: right;\n",
       "    }\n",
       "</style>\n",
       "<table border=\"1\" class=\"dataframe\">\n",
       "  <thead>\n",
       "    <tr style=\"text-align: right;\">\n",
       "      <th></th>\n",
       "      <th>Gender</th>\n",
       "      <th>Year</th>\n",
       "      <th>Count</th>\n",
       "      <th>mean</th>\n",
       "    </tr>\n",
       "  </thead>\n",
       "  <tbody>\n",
       "    <tr>\n",
       "      <th>0</th>\n",
       "      <td>Man</td>\n",
       "      <td>2018</td>\n",
       "      <td>19430</td>\n",
       "      <td>81.436774</td>\n",
       "    </tr>\n",
       "    <tr>\n",
       "      <th>1</th>\n",
       "      <td>Man</td>\n",
       "      <td>2020</td>\n",
       "      <td>15789</td>\n",
       "      <td>78.803154</td>\n",
       "    </tr>\n",
       "    <tr>\n",
       "      <th>2</th>\n",
       "      <td>Nonbinary</td>\n",
       "      <td>2020</td>\n",
       "      <td>52</td>\n",
       "      <td>0.259533</td>\n",
       "    </tr>\n",
       "    <tr>\n",
       "      <th>3</th>\n",
       "      <td>Prefer not to say</td>\n",
       "      <td>2018</td>\n",
       "      <td>340</td>\n",
       "      <td>1.425039</td>\n",
       "    </tr>\n",
       "    <tr>\n",
       "      <th>4</th>\n",
       "      <td>Prefer not to say</td>\n",
       "      <td>2020</td>\n",
       "      <td>263</td>\n",
       "      <td>1.312637</td>\n",
       "    </tr>\n",
       "    <tr>\n",
       "      <th>5</th>\n",
       "      <td>Prefer to self-describe</td>\n",
       "      <td>2018</td>\n",
       "      <td>79</td>\n",
       "      <td>0.331112</td>\n",
       "    </tr>\n",
       "    <tr>\n",
       "      <th>6</th>\n",
       "      <td>Prefer to self-describe</td>\n",
       "      <td>2020</td>\n",
       "      <td>54</td>\n",
       "      <td>0.269515</td>\n",
       "    </tr>\n",
       "    <tr>\n",
       "      <th>7</th>\n",
       "      <td>Woman</td>\n",
       "      <td>2018</td>\n",
       "      <td>4010</td>\n",
       "      <td>16.807075</td>\n",
       "    </tr>\n",
       "    <tr>\n",
       "      <th>8</th>\n",
       "      <td>Woman</td>\n",
       "      <td>2020</td>\n",
       "      <td>3878</td>\n",
       "      <td>19.355161</td>\n",
       "    </tr>\n",
       "  </tbody>\n",
       "</table>\n",
       "</div>"
      ],
      "text/plain": [
       "                    Gender  Year  Count       mean\n",
       "0                      Man  2018  19430  81.436774\n",
       "1                      Man  2020  15789  78.803154\n",
       "2                Nonbinary  2020     52   0.259533\n",
       "3        Prefer not to say  2018    340   1.425039\n",
       "4        Prefer not to say  2020    263   1.312637\n",
       "5  Prefer to self-describe  2018     79   0.331112\n",
       "6  Prefer to self-describe  2020     54   0.269515\n",
       "7                    Woman  2018   4010  16.807075\n",
       "8                    Woman  2020   3878  19.355161"
      ]
     },
     "execution_count": 18,
     "metadata": {},
     "output_type": "execute_result"
    }
   ],
   "source": [
    "for f in range(len(dfresumen)):\n",
    "    \n",
    "    if dfresumen['Year'][f]==2018:\n",
    "        dfresumen['mean'][f]=dfresumen['Count'][f]/len(dfGenero2018)*100\n",
    "    else:\n",
    "        dfresumen['mean'][f]=dfresumen['Count'][f]/len(dfGenero2020)*100\n",
    "dfresumen\n"
   ]
  },
  {
   "cell_type": "code",
   "execution_count": 19,
   "id": "d10d5e06",
   "metadata": {},
   "outputs": [
    {
     "data": {
      "image/png": "[encoded data removed]",
      "text/plain": [
       "<Figure size 720x432 with 1 Axes>"
      ]
     },
     "metadata": {},
     "output_type": "display_data"
    }
   ],
   "source": [
    "sns.set(rc={'figure.figsize': (10,6)})\n",
    "ax = sns.barplot(x=\"Gender\", y=\"mean\", hue=\"Year\", data=dfresumen)\n",
    "\n"
   ]
  },
  {
   "cell_type": "markdown",
   "id": "6c0eaff8",
   "metadata": {},
   "source": [
    "# Edades"
   ]
  },
  {
   "cell_type": "code",
   "execution_count": 20,
   "id": "718c8347",
   "metadata": {},
   "outputs": [
    {
     "data": {
      "text/html": [
       "<div>\n",
       "<style scoped>\n",
       "    .dataframe tbody tr th:only-of-type {\n",
       "        vertical-align: middle;\n",
       "    }\n",
       "\n",
       "    .dataframe tbody tr th {\n",
       "        vertical-align: top;\n",
       "    }\n",
       "\n",
       "    .dataframe thead th {\n",
       "        text-align: right;\n",
       "    }\n",
       "</style>\n",
       "<table border=\"1\" class=\"dataframe\">\n",
       "  <thead>\n",
       "    <tr style=\"text-align: right;\">\n",
       "      <th></th>\n",
       "      <th>Q1</th>\n",
       "      <th>Q2</th>\n",
       "      <th>Q3</th>\n",
       "      <th>Year</th>\n",
       "    </tr>\n",
       "  </thead>\n",
       "  <tbody>\n",
       "    <tr>\n",
       "      <th>0</th>\n",
       "      <td>18-21</td>\n",
       "      <td>Man</td>\n",
       "      <td>Indonesia</td>\n",
       "      <td>2020</td>\n",
       "    </tr>\n",
       "    <tr>\n",
       "      <th>1</th>\n",
       "      <td>18-21</td>\n",
       "      <td>Man</td>\n",
       "      <td>Indonesia</td>\n",
       "      <td>2020</td>\n",
       "    </tr>\n",
       "    <tr>\n",
       "      <th>2</th>\n",
       "      <td>18-21</td>\n",
       "      <td>Man</td>\n",
       "      <td>India</td>\n",
       "      <td>2018</td>\n",
       "    </tr>\n",
       "    <tr>\n",
       "      <th>3</th>\n",
       "      <td>18-21</td>\n",
       "      <td>Man</td>\n",
       "      <td>Egypt</td>\n",
       "      <td>2020</td>\n",
       "    </tr>\n",
       "    <tr>\n",
       "      <th>4</th>\n",
       "      <td>18-21</td>\n",
       "      <td>Man</td>\n",
       "      <td>United States of America</td>\n",
       "      <td>2020</td>\n",
       "    </tr>\n",
       "    <tr>\n",
       "      <th>...</th>\n",
       "      <td>...</td>\n",
       "      <td>...</td>\n",
       "      <td>...</td>\n",
       "      <td>...</td>\n",
       "    </tr>\n",
       "    <tr>\n",
       "      <th>43890</th>\n",
       "      <td>80+</td>\n",
       "      <td>Prefer not to say</td>\n",
       "      <td>I do not wish to disclose my location</td>\n",
       "      <td>2018</td>\n",
       "    </tr>\n",
       "    <tr>\n",
       "      <th>43891</th>\n",
       "      <td>80+</td>\n",
       "      <td>Prefer not to say</td>\n",
       "      <td>I do not wish to disclose my location</td>\n",
       "      <td>2018</td>\n",
       "    </tr>\n",
       "    <tr>\n",
       "      <th>43892</th>\n",
       "      <td>80+</td>\n",
       "      <td>Prefer not to say</td>\n",
       "      <td>Other</td>\n",
       "      <td>2018</td>\n",
       "    </tr>\n",
       "    <tr>\n",
       "      <th>43893</th>\n",
       "      <td>80+</td>\n",
       "      <td>Prefer to self-describe</td>\n",
       "      <td>Other</td>\n",
       "      <td>2018</td>\n",
       "    </tr>\n",
       "    <tr>\n",
       "      <th>43894</th>\n",
       "      <td>80+</td>\n",
       "      <td>Prefer to self-describe</td>\n",
       "      <td>United States of America</td>\n",
       "      <td>2018</td>\n",
       "    </tr>\n",
       "  </tbody>\n",
       "</table>\n",
       "<p>43895 rows × 4 columns</p>\n",
       "</div>"
      ],
      "text/plain": [
       "          Q1                       Q2                                     Q3  \\\n",
       "0      18-21                      Man                              Indonesia   \n",
       "1      18-21                      Man                              Indonesia   \n",
       "2      18-21                      Man                                  India   \n",
       "3      18-21                      Man                                  Egypt   \n",
       "4      18-21                      Man               United States of America   \n",
       "...      ...                      ...                                    ...   \n",
       "43890    80+        Prefer not to say  I do not wish to disclose my location   \n",
       "43891    80+        Prefer not to say  I do not wish to disclose my location   \n",
       "43892    80+        Prefer not to say                                  Other   \n",
       "43893    80+  Prefer to self-describe                                  Other   \n",
       "43894    80+  Prefer to self-describe               United States of America   \n",
       "\n",
       "       Year  \n",
       "0      2020  \n",
       "1      2020  \n",
       "2      2018  \n",
       "3      2020  \n",
       "4      2020  \n",
       "...     ...  \n",
       "43890  2018  \n",
       "43891  2018  \n",
       "43892  2018  \n",
       "43893  2018  \n",
       "43894  2018  \n",
       "\n",
       "[43895 rows x 4 columns]"
      ]
     },
     "execution_count": 20,
     "metadata": {},
     "output_type": "execute_result"
    }
   ],
   "source": [
    "df2018y2020.sort_values(\"Q1\",inplace=True)\n",
    "df2018y2020.reset_index(drop=True,inplace=True)\n",
    "df2018y2020\n"
   ]
  },
  {
   "cell_type": "code",
   "execution_count": 21,
   "id": "c192d279",
   "metadata": {},
   "outputs": [
    {
     "data": {
      "text/plain": [
       "<AxesSubplot:xlabel='Q1', ylabel='count'>"
      ]
     },
     "execution_count": 21,
     "metadata": {},
     "output_type": "execute_result"
    },
    {
     "data": {
      "image/png": "[encoded data removed]",
      "text/plain": [
       "<Figure size 720x432 with 1 Axes>"
      ]
     },
     "metadata": {},
     "output_type": "display_data"
    }
   ],
   "source": [
    " sns.set(rc={'figure.figsize': (10,6)})\n",
    "sns.countplot(data = df2018y2020,x = \"Q1\",hue=\"Year\",hue_order=[2018, 2020])"
   ]
  },
  {
   "cell_type": "markdown",
   "id": "47e5e085",
   "metadata": {},
   "source": [
    "# Edad (mean)\n"
   ]
  },
  {
   "cell_type": "code",
   "execution_count": 22,
   "id": "5c62323c",
   "metadata": {},
   "outputs": [],
   "source": [
    "c= df2018y2020.groupby(['Q1','Year'], as_index=True).agg({'Year': ['count']})\n",
    "c=c.reset_index()\n"
   ]
  },
  {
   "cell_type": "code",
   "execution_count": 23,
   "id": "808b42e0",
   "metadata": {},
   "outputs": [],
   "source": [
    "data={'Age':c.iloc[:,0],'Year':c.iloc[:,1],'Count':c.iloc[:,2]}"
   ]
  },
  {
   "cell_type": "code",
   "execution_count": 24,
   "id": "b5748e8d",
   "metadata": {},
   "outputs": [],
   "source": [
    "dfresumen=pd.DataFrame(data)\n",
    "dfresumen['mean']=''"
   ]
  },
  {
   "cell_type": "code",
   "execution_count": 25,
   "id": "79778df2",
   "metadata": {},
   "outputs": [],
   "source": [
    "for f in range(len(dfresumen)):\n",
    "    \n",
    "    if dfresumen['Year'][f]==2018:\n",
    "        dfresumen['mean'][f]=dfresumen['Count'][f]/len(dfGenero2018)*100\n",
    "    else:\n",
    "        dfresumen['mean'][f]=dfresumen['Count'][f]/len(dfGenero2020)*100\n"
   ]
  },
  {
   "cell_type": "code",
   "execution_count": 26,
   "id": "1ddb59d5",
   "metadata": {},
   "outputs": [
    {
     "data": {
      "text/plain": [
       "Text(0.5, 1.0, 'Edad promedio')"
      ]
     },
     "execution_count": 26,
     "metadata": {},
     "output_type": "execute_result"
    },
    {
     "data": {
      "image/png": "[encoded data removed]",
      "text/plain": [
       "<Figure size 720x432 with 1 Axes>"
      ]
     },
     "metadata": {},
     "output_type": "display_data"
    }
   ],
   "source": [
    "sns.set(rc={'figure.figsize': (10,6)})\n",
    "ax = sns.barplot(x=\"Age\", y=\"mean\", hue=\"Year\", data=dfresumen)\n",
    "ax.set_title('Edad promedio',fontsize=20)"
   ]
  },
  {
   "cell_type": "markdown",
   "id": "16907848",
   "metadata": {},
   "source": [
    "# Online plataforms"
   ]
  },
  {
   "cell_type": "code",
   "execution_count": 27,
   "id": "b328695b",
   "metadata": {},
   "outputs": [],
   "source": [
    "dfOnline2018 = df2018[['Q36_Part_1','Q36_Part_2','Q36_Part_3','Q36_Part_4','Q36_Part_5','Q36_Part_6',\n",
    "                                   'Q36_Part_7','Q36_Part_8','Q36_Part_9','Q36_Part_10','Q36_Part_11','Q36_Part_12',\n",
    "                                   'Q36_Part_13']]\n"
   ]
  },
  {
   "cell_type": "code",
   "execution_count": 28,
   "id": "67b7ce08",
   "metadata": {},
   "outputs": [],
   "source": [
    "dfOnline2020 = df2020[['Q37_Part_1','Q37_Part_2','Q37_Part_3','Q37_Part_4','Q37_Part_5','Q37_Part_6',\n",
    "                                   'Q37_Part_7','Q37_Part_8','Q37_Part_9','Q37_Part_10','Q37_Part_11','Q37_OTHER']]\n"
   ]
  },
  {
   "cell_type": "code",
   "execution_count": 29,
   "id": "aa3180af",
   "metadata": {},
   "outputs": [
    {
     "name": "stdout",
     "output_type": "stream",
     "text": [
      "<class 'pandas.core.frame.DataFrame'>\n",
      "RangeIndex: 20037 entries, 0 to 20036\n",
      "Data columns (total 12 columns):\n",
      " #   Column       Non-Null Count  Dtype \n",
      "---  ------       --------------  ----- \n",
      " 0   Q37_Part_1   7383 non-null   object\n",
      " 1   Q37_Part_2   2499 non-null   object\n",
      " 2   Q37_Part_3   4844 non-null   object\n",
      " 3   Q37_Part_4   3033 non-null   object\n",
      " 4   Q37_Part_5   1059 non-null   object\n",
      " 5   Q37_Part_6   2057 non-null   object\n",
      " 6   Q37_Part_7   4627 non-null   object\n",
      " 7   Q37_Part_8   1618 non-null   object\n",
      " 8   Q37_Part_9   1077 non-null   object\n",
      " 9   Q37_Part_10  3569 non-null   object\n",
      " 10  Q37_Part_11  1307 non-null   object\n",
      " 11  Q37_OTHER    1637 non-null   object\n",
      "dtypes: object(12)\n",
      "memory usage: 1.8+ MB\n"
     ]
    }
   ],
   "source": [
    "dfOnline2020.info()"
   ]
  },
  {
   "cell_type": "code",
   "execution_count": 30,
   "id": "50aeb759",
   "metadata": {},
   "outputs": [],
   "source": [
    "dfOnline2018.drop([0],inplace=True)\n",
    "dfOnline2018.reset_index(drop=True,inplace=True)\n",
    "dfOnline2020.drop([0],inplace=True)\n",
    "dfOnline2020.reset_index(drop=True,inplace=True)"
   ]
  },
  {
   "cell_type": "code",
   "execution_count": 31,
   "id": "b46746d2",
   "metadata": {},
   "outputs": [
    {
     "data": {
      "text/html": [
       "<div>\n",
       "<style scoped>\n",
       "    .dataframe tbody tr th:only-of-type {\n",
       "        vertical-align: middle;\n",
       "    }\n",
       "\n",
       "    .dataframe tbody tr th {\n",
       "        vertical-align: top;\n",
       "    }\n",
       "\n",
       "    .dataframe thead th {\n",
       "        text-align: right;\n",
       "    }\n",
       "</style>\n",
       "<table border=\"1\" class=\"dataframe\">\n",
       "  <thead>\n",
       "    <tr style=\"text-align: right;\">\n",
       "      <th></th>\n",
       "      <th>Q36_Part_1</th>\n",
       "      <th>Q36_Part_2</th>\n",
       "      <th>Q36_Part_3</th>\n",
       "      <th>Q36_Part_4</th>\n",
       "      <th>Q36_Part_5</th>\n",
       "      <th>Q36_Part_6</th>\n",
       "      <th>Q36_Part_7</th>\n",
       "      <th>Q36_Part_8</th>\n",
       "      <th>Q36_Part_9</th>\n",
       "      <th>Q36_Part_10</th>\n",
       "      <th>Q36_Part_11</th>\n",
       "      <th>Q36_Part_12</th>\n",
       "      <th>Q36_Part_13</th>\n",
       "    </tr>\n",
       "  </thead>\n",
       "  <tbody>\n",
       "    <tr>\n",
       "      <th>0</th>\n",
       "      <td>NaN</td>\n",
       "      <td>NaN</td>\n",
       "      <td>NaN</td>\n",
       "      <td>NaN</td>\n",
       "      <td>NaN</td>\n",
       "      <td>NaN</td>\n",
       "      <td>NaN</td>\n",
       "      <td>NaN</td>\n",
       "      <td>NaN</td>\n",
       "      <td>NaN</td>\n",
       "      <td>NaN</td>\n",
       "      <td>NaN</td>\n",
       "      <td>NaN</td>\n",
       "    </tr>\n",
       "    <tr>\n",
       "      <th>1</th>\n",
       "      <td>NaN</td>\n",
       "      <td>NaN</td>\n",
       "      <td>NaN</td>\n",
       "      <td>NaN</td>\n",
       "      <td>NaN</td>\n",
       "      <td>NaN</td>\n",
       "      <td>NaN</td>\n",
       "      <td>NaN</td>\n",
       "      <td>NaN</td>\n",
       "      <td>NaN</td>\n",
       "      <td>NaN</td>\n",
       "      <td>NaN</td>\n",
       "      <td>NaN</td>\n",
       "    </tr>\n",
       "    <tr>\n",
       "      <th>2</th>\n",
       "      <td>NaN</td>\n",
       "      <td>NaN</td>\n",
       "      <td>NaN</td>\n",
       "      <td>DataCamp</td>\n",
       "      <td>NaN</td>\n",
       "      <td>NaN</td>\n",
       "      <td>NaN</td>\n",
       "      <td>NaN</td>\n",
       "      <td>Udemy</td>\n",
       "      <td>NaN</td>\n",
       "      <td>NaN</td>\n",
       "      <td>NaN</td>\n",
       "      <td>NaN</td>\n",
       "    </tr>\n",
       "    <tr>\n",
       "      <th>3</th>\n",
       "      <td>NaN</td>\n",
       "      <td>Coursera</td>\n",
       "      <td>edX</td>\n",
       "      <td>NaN</td>\n",
       "      <td>NaN</td>\n",
       "      <td>NaN</td>\n",
       "      <td>NaN</td>\n",
       "      <td>NaN</td>\n",
       "      <td>NaN</td>\n",
       "      <td>NaN</td>\n",
       "      <td>NaN</td>\n",
       "      <td>NaN</td>\n",
       "      <td>NaN</td>\n",
       "    </tr>\n",
       "    <tr>\n",
       "      <th>4</th>\n",
       "      <td>Udacity</td>\n",
       "      <td>Coursera</td>\n",
       "      <td>edX</td>\n",
       "      <td>DataCamp</td>\n",
       "      <td>NaN</td>\n",
       "      <td>NaN</td>\n",
       "      <td>NaN</td>\n",
       "      <td>NaN</td>\n",
       "      <td>NaN</td>\n",
       "      <td>NaN</td>\n",
       "      <td>NaN</td>\n",
       "      <td>NaN</td>\n",
       "      <td>NaN</td>\n",
       "    </tr>\n",
       "  </tbody>\n",
       "</table>\n",
       "</div>"
      ],
      "text/plain": [
       "  Q36_Part_1 Q36_Part_2 Q36_Part_3 Q36_Part_4 Q36_Part_5 Q36_Part_6  \\\n",
       "0        NaN        NaN        NaN        NaN        NaN        NaN   \n",
       "1        NaN        NaN        NaN        NaN        NaN        NaN   \n",
       "2        NaN        NaN        NaN   DataCamp        NaN        NaN   \n",
       "3        NaN   Coursera        edX        NaN        NaN        NaN   \n",
       "4    Udacity   Coursera        edX   DataCamp        NaN        NaN   \n",
       "\n",
       "  Q36_Part_7 Q36_Part_8 Q36_Part_9 Q36_Part_10 Q36_Part_11 Q36_Part_12  \\\n",
       "0        NaN        NaN        NaN         NaN         NaN         NaN   \n",
       "1        NaN        NaN        NaN         NaN         NaN         NaN   \n",
       "2        NaN        NaN      Udemy         NaN         NaN         NaN   \n",
       "3        NaN        NaN        NaN         NaN         NaN         NaN   \n",
       "4        NaN        NaN        NaN         NaN         NaN         NaN   \n",
       "\n",
       "  Q36_Part_13  \n",
       "0         NaN  \n",
       "1         NaN  \n",
       "2         NaN  \n",
       "3         NaN  \n",
       "4         NaN  "
      ]
     },
     "execution_count": 31,
     "metadata": {},
     "output_type": "execute_result"
    }
   ],
   "source": [
    "dfOnline2018.head()"
   ]
  },
  {
   "cell_type": "code",
   "execution_count": 32,
   "id": "63bcb509",
   "metadata": {},
   "outputs": [
    {
     "data": {
      "text/html": [
       "<div>\n",
       "<style scoped>\n",
       "    .dataframe tbody tr th:only-of-type {\n",
       "        vertical-align: middle;\n",
       "    }\n",
       "\n",
       "    .dataframe tbody tr th {\n",
       "        vertical-align: top;\n",
       "    }\n",
       "\n",
       "    .dataframe thead th {\n",
       "        text-align: right;\n",
       "    }\n",
       "</style>\n",
       "<table border=\"1\" class=\"dataframe\">\n",
       "  <thead>\n",
       "    <tr style=\"text-align: right;\">\n",
       "      <th></th>\n",
       "      <th>Online_Source</th>\n",
       "      <th>Year</th>\n",
       "    </tr>\n",
       "  </thead>\n",
       "  <tbody>\n",
       "    <tr>\n",
       "      <th>4</th>\n",
       "      <td>Udacity</td>\n",
       "      <td>2018</td>\n",
       "    </tr>\n",
       "    <tr>\n",
       "      <th>7</th>\n",
       "      <td>Udacity</td>\n",
       "      <td>2018</td>\n",
       "    </tr>\n",
       "    <tr>\n",
       "      <th>9</th>\n",
       "      <td>Udacity</td>\n",
       "      <td>2018</td>\n",
       "    </tr>\n",
       "    <tr>\n",
       "      <th>11</th>\n",
       "      <td>Udacity</td>\n",
       "      <td>2018</td>\n",
       "    </tr>\n",
       "    <tr>\n",
       "      <th>15</th>\n",
       "      <td>Udacity</td>\n",
       "      <td>2018</td>\n",
       "    </tr>\n",
       "  </tbody>\n",
       "</table>\n",
       "</div>"
      ],
      "text/plain": [
       "   Online_Source  Year\n",
       "4        Udacity  2018\n",
       "7        Udacity  2018\n",
       "9        Udacity  2018\n",
       "11       Udacity  2018\n",
       "15       Udacity  2018"
      ]
     },
     "execution_count": 32,
     "metadata": {},
     "output_type": "execute_result"
    }
   ],
   "source": [
    "dfOnline2018=dfOnline2018.melt()\n",
    "dfOnline2018.drop(columns=['variable'],inplace=True)\n",
    "dfOnline2018.dropna(inplace=True)\n",
    "dfOnline2018.rename(columns={'value':'Online_Source'},inplace=True)\n",
    "dfOnline2018[\"Year\"]=2018\n",
    "dfOnline2018.head()"
   ]
  },
  {
   "cell_type": "code",
   "execution_count": 33,
   "id": "1bd62d2f",
   "metadata": {},
   "outputs": [
    {
     "data": {
      "text/html": [
       "<div>\n",
       "<style scoped>\n",
       "    .dataframe tbody tr th:only-of-type {\n",
       "        vertical-align: middle;\n",
       "    }\n",
       "\n",
       "    .dataframe tbody tr th {\n",
       "        vertical-align: top;\n",
       "    }\n",
       "\n",
       "    .dataframe thead th {\n",
       "        text-align: right;\n",
       "    }\n",
       "</style>\n",
       "<table border=\"1\" class=\"dataframe\">\n",
       "  <thead>\n",
       "    <tr style=\"text-align: right;\">\n",
       "      <th></th>\n",
       "      <th>Online_Source</th>\n",
       "      <th>Year</th>\n",
       "    </tr>\n",
       "  </thead>\n",
       "  <tbody>\n",
       "    <tr>\n",
       "      <th>0</th>\n",
       "      <td>Coursera</td>\n",
       "      <td>2020</td>\n",
       "    </tr>\n",
       "    <tr>\n",
       "      <th>1</th>\n",
       "      <td>Coursera</td>\n",
       "      <td>2020</td>\n",
       "    </tr>\n",
       "    <tr>\n",
       "      <th>2</th>\n",
       "      <td>Coursera</td>\n",
       "      <td>2020</td>\n",
       "    </tr>\n",
       "    <tr>\n",
       "      <th>3</th>\n",
       "      <td>Coursera</td>\n",
       "      <td>2020</td>\n",
       "    </tr>\n",
       "    <tr>\n",
       "      <th>6</th>\n",
       "      <td>Coursera</td>\n",
       "      <td>2020</td>\n",
       "    </tr>\n",
       "  </tbody>\n",
       "</table>\n",
       "</div>"
      ],
      "text/plain": [
       "  Online_Source  Year\n",
       "0      Coursera  2020\n",
       "1      Coursera  2020\n",
       "2      Coursera  2020\n",
       "3      Coursera  2020\n",
       "6      Coursera  2020"
      ]
     },
     "execution_count": 33,
     "metadata": {},
     "output_type": "execute_result"
    }
   ],
   "source": [
    "dfOnline2020=dfOnline2020.melt()\n",
    "dfOnline2020.drop(columns=['variable'],inplace=True)\n",
    "dfOnline2020.dropna(inplace=True)\n",
    "dfOnline2020.rename(columns={'value':'Online_Source'},inplace=True)\n",
    "dfOnline2020[\"Year\"]=2020\n",
    "dfOnline2020.head()"
   ]
  },
  {
   "cell_type": "code",
   "execution_count": null,
   "id": "9c61f47a",
   "metadata": {},
   "outputs": [],
   "source": []
  },
  {
   "cell_type": "code",
   "execution_count": 34,
   "id": "3d7d2c36",
   "metadata": {},
   "outputs": [],
   "source": [
    "dfOnline2018y2020 = pd.concat([dfOnline2020, dfOnline2018], ignore_index=True)\n",
    "#dfOnline2018y2020.head()"
   ]
  },
  {
   "cell_type": "code",
   "execution_count": 35,
   "id": "63b83d33",
   "metadata": {},
   "outputs": [
    {
     "data": {
      "text/plain": [
       "<AxesSubplot:xlabel='count', ylabel='Online_Source'>"
      ]
     },
     "execution_count": 35,
     "metadata": {},
     "output_type": "execute_result"
    },
    {
     "data": {
      "image/png": "[encoded data removed]",
      "text/plain": [
       "<Figure size 720x432 with 1 Axes>"
      ]
     },
     "metadata": {},
     "output_type": "display_data"
    }
   ],
   "source": [
    "sns.set(rc={'figure.figsize': (10,6)})\n",
    "sns.countplot(data = dfOnline2018y2020,y = \"Online_Source\",hue=\"Year\",hue_order=[2018, 2020])"
   ]
  },
  {
   "cell_type": "markdown",
   "id": "a5f31ce2",
   "metadata": {},
   "source": [
    "# OnLine Plataforms (mean)"
   ]
  },
  {
   "cell_type": "code",
   "execution_count": 36,
   "id": "830f481c",
   "metadata": {},
   "outputs": [
    {
     "data": {
      "text/plain": [
       "Text(0.5, 1.0, 'Online Plataforms promedio')"
      ]
     },
     "execution_count": 36,
     "metadata": {},
     "output_type": "execute_result"
    },
    {
     "data": {
      "image/png": "[encoded data removed]",
      "text/plain": [
       "<Figure size 720x432 with 1 Axes>"
      ]
     },
     "metadata": {},
     "output_type": "display_data"
    }
   ],
   "source": [
    "c= dfOnline2018y2020.groupby(['Online_Source','Year'], as_index=True).agg({'Year': ['count']})\n",
    "c=c.reset_index()\n",
    "\n",
    "data={'Online_SourceAge':c.iloc[:,0],'Year':c.iloc[:,1],'Count':c.iloc[:,2]}\n",
    "\n",
    "dfresumen=pd.DataFrame(data)\n",
    "dfresumen['mean']=''\n",
    "\n",
    "for f in range(len(dfresumen)):\n",
    "    if dfresumen['Year'][f]==2018:\n",
    "        dfresumen['mean'][f]=dfresumen['Count'][f]/len(dfOnline2018)*100\n",
    "    else:\n",
    "        dfresumen['mean'][f]=dfresumen['Count'][f]/len(dfOnline2020)*100\n",
    "\n",
    "dfresumen.sort_values(\"mean\",ascending=False,inplace=True)\n",
    "dfresumen.reset_index(drop=True,inplace=True)\n",
    "dfresumen\n",
    "\n",
    "        \n",
    "sns.set(rc={'figure.figsize': (10,6)})\n",
    "ax = sns.barplot(y=\"Online_SourceAge\", x=\"mean\", hue=\"Year\", data=dfresumen)\n",
    "ax.set_title('Online Plataforms promedio',fontsize=20)"
   ]
  },
  {
   "cell_type": "code",
   "execution_count": null,
   "id": "03f8e7c6",
   "metadata": {},
   "outputs": [],
   "source": []
  },
  {
   "cell_type": "markdown",
   "id": "27a1fc27",
   "metadata": {},
   "source": [
    "# First language"
   ]
  },
  {
   "cell_type": "code",
   "execution_count": 37,
   "id": "b93466b9",
   "metadata": {},
   "outputs": [],
   "source": [
    "dfFirstL2018=pd.DataFrame(df2018.Q18)\n",
    "dfFirstL2020=pd.DataFrame(df2020.Q8)\n"
   ]
  },
  {
   "cell_type": "code",
   "execution_count": 38,
   "id": "a4c1db16",
   "metadata": {},
   "outputs": [
    {
     "data": {
      "text/html": [
       "<div>\n",
       "<style scoped>\n",
       "    .dataframe tbody tr th:only-of-type {\n",
       "        vertical-align: middle;\n",
       "    }\n",
       "\n",
       "    .dataframe tbody tr th {\n",
       "        vertical-align: top;\n",
       "    }\n",
       "\n",
       "    .dataframe thead th {\n",
       "        text-align: right;\n",
       "    }\n",
       "</style>\n",
       "<table border=\"1\" class=\"dataframe\">\n",
       "  <thead>\n",
       "    <tr style=\"text-align: right;\">\n",
       "      <th></th>\n",
       "      <th>Q18</th>\n",
       "    </tr>\n",
       "  </thead>\n",
       "  <tbody>\n",
       "    <tr>\n",
       "      <th>0</th>\n",
       "      <td>What programming language would you recommend ...</td>\n",
       "    </tr>\n",
       "    <tr>\n",
       "      <th>1</th>\n",
       "      <td>Python</td>\n",
       "    </tr>\n",
       "    <tr>\n",
       "      <th>2</th>\n",
       "      <td>Python</td>\n",
       "    </tr>\n",
       "    <tr>\n",
       "      <th>3</th>\n",
       "      <td>Python</td>\n",
       "    </tr>\n",
       "    <tr>\n",
       "      <th>4</th>\n",
       "      <td>SQL</td>\n",
       "    </tr>\n",
       "    <tr>\n",
       "      <th>...</th>\n",
       "      <td>...</td>\n",
       "    </tr>\n",
       "    <tr>\n",
       "      <th>23855</th>\n",
       "      <td>Python</td>\n",
       "    </tr>\n",
       "    <tr>\n",
       "      <th>23856</th>\n",
       "      <td>NaN</td>\n",
       "    </tr>\n",
       "    <tr>\n",
       "      <th>23857</th>\n",
       "      <td>NaN</td>\n",
       "    </tr>\n",
       "    <tr>\n",
       "      <th>23858</th>\n",
       "      <td>NaN</td>\n",
       "    </tr>\n",
       "    <tr>\n",
       "      <th>23859</th>\n",
       "      <td>NaN</td>\n",
       "    </tr>\n",
       "  </tbody>\n",
       "</table>\n",
       "<p>23860 rows × 1 columns</p>\n",
       "</div>"
      ],
      "text/plain": [
       "                                                     Q18\n",
       "0      What programming language would you recommend ...\n",
       "1                                                 Python\n",
       "2                                                 Python\n",
       "3                                                 Python\n",
       "4                                                    SQL\n",
       "...                                                  ...\n",
       "23855                                             Python\n",
       "23856                                                NaN\n",
       "23857                                                NaN\n",
       "23858                                                NaN\n",
       "23859                                                NaN\n",
       "\n",
       "[23860 rows x 1 columns]"
      ]
     },
     "execution_count": 38,
     "metadata": {},
     "output_type": "execute_result"
    }
   ],
   "source": [
    "dfFirstL2018"
   ]
  },
  {
   "cell_type": "code",
   "execution_count": 39,
   "id": "cf092b7a",
   "metadata": {},
   "outputs": [],
   "source": [
    "dfFirstL2018.drop([0],inplace=True)\n",
    "dfFirstL2018.dropna(inplace=True)\n",
    "dfFirstL2018.reset_index(drop=True,inplace=True)\n",
    "dfFirstL2020.drop([0],inplace=True)\n",
    "dfFirstL2020.dropna(inplace=True)\n",
    "dfFirstL2020.reset_index(drop=True,inplace=True)\n"
   ]
  },
  {
   "cell_type": "code",
   "execution_count": 40,
   "id": "c3f511bf",
   "metadata": {},
   "outputs": [],
   "source": [
    "dfFirstL2018.rename(columns={\"Q18\":\"First\"},inplace=True)\n",
    "dfFirstL2020.rename(columns={\"Q8\":\"First\"},inplace=True)\n",
    "dfFirstL2018[\"Year\"]=2018\n",
    "dfFirstL2020[\"Year\"]=2020"
   ]
  },
  {
   "cell_type": "code",
   "execution_count": 41,
   "id": "84616716",
   "metadata": {},
   "outputs": [],
   "source": [
    "dfFirstL2018y2020 = pd.concat([dfFirstL2018, dfFirstL2020], ignore_index=True)"
   ]
  },
  {
   "cell_type": "code",
   "execution_count": 42,
   "id": "48cffd94",
   "metadata": {},
   "outputs": [
    {
     "data": {
      "text/plain": [
       "<AxesSubplot:xlabel='count', ylabel='First'>"
      ]
     },
     "execution_count": 42,
     "metadata": {},
     "output_type": "execute_result"
    },
    {
     "data": {
      "image/png": "[encoded data removed]",
      "text/plain": [
       "<Figure size 720x432 with 1 Axes>"
      ]
     },
     "metadata": {},
     "output_type": "display_data"
    }
   ],
   "source": [
    "sns.set(rc={'figure.figsize': (10,6)})\n",
    "sns.countplot(data = dfFirstL2018y2020,y = \"First\",hue=\"Year\",hue_order=[2018, 2020])"
   ]
  },
  {
   "cell_type": "markdown",
   "id": "51976996",
   "metadata": {},
   "source": [
    "# First Language Promedio"
   ]
  },
  {
   "cell_type": "code",
   "execution_count": 43,
   "id": "79b4b14b",
   "metadata": {},
   "outputs": [
    {
     "data": {
      "text/plain": [
       "Text(0.5, 1.0, 'First Language promedio')"
      ]
     },
     "execution_count": 43,
     "metadata": {},
     "output_type": "execute_result"
    },
    {
     "data": {
      "image/png": "[encoded data removed]",
      "text/plain": [
       "<Figure size 720x432 with 1 Axes>"
      ]
     },
     "metadata": {},
     "output_type": "display_data"
    }
   ],
   "source": [
    "c= dfFirstL2018y2020.groupby(['First','Year'], as_index=True).agg({'Year': ['count']})\n",
    "c=c.reset_index()\n",
    "\n",
    "data={'First':c.iloc[:,0],'Year':c.iloc[:,1],'Count':c.iloc[:,2]}\n",
    "\n",
    "dfresumen=pd.DataFrame(data)\n",
    "dfresumen['mean']=''\n",
    "\n",
    "for f in range(len(dfresumen)):\n",
    "    if dfresumen['Year'][f]==2018:\n",
    "        dfresumen['mean'][f]=dfresumen['Count'][f]/len(dfFirstL2018)*100\n",
    "    else:\n",
    "        dfresumen['mean'][f]=dfresumen['Count'][f]/len(dfFirstL2020)*100\n",
    "\n",
    "dfresumen.sort_values(\"mean\",ascending=False,inplace=True)\n",
    "dfresumen.reset_index(drop=True,inplace=True)\n",
    "dfresumen\n",
    "\n",
    "        \n",
    "sns.set(rc={'figure.figsize': (10,6)})\n",
    "ax = sns.barplot(y=\"First\", x=\"mean\", hue=\"Year\", data=dfresumen)\n",
    "ax.set_title('First Language promedio',fontsize=20)"
   ]
  },
  {
   "cell_type": "markdown",
   "id": "dcafa8d7",
   "metadata": {},
   "source": [
    "# IDE"
   ]
  },
  {
   "cell_type": "code",
   "execution_count": 44,
   "id": "bd136116",
   "metadata": {},
   "outputs": [
    {
     "data": {
      "text/html": [
       "<div>\n",
       "<style scoped>\n",
       "    .dataframe tbody tr th:only-of-type {\n",
       "        vertical-align: middle;\n",
       "    }\n",
       "\n",
       "    .dataframe tbody tr th {\n",
       "        vertical-align: top;\n",
       "    }\n",
       "\n",
       "    .dataframe thead th {\n",
       "        text-align: right;\n",
       "    }\n",
       "</style>\n",
       "<table border=\"1\" class=\"dataframe\">\n",
       "  <thead>\n",
       "    <tr style=\"text-align: right;\">\n",
       "      <th></th>\n",
       "      <th>Q13_Part_1</th>\n",
       "      <th>Q13_Part_2</th>\n",
       "      <th>Q13_Part_3</th>\n",
       "      <th>Q13_Part_4</th>\n",
       "      <th>Q13_Part_5</th>\n",
       "      <th>Q13_Part_6</th>\n",
       "      <th>Q13_Part_7</th>\n",
       "      <th>Q13_Part_8</th>\n",
       "      <th>Q13_Part_9</th>\n",
       "      <th>Q13_Part_10</th>\n",
       "      <th>Q13_Part_11</th>\n",
       "      <th>Q13_Part_12</th>\n",
       "      <th>Q13_Part_13</th>\n",
       "      <th>Q13_Part_14</th>\n",
       "      <th>Q13_Part_15</th>\n",
       "    </tr>\n",
       "  </thead>\n",
       "  <tbody>\n",
       "    <tr>\n",
       "      <th>0</th>\n",
       "      <td>Which of the following integrated development ...</td>\n",
       "      <td>Which of the following integrated development ...</td>\n",
       "      <td>Which of the following integrated development ...</td>\n",
       "      <td>Which of the following integrated development ...</td>\n",
       "      <td>Which of the following integrated development ...</td>\n",
       "      <td>Which of the following integrated development ...</td>\n",
       "      <td>Which of the following integrated development ...</td>\n",
       "      <td>Which of the following integrated development ...</td>\n",
       "      <td>Which of the following integrated development ...</td>\n",
       "      <td>Which of the following integrated development ...</td>\n",
       "      <td>Which of the following integrated development ...</td>\n",
       "      <td>Which of the following integrated development ...</td>\n",
       "      <td>Which of the following integrated development ...</td>\n",
       "      <td>Which of the following integrated development ...</td>\n",
       "      <td>Which of the following integrated development ...</td>\n",
       "    </tr>\n",
       "    <tr>\n",
       "      <th>1</th>\n",
       "      <td>Jupyter/IPython</td>\n",
       "      <td>NaN</td>\n",
       "      <td>NaN</td>\n",
       "      <td>NaN</td>\n",
       "      <td>NaN</td>\n",
       "      <td>NaN</td>\n",
       "      <td>NaN</td>\n",
       "      <td>NaN</td>\n",
       "      <td>NaN</td>\n",
       "      <td>NaN</td>\n",
       "      <td>NaN</td>\n",
       "      <td>NaN</td>\n",
       "      <td>NaN</td>\n",
       "      <td>NaN</td>\n",
       "      <td>NaN</td>\n",
       "    </tr>\n",
       "    <tr>\n",
       "      <th>2</th>\n",
       "      <td>NaN</td>\n",
       "      <td>NaN</td>\n",
       "      <td>NaN</td>\n",
       "      <td>NaN</td>\n",
       "      <td>NaN</td>\n",
       "      <td>NaN</td>\n",
       "      <td>NaN</td>\n",
       "      <td>NaN</td>\n",
       "      <td>NaN</td>\n",
       "      <td>NaN</td>\n",
       "      <td>NaN</td>\n",
       "      <td>NaN</td>\n",
       "      <td>NaN</td>\n",
       "      <td>None</td>\n",
       "      <td>NaN</td>\n",
       "    </tr>\n",
       "    <tr>\n",
       "      <th>3</th>\n",
       "      <td>NaN</td>\n",
       "      <td>NaN</td>\n",
       "      <td>NaN</td>\n",
       "      <td>NaN</td>\n",
       "      <td>NaN</td>\n",
       "      <td>NaN</td>\n",
       "      <td>MATLAB</td>\n",
       "      <td>NaN</td>\n",
       "      <td>NaN</td>\n",
       "      <td>NaN</td>\n",
       "      <td>NaN</td>\n",
       "      <td>NaN</td>\n",
       "      <td>NaN</td>\n",
       "      <td>NaN</td>\n",
       "      <td>NaN</td>\n",
       "    </tr>\n",
       "    <tr>\n",
       "      <th>4</th>\n",
       "      <td>Jupyter/IPython</td>\n",
       "      <td>RStudio</td>\n",
       "      <td>PyCharm</td>\n",
       "      <td>NaN</td>\n",
       "      <td>NaN</td>\n",
       "      <td>NaN</td>\n",
       "      <td>NaN</td>\n",
       "      <td>Visual Studio</td>\n",
       "      <td>NaN</td>\n",
       "      <td>NaN</td>\n",
       "      <td>Vim</td>\n",
       "      <td>NaN</td>\n",
       "      <td>NaN</td>\n",
       "      <td>NaN</td>\n",
       "      <td>NaN</td>\n",
       "    </tr>\n",
       "  </tbody>\n",
       "</table>\n",
       "</div>"
      ],
      "text/plain": [
       "                                          Q13_Part_1  \\\n",
       "0  Which of the following integrated development ...   \n",
       "1                                    Jupyter/IPython   \n",
       "2                                                NaN   \n",
       "3                                                NaN   \n",
       "4                                    Jupyter/IPython   \n",
       "\n",
       "                                          Q13_Part_2  \\\n",
       "0  Which of the following integrated development ...   \n",
       "1                                                NaN   \n",
       "2                                                NaN   \n",
       "3                                                NaN   \n",
       "4                                            RStudio   \n",
       "\n",
       "                                          Q13_Part_3  \\\n",
       "0  Which of the following integrated development ...   \n",
       "1                                                NaN   \n",
       "2                                                NaN   \n",
       "3                                                NaN   \n",
       "4                                            PyCharm   \n",
       "\n",
       "                                          Q13_Part_4  \\\n",
       "0  Which of the following integrated development ...   \n",
       "1                                                NaN   \n",
       "2                                                NaN   \n",
       "3                                                NaN   \n",
       "4                                                NaN   \n",
       "\n",
       "                                          Q13_Part_5  \\\n",
       "0  Which of the following integrated development ...   \n",
       "1                                                NaN   \n",
       "2                                                NaN   \n",
       "3                                                NaN   \n",
       "4                                                NaN   \n",
       "\n",
       "                                          Q13_Part_6  \\\n",
       "0  Which of the following integrated development ...   \n",
       "1                                                NaN   \n",
       "2                                                NaN   \n",
       "3                                                NaN   \n",
       "4                                                NaN   \n",
       "\n",
       "                                          Q13_Part_7  \\\n",
       "0  Which of the following integrated development ...   \n",
       "1                                                NaN   \n",
       "2                                                NaN   \n",
       "3                                             MATLAB   \n",
       "4                                                NaN   \n",
       "\n",
       "                                          Q13_Part_8  \\\n",
       "0  Which of the following integrated development ...   \n",
       "1                                                NaN   \n",
       "2                                                NaN   \n",
       "3                                                NaN   \n",
       "4                                      Visual Studio   \n",
       "\n",
       "                                          Q13_Part_9  \\\n",
       "0  Which of the following integrated development ...   \n",
       "1                                                NaN   \n",
       "2                                                NaN   \n",
       "3                                                NaN   \n",
       "4                                                NaN   \n",
       "\n",
       "                                         Q13_Part_10  \\\n",
       "0  Which of the following integrated development ...   \n",
       "1                                                NaN   \n",
       "2                                                NaN   \n",
       "3                                                NaN   \n",
       "4                                                NaN   \n",
       "\n",
       "                                         Q13_Part_11  \\\n",
       "0  Which of the following integrated development ...   \n",
       "1                                                NaN   \n",
       "2                                                NaN   \n",
       "3                                                NaN   \n",
       "4                                                Vim   \n",
       "\n",
       "                                         Q13_Part_12  \\\n",
       "0  Which of the following integrated development ...   \n",
       "1                                                NaN   \n",
       "2                                                NaN   \n",
       "3                                                NaN   \n",
       "4                                                NaN   \n",
       "\n",
       "                                         Q13_Part_13  \\\n",
       "0  Which of the following integrated development ...   \n",
       "1                                                NaN   \n",
       "2                                                NaN   \n",
       "3                                                NaN   \n",
       "4                                                NaN   \n",
       "\n",
       "                                         Q13_Part_14  \\\n",
       "0  Which of the following integrated development ...   \n",
       "1                                                NaN   \n",
       "2                                               None   \n",
       "3                                                NaN   \n",
       "4                                                NaN   \n",
       "\n",
       "                                         Q13_Part_15  \n",
       "0  Which of the following integrated development ...  \n",
       "1                                                NaN  \n",
       "2                                                NaN  \n",
       "3                                                NaN  \n",
       "4                                                NaN  "
      ]
     },
     "execution_count": 44,
     "metadata": {},
     "output_type": "execute_result"
    }
   ],
   "source": [
    "dfIDE2018 = df2018[['Q13_Part_1', 'Q13_Part_2','Q13_Part_3', 'Q13_Part_4','Q13_Part_5', 'Q13_Part_6',\n",
    "                          'Q13_Part_7','Q13_Part_8','Q13_Part_9','Q13_Part_10','Q13_Part_11','Q13_Part_12',\n",
    "                          'Q13_Part_13','Q13_Part_14','Q13_Part_15']]\n",
    "dfIDE2018.head()"
   ]
  },
  {
   "cell_type": "code",
   "execution_count": 45,
   "id": "abf7a721",
   "metadata": {},
   "outputs": [],
   "source": [
    "dfIDE2020 = df2020[['Q9_Part_1', 'Q9_Part_2','Q9_Part_3', 'Q9_Part_4','Q9_Part_5', 'Q9_Part_6',\n",
    "                          'Q9_Part_7','Q9_Part_8','Q9_Part_9','Q9_Part_10','Q9_Part_11','Q9_OTHER']]\n"
   ]
  },
  {
   "cell_type": "code",
   "execution_count": 46,
   "id": "5224745e",
   "metadata": {},
   "outputs": [],
   "source": [
    "dfIDE2018.drop([0],inplace=True)\n",
    "dfIDE2018.reset_index(drop=True,inplace=True)\n",
    "dfIDE2020.drop([0],inplace=True)\n",
    "dfIDE2020.reset_index(drop=True,inplace=True)"
   ]
  },
  {
   "cell_type": "code",
   "execution_count": 47,
   "id": "88df851b",
   "metadata": {},
   "outputs": [
    {
     "data": {
      "text/html": [
       "<div>\n",
       "<style scoped>\n",
       "    .dataframe tbody tr th:only-of-type {\n",
       "        vertical-align: middle;\n",
       "    }\n",
       "\n",
       "    .dataframe tbody tr th {\n",
       "        vertical-align: top;\n",
       "    }\n",
       "\n",
       "    .dataframe thead th {\n",
       "        text-align: right;\n",
       "    }\n",
       "</style>\n",
       "<table border=\"1\" class=\"dataframe\">\n",
       "  <thead>\n",
       "    <tr style=\"text-align: right;\">\n",
       "      <th></th>\n",
       "      <th>IDE</th>\n",
       "      <th>Year</th>\n",
       "    </tr>\n",
       "  </thead>\n",
       "  <tbody>\n",
       "    <tr>\n",
       "      <th>0</th>\n",
       "      <td>Jupyter/IPython</td>\n",
       "      <td>2018</td>\n",
       "    </tr>\n",
       "    <tr>\n",
       "      <th>3</th>\n",
       "      <td>Jupyter/IPython</td>\n",
       "      <td>2018</td>\n",
       "    </tr>\n",
       "    <tr>\n",
       "      <th>5</th>\n",
       "      <td>Jupyter/IPython</td>\n",
       "      <td>2018</td>\n",
       "    </tr>\n",
       "    <tr>\n",
       "      <th>7</th>\n",
       "      <td>Jupyter/IPython</td>\n",
       "      <td>2018</td>\n",
       "    </tr>\n",
       "    <tr>\n",
       "      <th>8</th>\n",
       "      <td>Jupyter/IPython</td>\n",
       "      <td>2018</td>\n",
       "    </tr>\n",
       "  </tbody>\n",
       "</table>\n",
       "</div>"
      ],
      "text/plain": [
       "               IDE  Year\n",
       "0  Jupyter/IPython  2018\n",
       "3  Jupyter/IPython  2018\n",
       "5  Jupyter/IPython  2018\n",
       "7  Jupyter/IPython  2018\n",
       "8  Jupyter/IPython  2018"
      ]
     },
     "execution_count": 47,
     "metadata": {},
     "output_type": "execute_result"
    }
   ],
   "source": [
    "dfIDE2018=dfIDE2018.melt()\n",
    "dfIDE2018.drop(columns=['variable'],inplace=True)\n",
    "dfIDE2018.dropna(inplace=True)\n",
    "dfIDE2018.rename(columns={'value':'IDE'},inplace=True)\n",
    "dfIDE2018[\"Year\"]=2018\n",
    "dfIDE2018.head()"
   ]
  },
  {
   "cell_type": "code",
   "execution_count": 48,
   "id": "808edf54",
   "metadata": {},
   "outputs": [
    {
     "data": {
      "text/html": [
       "<div>\n",
       "<style scoped>\n",
       "    .dataframe tbody tr th:only-of-type {\n",
       "        vertical-align: middle;\n",
       "    }\n",
       "\n",
       "    .dataframe tbody tr th {\n",
       "        vertical-align: top;\n",
       "    }\n",
       "\n",
       "    .dataframe thead th {\n",
       "        text-align: right;\n",
       "    }\n",
       "</style>\n",
       "<table border=\"1\" class=\"dataframe\">\n",
       "  <thead>\n",
       "    <tr style=\"text-align: right;\">\n",
       "      <th></th>\n",
       "      <th>IDE</th>\n",
       "      <th>Year</th>\n",
       "    </tr>\n",
       "  </thead>\n",
       "  <tbody>\n",
       "    <tr>\n",
       "      <th>0</th>\n",
       "      <td>Jupyter (JupyterLab, Jupyter Notebooks, etc)</td>\n",
       "      <td>2020</td>\n",
       "    </tr>\n",
       "    <tr>\n",
       "      <th>5</th>\n",
       "      <td>Jupyter (JupyterLab, Jupyter Notebooks, etc)</td>\n",
       "      <td>2020</td>\n",
       "    </tr>\n",
       "    <tr>\n",
       "      <th>6</th>\n",
       "      <td>Jupyter (JupyterLab, Jupyter Notebooks, etc)</td>\n",
       "      <td>2020</td>\n",
       "    </tr>\n",
       "    <tr>\n",
       "      <th>8</th>\n",
       "      <td>Jupyter (JupyterLab, Jupyter Notebooks, etc)</td>\n",
       "      <td>2020</td>\n",
       "    </tr>\n",
       "    <tr>\n",
       "      <th>9</th>\n",
       "      <td>Jupyter (JupyterLab, Jupyter Notebooks, etc)</td>\n",
       "      <td>2020</td>\n",
       "    </tr>\n",
       "  </tbody>\n",
       "</table>\n",
       "</div>"
      ],
      "text/plain": [
       "                                             IDE  Year\n",
       "0  Jupyter (JupyterLab, Jupyter Notebooks, etc)   2020\n",
       "5  Jupyter (JupyterLab, Jupyter Notebooks, etc)   2020\n",
       "6  Jupyter (JupyterLab, Jupyter Notebooks, etc)   2020\n",
       "8  Jupyter (JupyterLab, Jupyter Notebooks, etc)   2020\n",
       "9  Jupyter (JupyterLab, Jupyter Notebooks, etc)   2020"
      ]
     },
     "execution_count": 48,
     "metadata": {},
     "output_type": "execute_result"
    }
   ],
   "source": [
    "dfIDE2020=dfIDE2020.melt()\n",
    "dfIDE2020.drop(columns=['variable'],inplace=True)\n",
    "dfIDE2020.dropna(inplace=True)\n",
    "dfIDE2020.rename(columns={'value':'IDE'},inplace=True)\n",
    "dfIDE2020[\"Year\"]=2020\n",
    "dfIDE2020.head()"
   ]
  },
  {
   "cell_type": "code",
   "execution_count": 49,
   "id": "83d919db",
   "metadata": {},
   "outputs": [
    {
     "data": {
      "text/html": [
       "<div>\n",
       "<style scoped>\n",
       "    .dataframe tbody tr th:only-of-type {\n",
       "        vertical-align: middle;\n",
       "    }\n",
       "\n",
       "    .dataframe tbody tr th {\n",
       "        vertical-align: top;\n",
       "    }\n",
       "\n",
       "    .dataframe thead th {\n",
       "        text-align: right;\n",
       "    }\n",
       "</style>\n",
       "<table border=\"1\" class=\"dataframe\">\n",
       "  <thead>\n",
       "    <tr style=\"text-align: right;\">\n",
       "      <th></th>\n",
       "      <th>IDE</th>\n",
       "      <th>Year</th>\n",
       "    </tr>\n",
       "  </thead>\n",
       "  <tbody>\n",
       "    <tr>\n",
       "      <th>0</th>\n",
       "      <td>JupyterLab</td>\n",
       "      <td>2018</td>\n",
       "    </tr>\n",
       "    <tr>\n",
       "      <th>3</th>\n",
       "      <td>JupyterLab</td>\n",
       "      <td>2018</td>\n",
       "    </tr>\n",
       "    <tr>\n",
       "      <th>5</th>\n",
       "      <td>JupyterLab</td>\n",
       "      <td>2018</td>\n",
       "    </tr>\n",
       "    <tr>\n",
       "      <th>7</th>\n",
       "      <td>JupyterLab</td>\n",
       "      <td>2018</td>\n",
       "    </tr>\n",
       "    <tr>\n",
       "      <th>8</th>\n",
       "      <td>JupyterLab</td>\n",
       "      <td>2018</td>\n",
       "    </tr>\n",
       "  </tbody>\n",
       "</table>\n",
       "</div>"
      ],
      "text/plain": [
       "          IDE  Year\n",
       "0  JupyterLab  2018\n",
       "3  JupyterLab  2018\n",
       "5  JupyterLab  2018\n",
       "7  JupyterLab  2018\n",
       "8  JupyterLab  2018"
      ]
     },
     "execution_count": 49,
     "metadata": {},
     "output_type": "execute_result"
    }
   ],
   "source": [
    "dfIDE2018[\"IDE\"].replace({\"Jupyter/IPython\": \"JupyterLab\"}, inplace=True)\n",
    "dfIDE2018.head()"
   ]
  },
  {
   "cell_type": "code",
   "execution_count": 50,
   "id": "2deb71be",
   "metadata": {},
   "outputs": [],
   "source": [
    "dfIDE2020[\"IDE\"].replace({'Jupyter (JupyterLab, Jupyter Notebooks, etc) ': 'JupyterLab'}, inplace=True)\n",
    "dfIDE2020[\"IDE\"].replace({'Visual Studio Code (VSCode)': 'Visual Studio Code'}, inplace=True)\n",
    "dfIDE2020[\"IDE\"].replace({' RStudio ': 'RStudio'}, inplace=True)\n",
    "dfIDE2020[\"IDE\"].replace({'  Spyder  ': 'Spyder'}, inplace=True)\n",
    "dfIDE2020[\"IDE\"].replace({' PyCharm ': 'PyCharm'}, inplace=True)\n",
    "dfIDE2020[\"IDE\"].replace({'  Notepad++  ': 'Notepad++'}, inplace=True)\n",
    "dfIDE2020[\"IDE\"].replace({'  Sublime Text  ': 'Sublime Text'}, inplace=True)\n",
    "dfIDE2020[\"IDE\"].replace({' MATLAB ': 'MATLAB'}, inplace=True)\n",
    "dfIDE2020[\"IDE\"].replace({'  Vim / Emacs  ': 'Vim'}, inplace=True)"
   ]
  },
  {
   "cell_type": "code",
   "execution_count": 51,
   "id": "3d5a3312",
   "metadata": {},
   "outputs": [
    {
     "data": {
      "text/html": [
       "<div>\n",
       "<style scoped>\n",
       "    .dataframe tbody tr th:only-of-type {\n",
       "        vertical-align: middle;\n",
       "    }\n",
       "\n",
       "    .dataframe tbody tr th {\n",
       "        vertical-align: top;\n",
       "    }\n",
       "\n",
       "    .dataframe thead tr th {\n",
       "        text-align: left;\n",
       "    }\n",
       "\n",
       "    .dataframe thead tr:last-of-type th {\n",
       "        text-align: right;\n",
       "    }\n",
       "</style>\n",
       "<table border=\"1\" class=\"dataframe\">\n",
       "  <thead>\n",
       "    <tr>\n",
       "      <th></th>\n",
       "      <th></th>\n",
       "      <th>Year</th>\n",
       "    </tr>\n",
       "    <tr>\n",
       "      <th></th>\n",
       "      <th></th>\n",
       "      <th>count</th>\n",
       "    </tr>\n",
       "    <tr>\n",
       "      <th>IDE</th>\n",
       "      <th>Year</th>\n",
       "      <th></th>\n",
       "    </tr>\n",
       "  </thead>\n",
       "  <tbody>\n",
       "    <tr>\n",
       "      <th>JupyterLab</th>\n",
       "      <th>2020</th>\n",
       "      <td>11211</td>\n",
       "    </tr>\n",
       "    <tr>\n",
       "      <th>MATLAB</th>\n",
       "      <th>2020</th>\n",
       "      <td>1604</td>\n",
       "    </tr>\n",
       "    <tr>\n",
       "      <th>None</th>\n",
       "      <th>2020</th>\n",
       "      <td>386</td>\n",
       "    </tr>\n",
       "    <tr>\n",
       "      <th>Notepad++</th>\n",
       "      <th>2020</th>\n",
       "      <td>3132</td>\n",
       "    </tr>\n",
       "    <tr>\n",
       "      <th>Other</th>\n",
       "      <th>2020</th>\n",
       "      <td>1162</td>\n",
       "    </tr>\n",
       "    <tr>\n",
       "      <th>PyCharm</th>\n",
       "      <th>2020</th>\n",
       "      <td>5099</td>\n",
       "    </tr>\n",
       "    <tr>\n",
       "      <th>RStudio</th>\n",
       "      <th>2020</th>\n",
       "      <td>3826</td>\n",
       "    </tr>\n",
       "    <tr>\n",
       "      <th>Spyder</th>\n",
       "      <th>2020</th>\n",
       "      <td>3290</td>\n",
       "    </tr>\n",
       "    <tr>\n",
       "      <th>Sublime Text</th>\n",
       "      <th>2020</th>\n",
       "      <td>2452</td>\n",
       "    </tr>\n",
       "    <tr>\n",
       "      <th>Vim</th>\n",
       "      <th>2020</th>\n",
       "      <td>1502</td>\n",
       "    </tr>\n",
       "    <tr>\n",
       "      <th>Visual Studio</th>\n",
       "      <th>2020</th>\n",
       "      <td>2445</td>\n",
       "    </tr>\n",
       "    <tr>\n",
       "      <th>Visual Studio Code</th>\n",
       "      <th>2020</th>\n",
       "      <td>5873</td>\n",
       "    </tr>\n",
       "  </tbody>\n",
       "</table>\n",
       "</div>"
      ],
      "text/plain": [
       "                          Year\n",
       "                         count\n",
       "IDE                Year       \n",
       "JupyterLab         2020  11211\n",
       "MATLAB             2020   1604\n",
       "None               2020    386\n",
       "Notepad++          2020   3132\n",
       "Other              2020   1162\n",
       "PyCharm            2020   5099\n",
       "RStudio            2020   3826\n",
       "Spyder             2020   3290\n",
       "Sublime Text       2020   2452\n",
       "Vim                2020   1502\n",
       "Visual Studio      2020   2445\n",
       "Visual Studio Code 2020   5873"
      ]
     },
     "execution_count": 51,
     "metadata": {},
     "output_type": "execute_result"
    }
   ],
   "source": [
    "dfIDE2020.groupby(['IDE','Year'], as_index=True).agg({'Year': ['count']})"
   ]
  },
  {
   "cell_type": "code",
   "execution_count": 52,
   "id": "8251f290",
   "metadata": {},
   "outputs": [],
   "source": [
    "dfIDE2018y2020 = pd.concat([dfIDE2020, dfIDE2018], ignore_index=True)"
   ]
  },
  {
   "cell_type": "code",
   "execution_count": 53,
   "id": "f486d75d",
   "metadata": {},
   "outputs": [
    {
     "data": {
      "text/html": [
       "<div>\n",
       "<style scoped>\n",
       "    .dataframe tbody tr th:only-of-type {\n",
       "        vertical-align: middle;\n",
       "    }\n",
       "\n",
       "    .dataframe tbody tr th {\n",
       "        vertical-align: top;\n",
       "    }\n",
       "\n",
       "    .dataframe thead tr th {\n",
       "        text-align: left;\n",
       "    }\n",
       "\n",
       "    .dataframe thead tr:last-of-type th {\n",
       "        text-align: right;\n",
       "    }\n",
       "</style>\n",
       "<table border=\"1\" class=\"dataframe\">\n",
       "  <thead>\n",
       "    <tr>\n",
       "      <th></th>\n",
       "      <th></th>\n",
       "      <th>Year</th>\n",
       "    </tr>\n",
       "    <tr>\n",
       "      <th></th>\n",
       "      <th></th>\n",
       "      <th>count</th>\n",
       "    </tr>\n",
       "    <tr>\n",
       "      <th>IDE</th>\n",
       "      <th>Year</th>\n",
       "      <th></th>\n",
       "    </tr>\n",
       "  </thead>\n",
       "  <tbody>\n",
       "    <tr>\n",
       "      <th>Atom</th>\n",
       "      <th>2018</th>\n",
       "      <td>3906</td>\n",
       "    </tr>\n",
       "    <tr>\n",
       "      <th>IntelliJ</th>\n",
       "      <th>2018</th>\n",
       "      <td>3456</td>\n",
       "    </tr>\n",
       "    <tr>\n",
       "      <th rowspan=\"2\" valign=\"top\">JupyterLab</th>\n",
       "      <th>2018</th>\n",
       "      <td>14010</td>\n",
       "    </tr>\n",
       "    <tr>\n",
       "      <th>2020</th>\n",
       "      <td>11211</td>\n",
       "    </tr>\n",
       "    <tr>\n",
       "      <th rowspan=\"2\" valign=\"top\">MATLAB</th>\n",
       "      <th>2018</th>\n",
       "      <td>5671</td>\n",
       "    </tr>\n",
       "    <tr>\n",
       "      <th>2020</th>\n",
       "      <td>1604</td>\n",
       "    </tr>\n",
       "    <tr>\n",
       "      <th rowspan=\"2\" valign=\"top\">None</th>\n",
       "      <th>2018</th>\n",
       "      <td>474</td>\n",
       "    </tr>\n",
       "    <tr>\n",
       "      <th>2020</th>\n",
       "      <td>386</td>\n",
       "    </tr>\n",
       "    <tr>\n",
       "      <th rowspan=\"2\" valign=\"top\">Notepad++</th>\n",
       "      <th>2018</th>\n",
       "      <td>7831</td>\n",
       "    </tr>\n",
       "    <tr>\n",
       "      <th>2020</th>\n",
       "      <td>3132</td>\n",
       "    </tr>\n",
       "    <tr>\n",
       "      <th rowspan=\"2\" valign=\"top\">Other</th>\n",
       "      <th>2018</th>\n",
       "      <td>1257</td>\n",
       "    </tr>\n",
       "    <tr>\n",
       "      <th>2020</th>\n",
       "      <td>1162</td>\n",
       "    </tr>\n",
       "    <tr>\n",
       "      <th rowspan=\"2\" valign=\"top\">PyCharm</th>\n",
       "      <th>2018</th>\n",
       "      <td>7060</td>\n",
       "    </tr>\n",
       "    <tr>\n",
       "      <th>2020</th>\n",
       "      <td>5099</td>\n",
       "    </tr>\n",
       "    <tr>\n",
       "      <th rowspan=\"2\" valign=\"top\">RStudio</th>\n",
       "      <th>2018</th>\n",
       "      <td>8503</td>\n",
       "    </tr>\n",
       "    <tr>\n",
       "      <th>2020</th>\n",
       "      <td>3826</td>\n",
       "    </tr>\n",
       "    <tr>\n",
       "      <th rowspan=\"2\" valign=\"top\">Spyder</th>\n",
       "      <th>2018</th>\n",
       "      <td>5339</td>\n",
       "    </tr>\n",
       "    <tr>\n",
       "      <th>2020</th>\n",
       "      <td>3290</td>\n",
       "    </tr>\n",
       "    <tr>\n",
       "      <th rowspan=\"2\" valign=\"top\">Sublime Text</th>\n",
       "      <th>2018</th>\n",
       "      <td>5985</td>\n",
       "    </tr>\n",
       "    <tr>\n",
       "      <th>2020</th>\n",
       "      <td>2452</td>\n",
       "    </tr>\n",
       "    <tr>\n",
       "      <th rowspan=\"2\" valign=\"top\">Vim</th>\n",
       "      <th>2018</th>\n",
       "      <td>4240</td>\n",
       "    </tr>\n",
       "    <tr>\n",
       "      <th>2020</th>\n",
       "      <td>1502</td>\n",
       "    </tr>\n",
       "    <tr>\n",
       "      <th rowspan=\"2\" valign=\"top\">Visual Studio</th>\n",
       "      <th>2018</th>\n",
       "      <td>5111</td>\n",
       "    </tr>\n",
       "    <tr>\n",
       "      <th>2020</th>\n",
       "      <td>2445</td>\n",
       "    </tr>\n",
       "    <tr>\n",
       "      <th rowspan=\"2\" valign=\"top\">Visual Studio Code</th>\n",
       "      <th>2018</th>\n",
       "      <td>5082</td>\n",
       "    </tr>\n",
       "    <tr>\n",
       "      <th>2020</th>\n",
       "      <td>5873</td>\n",
       "    </tr>\n",
       "    <tr>\n",
       "      <th>nteract</th>\n",
       "      <th>2018</th>\n",
       "      <td>127</td>\n",
       "    </tr>\n",
       "  </tbody>\n",
       "</table>\n",
       "</div>"
      ],
      "text/plain": [
       "                          Year\n",
       "                         count\n",
       "IDE                Year       \n",
       "Atom               2018   3906\n",
       "IntelliJ           2018   3456\n",
       "JupyterLab         2018  14010\n",
       "                   2020  11211\n",
       "MATLAB             2018   5671\n",
       "                   2020   1604\n",
       "None               2018    474\n",
       "                   2020    386\n",
       "Notepad++          2018   7831\n",
       "                   2020   3132\n",
       "Other              2018   1257\n",
       "                   2020   1162\n",
       "PyCharm            2018   7060\n",
       "                   2020   5099\n",
       "RStudio            2018   8503\n",
       "                   2020   3826\n",
       "Spyder             2018   5339\n",
       "                   2020   3290\n",
       "Sublime Text       2018   5985\n",
       "                   2020   2452\n",
       "Vim                2018   4240\n",
       "                   2020   1502\n",
       "Visual Studio      2018   5111\n",
       "                   2020   2445\n",
       "Visual Studio Code 2018   5082\n",
       "                   2020   5873\n",
       "nteract            2018    127"
      ]
     },
     "execution_count": 53,
     "metadata": {},
     "output_type": "execute_result"
    }
   ],
   "source": [
    "dfIDE2018y2020.groupby(['IDE','Year'], as_index=True).agg({'Year': ['count']})"
   ]
  },
  {
   "cell_type": "code",
   "execution_count": 54,
   "id": "43011934",
   "metadata": {},
   "outputs": [],
   "source": [
    "#dfresumen.sort_values(\"mean\",ascending=False,inplace=True)\n",
    "#dfresumen.reset_index(drop=True,inplace=True)\n",
    "#dfresumen\n",
    "###############"
   ]
  },
  {
   "cell_type": "code",
   "execution_count": 55,
   "id": "df1af0e3",
   "metadata": {},
   "outputs": [
    {
     "data": {
      "text/plain": [
       "<AxesSubplot:xlabel='count', ylabel='IDE'>"
      ]
     },
     "execution_count": 55,
     "metadata": {},
     "output_type": "execute_result"
    },
    {
     "data": {
      "image/png": "[encoded data removed]",
      "text/plain": [
       "<Figure size 720x432 with 1 Axes>"
      ]
     },
     "metadata": {},
     "output_type": "display_data"
    }
   ],
   "source": [
    "sns.set(rc={'figure.figsize': (10,6)})\n",
    "sns.countplot(data = dfIDE2018y2020,y = \"IDE\",hue=\"Year\",hue_order=[2018, 2020])"
   ]
  },
  {
   "cell_type": "markdown",
   "id": "4bcaeb73",
   "metadata": {},
   "source": [
    "# IDE promedio"
   ]
  },
  {
   "cell_type": "code",
   "execution_count": 56,
   "id": "ea2f69ff",
   "metadata": {},
   "outputs": [
    {
     "data": {
      "text/plain": [
       "Text(0.5, 1.0, 'IDE promedio')"
      ]
     },
     "execution_count": 56,
     "metadata": {},
     "output_type": "execute_result"
    },
    {
     "data": {
      "image/png": "[encoded data removed]",
      "text/plain": [
       "<Figure size 720x432 with 1 Axes>"
      ]
     },
     "metadata": {},
     "output_type": "display_data"
    }
   ],
   "source": [
    "c= dfIDE2018y2020.groupby(['IDE','Year'], as_index=True).agg({'Year': ['count']})\n",
    "c=c.reset_index()\n",
    "\n",
    "data={'IDE':c.iloc[:,0],'Year':c.iloc[:,1],'Count':c.iloc[:,2]}\n",
    "\n",
    "dfresumen=pd.DataFrame(data)\n",
    "dfresumen['mean']=''\n",
    "\n",
    "for f in range(len(dfresumen)):\n",
    "    if dfresumen['Year'][f]==2018:\n",
    "        dfresumen['mean'][f]=dfresumen['Count'][f]/len(dfIDE2018)*100\n",
    "    else:\n",
    "        dfresumen['mean'][f]=dfresumen['Count'][f]/len(dfIDE2020)*100\n",
    "\n",
    "dfresumen.sort_values(\"mean\",ascending=False,inplace=True)\n",
    "dfresumen.reset_index(drop=True,inplace=True)\n",
    "dfresumen\n",
    "\n",
    "        \n",
    "sns.set(rc={'figure.figsize': (10,6)})\n",
    "ax = sns.barplot(y=\"IDE\", x=\"mean\", hue=\"Year\", data=dfresumen)\n",
    "ax.set_title('IDE promedio',fontsize=20)"
   ]
  },
  {
   "cell_type": "code",
   "execution_count": null,
   "id": "3f5b98b3",
   "metadata": {},
   "outputs": [],
   "source": []
  },
  {
   "cell_type": "code",
   "execution_count": null,
   "id": "f7672a9e",
   "metadata": {},
   "outputs": [],
   "source": []
  },
  {
   "cell_type": "code",
   "execution_count": null,
   "id": "ce104861",
   "metadata": {},
   "outputs": [],
   "source": []
  }
 ],
 "metadata": {
  "kernelspec": {
   "display_name": "Python 3",
   "language": "python",
   "name": "python3"
  },
  "language_info": {
   "codemirror_mode": {
    "name": "ipython",
    "version": 3
   },
   "file_extension": ".py",
   "mimetype": "text/x-python",
   "name": "python",
   "nbconvert_exporter": "python",
   "pygments_lexer": "ipython3",
   "version": "3.8.8"
  }
 },
 "nbformat": 4,
 "nbformat_minor": 5
}
