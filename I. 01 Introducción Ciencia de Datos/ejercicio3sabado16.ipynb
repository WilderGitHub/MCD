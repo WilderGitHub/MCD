{
 "cells": [
  {
   "cell_type": "code",
   "execution_count": 1,
   "id": "b80711a3",
   "metadata": {},
   "outputs": [],
   "source": [
    "#Broadcasting"
   ]
  },
  {
   "cell_type": "code",
   "execution_count": 3,
   "id": "4174c279",
   "metadata": {},
   "outputs": [],
   "source": [
    "import numpy as np"
   ]
  },
  {
   "cell_type": "code",
   "execution_count": 4,
   "id": "0815b613",
   "metadata": {},
   "outputs": [
    {
     "data": {
      "text/plain": [
       "array([5, 6, 7])"
      ]
     },
     "execution_count": 4,
     "metadata": {},
     "output_type": "execute_result"
    }
   ],
   "source": [
    "a = np.array([0, 1, 2])\n",
    "b = np.array([5, 5, 5])\n",
    "a + b"
   ]
  },
  {
   "cell_type": "code",
   "execution_count": 5,
   "id": "a29c2a99",
   "metadata": {},
   "outputs": [
    {
     "data": {
      "text/plain": [
       "array([5, 6, 7])"
      ]
     },
     "execution_count": 5,
     "metadata": {},
     "output_type": "execute_result"
    }
   ],
   "source": [
    "a+5"
   ]
  },
  {
   "cell_type": "code",
   "execution_count": 6,
   "id": "fa3fe54c",
   "metadata": {},
   "outputs": [
    {
     "name": "stdout",
     "output_type": "stream",
     "text": [
      "[0 1 2]\n",
      "[[0]\n",
      " [1]\n",
      " [2]]\n"
     ]
    }
   ],
   "source": [
    "a = np.arange(3)\n",
    "b = np.arange(3)[:, np.newaxis]\n",
    "print(a)\n",
    "print(b)"
   ]
  },
  {
   "cell_type": "code",
   "execution_count": 7,
   "id": "8c0cb89b",
   "metadata": {},
   "outputs": [
    {
     "data": {
      "text/plain": [
       "array([[0, 1, 2],\n",
       "       [1, 2, 3],\n",
       "       [2, 3, 4]])"
      ]
     },
     "execution_count": 7,
     "metadata": {},
     "output_type": "execute_result"
    }
   ],
   "source": [
    "a+b"
   ]
  },
  {
   "cell_type": "code",
   "execution_count": 8,
   "id": "6e2b8cee",
   "metadata": {},
   "outputs": [],
   "source": [
    "a = np.arange(3).reshape((3, 1))\n",
    "b = np.arange(3)"
   ]
  },
  {
   "cell_type": "code",
   "execution_count": 9,
   "id": "39ef52c9",
   "metadata": {},
   "outputs": [
    {
     "data": {
      "text/plain": [
       "array([[0, 1, 2],\n",
       "       [1, 2, 3],\n",
       "       [2, 3, 4]])"
      ]
     },
     "execution_count": 9,
     "metadata": {},
     "output_type": "execute_result"
    }
   ],
   "source": [
    "a+b"
   ]
  },
  {
   "cell_type": "code",
   "execution_count": 11,
   "id": "c801236b",
   "metadata": {},
   "outputs": [],
   "source": [
    "M = np.ones((3, 2))\n",
    "a = np.arange(3)"
   ]
  },
  {
   "cell_type": "code",
   "execution_count": 12,
   "id": "a6a61460",
   "metadata": {},
   "outputs": [
    {
     "data": {
      "text/plain": [
       "array([[1., 1.],\n",
       "       [1., 1.],\n",
       "       [1., 1.]])"
      ]
     },
     "execution_count": 12,
     "metadata": {},
     "output_type": "execute_result"
    }
   ],
   "source": [
    "M"
   ]
  },
  {
   "cell_type": "code",
   "execution_count": 13,
   "id": "c88b6e3a",
   "metadata": {},
   "outputs": [
    {
     "data": {
      "text/plain": [
       "array([0, 1, 2])"
      ]
     },
     "execution_count": 13,
     "metadata": {},
     "output_type": "execute_result"
    }
   ],
   "source": [
    "a"
   ]
  },
  {
   "cell_type": "code",
   "execution_count": 14,
   "id": "86503c49",
   "metadata": {},
   "outputs": [
    {
     "ename": "ValueError",
     "evalue": "operands could not be broadcast together with shapes (3,2) (3,) ",
     "output_type": "error",
     "traceback": [
      "\u001b[1;31m---------------------------------------------------------------------------\u001b[0m",
      "\u001b[1;31mValueError\u001b[0m                                Traceback (most recent call last)",
      "\u001b[1;32m<ipython-input-14-2267d2681641>\u001b[0m in \u001b[0;36m<module>\u001b[1;34m\u001b[0m\n\u001b[1;32m----> 1\u001b[1;33m \u001b[0mM\u001b[0m\u001b[1;33m+\u001b[0m\u001b[0ma\u001b[0m\u001b[1;33m\u001b[0m\u001b[1;33m\u001b[0m\u001b[0m\n\u001b[0m",
      "\u001b[1;31mValueError\u001b[0m: operands could not be broadcast together with shapes (3,2) (3,) "
     ]
    }
   ],
   "source": [
    "M+a"
   ]
  },
  {
   "cell_type": "code",
   "execution_count": 15,
   "id": "79760f43",
   "metadata": {},
   "outputs": [
    {
     "data": {
      "text/plain": [
       "(3, 1)"
      ]
     },
     "execution_count": 15,
     "metadata": {},
     "output_type": "execute_result"
    }
   ],
   "source": [
    "a[:, np.newaxis].shape"
   ]
  },
  {
   "cell_type": "code",
   "execution_count": 16,
   "id": "6daef037",
   "metadata": {},
   "outputs": [
    {
     "data": {
      "text/plain": [
       "array([[1., 1.],\n",
       "       [2., 2.],\n",
       "       [3., 3.]])"
      ]
     },
     "execution_count": 16,
     "metadata": {},
     "output_type": "execute_result"
    }
   ],
   "source": [
    "M + a[:, np.newaxis]"
   ]
  },
  {
   "cell_type": "code",
   "execution_count": 17,
   "id": "5c2761bf",
   "metadata": {},
   "outputs": [],
   "source": [
    "X=np.random.random((10,3))"
   ]
  },
  {
   "cell_type": "code",
   "execution_count": 40,
   "id": "fe8cad83",
   "metadata": {},
   "outputs": [
    {
     "data": {
      "text/plain": [
       "array([[0.7552669927668253 , 0.8647720692367478 , 0.9371285647203744 ],\n",
       "       [0.2605388250623921 , 0.4082486904483912 , 0.26023384097991553],\n",
       "       [0.27005578889313564, 0.33834701283475854, 0.4185010691496984 ],\n",
       "       [0.72878616878248   , 0.8793990571944617 , 0.6748889493433505 ],\n",
       "       [0.629580285261478  , 0.06329084778302696, 0.3476460159492536 ],\n",
       "       [0.3935657532550022 , 0.28120202226523294, 0.30031911806588396],\n",
       "       [0.5497572474539533 , 0.6649937249997157 , 0.9486890220489794 ],\n",
       "       [0.3619112009180032 , 0.5957723678802885 , 0.5736926107909782 ],\n",
       "       [0.9611725529694464 , 0.3552852245029341 , 0.5083681880317715 ],\n",
       "       [0.6622267431273597 , 0.7772621535877705 , 0.03240792486476707]])"
      ]
     },
     "execution_count": 40,
     "metadata": {},
     "output_type": "execute_result"
    }
   ],
   "source": [
    "X"
   ]
  },
  {
   "cell_type": "code",
   "execution_count": 18,
   "id": "22e0424f",
   "metadata": {},
   "outputs": [],
   "source": [
    "Xmean=X.mean(0)"
   ]
  },
  {
   "cell_type": "code",
   "execution_count": 19,
   "id": "886e1760",
   "metadata": {},
   "outputs": [
    {
     "data": {
      "text/plain": [
       "array([0.55728616, 0.52285732, 0.50018753])"
      ]
     },
     "execution_count": 19,
     "metadata": {},
     "output_type": "execute_result"
    }
   ],
   "source": [
    "Xmean"
   ]
  },
  {
   "cell_type": "code",
   "execution_count": 20,
   "id": "f2d95d19",
   "metadata": {},
   "outputs": [],
   "source": [
    "Xcentered=X-Xmean"
   ]
  },
  {
   "cell_type": "code",
   "execution_count": 23,
   "id": "a2a7cc80",
   "metadata": {},
   "outputs": [
    {
     "data": {
      "text/plain": [
       "array([[ 0.19798084,  0.34191475,  0.43694103],\n",
       "       [-0.29674733, -0.11460863, -0.23995369],\n",
       "       [-0.28723037, -0.1845103 , -0.08168646],\n",
       "       [ 0.17150001,  0.35654174,  0.17470142],\n",
       "       [ 0.07229413, -0.45956647, -0.15254151],\n",
       "       [-0.1637204 , -0.24165529, -0.19986841],\n",
       "       [-0.00752891,  0.14213641,  0.44850149],\n",
       "       [-0.19537495,  0.07291505,  0.07350508],\n",
       "       [ 0.4038864 , -0.16757209,  0.00818066],\n",
       "       [ 0.10494059,  0.25440484, -0.46777961]])"
      ]
     },
     "execution_count": 23,
     "metadata": {},
     "output_type": "execute_result"
    }
   ],
   "source": [
    "Xcentered"
   ]
  },
  {
   "cell_type": "code",
   "execution_count": 39,
   "id": "43610b6e",
   "metadata": {},
   "outputs": [
    {
     "data": {
      "text/plain": [
       "array([-0., -0.,  0.])"
      ]
     },
     "execution_count": 39,
     "metadata": {},
     "output_type": "execute_result"
    }
   ],
   "source": [
    "\n",
    "np.round(Xcentered.mean(0),2)"
   ]
  },
  {
   "cell_type": "code",
   "execution_count": 53,
   "id": "54eb1bc9",
   "metadata": {},
   "outputs": [],
   "source": [
    "x = np.linspace(0, 15, 50)\n",
    "y = np.linspace(0, 15, 50)[:, np.newaxis]\n",
    "z = np.sin(x) + np.cos(y)"
   ]
  },
  {
   "cell_type": "code",
   "execution_count": 54,
   "id": "578e8c38",
   "metadata": {},
   "outputs": [],
   "source": [
    "%matplotlib inline\n",
    "import matplotlib.pyplot as plt"
   ]
  },
  {
   "cell_type": "code",
   "execution_count": 55,
   "id": "d4d13e6f",
   "metadata": {
    "scrolled": true
   },
   "outputs": [
    {
     "data": {
      "image/png": "[encoded data removed]",
      "text/plain": [
       "<Figure size 432x288 with 2 Axes>"
      ]
     },
     "metadata": {
      "needs_background": "light"
     },
     "output_type": "display_data"
    }
   ],
   "source": [
    "plt.imshow(z, origin='lower', extent=[0, 5, 0, 5],\n",
    "cmap='viridis')\n",
    "plt.colorbar();"
   ]
  },
  {
   "cell_type": "code",
   "execution_count": 56,
   "id": "e37514bc",
   "metadata": {},
   "outputs": [
    {
     "data": {
      "text/plain": [
       "(365,)"
      ]
     },
     "execution_count": 56,
     "metadata": {},
     "output_type": "execute_result"
    }
   ],
   "source": [
    "import numpy as np\n",
    "import pandas as pd\n",
    "# use Pandas to extract rainfall inches as a NumPy array\n",
    "rainfall = pd.read_csv('data/Seattle2014.csv')['PRCP'].values\n",
    "inches = rainfall / 254 # 1/10mm -> inches\n",
    "inches.shape"
   ]
  },
  {
   "cell_type": "code",
   "execution_count": 57,
   "id": "67cab7f6",
   "metadata": {},
   "outputs": [],
   "source": [
    "%matplotlib inline\n",
    "import matplotlib.pyplot as plt\n",
    "import seaborn; seaborn.set()"
   ]
  },
  {
   "cell_type": "code",
   "execution_count": 58,
   "id": "29e5adc5",
   "metadata": {
    "scrolled": true
   },
   "outputs": [
    {
     "data": {
      "image/png": "[encoded data removed]",
      "text/plain": [
       "<Figure size 432x288 with 1 Axes>"
      ]
     },
     "metadata": {},
     "output_type": "display_data"
    }
   ],
   "source": [
    "plt.hist(inches, 40);"
   ]
  },
  {
   "cell_type": "code",
   "execution_count": 75,
   "id": "8f4871aa",
   "metadata": {},
   "outputs": [],
   "source": [
    "#print(inches)"
   ]
  },
  {
   "cell_type": "code",
   "execution_count": 63,
   "id": "4616112c",
   "metadata": {},
   "outputs": [
    {
     "data": {
      "text/plain": [
       "array([[5, 0, 3, 3],\n",
       "       [7, 9, 3, 5],\n",
       "       [2, 4, 7, 6]])"
      ]
     },
     "execution_count": 63,
     "metadata": {},
     "output_type": "execute_result"
    }
   ],
   "source": [
    "rng = np.random.RandomState(0)\n",
    "x = rng.randint(10, size=(3, 4))\n",
    "x"
   ]
  },
  {
   "cell_type": "code",
   "execution_count": 64,
   "id": "b2f64f02",
   "metadata": {},
   "outputs": [
    {
     "data": {
      "text/plain": [
       "8"
      ]
     },
     "execution_count": 64,
     "metadata": {},
     "output_type": "execute_result"
    }
   ],
   "source": [
    "np.count_nonzero(x < 6)"
   ]
  },
  {
   "cell_type": "code",
   "execution_count": 65,
   "id": "ae52236d",
   "metadata": {},
   "outputs": [
    {
     "data": {
      "text/plain": [
       "8"
      ]
     },
     "execution_count": 65,
     "metadata": {},
     "output_type": "execute_result"
    }
   ],
   "source": [
    "np.sum(x < 6)"
   ]
  },
  {
   "cell_type": "code",
   "execution_count": 66,
   "id": "ac0b093e",
   "metadata": {},
   "outputs": [
    {
     "name": "stdout",
     "output_type": "stream",
     "text": [
      "Number days without rain:  215\n",
      "Number days with rain:  150\n",
      "Days with more than 0.5 inches: 37\n",
      "Rainy days with < 0.1 inches : 75\n"
     ]
    }
   ],
   "source": [
    "print(\"Number days without rain: \", np.sum(inches == 0))\n",
    "print(\"Number days with rain: \", np.sum(inches != 0))\n",
    "print(\"Days with more than 0.5 inches:\", np.sum(inches > 0.5))\n",
    "print(\"Rainy days with < 0.1 inches :\", np.sum((inches > 0) &\n",
    "(inches < 0.2)))"
   ]
  },
  {
   "cell_type": "code",
   "execution_count": 68,
   "id": "3a512238",
   "metadata": {},
   "outputs": [
    {
     "data": {
      "text/plain": [
       "array([[False,  True,  True,  True],\n",
       "       [False, False,  True, False],\n",
       "       [ True,  True, False, False]])"
      ]
     },
     "execution_count": 68,
     "metadata": {},
     "output_type": "execute_result"
    }
   ],
   "source": [
    "x<5"
   ]
  },
  {
   "cell_type": "code",
   "execution_count": 69,
   "id": "36bb2de8",
   "metadata": {},
   "outputs": [
    {
     "data": {
      "text/plain": [
       "array([0, 3, 3, 3, 2, 4])"
      ]
     },
     "execution_count": 69,
     "metadata": {},
     "output_type": "execute_result"
    }
   ],
   "source": [
    "x[x < 5]"
   ]
  },
  {
   "cell_type": "code",
   "execution_count": 71,
   "id": "e57df940",
   "metadata": {},
   "outputs": [
    {
     "name": "stdout",
     "output_type": "stream",
     "text": [
      "Median precip on rainy days in 2014 (inches):  0.19488188976377951\n",
      "Median precip on summer days in 2014 (inches):  0.0\n",
      "Maximum precip on summer days in 2014 (inches):  0.8503937007874016\n",
      "Median precip on non-summer rainy days (inches): 0.20078740157480315\n"
     ]
    }
   ],
   "source": [
    "# construct a mask of all rainy days\n",
    "rainy = (inches > 0)\n",
    "# construct a mask of all summer days (June 21st is the 172nd day)\n",
    "summer = (np.arange(365) - 172 < 90) & (np.arange(365) - 172 > 0)\n",
    "print(\"Median precip on rainy days in 2014 (inches): \",\n",
    "np.median(inches[rainy]))\n",
    "print(\"Median precip on summer days in 2014 (inches): \",\n",
    "np.median(inches[summer]))\n",
    "print(\"Maximum precip on summer days in 2014 (inches): \",\n",
    "np.max(inches[summer]))\n",
    "print(\"Median precip on non-summer rainy days (inches):\",\n",
    "np.median(inches[rainy & ~summer]))"
   ]
  },
  {
   "cell_type": "code",
   "execution_count": 73,
   "id": "2d354110",
   "metadata": {},
   "outputs": [
    {
     "name": "stdout",
     "output_type": "stream",
     "text": [
      "[0.                  0.16141732283464566 0.05905511811023622\n",
      " 0.                  0.                  0.01181102362204724\n",
      " 0.48031496062992124 0.38188976377952755 0.2283464566929134\n",
      " 0.16929133858267717 0.8385826771653543  0.05905511811023622\n",
      " 0.                  0.                  0.\n",
      " 0.                  0.                  0.\n",
      " 0.                  0.                  0.\n",
      " 0.01968503937007874 0.                  0.\n",
      " 0.                  0.                  0.\n",
      " 0.35039370078740156 0.8503937007874016  0.\n",
      " 0.09055118110236221 0.07874015748031496 0.\n",
      " 0.                  0.                  0.\n",
      " 0.                  0.                  0.20078740157480315\n",
      " 0.01968503937007874 0.7204724409448819  0.6692913385826772\n",
      " 0.18110236220472442 0.07086614173228346 0.3700787401574803\n",
      " 0.46062992125984253 1.0393700787401574  0.5708661417322834\n",
      " 0.5984251968503937  0.03937007874015748 0.11811023622047244\n",
      " 0.11023622047244094 0.0984251968503937  0.24015748031496062\n",
      " 0.5118110236220472  0.01181102362204724 0.\n",
      " 0.                  0.                  0.01968503937007874\n",
      " 0.7519685039370079  0.421259842519685   0.6496062992125984\n",
      " 1.8385826771653544  0.11811023622047244 0.\n",
      " 1.2716535433070866  0.16929133858267717 0.7401574803149606\n",
      " 0.                  0.                  0.01968503937007874\n",
      " 0.27165354330708663 0.3188976377952756  1.0905511811023623\n",
      " 0.01181102362204724 0.                  0.01968503937007874\n",
      " 0.                  0.                  0.\n",
      " 0.                  0.                  0.16141732283464566\n",
      " 0.14173228346456693 0.01181102362204724 0.8700787401574803\n",
      " 0.5511811023622047  0.                  0.\n",
      " 0.                  0.                  0.0984251968503937\n",
      " 0.                  0.18110236220472442 0.\n",
      " 0.                  0.18110236220472442 0.\n",
      " 0.                  0.                  0.\n",
      " 0.                  0.                  0.01968503937007874\n",
      " 0.42913385826771655 0.7283464566929134  0.\n",
      " 0.5393700787401575  0.                  0.20078740157480315\n",
      " 0.5590551181102362  0.35039370078740156 0.4881889763779528\n",
      " 0.                  0.12992125984251968 0.27165354330708663\n",
      " 0.                  0.                  0.\n",
      " 0.                  0.                  1.311023622047244\n",
      " 0.6299212598425197  0.20078740157480315 0.\n",
      " 0.                  0.5393700787401575  0.07874015748031496\n",
      " 0.01968503937007874 0.                  0.\n",
      " 0.                  0.                  0.\n",
      " 0.                  0.                  0.\n",
      " 0.                  0.                  0.\n",
      " 0.                  0.14960629921259844 0.\n",
      " 0.2204724409448819  0.                  0.\n",
      " 0.                  0.                  0.\n",
      " 0.                  0.                  0.\n",
      " 0.                  0.                  0.\n",
      " 0.                  0.                  0.\n",
      " 0.                  0.                  0.\n",
      " 0.07086614173228346 0.25196850393700787 0.\n",
      " 0.01968503937007874 0.14173228346456693 0.05118110236220472\n",
      " 0.                  0.03149606299212598 0.01181102362204724\n",
      " 0.                  0.                  0.\n",
      " 0.                  0.                  0.\n",
      " 0.07086614173228346 0.09055118110236221 0.\n",
      " 0.                  0.                  0.\n",
      " 0.                  0.                  0.\n",
      " 0.                  0.                  0.\n",
      " 0.                  0.                  0.\n",
      " 0.                  0.                  0.\n",
      " 0.                  0.                  0.\n",
      " 0.                  0.                  0.\n",
      " 0.                  0.01181102362204724 0.7598425196850394\n",
      " 0.                  0.                  0.\n",
      " 0.                  0.                  0.\n",
      " 0.                  0.                  0.\n",
      " 0.01968503937007874 0.                  0.\n",
      " 0.                  0.                  0.\n",
      " 0.                  0.                  0.\n",
      " 0.01968503937007874 0.5                 0.8503937007874016\n",
      " 0.                  0.03937007874015748 0.\n",
      " 0.                  0.                  0.\n",
      " 0.                  0.                  0.\n",
      " 0.                  0.                  0.\n",
      " 0.                  0.                  0.\n",
      " 0.                  0.33070866141732286 0.05118110236220472\n",
      " 0.                  0.11811023622047244 0.\n",
      " 0.                  0.                  0.\n",
      " 0.                  0.                  0.\n",
      " 0.                  0.                  0.\n",
      " 0.                  0.                  0.\n",
      " 0.                  0.01968503937007874 0.01181102362204724\n",
      " 0.                  0.                  0.\n",
      " 0.01181102362204724 0.7204724409448819  0.7992125984251969\n",
      " 0.16929133858267717 0.35039370078740156 0.\n",
      " 0.                  0.03149606299212598 0.\n",
      " 0.                  0.                  0.\n",
      " 0.                  0.                  0.\n",
      " 0.                  0.                  0.\n",
      " 0.01181102362204724 0.29133858267716534 0.\n",
      " 0.2992125984251969  0.2795275590551181  0.33858267716535434\n",
      " 0.                  0.12992125984251968 0.5905511811023622\n",
      " 0.                  0.46062992125984253 0.03937007874015748\n",
      " 1.2598425196850394  0.3700787401574803  0.16141732283464566\n",
      " 0.24015748031496062 0.05905511811023622 0.03149606299212598\n",
      " 0.5                 0.01968503937007874 1.\n",
      " 0.6692913385826772  0.                  0.07086614173228346\n",
      " 0.42913385826771655 0.16141732283464566 0.1889763779527559\n",
      " 0.16141732283464566 0.                  0.\n",
      " 0.20078740157480315 0.                  0.\n",
      " 0.                  0.                  0.\n",
      " 0.                  0.                  0.\n",
      " 0.                  0.                  0.14173228346456693\n",
      " 0.5984251968503937  0.01968503937007874 0.468503937007874\n",
      " 0.05118110236220472 0.7204724409448819  0.01181102362204724\n",
      " 0.12992125984251968 1.3503937007874016  0.14173228346456693\n",
      " 0.                  0.                  0.\n",
      " 0.                  0.03149606299212598 0.11811023622047244\n",
      " 0.29133858267716534 0.                  0.35826771653543305\n",
      " 0.38976377952755903 0.5118110236220472  0.27165354330708663\n",
      " 0.                  0.                  0.\n",
      " 0.                  0.                  0.11023622047244094\n",
      " 0.5118110236220472  0.11811023622047244 0.7716535433070866\n",
      " 0.                  0.                  0.8110236220472441\n",
      " 0.20866141732283464 0.                  0.\n",
      " 0.12992125984251968 0.16141732283464566 0.\n",
      " 0.                  0.                 ]\n"
     ]
    }
   ],
   "source": [
    "print(inches)"
   ]
  },
  {
   "cell_type": "code",
   "execution_count": null,
   "id": "f9146e6d",
   "metadata": {},
   "outputs": [],
   "source": []
  }
 ],
 "metadata": {
  "kernelspec": {
   "display_name": "Python 3",
   "language": "python",
   "name": "python3"
  },
  "language_info": {
   "codemirror_mode": {
    "name": "ipython",
    "version": 3
   },
   "file_extension": ".py",
   "mimetype": "text/x-python",
   "name": "python",
   "nbconvert_exporter": "python",
   "pygments_lexer": "ipython3",
   "version": "3.8.8"
  }
 },
 "nbformat": 4,
 "nbformat_minor": 5
}
