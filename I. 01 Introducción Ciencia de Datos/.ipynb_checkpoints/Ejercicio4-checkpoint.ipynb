{
 "cells": [
  {
   "cell_type": "code",
   "execution_count": null,
   "metadata": {},
   "outputs": [],
   "source": [
    "Ejercicio 4."
   ]
  },
  {
   "cell_type": "code",
   "execution_count": 2,
   "metadata": {},
   "outputs": [
    {
     "name": "stdout",
     "output_type": "stream",
     "text": [
      "Ingrese número de lineas:3\n",
      "Another horse moved more\n",
      "My horse saw happily\n",
      "One girl slept more\n"
     ]
    }
   ],
   "source": [
    "import random\n",
    "articulo = [\"One\", \"My\", \"That\",\"Our\", \"Another\", \"A\",\"His\", \"Her\",\"The\"]\n",
    "sujeto = [\"cat\",\"chicken\", \"butterfly\",\"girraffe\",\"horse\",\"woman\", \"girl\",\"cat\", \"dog\", \"boy\" ]\n",
    "verbo = [\"moved\",\"said\", \"fought\", \"saw\",\"felt\", \"heard\", \"slept\",\"cried\",\"laughed\",\"ate\",\"danced\",\"worked\"]\n",
    "adverbio = [\"seriously\",\"quickly\", \"slowly\", \"more\",\"well\", \"badly\",\"incredibly\",\"happily\",\"fast\",\"carefully\"]\n",
    "estructura=[articulo,sujeto,verbo,adverbio]\n",
    "n=int(input(\"Ingrese número de lineas:\") or 5)\n",
    "if n<=10:\n",
    "    for x in range(n):\n",
    "        poema=(map(random.choice,estructura[0:3]),map(random.choice,estructura))\n",
    "        print(*poema[random.randint(0, 1)],sep=\" \")\n",
    "else:\n",
    "    print(\"El número de lineas debe ser entre 1 y 10\")"
   ]
  }
 ],
 "metadata": {
  "kernelspec": {
   "display_name": "Python 3",
   "language": "python",
   "name": "python3"
  },
  "language_info": {
   "codemirror_mode": {
    "name": "ipython",
    "version": 3
   },
   "file_extension": ".py",
   "mimetype": "text/x-python",
   "name": "python",
   "nbconvert_exporter": "python",
   "pygments_lexer": "ipython3",
   "version": "3.8.8"
  }
 },
 "nbformat": 4,
 "nbformat_minor": 2
}
