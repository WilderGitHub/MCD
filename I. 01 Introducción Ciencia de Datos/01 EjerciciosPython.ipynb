{
 "cells": [
  {
   "cell_type": "markdown",
   "metadata": {},
   "source": [
    "# Welcome to Jupyter!"
   ]
  },
  {
   "cell_type": "markdown",
   "metadata": {},
   "source": [
    "This repo contains an introduction to [Jupyter](https://jupyter.org) and [IPython](https://ipython.org).\n",
    "\n",
    "Outline of some basics:\n",
    "\n",
    "* [Notebook Basics](../examples/Notebook/Notebook%20Basics.ipynb)\n",
    "* [IPython - beyond plain python](../examples/IPython%20Kernel/Beyond%20Plain%20Python.ipynb)\n",
    "* [Markdown Cells](../examples/Notebook/Working%20With%20Markdown%20Cells.ipynb)\n",
    "* [Rich Display System](../examples/IPython%20Kernel/Rich%20Output.ipynb)\n",
    "* [Custom Display logic](../examples/IPython%20Kernel/Custom%20Display%20Logic.ipynb)\n",
    "* [Running a Secure Public Notebook Server](../examples/Notebook/Running%20the%20Notebook%20Server.ipynb#Securing-the-notebook-server)\n",
    "* [How Jupyter works](../examples/Notebook/Multiple%20Languages%2C%20Frontends.ipynb) to run code in different languages."
   ]
  },
  {
   "cell_type": "markdown",
   "metadata": {},
   "source": [
    "You can also get this tutorial and run it on your laptop:\n",
    "\n",
    "    git clone https://github.com/ipython/ipython-in-depth\n",
    "\n",
    "Install IPython and Jupyter:\n",
    "\n",
    "with [conda](https://www.anaconda.com/download):\n",
    "\n",
    "    conda install ipython jupyter\n",
    "\n",
    "with pip:\n",
    "\n",
    "    # first, always upgrade pip!\n",
    "    pip install --upgrade pip\n",
    "    pip install --upgrade ipython jupyter\n",
    "\n",
    "Start the notebook in the tutorial directory:\n",
    "\n",
    "    cd ipython-in-depth\n",
    "    jupyter notebook"
   ]
  },
  {
   "cell_type": "code",
   "execution_count": 1,
   "metadata": {},
   "outputs": [
    {
     "name": "stdout",
     "output_type": "stream",
     "text": [
      "Hola Mundo\n",
      "Ficn\n"
     ]
    }
   ],
   "source": [
    "print(\"Hola Mundo\")\n",
    "print(\"Ficn\")"
   ]
  },
  {
   "cell_type": "code",
   "execution_count": 9,
   "metadata": {},
   "outputs": [
    {
     "name": "stdout",
     "output_type": "stream",
     "text": [
      " ***       ***      *****     *****     \n",
      "*         *             *         *     \n",
      "*         *            *         *      \n",
      "****      ****        *         *       \n",
      "*   *     *   *      *         *        \n",
      "*   *     *   *     *         *         \n",
      " ***       ***      *         *         \n",
      "La suma de los digitos es: \n",
      " ***      ***     \n",
      "*   *    *        \n",
      "*  *     *        \n",
      "  *      ****     \n",
      " *       *   *    \n",
      "*        *   *    \n",
      "*****     ***     \n"
     ]
    }
   ],
   "source": [
    "#import sys\n",
    "\n",
    "\n",
    "cero = [\"  ***  \",\n",
    "        \" *   * \",\n",
    "        \"*     *\",\n",
    "        \"*     *\",\n",
    "        \"*     *\",\n",
    "        \" *   * \",\n",
    "        \"  ***  \"]\n",
    "uno = [\" * \", \"** \", \" * \", \" * \", \" * \", \" * \", \"***\"]\n",
    "dos = [\" *** \", \"*   *\", \"*  * \", \"  *  \", \" *   \", \"*    \", \"*****\"]\n",
    "tres = [\" *** \", \"*   *\", \"    *\", \"  ** \", \"    *\", \"*   *\", \" *** \"]\n",
    "cuatro = [\"   *  \", \"  **  \", \" * *  \", \"*  *  \", \"******\", \"   *  \",\n",
    "        \"   *  \"]\n",
    "cinco = [\"*****\", \"*    \", \"*    \", \" *** \", \"    *\", \"*   *\", \" *** \"]\n",
    "seis = [\" *** \", \"*    \", \"*    \", \"**** \", \"*   *\", \"*   *\", \" *** \"]\n",
    "siete = [\"*****\", \"    *\", \"   * \", \"  *  \", \" *   \", \"*    \", \"*    \"]\n",
    "ocho = [\" *** \", \"*   *\", \"*   *\", \" *** \", \"*   *\", \"*   *\", \" *** \"]\n",
    "nueve = [\" ****\", \"*   *\", \"*   *\", \" ****\", \"    *\", \"    *\", \"    *\"]\n",
    "\n",
    "Digits = [cero,uno, dos, tres, cuatro, cinco, seis,siete,ocho,nueve]\n",
    "\n",
    "try:\n",
    "    digits = \"6677\" \n",
    "    row = 0\n",
    "    while row < 7:\n",
    "        line = \"\"\n",
    "        column = 0\n",
    "        total=0\n",
    "        while column < len(digits):\n",
    "            number = int(digits[column])\n",
    "            total+=number\n",
    "            digit = Digits[number]\n",
    "            line += digit[row] + \"     \"\n",
    "            column += 1\n",
    "        print(line)\n",
    "        \n",
    "        row += 1\n",
    "    print(\"La suma de los digitos es: \")\n",
    "    #print(total)\n",
    "except IndexError:\n",
    "    print(\"hay un error\")\n",
    "except ValueError as err:\n",
    "    print(err, \"in\", digits)\n",
    "\n",
    "try:\n",
    "    digits =str(total) \n",
    "    row = 0\n",
    "    while row < 7:\n",
    "        line = \"\"\n",
    "        column = 0\n",
    "        total=0\n",
    "        while column < len(digits):\n",
    "            number = int(digits[column])\n",
    "            total+=number\n",
    "            digit = Digits[number]\n",
    "            line += digit[row] + \"    \"\n",
    "            column += 1\n",
    "        print(line)\n",
    "        \n",
    "        row += 1\n",
    "    \n",
    "except IndexError:\n",
    "    print(\"hay un error\")\n",
    "except ValueError as err:\n",
    "    print(err, \"in\", digits)"
   ]
  },
  {
   "cell_type": "code",
   "execution_count": 65,
   "metadata": {},
   "outputs": [
    {
     "name": "stdout",
     "output_type": "stream",
     "text": [
      "the cat hoped\n",
      "another cat slept\n",
      "a man said\n",
      "the boy sang rudely\n",
      "another cat saw\n"
     ]
    }
   ],
   "source": [
    "import random\n",
    "articulo = [\"the\", \"a\", \"another\", \"her\", \"his\"]\n",
    "sujeto = [\"cat\", \"dog\", \"horse\", \"man\", \"woman\", \"boy\", \"girl\"]\n",
    "verbo = [\"sang\", \"ran\", \"jumped\", \"said\", \"fought\", \"swam\", \"saw\",\n",
    "         \"heard\", \"felt\", \"slept\", \"hopped\", \"hoped\", \"cried\",\n",
    "         \"laughed\", \"walked\"]\n",
    "adverbio = [\"loudly\", \"quietly\", \"quickly\", \"slowly\", \"well\", \"badly\",\n",
    "           \"rudely\", \"politely\"]\n",
    "\n",
    "    \n",
    "for x in list(range(1,6)):\n",
    "    estructura1=[random.choice(articulo),random.choice(sujeto),random.choice(verbo)]\n",
    "    estructura2=estructura1.copy()\n",
    "    estructura2.append(random.choice(adverbio))\n",
    "    poema=(estructura1,estructura2)\n",
    "    print(*poema[random.randint(0, 1)],sep=\" \")\n",
    "    \n",
    "    ##if aleatorio == 0:\n",
    "     #   print(\"0\")\n",
    "      #  print(*estructura1,sep=\" \")\n",
    "    #else:\n",
    "        #print(\"1\")\n",
    "     #   print(*estructura2,sep=\" \")\n",
    "        "
   ]
  },
  {
   "cell_type": "markdown",
   "metadata": {},
   "source": [
    "Ejercicio 1."
   ]
  },
  {
   "cell_type": "code",
   "execution_count": 28,
   "metadata": {},
   "outputs": [
    {
     "name": "stdout",
     "output_type": "stream",
     "text": [
      "My girl worked badly\n",
      "Another horse said\n",
      "That horse said\n",
      "His dog cried\n",
      "The horse fought carefully\n"
     ]
    }
   ],
   "source": [
    "import random\n",
    "articulo = [\"One\", \"My\", \"That\",\"Our\", \"Another\", \"A\",\"His\", \"Her\",\"The\"]\n",
    "sujeto = [\"cat\",\"chicken\", \"butterfly\",\"girraffe\",\"horse\",\"woman\", \"girl\",\"cat\", \"dog\", \"boy\" ]\n",
    "verbo = [\"moved\",\"said\", \"fought\", \"saw\",\"felt\", \"heard\", \"slept\",\"cried\",\"laughed\",\"ate\",\"danced\",\"worked\"]\n",
    "adverbio = [\"seriously\",\"quickly\", \"slowly\", \"more\",\"well\", \"badly\",\"incredibly\",\"happily\",\"fast\",\"carefully\"]\n",
    "\n",
    "estructura=[articulo,sujeto,verbo,adverbio]\n",
    "#w=lambda x: random.choice(x)\n",
    "for x in range(5):\n",
    "    poema=(map(random.choice,estructura[0:3]),map(random.choice,estructura))\n",
    "    print(*poema[random.randint(0, 1)],sep=\" \")"
   ]
  },
  {
   "cell_type": "code",
   "execution_count": null,
   "metadata": {},
   "outputs": [],
   "source": [
    "Ejercicio 2."
   ]
  },
  {
   "cell_type": "code",
   "execution_count": 29,
   "metadata": {},
   "outputs": [
    {
     "name": "stdout",
     "output_type": "stream",
     "text": [
      "Ingrese número de lineas:4\n",
      "A chicken heard\n",
      "Our dog fought incredibly\n",
      "That girraffe slept seriously\n",
      "My girl laughed\n"
     ]
    }
   ],
   "source": [
    "import random\n",
    "articulo = [\"One\", \"My\", \"That\",\"Our\", \"Another\", \"A\",\"His\", \"Her\",\"The\"]\n",
    "sujeto = [\"cat\",\"chicken\", \"butterfly\",\"girraffe\",\"horse\",\"woman\", \"girl\",\"cat\", \"dog\", \"boy\" ]\n",
    "verbo = [\"moved\",\"said\", \"fought\", \"saw\",\"felt\", \"heard\", \"slept\",\"cried\",\"laughed\",\"ate\",\"danced\",\"worked\"]\n",
    "adverbio = [\"seriously\",\"quickly\", \"slowly\", \"more\",\"well\", \"badly\",\"incredibly\",\"happily\",\"fast\",\"carefully\"]\n",
    "estructura=[articulo,sujeto,verbo,adverbio]\n",
    "n=int(input(\"Ingrese número de lineas:\") or 5)\n",
    "if n<=10:\n",
    "    for x in range(n):\n",
    "        poema=(map(random.choice,estructura[0:3]),map(random.choice,estructura))\n",
    "        print(*poema[random.randint(0, 1)],sep=\" \")\n",
    "else:\n",
    "    print(\"El número de lineas debe ser entre 1 y 10\")"
   ]
  }
 ],
 "metadata": {
  "kernelspec": {
   "display_name": "Python 3",
   "language": "python",
   "name": "python3"
  },
  "language_info": {
   "codemirror_mode": {
    "name": "ipython",
    "version": 3
   },
   "file_extension": ".py",
   "mimetype": "text/x-python",
   "name": "python",
   "nbconvert_exporter": "python",
   "pygments_lexer": "ipython3",
   "version": "3.8.5"
  }
 },
 "nbformat": 4,
 "nbformat_minor": 2
}
