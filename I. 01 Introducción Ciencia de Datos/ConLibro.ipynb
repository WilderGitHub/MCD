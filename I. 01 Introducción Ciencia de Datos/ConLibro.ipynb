{
 "cells": [
  {
   "cell_type": "code",
   "execution_count": 7,
   "id": "6bb8e502",
   "metadata": {},
   "outputs": [
    {
     "name": "stdout",
     "output_type": "stream",
     "text": [
      "Help on built-in function len in module builtins:\n",
      "\n",
      "len(obj, /)\n",
      "    Return the number of items in a container.\n",
      "\n"
     ]
    }
   ],
   "source": [
    "help(len)"
   ]
  },
  {
   "cell_type": "code",
   "execution_count": 9,
   "id": "d71cd219",
   "metadata": {},
   "outputs": [],
   "source": [
    "len?"
   ]
  },
  {
   "cell_type": "code",
   "execution_count": 10,
   "id": "ed4bd432",
   "metadata": {},
   "outputs": [],
   "source": [
    "L=[1,2,3]"
   ]
  },
  {
   "cell_type": "code",
   "execution_count": 14,
   "id": "cfd6c7d5",
   "metadata": {},
   "outputs": [],
   "source": [
    "L.insert?"
   ]
  },
  {
   "cell_type": "code",
   "execution_count": 18,
   "id": "cf6c6be8",
   "metadata": {},
   "outputs": [],
   "source": [
    "def cuadrado:\n",
    "    \"\"\"Retorna el cuadrado de un numero\"\"\"\n",
    "    return 3"
   ]
  },
  {
   "cell_type": "code",
   "execution_count": 19,
   "id": "95349bfe",
   "metadata": {},
   "outputs": [
    {
     "data": {
      "text/plain": [
       "9"
      ]
     },
     "execution_count": 19,
     "metadata": {},
     "output_type": "execute_result"
    }
   ],
   "source": [
    "cuadrado(3)"
   ]
  },
  {
   "cell_type": "code",
   "execution_count": 26,
   "id": "72b1882f",
   "metadata": {},
   "outputs": [],
   "source": []
  },
  {
   "cell_type": "code",
   "execution_count": 53,
   "id": "59aeec09",
   "metadata": {},
   "outputs": [
    {
     "name": "stdout",
     "output_type": "stream",
     "text": [
      "hola\n"
     ]
    }
   ],
   "source": [
    "%run miScript.py"
   ]
  },
  {
   "cell_type": "code",
   "execution_count": 41,
   "id": "08416df9",
   "metadata": {},
   "outputs": [],
   "source": [
    "import math\n"
   ]
  },
  {
   "cell_type": "code",
   "execution_count": 43,
   "id": "5b7009e0",
   "metadata": {},
   "outputs": [
    {
     "data": {
      "text/plain": [
       "0.9092974268256817"
      ]
     },
     "execution_count": 43,
     "metadata": {},
     "output_type": "execute_result"
    }
   ],
   "source": [
    "math.sin(2)"
   ]
  },
  {
   "cell_type": "code",
   "execution_count": 44,
   "id": "a6c7323a",
   "metadata": {},
   "outputs": [
    {
     "name": "stdout",
     "output_type": "stream",
     "text": [
      "['', 'help(len)', 'help(len)', \"get_ipython().run_line_magic('pinfo', 'len')\", \"get_ipython().run_line_magic('pinfo', 'len')\", 'help(len)', 'help(len)', 'help(len)', \"get_ipython().run_line_magic('pinfo', 'len')\", \"get_ipython().run_line_magic('pinfo', 'len')\", 'L=[1,2,3]', \"get_ipython().run_line_magic('pinfo', 'L.insert')\", \"get_ipython().run_line_magic('pinfo', 'L.insert')\", \"get_ipython().run_line_magic('pinfo', 'L')\", \"get_ipython().run_line_magic('pinfo', 'L.insert')\", 'def cuadrado(x)\\n    \"\"\"Retorna el cuadrado de un numero\"\"\"\\n    return x*x', 'def cuadrado(x)\\n    \"\"\"Retorna el cuadrado de un numero\"\"\"\\n    return x*x', 'def cuadrado(x):\\n    \"\"\"Retorna el cuadrado de un numero\"\"\"\\n    return x*x', 'def cuadrado(x):\\n    \"\"\"Retorna el cuadrado de un numero\"\"\"\\n    return x*x', 'cuadrado(3)', \"get_ipython().run_line_magic('pinfo', 'cuadrado')\", 'cuadrado', '#file:miScript.py\\ndef cuadrado(x):\\n    \"\"\"Retorna el cuadrado de un numero\"\"\"\\n    return x*x', '#file:miScript.py\\ndef cuadrado(x):\\n    \"\"\"Retorna el cuadrado de un numero\"\"\"\\n    return x*x', \"get_ipython().run_line_magic('run', 'miScript(4)')\", \"get_ipython().run_line_magic('run', 'miScript.py')\", '#file:miScript.py\\ndef cuadrado(x):\\n    \"\"\"Retorna el cuadrado de un numero\"\"\"\\n    return x', \"get_ipython().run_line_magic('run', 'miScript.py')\", \"get_ipython().run_line_magic('run', 'miScript.py')\", \"get_ipython().run_line_magic('run', 'miScript.py')\", \"get_ipython().run_line_magic('run', 'miScript.py')\", \"get_ipython().run_line_magic('run', 'miScript.py')\", \"get_ipython().run_line_magic('run', 'miScript.py')\", \"get_ipython().run_line_magic('run', 'miScript.py')\", \"get_ipython().run_line_magic('run', 'miScript.py')\", \"get_ipython().run_line_magic('run', 'miScript.py')\", \"get_ipython().run_line_magic('run', 'miScript.py')\", \"get_ipython().run_line_magic('run', 'miScript.py')\", \"get_ipython().run_line_magic('run', 'miScript.py')\", \"get_ipython().run_line_magic('lsmagic', '')\", \"get_ipython().run_line_magic('lsmagic', '')\", 'import math', 'match.sin(2)', 'math.sin(2)', 'print(In)']\n"
     ]
    }
   ],
   "source": [
    "print(In)"
   ]
  },
  {
   "cell_type": "code",
   "execution_count": 45,
   "id": "38ff098b",
   "metadata": {},
   "outputs": [
    {
     "name": "stdout",
     "output_type": "stream",
     "text": [
      " El volumen de la unidad C es OS\n",
      " El n£mero de serie del volumen es: 445A-2430\n",
      "\n",
      " Directorio de C:\\Users\\wilde\\Desktop\\MCD\\I. 01 Introducci¢n Ciencia de Datos\n",
      "\n",
      "09/10/2021  14:22    <DIR>          .\n",
      "09/10/2021  14:22    <DIR>          ..\n",
      "09/10/2021  12:46    <DIR>          .ipynb_checkpoints\n",
      "08/10/2021  18:41             3.198 01 EjerciciosPython.ipynb\n",
      "09/10/2021  09:07               231 Apuntes.md\n",
      "09/10/2021  11:51         2.527.083 como escribir paper.pptx\n",
      "09/10/2021  14:22            10.759 ConLibro.ipynb\n",
      "08/10/2021  18:43             1.710 Ejercicio3.ipynb\n",
      "08/10/2021  18:44             1.847 Ejercicio4.ipynb\n",
      "08/10/2021  18:20         3.112.754 Lectura 1 2007.03606.pdf\n",
      "08/10/2021  18:20         2.663.696 Libro Programming in Python 3  A Complete Introduction to the Python Language Second Edition.pdf\n",
      "09/10/2021  14:14               108 miScript.py\n",
      "               9 archivos      8.321.386 bytes\n",
      "               3 dirs  874.683.293.696 bytes libres\n"
     ]
    }
   ],
   "source": [
    "!dir"
   ]
  },
  {
   "cell_type": "code",
   "execution_count": 56,
   "id": "3a0cc7b7",
   "metadata": {},
   "outputs": [
    {
     "name": "stdout",
     "output_type": "stream",
     "text": [
      "1.01 µs ± 2.83 ns per loop (mean ± std. dev. of 7 runs, 1000000 loops each)\n"
     ]
    }
   ],
   "source": [
    "%timeit sum(range(100))\n"
   ]
  },
  {
   "cell_type": "code",
   "execution_count": null,
   "id": "842d8f44",
   "metadata": {},
   "outputs": [],
   "source": []
  }
 ],
 "metadata": {
  "kernelspec": {
   "display_name": "Python 3",
   "language": "python",
   "name": "python3"
  },
  "language_info": {
   "codemirror_mode": {
    "name": "ipython",
    "version": 3
   },
   "file_extension": ".py",
   "mimetype": "text/x-python",
   "name": "python",
   "nbconvert_exporter": "python",
   "pygments_lexer": "ipython3",
   "version": "3.8.8"
  }
 },
 "nbformat": 4,
 "nbformat_minor": 5
}
