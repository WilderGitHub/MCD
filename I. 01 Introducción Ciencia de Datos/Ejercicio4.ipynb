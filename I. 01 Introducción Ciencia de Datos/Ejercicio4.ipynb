{
 "cells": [
  {
   "cell_type": "code",
   "execution_count": null,
   "metadata": {},
   "outputs": [],
   "source": [
    "Ejercicio 4."
   ]
  },
  {
   "cell_type": "code",
   "execution_count": 1,
   "metadata": {},
   "outputs": [
    {
     "name": "stdout",
     "output_type": "stream",
     "text": [
      "Ingrese número de lineas:5\n",
      "Another girraffe danced\n",
      "The cat saw incredibly\n",
      "His chicken slept\n",
      "Another cat heard seriously\n",
      "Another cat cried carefully\n"
     ]
    }
   ],
   "source": [
    "import random\n",
    "articulo = [\"One\", \"My\", \"That\",\"Our\", \"Another\", \"A\",\"His\", \"Her\",\"The\"]\n",
    "sujeto = [\"cat\",\"chicken\", \"butterfly\",\"girraffe\",\"horse\",\"woman\", \"girl\",\"cat\", \"dog\", \"boy\" ]\n",
    "verbo = [\"moved\",\"said\", \"fought\", \"saw\",\"felt\", \"heard\", \"slept\",\"cried\",\"laughed\",\"ate\",\"danced\",\"worked\"]\n",
    "adverbio = [\"seriously\",\"quickly\", \"slowly\", \"more\",\"well\", \"badly\",\"incredibly\",\"happily\",\"fast\",\"carefully\"]\n",
    "estructura=[articulo,sujeto,verbo,adverbio]\n",
    "n=int(input(\"Ingrese número de lineas:\") or 5)\n",
    "if n<=10:\n",
    "    for x in range(n):\n",
    "        poema=(map(random.choice,estructura[0:3]),map(random.choice,estructura))\n",
    "        print(*poema[random.randint(0, 1)],sep=\" \")\n",
    "else:\n",
    "    print(\"El número de lineas debe ser entre 1 y 10\")"
   ]
  },
  {
   "cell_type": "code",
   "execution_count": 22,
   "metadata": {},
   "outputs": [],
   "source": [
    "import random\n",
    "articulo = [\"One\", \"My\", \"That\",\"Our\", \"Another\", \"A\",\"His\", \"Her\",\"The\"]\n",
    "sujeto = [\"cat\",\"chicken\", \"butterfly\",\"girraffe\",\"horse\",\"woman\", \"girl\",\"cat\", \"dog\", \"boy\" ]\n",
    "verbo = [\"moved\",\"said\", \"fought\", \"saw\",\"felt\", \"heard\", \"slept\",\"cried\",\"laughed\",\"ate\",\"danced\",\"worked\"]\n",
    "adverbio = [\"seriously\",\"quickly\", \"slowly\", \"more\",\"well\", \"badly\",\"incredibly\",\"happily\",\"fast\",\"carefully\"]\n",
    "estructura=[articulo,sujeto,verbo,adverbio]\n",
    "def cuantos(n=5):\n",
    "    #n=int(input(\"Ingrese número de lineas:\") or 5)\n",
    "    print(n)\n",
    "        \n",
    "    if n<=10 | n>=1:\n",
    "        for x in range(n):\n",
    "            poema=(map(random.choice,estructura[0:3]),map(random.choice,estructura))\n",
    "            print(*poema[random.randint(0, 1)],sep=\" \")\n",
    "    else:\n",
    "        print(\"El número de lineas debe ser entre 1 y 10\")"
   ]
  },
  {
   "cell_type": "code",
   "execution_count": 23,
   "metadata": {},
   "outputs": [
    {
     "name": "stdout",
     "output_type": "stream",
     "text": [
      "5\n",
      "The dog worked\n",
      "One horse worked\n",
      "Her cat danced\n",
      "The woman moved\n",
      "One horse ate\n"
     ]
    }
   ],
   "source": [
    "cuantos(5)"
   ]
  },
  {
   "cell_type": "code",
   "execution_count": 24,
   "metadata": {},
   "outputs": [
    {
     "name": "stdout",
     "output_type": "stream",
     "text": [
      "-1\n",
      "El número de lineas debe ser entre 1 y 10\n"
     ]
    }
   ],
   "source": [
    "cuantos(-1)"
   ]
  },
  {
   "cell_type": "code",
   "execution_count": 6,
   "metadata": {},
   "outputs": [
    {
     "name": "stdout",
     "output_type": "stream",
     "text": [
      "El número de lineas debe ser entre 1 y 10\n"
     ]
    }
   ],
   "source": [
    "cuantos(24)"
   ]
  },
  {
   "cell_type": "code",
   "execution_count": null,
   "metadata": {},
   "outputs": [],
   "source": []
  }
 ],
 "metadata": {
  "kernelspec": {
   "display_name": "Python 3",
   "language": "python",
   "name": "python3"
  },
  "language_info": {
   "codemirror_mode": {
    "name": "ipython",
    "version": 3
   },
   "file_extension": ".py",
   "mimetype": "text/x-python",
   "name": "python",
   "nbconvert_exporter": "python",
   "pygments_lexer": "ipython3",
   "version": "3.8.8"
  }
 },
 "nbformat": 4,
 "nbformat_minor": 2
}
