{
 "cells": [
  {
   "cell_type": "markdown",
   "metadata": {},
   "source": [
    "# Proyecto"
   ]
  },
  {
   "cell_type": "markdown",
   "metadata": {},
   "source": [
    "###  Satisfacción de clientes de líneas aéreas"
   ]
  },
  {
   "cell_type": "markdown",
   "metadata": {},
   "source": [
    "|Campo|Descripción|\n",
    "|---|:---|\n",
    "|id|Número de identificación único para cada pasajero.|\n",
    "|Gender|Género de los pasajeros (Femenino, Masculino)|\n",
    "|Customer Type|El tipo de cliente (Cliente fiel, cliente desleal)|\n",
    "|Age|La edad real de los pasajeros|\n",
    "|Type of Travel|Motivo del vuelo de los pasajeros (Viaje Personal, Viaje de Negocios)|\n",
    "|Class|Clase de viaje en el avión de los pasajeros (Business, Eco, Eco Plus)|\n",
    "|Flight distance|La distancia del vuelo de este viaje|\n",
    "|Inflight wifi service|Nivel de satisfacción del servicio wifi a bordo (0:No aplicable;1-5)|\n",
    "|Departure/Arrival time convenient|Nivel de satisfacción de Hora de Salida/Llegada conveniente|    \n",
    "|Ease of Online booking|Nivel de satisfacción de la reserva online|    \n",
    "|Gate location|Nivel de satisfacción de la ubicación de la puerta|    \n",
    "|Food and drink|Nivel de satisfacción de Comida y bebida|    \n",
    "|Online boarding|Nivel de satisfacción del embarque online|    \n",
    "|Seat comfort|Nivel de satisfacción de Confort del asiento|    \n",
    "|Inflight entertainment|Nivel de satisfacción del entretenimiento a bordo|    \n",
    "|On-board service|Nivel de satisfacción del servicio a bordo|    \n",
    "|Leg room service|Nivel de satisfacción del servicio de sala de piernas|    \n",
    "|Baggage handling|Nivel de satisfacción en la gestión de equipajes|    \n",
    "|Check-in service|Nivel de satisfacción del servicio Check-in|    \n",
    "|Inflight service|Nivel de satisfacción del servicio a bordo|    \n",
    "|Cleanliness|Nivel de Satisfacción de Limpieza|    \n",
    "|Departure Delay in Minutes|Minutos de retraso en la salida|    \n",
    "|Arrival Delay in Minutes|Minutos de retraso a la Llegada|    \n",
    "|Satisfaction|Nivel de satisfacción de la aerolínea (Satisfacción, neutral o insatisfacción)|"
   ]
  },
  {
   "cell_type": "code",
   "execution_count": 1,
   "metadata": {},
   "outputs": [],
   "source": [
    "import numpy as np\n",
    "import pandas as pd\n",
    "import matplotlib.pyplot as plt\n",
    "import seaborn as sb\n",
    "import sklearn\n",
    "from sklearn.naive_bayes import BernoulliNB,GaussianNB,MultinomialNB\n",
    "from mixed_naive_bayes import MixedNB\n",
    "from sklearn.model_selection import train_test_split\n",
    "from sklearn import metrics\n",
    "from sklearn.metrics import accuracy_score\n",
    "from sklearn import preprocessing\n",
    "from collections import Counter\n",
    "import warnings\n",
    "warnings.filterwarnings(\"ignore\")"
   ]
  },
  {
   "cell_type": "code",
   "execution_count": 2,
   "metadata": {},
   "outputs": [
    {
     "name": "stdout",
     "output_type": "stream",
     "text": [
      "<class 'pandas.core.frame.DataFrame'>\n",
      "RangeIndex: 25976 entries, 0 to 25975\n",
      "Data columns (total 25 columns):\n",
      " #   Column                             Non-Null Count  Dtype  \n",
      "---  ------                             --------------  -----  \n",
      " 0   Unnamed: 0                         25976 non-null  int64  \n",
      " 1   id                                 25976 non-null  int64  \n",
      " 2   Gender                             25976 non-null  object \n",
      " 3   Customer Type                      25976 non-null  object \n",
      " 4   Age                                25976 non-null  int64  \n",
      " 5   Type of Travel                     25976 non-null  object \n",
      " 6   Class                              25976 non-null  object \n",
      " 7   Flight Distance                    25976 non-null  int64  \n",
      " 8   Inflight wifi service              25976 non-null  int64  \n",
      " 9   Departure/Arrival time convenient  25976 non-null  int64  \n",
      " 10  Ease of Online booking             25976 non-null  int64  \n",
      " 11  Gate location                      25976 non-null  int64  \n",
      " 12  Food and drink                     25976 non-null  int64  \n",
      " 13  Online boarding                    25976 non-null  int64  \n",
      " 14  Seat comfort                       25976 non-null  int64  \n",
      " 15  Inflight entertainment             25976 non-null  int64  \n",
      " 16  On-board service                   25976 non-null  int64  \n",
      " 17  Leg room service                   25976 non-null  int64  \n",
      " 18  Baggage handling                   25976 non-null  int64  \n",
      " 19  Checkin service                    25976 non-null  int64  \n",
      " 20  Inflight service                   25976 non-null  int64  \n",
      " 21  Cleanliness                        25976 non-null  int64  \n",
      " 22  Departure Delay in Minutes         25976 non-null  int64  \n",
      " 23  Arrival Delay in Minutes           25893 non-null  float64\n",
      " 24  satisfaction                       25976 non-null  object \n",
      "dtypes: float64(1), int64(19), object(5)\n",
      "memory usage: 5.0+ MB\n"
     ]
    }
   ],
   "source": [
    "vuelos = pd.read_csv(\"vuelos.csv\")\n",
    "vuelos.info()"
   ]
  },
  {
   "cell_type": "code",
   "execution_count": 3,
   "metadata": {},
   "outputs": [
    {
     "data": {
      "text/plain": [
       "Unnamed: 0                            0\n",
       "id                                    0\n",
       "Gender                                0\n",
       "Customer Type                         0\n",
       "Age                                   0\n",
       "Type of Travel                        0\n",
       "Class                                 0\n",
       "Flight Distance                       0\n",
       "Inflight wifi service                 0\n",
       "Departure/Arrival time convenient     0\n",
       "Ease of Online booking                0\n",
       "Gate location                         0\n",
       "Food and drink                        0\n",
       "Online boarding                       0\n",
       "Seat comfort                          0\n",
       "Inflight entertainment                0\n",
       "On-board service                      0\n",
       "Leg room service                      0\n",
       "Baggage handling                      0\n",
       "Checkin service                       0\n",
       "Inflight service                      0\n",
       "Cleanliness                           0\n",
       "Departure Delay in Minutes            0\n",
       "Arrival Delay in Minutes             83\n",
       "satisfaction                          0\n",
       "dtype: int64"
      ]
     },
     "execution_count": 3,
     "metadata": {},
     "output_type": "execute_result"
    }
   ],
   "source": [
    "vuelos.isnull().sum()"
   ]
  },
  {
   "cell_type": "code",
   "execution_count": 4,
   "metadata": {},
   "outputs": [
    {
     "data": {
      "text/html": [
       "<div>\n",
       "<style scoped>\n",
       "    .dataframe tbody tr th:only-of-type {\n",
       "        vertical-align: middle;\n",
       "    }\n",
       "\n",
       "    .dataframe tbody tr th {\n",
       "        vertical-align: top;\n",
       "    }\n",
       "\n",
       "    .dataframe thead th {\n",
       "        text-align: right;\n",
       "    }\n",
       "</style>\n",
       "<table border=\"1\" class=\"dataframe\">\n",
       "  <thead>\n",
       "    <tr style=\"text-align: right;\">\n",
       "      <th></th>\n",
       "      <th>count</th>\n",
       "      <th>mean</th>\n",
       "      <th>std</th>\n",
       "      <th>min</th>\n",
       "      <th>25%</th>\n",
       "      <th>50%</th>\n",
       "      <th>75%</th>\n",
       "      <th>max</th>\n",
       "    </tr>\n",
       "  </thead>\n",
       "  <tbody>\n",
       "    <tr>\n",
       "      <th>Unnamed: 0</th>\n",
       "      <td>25893.0</td>\n",
       "      <td>12987.838566</td>\n",
       "      <td>7499.175165</td>\n",
       "      <td>0.0</td>\n",
       "      <td>6496.0</td>\n",
       "      <td>12984.0</td>\n",
       "      <td>19482.0</td>\n",
       "      <td>25975.0</td>\n",
       "    </tr>\n",
       "    <tr>\n",
       "      <th>id</th>\n",
       "      <td>25893.0</td>\n",
       "      <td>65021.974858</td>\n",
       "      <td>37606.098635</td>\n",
       "      <td>17.0</td>\n",
       "      <td>32209.0</td>\n",
       "      <td>65344.0</td>\n",
       "      <td>97623.0</td>\n",
       "      <td>129877.0</td>\n",
       "    </tr>\n",
       "    <tr>\n",
       "      <th>Age</th>\n",
       "      <td>25893.0</td>\n",
       "      <td>39.621983</td>\n",
       "      <td>15.134224</td>\n",
       "      <td>7.0</td>\n",
       "      <td>27.0</td>\n",
       "      <td>40.0</td>\n",
       "      <td>51.0</td>\n",
       "      <td>85.0</td>\n",
       "    </tr>\n",
       "    <tr>\n",
       "      <th>Flight Distance</th>\n",
       "      <td>25893.0</td>\n",
       "      <td>1193.753254</td>\n",
       "      <td>998.626779</td>\n",
       "      <td>31.0</td>\n",
       "      <td>414.0</td>\n",
       "      <td>849.0</td>\n",
       "      <td>1744.0</td>\n",
       "      <td>4983.0</td>\n",
       "    </tr>\n",
       "    <tr>\n",
       "      <th>Inflight wifi service</th>\n",
       "      <td>25893.0</td>\n",
       "      <td>2.723709</td>\n",
       "      <td>1.334711</td>\n",
       "      <td>0.0</td>\n",
       "      <td>2.0</td>\n",
       "      <td>3.0</td>\n",
       "      <td>4.0</td>\n",
       "      <td>5.0</td>\n",
       "    </tr>\n",
       "    <tr>\n",
       "      <th>Departure/Arrival time convenient</th>\n",
       "      <td>25893.0</td>\n",
       "      <td>3.046422</td>\n",
       "      <td>1.532971</td>\n",
       "      <td>0.0</td>\n",
       "      <td>2.0</td>\n",
       "      <td>3.0</td>\n",
       "      <td>4.0</td>\n",
       "      <td>5.0</td>\n",
       "    </tr>\n",
       "    <tr>\n",
       "      <th>Ease of Online booking</th>\n",
       "      <td>25893.0</td>\n",
       "      <td>2.755996</td>\n",
       "      <td>1.412552</td>\n",
       "      <td>0.0</td>\n",
       "      <td>2.0</td>\n",
       "      <td>3.0</td>\n",
       "      <td>4.0</td>\n",
       "      <td>5.0</td>\n",
       "    </tr>\n",
       "    <tr>\n",
       "      <th>Gate location</th>\n",
       "      <td>25893.0</td>\n",
       "      <td>2.976442</td>\n",
       "      <td>1.281661</td>\n",
       "      <td>1.0</td>\n",
       "      <td>2.0</td>\n",
       "      <td>3.0</td>\n",
       "      <td>4.0</td>\n",
       "      <td>5.0</td>\n",
       "    </tr>\n",
       "    <tr>\n",
       "      <th>Food and drink</th>\n",
       "      <td>25893.0</td>\n",
       "      <td>3.214923</td>\n",
       "      <td>1.331895</td>\n",
       "      <td>0.0</td>\n",
       "      <td>2.0</td>\n",
       "      <td>3.0</td>\n",
       "      <td>4.0</td>\n",
       "      <td>5.0</td>\n",
       "    </tr>\n",
       "    <tr>\n",
       "      <th>Online boarding</th>\n",
       "      <td>25893.0</td>\n",
       "      <td>3.261615</td>\n",
       "      <td>1.355505</td>\n",
       "      <td>0.0</td>\n",
       "      <td>2.0</td>\n",
       "      <td>4.0</td>\n",
       "      <td>4.0</td>\n",
       "      <td>5.0</td>\n",
       "    </tr>\n",
       "    <tr>\n",
       "      <th>Seat comfort</th>\n",
       "      <td>25893.0</td>\n",
       "      <td>3.448886</td>\n",
       "      <td>1.320254</td>\n",
       "      <td>1.0</td>\n",
       "      <td>2.0</td>\n",
       "      <td>4.0</td>\n",
       "      <td>5.0</td>\n",
       "      <td>5.0</td>\n",
       "    </tr>\n",
       "    <tr>\n",
       "      <th>Inflight entertainment</th>\n",
       "      <td>25893.0</td>\n",
       "      <td>3.356969</td>\n",
       "      <td>1.338643</td>\n",
       "      <td>0.0</td>\n",
       "      <td>2.0</td>\n",
       "      <td>4.0</td>\n",
       "      <td>4.0</td>\n",
       "      <td>5.0</td>\n",
       "    </tr>\n",
       "    <tr>\n",
       "      <th>On-board service</th>\n",
       "      <td>25893.0</td>\n",
       "      <td>3.385587</td>\n",
       "      <td>1.282033</td>\n",
       "      <td>0.0</td>\n",
       "      <td>2.0</td>\n",
       "      <td>4.0</td>\n",
       "      <td>4.0</td>\n",
       "      <td>5.0</td>\n",
       "    </tr>\n",
       "    <tr>\n",
       "      <th>Leg room service</th>\n",
       "      <td>25893.0</td>\n",
       "      <td>3.349786</td>\n",
       "      <td>1.319045</td>\n",
       "      <td>0.0</td>\n",
       "      <td>2.0</td>\n",
       "      <td>4.0</td>\n",
       "      <td>4.0</td>\n",
       "      <td>5.0</td>\n",
       "    </tr>\n",
       "    <tr>\n",
       "      <th>Baggage handling</th>\n",
       "      <td>25893.0</td>\n",
       "      <td>3.632681</td>\n",
       "      <td>1.176220</td>\n",
       "      <td>1.0</td>\n",
       "      <td>3.0</td>\n",
       "      <td>4.0</td>\n",
       "      <td>5.0</td>\n",
       "      <td>5.0</td>\n",
       "    </tr>\n",
       "    <tr>\n",
       "      <th>Checkin service</th>\n",
       "      <td>25893.0</td>\n",
       "      <td>3.313907</td>\n",
       "      <td>1.269138</td>\n",
       "      <td>1.0</td>\n",
       "      <td>3.0</td>\n",
       "      <td>3.0</td>\n",
       "      <td>4.0</td>\n",
       "      <td>5.0</td>\n",
       "    </tr>\n",
       "    <tr>\n",
       "      <th>Inflight service</th>\n",
       "      <td>25893.0</td>\n",
       "      <td>3.648824</td>\n",
       "      <td>1.180650</td>\n",
       "      <td>0.0</td>\n",
       "      <td>3.0</td>\n",
       "      <td>4.0</td>\n",
       "      <td>5.0</td>\n",
       "      <td>5.0</td>\n",
       "    </tr>\n",
       "    <tr>\n",
       "      <th>Cleanliness</th>\n",
       "      <td>25893.0</td>\n",
       "      <td>3.285521</td>\n",
       "      <td>1.319355</td>\n",
       "      <td>0.0</td>\n",
       "      <td>2.0</td>\n",
       "      <td>3.0</td>\n",
       "      <td>4.0</td>\n",
       "      <td>5.0</td>\n",
       "    </tr>\n",
       "    <tr>\n",
       "      <th>Departure Delay in Minutes</th>\n",
       "      <td>25893.0</td>\n",
       "      <td>14.225080</td>\n",
       "      <td>37.185919</td>\n",
       "      <td>0.0</td>\n",
       "      <td>0.0</td>\n",
       "      <td>0.0</td>\n",
       "      <td>12.0</td>\n",
       "      <td>1128.0</td>\n",
       "    </tr>\n",
       "    <tr>\n",
       "      <th>Arrival Delay in Minutes</th>\n",
       "      <td>25893.0</td>\n",
       "      <td>14.740857</td>\n",
       "      <td>37.517539</td>\n",
       "      <td>0.0</td>\n",
       "      <td>0.0</td>\n",
       "      <td>0.0</td>\n",
       "      <td>13.0</td>\n",
       "      <td>1115.0</td>\n",
       "    </tr>\n",
       "  </tbody>\n",
       "</table>\n",
       "</div>"
      ],
      "text/plain": [
       "                                     count          mean           std   min  \\\n",
       "Unnamed: 0                         25893.0  12987.838566   7499.175165   0.0   \n",
       "id                                 25893.0  65021.974858  37606.098635  17.0   \n",
       "Age                                25893.0     39.621983     15.134224   7.0   \n",
       "Flight Distance                    25893.0   1193.753254    998.626779  31.0   \n",
       "Inflight wifi service              25893.0      2.723709      1.334711   0.0   \n",
       "Departure/Arrival time convenient  25893.0      3.046422      1.532971   0.0   \n",
       "Ease of Online booking             25893.0      2.755996      1.412552   0.0   \n",
       "Gate location                      25893.0      2.976442      1.281661   1.0   \n",
       "Food and drink                     25893.0      3.214923      1.331895   0.0   \n",
       "Online boarding                    25893.0      3.261615      1.355505   0.0   \n",
       "Seat comfort                       25893.0      3.448886      1.320254   1.0   \n",
       "Inflight entertainment             25893.0      3.356969      1.338643   0.0   \n",
       "On-board service                   25893.0      3.385587      1.282033   0.0   \n",
       "Leg room service                   25893.0      3.349786      1.319045   0.0   \n",
       "Baggage handling                   25893.0      3.632681      1.176220   1.0   \n",
       "Checkin service                    25893.0      3.313907      1.269138   1.0   \n",
       "Inflight service                   25893.0      3.648824      1.180650   0.0   \n",
       "Cleanliness                        25893.0      3.285521      1.319355   0.0   \n",
       "Departure Delay in Minutes         25893.0     14.225080     37.185919   0.0   \n",
       "Arrival Delay in Minutes           25893.0     14.740857     37.517539   0.0   \n",
       "\n",
       "                                       25%      50%      75%       max  \n",
       "Unnamed: 0                          6496.0  12984.0  19482.0   25975.0  \n",
       "id                                 32209.0  65344.0  97623.0  129877.0  \n",
       "Age                                   27.0     40.0     51.0      85.0  \n",
       "Flight Distance                      414.0    849.0   1744.0    4983.0  \n",
       "Inflight wifi service                  2.0      3.0      4.0       5.0  \n",
       "Departure/Arrival time convenient      2.0      3.0      4.0       5.0  \n",
       "Ease of Online booking                 2.0      3.0      4.0       5.0  \n",
       "Gate location                          2.0      3.0      4.0       5.0  \n",
       "Food and drink                         2.0      3.0      4.0       5.0  \n",
       "Online boarding                        2.0      4.0      4.0       5.0  \n",
       "Seat comfort                           2.0      4.0      5.0       5.0  \n",
       "Inflight entertainment                 2.0      4.0      4.0       5.0  \n",
       "On-board service                       2.0      4.0      4.0       5.0  \n",
       "Leg room service                       2.0      4.0      4.0       5.0  \n",
       "Baggage handling                       3.0      4.0      5.0       5.0  \n",
       "Checkin service                        3.0      3.0      4.0       5.0  \n",
       "Inflight service                       3.0      4.0      5.0       5.0  \n",
       "Cleanliness                            2.0      3.0      4.0       5.0  \n",
       "Departure Delay in Minutes             0.0      0.0     12.0    1128.0  \n",
       "Arrival Delay in Minutes               0.0      0.0     13.0    1115.0  "
      ]
     },
     "execution_count": 4,
     "metadata": {},
     "output_type": "execute_result"
    }
   ],
   "source": [
    "vuelos.dropna(axis=0, inplace=True)\n",
    "vuelos.isnull().sum()\n",
    "vuelos.describe().T"
   ]
  },
  {
   "cell_type": "code",
   "execution_count": 5,
   "metadata": {},
   "outputs": [
    {
     "data": {
      "text/html": [
       "<div>\n",
       "<style scoped>\n",
       "    .dataframe tbody tr th:only-of-type {\n",
       "        vertical-align: middle;\n",
       "    }\n",
       "\n",
       "    .dataframe tbody tr th {\n",
       "        vertical-align: top;\n",
       "    }\n",
       "\n",
       "    .dataframe thead th {\n",
       "        text-align: right;\n",
       "    }\n",
       "</style>\n",
       "<table border=\"1\" class=\"dataframe\">\n",
       "  <thead>\n",
       "    <tr style=\"text-align: right;\">\n",
       "      <th></th>\n",
       "      <th>id</th>\n",
       "      <th>Gender</th>\n",
       "      <th>Customer Type</th>\n",
       "      <th>Age</th>\n",
       "      <th>Type of Travel</th>\n",
       "      <th>Class</th>\n",
       "      <th>Flight Distance</th>\n",
       "      <th>Inflight wifi service</th>\n",
       "      <th>Departure/Arrival time convenient</th>\n",
       "      <th>Ease of Online booking</th>\n",
       "      <th>...</th>\n",
       "      <th>Inflight entertainment</th>\n",
       "      <th>On-board service</th>\n",
       "      <th>Leg room service</th>\n",
       "      <th>Baggage handling</th>\n",
       "      <th>Checkin service</th>\n",
       "      <th>Inflight service</th>\n",
       "      <th>Cleanliness</th>\n",
       "      <th>Departure Delay in Minutes</th>\n",
       "      <th>Arrival Delay in Minutes</th>\n",
       "      <th>satisfaction</th>\n",
       "    </tr>\n",
       "  </thead>\n",
       "  <tbody>\n",
       "    <tr>\n",
       "      <th>0</th>\n",
       "      <td>19556</td>\n",
       "      <td>Female</td>\n",
       "      <td>Loyal Customer</td>\n",
       "      <td>52</td>\n",
       "      <td>Business travel</td>\n",
       "      <td>Eco</td>\n",
       "      <td>160</td>\n",
       "      <td>5</td>\n",
       "      <td>4</td>\n",
       "      <td>3</td>\n",
       "      <td>...</td>\n",
       "      <td>5</td>\n",
       "      <td>5</td>\n",
       "      <td>5</td>\n",
       "      <td>5</td>\n",
       "      <td>2</td>\n",
       "      <td>5</td>\n",
       "      <td>5</td>\n",
       "      <td>50</td>\n",
       "      <td>44.0</td>\n",
       "      <td>satisfied</td>\n",
       "    </tr>\n",
       "    <tr>\n",
       "      <th>1</th>\n",
       "      <td>90035</td>\n",
       "      <td>Female</td>\n",
       "      <td>Loyal Customer</td>\n",
       "      <td>36</td>\n",
       "      <td>Business travel</td>\n",
       "      <td>Business</td>\n",
       "      <td>2863</td>\n",
       "      <td>1</td>\n",
       "      <td>1</td>\n",
       "      <td>3</td>\n",
       "      <td>...</td>\n",
       "      <td>4</td>\n",
       "      <td>4</td>\n",
       "      <td>4</td>\n",
       "      <td>4</td>\n",
       "      <td>3</td>\n",
       "      <td>4</td>\n",
       "      <td>5</td>\n",
       "      <td>0</td>\n",
       "      <td>0.0</td>\n",
       "      <td>satisfied</td>\n",
       "    </tr>\n",
       "    <tr>\n",
       "      <th>2</th>\n",
       "      <td>12360</td>\n",
       "      <td>Male</td>\n",
       "      <td>disloyal Customer</td>\n",
       "      <td>20</td>\n",
       "      <td>Business travel</td>\n",
       "      <td>Eco</td>\n",
       "      <td>192</td>\n",
       "      <td>2</td>\n",
       "      <td>0</td>\n",
       "      <td>2</td>\n",
       "      <td>...</td>\n",
       "      <td>2</td>\n",
       "      <td>4</td>\n",
       "      <td>1</td>\n",
       "      <td>3</td>\n",
       "      <td>2</td>\n",
       "      <td>2</td>\n",
       "      <td>2</td>\n",
       "      <td>0</td>\n",
       "      <td>0.0</td>\n",
       "      <td>neutral or dissatisfied</td>\n",
       "    </tr>\n",
       "    <tr>\n",
       "      <th>3</th>\n",
       "      <td>77959</td>\n",
       "      <td>Male</td>\n",
       "      <td>Loyal Customer</td>\n",
       "      <td>44</td>\n",
       "      <td>Business travel</td>\n",
       "      <td>Business</td>\n",
       "      <td>3377</td>\n",
       "      <td>0</td>\n",
       "      <td>0</td>\n",
       "      <td>0</td>\n",
       "      <td>...</td>\n",
       "      <td>1</td>\n",
       "      <td>1</td>\n",
       "      <td>1</td>\n",
       "      <td>1</td>\n",
       "      <td>3</td>\n",
       "      <td>1</td>\n",
       "      <td>4</td>\n",
       "      <td>0</td>\n",
       "      <td>6.0</td>\n",
       "      <td>satisfied</td>\n",
       "    </tr>\n",
       "    <tr>\n",
       "      <th>4</th>\n",
       "      <td>36875</td>\n",
       "      <td>Female</td>\n",
       "      <td>Loyal Customer</td>\n",
       "      <td>49</td>\n",
       "      <td>Business travel</td>\n",
       "      <td>Eco</td>\n",
       "      <td>1182</td>\n",
       "      <td>2</td>\n",
       "      <td>3</td>\n",
       "      <td>4</td>\n",
       "      <td>...</td>\n",
       "      <td>2</td>\n",
       "      <td>2</td>\n",
       "      <td>2</td>\n",
       "      <td>2</td>\n",
       "      <td>4</td>\n",
       "      <td>2</td>\n",
       "      <td>4</td>\n",
       "      <td>0</td>\n",
       "      <td>20.0</td>\n",
       "      <td>satisfied</td>\n",
       "    </tr>\n",
       "  </tbody>\n",
       "</table>\n",
       "<p>5 rows × 24 columns</p>\n",
       "</div>"
      ],
      "text/plain": [
       "      id  Gender      Customer Type  Age   Type of Travel     Class  \\\n",
       "0  19556  Female     Loyal Customer   52  Business travel       Eco   \n",
       "1  90035  Female     Loyal Customer   36  Business travel  Business   \n",
       "2  12360    Male  disloyal Customer   20  Business travel       Eco   \n",
       "3  77959    Male     Loyal Customer   44  Business travel  Business   \n",
       "4  36875  Female     Loyal Customer   49  Business travel       Eco   \n",
       "\n",
       "   Flight Distance  Inflight wifi service  Departure/Arrival time convenient  \\\n",
       "0              160                      5                                  4   \n",
       "1             2863                      1                                  1   \n",
       "2              192                      2                                  0   \n",
       "3             3377                      0                                  0   \n",
       "4             1182                      2                                  3   \n",
       "\n",
       "   Ease of Online booking  ...  Inflight entertainment  On-board service  \\\n",
       "0                       3  ...                       5                 5   \n",
       "1                       3  ...                       4                 4   \n",
       "2                       2  ...                       2                 4   \n",
       "3                       0  ...                       1                 1   \n",
       "4                       4  ...                       2                 2   \n",
       "\n",
       "   Leg room service  Baggage handling  Checkin service  Inflight service  \\\n",
       "0                 5                 5                2                 5   \n",
       "1                 4                 4                3                 4   \n",
       "2                 1                 3                2                 2   \n",
       "3                 1                 1                3                 1   \n",
       "4                 2                 2                4                 2   \n",
       "\n",
       "   Cleanliness  Departure Delay in Minutes  Arrival Delay in Minutes  \\\n",
       "0            5                          50                      44.0   \n",
       "1            5                           0                       0.0   \n",
       "2            2                           0                       0.0   \n",
       "3            4                           0                       6.0   \n",
       "4            4                           0                      20.0   \n",
       "\n",
       "              satisfaction  \n",
       "0                satisfied  \n",
       "1                satisfied  \n",
       "2  neutral or dissatisfied  \n",
       "3                satisfied  \n",
       "4                satisfied  \n",
       "\n",
       "[5 rows x 24 columns]"
      ]
     },
     "execution_count": 5,
     "metadata": {},
     "output_type": "execute_result"
    }
   ],
   "source": [
    "vuelos.drop(labels=[\"Unnamed: 0\"],axis=1,inplace=True)\n",
    "vuelos.head()"
   ]
  },
  {
   "cell_type": "code",
   "execution_count": 6,
   "metadata": {},
   "outputs": [],
   "source": [
    "def graficosBarras(item):\n",
    "    x=vuelos[item]\n",
    "    valorx=x.value_counts()\n",
    "    plt.figure(figsize=(9,3))\n",
    "    plt.bar(valorx.index,valorx.values)\n",
    "    plt.xlabel(\"Calificación\")\n",
    "    plt.ylabel(\"Frecuencia\")\n",
    "    plt.title(item)\n",
    "    plt.show()\n",
    "    print(\"{}: \\n {}\".format(x,valorx))"
   ]
  },
  {
   "cell_type": "markdown",
   "metadata": {},
   "source": [
    "###  Frecuencia de calificaciones de acuerdo a servicios ofrecidos "
   ]
  },
  {
   "cell_type": "code",
   "execution_count": 7,
   "metadata": {
    "scrolled": false
   },
   "outputs": [
    {
     "data": {
      "image/png": "[encoded data removed]",
      "text/plain": [
       "<Figure size 648x216 with 1 Axes>"
      ]
     },
     "metadata": {
      "needs_background": "light"
     },
     "output_type": "display_data"
    },
    {
     "name": "stdout",
     "output_type": "stream",
     "text": [
      "0        5\n",
      "1        1\n",
      "2        2\n",
      "3        0\n",
      "4        2\n",
      "        ..\n",
      "25971    3\n",
      "25972    4\n",
      "25973    2\n",
      "25974    3\n",
      "25975    2\n",
      "Name: Inflight wifi service, Length: 25893, dtype: int64: \n",
      " 2    6481\n",
      "3    6298\n",
      "4    4965\n",
      "1    4469\n",
      "5    2868\n",
      "0     812\n",
      "Name: Inflight wifi service, dtype: int64\n"
     ]
    },
    {
     "data": {
      "image/png": "[encoded data removed]",
      "text/plain": [
       "<Figure size 648x216 with 1 Axes>"
      ]
     },
     "metadata": {
      "needs_background": "light"
     },
     "output_type": "display_data"
    },
    {
     "name": "stdout",
     "output_type": "stream",
     "text": [
      "0        4\n",
      "1        1\n",
      "2        0\n",
      "3        0\n",
      "4        3\n",
      "        ..\n",
      "25971    3\n",
      "25972    4\n",
      "25973    5\n",
      "25974    3\n",
      "25975    5\n",
      "Name: Departure/Arrival time convenient, Length: 25893, dtype: int64: \n",
      " 4    6312\n",
      "5    5573\n",
      "3    4399\n",
      "2    4336\n",
      "1    3899\n",
      "0    1374\n",
      "Name: Departure/Arrival time convenient, dtype: int64\n"
     ]
    },
    {
     "data": {
      "image/png": "[encoded data removed]",
      "text/plain": [
       "<Figure size 648x216 with 1 Axes>"
      ]
     },
     "metadata": {
      "needs_background": "light"
     },
     "output_type": "display_data"
    },
    {
     "name": "stdout",
     "output_type": "stream",
     "text": [
      "0        3\n",
      "1        3\n",
      "2        2\n",
      "3        0\n",
      "4        4\n",
      "        ..\n",
      "25971    3\n",
      "25972    4\n",
      "25973    1\n",
      "25974    3\n",
      "25975    2\n",
      "Name: Ease of Online booking, Length: 25893, dtype: int64: \n",
      " 2    6021\n",
      "3    5927\n",
      "4    4854\n",
      "1    4342\n",
      "5    3556\n",
      "0    1193\n",
      "Name: Ease of Online booking, dtype: int64\n"
     ]
    },
    {
     "data": {
      "image/png": "[encoded data removed]",
      "text/plain": [
       "<Figure size 648x216 with 1 Axes>"
      ]
     },
     "metadata": {
      "needs_background": "light"
     },
     "output_type": "display_data"
    },
    {
     "name": "stdout",
     "output_type": "stream",
     "text": [
      "0        4\n",
      "1        1\n",
      "2        4\n",
      "3        2\n",
      "4        3\n",
      "        ..\n",
      "25971    1\n",
      "25972    4\n",
      "25973    5\n",
      "25974    3\n",
      "25975    5\n",
      "Name: Gate location, Length: 25893, dtype: int64: \n",
      " 3    7122\n",
      "4    6023\n",
      "2    4823\n",
      "1    4415\n",
      "5    3510\n",
      "Name: Gate location, dtype: int64\n"
     ]
    },
    {
     "data": {
      "image/png": "[encoded data removed]",
      "text/plain": [
       "<Figure size 648x216 with 1 Axes>"
      ]
     },
     "metadata": {
      "needs_background": "light"
     },
     "output_type": "display_data"
    },
    {
     "name": "stdout",
     "output_type": "stream",
     "text": [
      "0        3\n",
      "1        5\n",
      "2        2\n",
      "3        3\n",
      "4        4\n",
      "        ..\n",
      "25971    4\n",
      "25972    4\n",
      "25973    2\n",
      "25974    4\n",
      "25975    4\n",
      "Name: Food and drink, Length: 25893, dtype: int64: \n",
      " 4    6183\n",
      "5    5626\n",
      "3    5474\n",
      "2    5375\n",
      "1    3210\n",
      "0      25\n",
      "Name: Food and drink, dtype: int64\n"
     ]
    },
    {
     "data": {
      "image/png": "[encoded data removed]",
      "text/plain": [
       "<Figure size 648x216 with 1 Axes>"
      ]
     },
     "metadata": {
      "needs_background": "light"
     },
     "output_type": "display_data"
    },
    {
     "name": "stdout",
     "output_type": "stream",
     "text": [
      "0        4\n",
      "1        4\n",
      "2        2\n",
      "3        4\n",
      "4        1\n",
      "        ..\n",
      "25971    3\n",
      "25972    4\n",
      "25973    1\n",
      "25974    4\n",
      "25975    2\n",
      "Name: Online boarding, Length: 25893, dtype: int64: \n",
      " 4    7682\n",
      "3    5296\n",
      "5    5289\n",
      "2    4417\n",
      "1    2558\n",
      "0     651\n",
      "Name: Online boarding, dtype: int64\n"
     ]
    },
    {
     "data": {
      "image/png": "[encoded data removed]",
      "text/plain": [
       "<Figure size 648x216 with 1 Axes>"
      ]
     },
     "metadata": {
      "needs_background": "light"
     },
     "output_type": "display_data"
    },
    {
     "name": "stdout",
     "output_type": "stream",
     "text": [
      "0        3\n",
      "1        5\n",
      "2        2\n",
      "3        4\n",
      "4        2\n",
      "        ..\n",
      "25971    4\n",
      "25972    4\n",
      "25973    2\n",
      "25974    4\n",
      "25975    2\n",
      "Name: Seat comfort, Length: 25893, dtype: int64: \n",
      " 4    7969\n",
      "5    6663\n",
      "3    4617\n",
      "2    3616\n",
      "1    3028\n",
      "Name: Seat comfort, dtype: int64\n"
     ]
    },
    {
     "data": {
      "image/png": "[encoded data removed]",
      "text/plain": [
       "<Figure size 648x216 with 1 Axes>"
      ]
     },
     "metadata": {
      "needs_background": "light"
     },
     "output_type": "display_data"
    },
    {
     "name": "stdout",
     "output_type": "stream",
     "text": [
      "0        5\n",
      "1        4\n",
      "2        2\n",
      "3        1\n",
      "4        2\n",
      "        ..\n",
      "25971    4\n",
      "25972    4\n",
      "25973    2\n",
      "25974    4\n",
      "25975    1\n",
      "Name: Inflight entertainment, Length: 25893, dtype: int64: \n",
      " 4    7347\n",
      "5    6306\n",
      "3    4725\n",
      "2    4318\n",
      "1    3193\n",
      "0       4\n",
      "Name: Inflight entertainment, dtype: int64\n"
     ]
    },
    {
     "data": {
      "image/png": "[encoded data removed]",
      "text/plain": [
       "<Figure size 648x216 with 1 Axes>"
      ]
     },
     "metadata": {
      "needs_background": "light"
     },
     "output_type": "display_data"
    },
    {
     "name": "stdout",
     "output_type": "stream",
     "text": [
      "0        5\n",
      "1        4\n",
      "2        4\n",
      "3        1\n",
      "4        2\n",
      "        ..\n",
      "25971    3\n",
      "25972    4\n",
      "25973    4\n",
      "25974    3\n",
      "25975    1\n",
      "Name: On-board service, Length: 25893, dtype: int64: \n",
      " 4    7814\n",
      "5    5823\n",
      "3    5690\n",
      "2    3658\n",
      "1    2906\n",
      "0       2\n",
      "Name: On-board service, dtype: int64\n"
     ]
    },
    {
     "data": {
      "image/png": "[encoded data removed]",
      "text/plain": [
       "<Figure size 648x216 with 1 Axes>"
      ]
     },
     "metadata": {
      "needs_background": "light"
     },
     "output_type": "display_data"
    },
    {
     "name": "stdout",
     "output_type": "stream",
     "text": [
      "0        5\n",
      "1        4\n",
      "2        1\n",
      "3        1\n",
      "4        2\n",
      "        ..\n",
      "25971    2\n",
      "25972    5\n",
      "25973    3\n",
      "25974    2\n",
      "25975    2\n",
      "Name: Leg room service, Length: 25893, dtype: int64: \n",
      " 4    7075\n",
      "5    6216\n",
      "2    5000\n",
      "3    4940\n",
      "1    2536\n",
      "0     126\n",
      "Name: Leg room service, dtype: int64\n"
     ]
    },
    {
     "data": {
      "image/png": "[encoded data removed]",
      "text/plain": [
       "<Figure size 648x216 with 1 Axes>"
      ]
     },
     "metadata": {
      "needs_background": "light"
     },
     "output_type": "display_data"
    },
    {
     "name": "stdout",
     "output_type": "stream",
     "text": [
      "0        5\n",
      "1        4\n",
      "2        3\n",
      "3        1\n",
      "4        2\n",
      "        ..\n",
      "25971    4\n",
      "25972    5\n",
      "25973    4\n",
      "25974    5\n",
      "25975    1\n",
      "Name: Baggage handling, Length: 25893, dtype: int64: \n",
      " 4    9357\n",
      "5    6714\n",
      "3    5204\n",
      "2    2833\n",
      "1    1785\n",
      "Name: Baggage handling, dtype: int64\n"
     ]
    },
    {
     "data": {
      "image/png": "[encoded data removed]",
      "text/plain": [
       "<Figure size 648x216 with 1 Axes>"
      ]
     },
     "metadata": {
      "needs_background": "light"
     },
     "output_type": "display_data"
    },
    {
     "name": "stdout",
     "output_type": "stream",
     "text": [
      "0        2\n",
      "1        3\n",
      "2        2\n",
      "3        3\n",
      "4        4\n",
      "        ..\n",
      "25971    4\n",
      "25972    5\n",
      "25973    5\n",
      "25974    4\n",
      "25975    1\n",
      "Name: Checkin service, Length: 25893, dtype: int64: \n",
      " 4    7254\n",
      "3    6987\n",
      "5    5244\n",
      "1    3206\n",
      "2    3202\n",
      "Name: Checkin service, dtype: int64\n"
     ]
    },
    {
     "data": {
      "image/png": "[encoded data removed]",
      "text/plain": [
       "<Figure size 648x216 with 1 Axes>"
      ]
     },
     "metadata": {
      "needs_background": "light"
     },
     "output_type": "display_data"
    },
    {
     "name": "stdout",
     "output_type": "stream",
     "text": [
      "0        5\n",
      "1        4\n",
      "2        2\n",
      "3        1\n",
      "4        2\n",
      "        ..\n",
      "25971    5\n",
      "25972    5\n",
      "25973    4\n",
      "25974    5\n",
      "25975    1\n",
      "Name: Inflight service, Length: 25893, dtype: int64: \n",
      " 4    9352\n",
      "5    6921\n",
      "3    5005\n",
      "2    2838\n",
      "1    1775\n",
      "0       2\n",
      "Name: Inflight service, dtype: int64\n"
     ]
    },
    {
     "data": {
      "image/png": "[encoded data removed]",
      "text/plain": [
       "<Figure size 648x216 with 1 Axes>"
      ]
     },
     "metadata": {
      "needs_background": "light"
     },
     "output_type": "display_data"
    },
    {
     "name": "stdout",
     "output_type": "stream",
     "text": [
      "0        5\n",
      "1        5\n",
      "2        2\n",
      "3        4\n",
      "4        4\n",
      "        ..\n",
      "25971    4\n",
      "25972    4\n",
      "25973    2\n",
      "25974    4\n",
      "25975    1\n",
      "Name: Cleanliness, Length: 25893, dtype: int64: \n",
      " 4    6771\n",
      "3    6046\n",
      "5    5702\n",
      "2    3968\n",
      "1    3404\n",
      "0       2\n",
      "Name: Cleanliness, dtype: int64\n"
     ]
    }
   ],
   "source": [
    "variable=[\"Inflight wifi service\", \"Departure/Arrival time convenient\", \"Ease of Online booking\", \"Gate location\", \"Food and drink\", \"Online boarding\", \"Seat comfort\", \"Inflight entertainment\", \"On-board service\", \"Leg room service\", \"Baggage handling\", \"Checkin service\", \"Inflight service\", \"Cleanliness\",]\n",
    "for c in variable:\n",
    "    graficosBarras(c)"
   ]
  },
  {
   "cell_type": "code",
   "execution_count": 8,
   "metadata": {},
   "outputs": [
    {
     "name": "stdout",
     "output_type": "stream",
     "text": [
      "Female    13127\n",
      "Male      12766\n",
      "Name: Gender, dtype: int64 \n",
      "\n",
      "Loyal Customer       21111\n",
      "disloyal Customer     4782\n",
      "Name: Customer Type, dtype: int64 \n",
      "\n",
      "Business travel    17980\n",
      "Personal Travel     7913\n",
      "Name: Type of Travel, dtype: int64 \n",
      "\n",
      "Business    12457\n",
      "Eco         11524\n",
      "Eco Plus     1912\n",
      "Name: Class, dtype: int64 \n",
      "\n",
      "neutral or dissatisfied    14528\n",
      "satisfied                  11365\n",
      "Name: satisfaction, dtype: int64 \n",
      "\n"
     ]
    }
   ],
   "source": [
    "categoricas=[\"Gender\", \"Customer Type\", \"Type of Travel\", \"Class\",\"satisfaction\"]\n",
    "for c in categoricas:\n",
    "    print(\"{} \\n\".format(vuelos[c].value_counts()))"
   ]
  },
  {
   "cell_type": "code",
   "execution_count": 9,
   "metadata": {},
   "outputs": [],
   "source": [
    "def histogramas(x):\n",
    "    plt.figure(figsize=(9,3))\n",
    "    plt.hist(vuelos[x],bins=50)\n",
    "    plt.xlabel(x)\n",
    "    plt.ylabel(\"Frecuencia\")\n",
    "    plt.title(\"{} distribución histograma\".format(x))\n",
    "    plt.show()"
   ]
  },
  {
   "cell_type": "code",
   "execution_count": 10,
   "metadata": {},
   "outputs": [
    {
     "data": {
      "image/png": "[encoded data removed]",
      "text/plain": [
       "<Figure size 648x216 with 1 Axes>"
      ]
     },
     "metadata": {
      "needs_background": "light"
     },
     "output_type": "display_data"
    },
    {
     "data": {
      "image/png": "[encoded data removed]",
      "text/plain": [
       "<Figure size 648x216 with 1 Axes>"
      ]
     },
     "metadata": {
      "needs_background": "light"
     },
     "output_type": "display_data"
    },
    {
     "data": {
      "image/png": "[encoded data removed]",
      "text/plain": [
       "<Figure size 648x216 with 1 Axes>"
      ]
     },
     "metadata": {
      "needs_background": "light"
     },
     "output_type": "display_data"
    },
    {
     "data": {
      "image/png": "[encoded data removed]",
      "text/plain": [
       "<Figure size 648x216 with 1 Axes>"
      ]
     },
     "metadata": {
      "needs_background": "light"
     },
     "output_type": "display_data"
    }
   ],
   "source": [
    "varNumericas=[\"Age\", \"Flight Distance\", \"Departure Delay in Minutes\", \"Arrival Delay in Minutes\"]\n",
    "for n in varNumericas:\n",
    "    histogramas(n)"
   ]
  },
  {
   "cell_type": "code",
   "execution_count": 11,
   "metadata": {
    "scrolled": true
   },
   "outputs": [
    {
     "data": {
      "text/html": [
       "<div>\n",
       "<style scoped>\n",
       "    .dataframe tbody tr th:only-of-type {\n",
       "        vertical-align: middle;\n",
       "    }\n",
       "\n",
       "    .dataframe tbody tr th {\n",
       "        vertical-align: top;\n",
       "    }\n",
       "\n",
       "    .dataframe thead th {\n",
       "        text-align: right;\n",
       "    }\n",
       "</style>\n",
       "<table border=\"1\" class=\"dataframe\">\n",
       "  <thead>\n",
       "    <tr style=\"text-align: right;\">\n",
       "      <th></th>\n",
       "      <th>id</th>\n",
       "      <th>Gender</th>\n",
       "      <th>Customer Type</th>\n",
       "      <th>Age</th>\n",
       "      <th>Type of Travel</th>\n",
       "      <th>Class</th>\n",
       "      <th>Flight Distance</th>\n",
       "      <th>Inflight wifi service</th>\n",
       "      <th>Departure/Arrival time convenient</th>\n",
       "      <th>Ease of Online booking</th>\n",
       "      <th>...</th>\n",
       "      <th>Inflight entertainment</th>\n",
       "      <th>On-board service</th>\n",
       "      <th>Leg room service</th>\n",
       "      <th>Baggage handling</th>\n",
       "      <th>Checkin service</th>\n",
       "      <th>Inflight service</th>\n",
       "      <th>Cleanliness</th>\n",
       "      <th>Departure Delay in Minutes</th>\n",
       "      <th>Arrival Delay in Minutes</th>\n",
       "      <th>satisfaction</th>\n",
       "    </tr>\n",
       "  </thead>\n",
       "  <tbody>\n",
       "    <tr>\n",
       "      <th>0</th>\n",
       "      <td>19556</td>\n",
       "      <td>Female</td>\n",
       "      <td>Loyal Customer</td>\n",
       "      <td>52</td>\n",
       "      <td>Business travel</td>\n",
       "      <td>Eco</td>\n",
       "      <td>160</td>\n",
       "      <td>5</td>\n",
       "      <td>4</td>\n",
       "      <td>3</td>\n",
       "      <td>...</td>\n",
       "      <td>5</td>\n",
       "      <td>5</td>\n",
       "      <td>5</td>\n",
       "      <td>5</td>\n",
       "      <td>2</td>\n",
       "      <td>5</td>\n",
       "      <td>5</td>\n",
       "      <td>50</td>\n",
       "      <td>44.0</td>\n",
       "      <td>1</td>\n",
       "    </tr>\n",
       "    <tr>\n",
       "      <th>1</th>\n",
       "      <td>90035</td>\n",
       "      <td>Female</td>\n",
       "      <td>Loyal Customer</td>\n",
       "      <td>36</td>\n",
       "      <td>Business travel</td>\n",
       "      <td>Business</td>\n",
       "      <td>2863</td>\n",
       "      <td>1</td>\n",
       "      <td>1</td>\n",
       "      <td>3</td>\n",
       "      <td>...</td>\n",
       "      <td>4</td>\n",
       "      <td>4</td>\n",
       "      <td>4</td>\n",
       "      <td>4</td>\n",
       "      <td>3</td>\n",
       "      <td>4</td>\n",
       "      <td>5</td>\n",
       "      <td>0</td>\n",
       "      <td>0.0</td>\n",
       "      <td>1</td>\n",
       "    </tr>\n",
       "    <tr>\n",
       "      <th>2</th>\n",
       "      <td>12360</td>\n",
       "      <td>Male</td>\n",
       "      <td>disloyal Customer</td>\n",
       "      <td>20</td>\n",
       "      <td>Business travel</td>\n",
       "      <td>Eco</td>\n",
       "      <td>192</td>\n",
       "      <td>2</td>\n",
       "      <td>0</td>\n",
       "      <td>2</td>\n",
       "      <td>...</td>\n",
       "      <td>2</td>\n",
       "      <td>4</td>\n",
       "      <td>1</td>\n",
       "      <td>3</td>\n",
       "      <td>2</td>\n",
       "      <td>2</td>\n",
       "      <td>2</td>\n",
       "      <td>0</td>\n",
       "      <td>0.0</td>\n",
       "      <td>0</td>\n",
       "    </tr>\n",
       "    <tr>\n",
       "      <th>3</th>\n",
       "      <td>77959</td>\n",
       "      <td>Male</td>\n",
       "      <td>Loyal Customer</td>\n",
       "      <td>44</td>\n",
       "      <td>Business travel</td>\n",
       "      <td>Business</td>\n",
       "      <td>3377</td>\n",
       "      <td>0</td>\n",
       "      <td>0</td>\n",
       "      <td>0</td>\n",
       "      <td>...</td>\n",
       "      <td>1</td>\n",
       "      <td>1</td>\n",
       "      <td>1</td>\n",
       "      <td>1</td>\n",
       "      <td>3</td>\n",
       "      <td>1</td>\n",
       "      <td>4</td>\n",
       "      <td>0</td>\n",
       "      <td>6.0</td>\n",
       "      <td>1</td>\n",
       "    </tr>\n",
       "    <tr>\n",
       "      <th>4</th>\n",
       "      <td>36875</td>\n",
       "      <td>Female</td>\n",
       "      <td>Loyal Customer</td>\n",
       "      <td>49</td>\n",
       "      <td>Business travel</td>\n",
       "      <td>Eco</td>\n",
       "      <td>1182</td>\n",
       "      <td>2</td>\n",
       "      <td>3</td>\n",
       "      <td>4</td>\n",
       "      <td>...</td>\n",
       "      <td>2</td>\n",
       "      <td>2</td>\n",
       "      <td>2</td>\n",
       "      <td>2</td>\n",
       "      <td>4</td>\n",
       "      <td>2</td>\n",
       "      <td>4</td>\n",
       "      <td>0</td>\n",
       "      <td>20.0</td>\n",
       "      <td>1</td>\n",
       "    </tr>\n",
       "  </tbody>\n",
       "</table>\n",
       "<p>5 rows × 24 columns</p>\n",
       "</div>"
      ],
      "text/plain": [
       "      id  Gender      Customer Type  Age   Type of Travel     Class  \\\n",
       "0  19556  Female     Loyal Customer   52  Business travel       Eco   \n",
       "1  90035  Female     Loyal Customer   36  Business travel  Business   \n",
       "2  12360    Male  disloyal Customer   20  Business travel       Eco   \n",
       "3  77959    Male     Loyal Customer   44  Business travel  Business   \n",
       "4  36875  Female     Loyal Customer   49  Business travel       Eco   \n",
       "\n",
       "   Flight Distance  Inflight wifi service  Departure/Arrival time convenient  \\\n",
       "0              160                      5                                  4   \n",
       "1             2863                      1                                  1   \n",
       "2              192                      2                                  0   \n",
       "3             3377                      0                                  0   \n",
       "4             1182                      2                                  3   \n",
       "\n",
       "   Ease of Online booking  ...  Inflight entertainment  On-board service  \\\n",
       "0                       3  ...                       5                 5   \n",
       "1                       3  ...                       4                 4   \n",
       "2                       2  ...                       2                 4   \n",
       "3                       0  ...                       1                 1   \n",
       "4                       4  ...                       2                 2   \n",
       "\n",
       "   Leg room service  Baggage handling  Checkin service  Inflight service  \\\n",
       "0                 5                 5                2                 5   \n",
       "1                 4                 4                3                 4   \n",
       "2                 1                 3                2                 2   \n",
       "3                 1                 1                3                 1   \n",
       "4                 2                 2                4                 2   \n",
       "\n",
       "   Cleanliness  Departure Delay in Minutes  Arrival Delay in Minutes  \\\n",
       "0            5                          50                      44.0   \n",
       "1            5                           0                       0.0   \n",
       "2            2                           0                       0.0   \n",
       "3            4                           0                       6.0   \n",
       "4            4                           0                      20.0   \n",
       "\n",
       "   satisfaction  \n",
       "0             1  \n",
       "1             1  \n",
       "2             0  \n",
       "3             1  \n",
       "4             1  \n",
       "\n",
       "[5 rows x 24 columns]"
      ]
     },
     "execution_count": 11,
     "metadata": {},
     "output_type": "execute_result"
    }
   ],
   "source": [
    "vuelos[\"satisfaction\"]=[1 if each==\"satisfied\" else 0 for each in vuelos.satisfaction]\n",
    "vuelos.head(5)"
   ]
  },
  {
   "cell_type": "markdown",
   "metadata": {},
   "source": [
    "###  Efectos de variables sobre la satisfacción"
   ]
  },
  {
   "cell_type": "code",
   "execution_count": 12,
   "metadata": {},
   "outputs": [],
   "source": [
    "def efectos(x):\n",
    "    aux = vuelos[[x,\"satisfaction\"]].groupby([x],as_index=False).mean().sort_values(by=\"satisfaction\",ascending=False)\n",
    "    print(aux)"
   ]
  },
  {
   "cell_type": "code",
   "execution_count": 13,
   "metadata": {},
   "outputs": [
    {
     "name": "stdout",
     "output_type": "stream",
     "text": [
      "   Gender  satisfaction\n",
      "1    Male      0.442974\n",
      "0  Female      0.434981\n"
     ]
    }
   ],
   "source": [
    "efectos(\"Gender\")\n"
   ]
  },
  {
   "cell_type": "code",
   "execution_count": 14,
   "metadata": {},
   "outputs": [
    {
     "name": "stdout",
     "output_type": "stream",
     "text": [
      "    Age  satisfaction\n",
      "44   51      0.629482\n",
      "46   53      0.617834\n",
      "39   46      0.614286\n",
      "34   41      0.613312\n",
      "49   56      0.606195\n",
      "..  ...           ...\n",
      "4    11      0.132075\n",
      "62   69      0.117647\n",
      "63   70      0.093960\n",
      "1     8      0.076923\n",
      "0     7      0.073770\n",
      "\n",
      "[75 rows x 2 columns]\n"
     ]
    }
   ],
   "source": [
    "efectos(\"Age\")"
   ]
  },
  {
   "cell_type": "code",
   "execution_count": 15,
   "metadata": {},
   "outputs": [
    {
     "name": "stdout",
     "output_type": "stream",
     "text": [
      "    Type of Travel  satisfaction\n",
      "0  Business travel      0.588042\n",
      "1  Personal Travel      0.100088\n"
     ]
    }
   ],
   "source": [
    "efectos(\"Type of Travel\")"
   ]
  },
  {
   "cell_type": "code",
   "execution_count": 16,
   "metadata": {},
   "outputs": [
    {
     "name": "stdout",
     "output_type": "stream",
     "text": [
      "      Class  satisfaction\n",
      "0  Business      0.695191\n",
      "2  Eco Plus      0.247908\n",
      "1       Eco      0.193596\n"
     ]
    }
   ],
   "source": [
    "efectos(\"Class\")"
   ]
  },
  {
   "cell_type": "code",
   "execution_count": 17,
   "metadata": {},
   "outputs": [
    {
     "name": "stdout",
     "output_type": "stream",
     "text": [
      "       Customer Type  satisfaction\n",
      "0     Loyal Customer      0.481313\n",
      "1  disloyal Customer      0.251777\n"
     ]
    }
   ],
   "source": [
    "efectos(\"Customer Type\")"
   ]
  },
  {
   "cell_type": "code",
   "execution_count": 18,
   "metadata": {},
   "outputs": [
    {
     "name": "stdout",
     "output_type": "stream",
     "text": [
      "   Cleanliness  satisfaction\n",
      "5            5      0.626798\n",
      "4            4      0.535224\n",
      "3            3      0.437976\n",
      "2            2      0.211190\n",
      "1            1      0.200059\n",
      "0            0      0.000000\n"
     ]
    }
   ],
   "source": [
    "efectos(\"Cleanliness\")"
   ]
  },
  {
   "cell_type": "code",
   "execution_count": 19,
   "metadata": {},
   "outputs": [
    {
     "name": "stdout",
     "output_type": "stream",
     "text": [
      "   Inflight wifi service  satisfaction\n",
      "0                      0      0.997537\n",
      "5                      5      0.987796\n",
      "4                      4      0.608661\n",
      "1                      1      0.339226\n",
      "3                      3      0.256907\n",
      "2                      2      0.241629\n"
     ]
    }
   ],
   "source": [
    "efectos(\"Inflight wifi service\")"
   ]
  },
  {
   "cell_type": "code",
   "execution_count": 20,
   "metadata": {},
   "outputs": [
    {
     "name": "stdout",
     "output_type": "stream",
     "text": [
      "   Inflight entertainment  satisfaction\n",
      "5                       5      0.658896\n",
      "4                       4      0.609092\n",
      "3                       3      0.285291\n",
      "2                       2      0.210051\n",
      "1                       1      0.150329\n",
      "0                       0      0.000000\n"
     ]
    }
   ],
   "source": [
    "efectos(\"Inflight entertainment\")"
   ]
  },
  {
   "cell_type": "code",
   "execution_count": 21,
   "metadata": {},
   "outputs": [
    {
     "name": "stdout",
     "output_type": "stream",
     "text": [
      "   Food and drink  satisfaction\n",
      "5               5      0.557945\n",
      "4               4      0.529678\n",
      "3               3      0.401900\n",
      "2               2      0.392930\n",
      "0               0      0.200000\n",
      "1               1      0.197508\n"
     ]
    }
   ],
   "source": [
    "efectos(\"Food and drink\")"
   ]
  },
  {
   "cell_type": "code",
   "execution_count": 22,
   "metadata": {},
   "outputs": [
    {
     "name": "stdout",
     "output_type": "stream",
     "text": [
      "   Seat comfort  satisfaction\n",
      "4             5      0.655561\n",
      "3             4      0.557284\n",
      "1             2      0.233131\n",
      "2             3      0.224172\n",
      "0             1      0.223910\n"
     ]
    }
   ],
   "source": [
    "efectos(\"Seat comfort\")"
   ]
  },
  {
   "cell_type": "markdown",
   "metadata": {},
   "source": [
    "###  Detección de valores atípicos"
   ]
  },
  {
   "cell_type": "code",
   "execution_count": null,
   "metadata": {},
   "outputs": [],
   "source": []
  },
  {
   "cell_type": "markdown",
   "metadata": {},
   "source": [
    "### Mas visualizaciones"
   ]
  },
  {
   "cell_type": "code",
   "execution_count": null,
   "metadata": {},
   "outputs": [],
   "source": []
  },
  {
   "cell_type": "code",
   "execution_count": null,
   "metadata": {},
   "outputs": [],
   "source": []
  },
  {
   "cell_type": "markdown",
   "metadata": {},
   "source": [
    "### Correlaciones"
   ]
  },
  {
   "cell_type": "code",
   "execution_count": 23,
   "metadata": {},
   "outputs": [
    {
     "data": {
      "image/png": "[encoded data removed]",
      "text/plain": [
       "<Figure size 720x720 with 2 Axes>"
      ]
     },
     "metadata": {
      "needs_background": "light"
     },
     "output_type": "display_data"
    }
   ],
   "source": [
    "plt.figure(figsize=(10,10))\n",
    "list1=[\"Age\",'Inflight wifi service',\n",
    "       'Departure/Arrival time convenient', 'Ease of Online booking',\n",
    "       'Gate location', 'Food and drink', 'Online boarding', 'Seat comfort',\n",
    "       'Inflight entertainment', 'On-board service', 'Leg room service',\n",
    "       'Baggage handling', 'Checkin service', 'Inflight service',\n",
    "       'Cleanliness',\"satisfaction\"]\n",
    "sb.heatmap(vuelos[list1].corr(),annot=True,fmt=\".2f\")\n",
    "plt.show()"
   ]
  },
  {
   "cell_type": "markdown",
   "metadata": {},
   "source": [
    "###  Modelito"
   ]
  },
  {
   "cell_type": "code",
   "execution_count": 24,
   "metadata": {},
   "outputs": [
    {
     "name": "stdout",
     "output_type": "stream",
     "text": [
      "6473.0\n"
     ]
    }
   ],
   "source": [
    "tamaño=.25\n",
    "tamañoTest=round(len(vuelos)*tamaño,0)\n",
    "print(tamañoTest)"
   ]
  },
  {
   "cell_type": "code",
   "execution_count": 25,
   "metadata": {},
   "outputs": [
    {
     "data": {
      "text/html": [
       "<div>\n",
       "<style scoped>\n",
       "    .dataframe tbody tr th:only-of-type {\n",
       "        vertical-align: middle;\n",
       "    }\n",
       "\n",
       "    .dataframe tbody tr th {\n",
       "        vertical-align: top;\n",
       "    }\n",
       "\n",
       "    .dataframe thead th {\n",
       "        text-align: right;\n",
       "    }\n",
       "</style>\n",
       "<table border=\"1\" class=\"dataframe\">\n",
       "  <thead>\n",
       "    <tr style=\"text-align: right;\">\n",
       "      <th></th>\n",
       "      <th>Gender_cod</th>\n",
       "      <th>Customer Type_cod</th>\n",
       "      <th>Type of Travel_cod</th>\n",
       "      <th>Class_cod</th>\n",
       "    </tr>\n",
       "  </thead>\n",
       "  <tbody>\n",
       "    <tr>\n",
       "      <th>0</th>\n",
       "      <td>0</td>\n",
       "      <td>0</td>\n",
       "      <td>0</td>\n",
       "      <td>1</td>\n",
       "    </tr>\n",
       "    <tr>\n",
       "      <th>1</th>\n",
       "      <td>0</td>\n",
       "      <td>0</td>\n",
       "      <td>0</td>\n",
       "      <td>0</td>\n",
       "    </tr>\n",
       "    <tr>\n",
       "      <th>2</th>\n",
       "      <td>1</td>\n",
       "      <td>1</td>\n",
       "      <td>0</td>\n",
       "      <td>1</td>\n",
       "    </tr>\n",
       "  </tbody>\n",
       "</table>\n",
       "</div>"
      ],
      "text/plain": [
       "   Gender_cod  Customer Type_cod  Type of Travel_cod  Class_cod\n",
       "0           0                  0                   0          1\n",
       "1           0                  0                   0          0\n",
       "2           1                  1                   0          1"
      ]
     },
     "execution_count": 25,
     "metadata": {},
     "output_type": "execute_result"
    }
   ],
   "source": [
    "codificar = preprocessing.LabelEncoder()\n",
    "\n",
    "num = vuelos.select_dtypes(include=np.number)\n",
    "nonum = vuelos.select_dtypes(exclude=np.number)\n",
    "#nonum = nonum.drop([\"satisfaction\"], axis=1)\n",
    "for columna in nonum:\n",
    "    nonum[columna + \"_cod\"]=codificar.fit_transform(nonum.loc[:, columna])\n",
    "    nonum = nonum.drop(columna, axis=1)\n",
    "nonum.head(3)\n"
   ]
  },
  {
   "cell_type": "code",
   "execution_count": 26,
   "metadata": {},
   "outputs": [],
   "source": [
    "X = pd.concat([num,nonum], axis=1)\n",
    "y = vuelos.loc[:,vuelos.columns==\"satisfaction\"]\n",
    "\n",
    "X_train, X_test, y_train, y_test = train_test_split(X, y, test_size=tamaño, random_state=0, stratify=y)\n",
    "y_expect = y_test"
   ]
  },
  {
   "cell_type": "markdown",
   "metadata": {},
   "source": [
    "### Bernoulli Naive Bayes"
   ]
  },
  {
   "cell_type": "code",
   "execution_count": 27,
   "metadata": {},
   "outputs": [
    {
     "name": "stdout",
     "output_type": "stream",
     "text": [
      "1.0 -1.0\n"
     ]
    }
   ],
   "source": [
    "BernNB = BernoulliNB(binarize = 0.1)\n",
    "BernNB.fit(X_train, y_train)\n",
    "y_pred = BernNB.predict(X_test)\n",
    "B = accuracy_score(y_expect, y_pred)\n",
    "Bn = tamañoTest - accuracy_score(y_expect, y_pred, normalize=False)\n",
    "print(B,Bn)"
   ]
  },
  {
   "cell_type": "markdown",
   "metadata": {},
   "source": [
    "### Multinomial Naive Bayes"
   ]
  },
  {
   "cell_type": "code",
   "execution_count": 38,
   "metadata": {},
   "outputs": [
    {
     "name": "stdout",
     "output_type": "stream",
     "text": [
      "0.606425702811245 2547.0\n"
     ]
    }
   ],
   "source": [
    "MultiNB = MultinomialNB()\n",
    "MultiNB.fit(X_train, y_train)\n",
    "y_pred = MultiNB.predict(X_test)\n",
    "M = accuracy_score(y_expect, y_pred)\n",
    "Mn = tamañoTest - accuracy_score(y_expect, y_pred, normalize=False)\n",
    "print(M,Mn)"
   ]
  },
  {
   "cell_type": "markdown",
   "metadata": {},
   "source": [
    "### Gaussian Naive Bayes"
   ]
  },
  {
   "cell_type": "code",
   "execution_count": 29,
   "metadata": {},
   "outputs": [
    {
     "name": "stdout",
     "output_type": "stream",
     "text": [
      "0.8388940376892184 1042.0\n"
     ]
    }
   ],
   "source": [
    "GaussNB=GaussianNB()\n",
    "GaussNB.fit(X_train, y_train)\n",
    "y_pred = GaussNB.predict(X_test)\n",
    "G = accuracy_score(y_expect, y_pred)\n",
    "Gn = tamañoTest - accuracy_score(y_expect, y_pred, normalize=False)\n",
    "print(G,Gn)"
   ]
  },
  {
   "cell_type": "markdown",
   "metadata": {},
   "source": [
    "###  Mixed Naive Bayes"
   ]
  },
  {
   "cell_type": "code",
   "execution_count": 43,
   "metadata": {},
   "outputs": [],
   "source": [
    "yCod = codificar.fit_transform(vuelos.loc[:, \"satisfaction\"])\n",
    "X_train, X_test, y_train, y_test = train_test_split(X, yCod, test_size=tamaño, random_state=0, stratify=yCod)\n",
    "y_expect = y_test"
   ]
  },
  {
   "cell_type": "code",
   "execution_count": 44,
   "metadata": {},
   "outputs": [],
   "source": [
    "MixtoNB = MixedNB(categorical_features=[20,21,22,23])\n",
    "MixtoNB.fit(X_train,y_train)\n",
    "y_pred = MixtoNB.predict(X_test)\n",
    "Mix =accuracy_score(y_test, y_pred)\n",
    "MixG = tamañoTest - accuracy_score(y_expect, y_pred, normalize=False)"
   ]
  },
  {
   "cell_type": "code",
   "execution_count": 45,
   "metadata": {},
   "outputs": [
    {
     "name": "stdout",
     "output_type": "stream",
     "text": [
      "0.8611368551127587 898.0\n"
     ]
    }
   ],
   "source": [
    "print(Mix,MixG)"
   ]
  },
  {
   "cell_type": "markdown",
   "metadata": {},
   "source": [
    "###  Resumen\n"
   ]
  },
  {
   "cell_type": "code",
   "execution_count": 47,
   "metadata": {},
   "outputs": [
    {
     "name": "stdout",
     "output_type": "stream",
     "text": [
      "Con una proporción de muestra de:  25.0 %\n"
     ]
    },
    {
     "data": {
      "text/html": [
       "<div>\n",
       "<style scoped>\n",
       "    .dataframe tbody tr th:only-of-type {\n",
       "        vertical-align: middle;\n",
       "    }\n",
       "\n",
       "    .dataframe tbody tr th {\n",
       "        vertical-align: top;\n",
       "    }\n",
       "\n",
       "    .dataframe thead th {\n",
       "        text-align: right;\n",
       "    }\n",
       "</style>\n",
       "<table border=\"1\" class=\"dataframe\">\n",
       "  <thead>\n",
       "    <tr style=\"text-align: right;\">\n",
       "      <th></th>\n",
       "      <th>% Aciertos</th>\n",
       "      <th>No Achuntes</th>\n",
       "    </tr>\n",
       "  </thead>\n",
       "  <tbody>\n",
       "    <tr>\n",
       "      <th>MixedNB</th>\n",
       "      <td>0.861137</td>\n",
       "      <td>898.0</td>\n",
       "    </tr>\n",
       "    <tr>\n",
       "      <th>GaussianNB</th>\n",
       "      <td>0.838894</td>\n",
       "      <td>1042.0</td>\n",
       "    </tr>\n",
       "    <tr>\n",
       "      <th>MultinomialNB</th>\n",
       "      <td>0.606426</td>\n",
       "      <td>2547.0</td>\n",
       "    </tr>\n",
       "  </tbody>\n",
       "</table>\n",
       "</div>"
      ],
      "text/plain": [
       "               % Aciertos  No Achuntes\n",
       "MixedNB          0.861137        898.0\n",
       "GaussianNB       0.838894       1042.0\n",
       "MultinomialNB    0.606426       2547.0"
      ]
     },
     "execution_count": 47,
     "metadata": {},
     "output_type": "execute_result"
    }
   ],
   "source": [
    "cabeceras= [\"MultinomialNB\",\"GaussianNB\",\"MixedNB\"]\n",
    "valores= [[M,Mn],[G,Gn],[Mix,MixG]]\n",
    "tabla = pd.DataFrame(data=valores, index=cabeceras, columns = [\"% Aciertos\", \"No Achuntes\"])\n",
    "print(\"Con una proporción de muestra de: \", tamaño*100, \"%\")\n",
    "tabla.sort_values(by=\"% Aciertos\", ascending= False)\n"
   ]
  },
  {
   "cell_type": "code",
   "execution_count": null,
   "metadata": {},
   "outputs": [],
   "source": []
  }
 ],
 "metadata": {
  "kernelspec": {
   "display_name": "Python 3",
   "language": "python",
   "name": "python3"
  },
  "language_info": {
   "codemirror_mode": {
    "name": "ipython",
    "version": 3
   },
   "file_extension": ".py",
   "mimetype": "text/x-python",
   "name": "python",
   "nbconvert_exporter": "python",
   "pygments_lexer": "ipython3",
   "version": "3.8.5"
  }
 },
 "nbformat": 4,
 "nbformat_minor": 4
}
