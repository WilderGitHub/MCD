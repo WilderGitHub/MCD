{
 "cells": [
  {
   "cell_type": "code",
   "execution_count": 1,
   "id": "6ebf944b",
   "metadata": {},
   "outputs": [],
   "source": [
    "import pandas as pd\n",
    "import numpy as np\n",
    "import seaborn as sns\n",
    "import matplotlib.pyplot as plt\n",
    "from mlxtend.frequent_patterns import apriori\n",
    "from mlxtend.frequent_patterns import association_rules"
   ]
  },
  {
   "cell_type": "markdown",
   "id": "ca4eddbf",
   "metadata": {},
   "source": [
    "## Leemos dataset"
   ]
  },
  {
   "cell_type": "code",
   "execution_count": 2,
   "id": "02ba15e4",
   "metadata": {},
   "outputs": [
    {
     "data": {
      "text/html": [
       "<div>\n",
       "<style scoped>\n",
       "    .dataframe tbody tr th:only-of-type {\n",
       "        vertical-align: middle;\n",
       "    }\n",
       "\n",
       "    .dataframe tbody tr th {\n",
       "        vertical-align: top;\n",
       "    }\n",
       "\n",
       "    .dataframe thead th {\n",
       "        text-align: right;\n",
       "    }\n",
       "</style>\n",
       "<table border=\"1\" class=\"dataframe\">\n",
       "  <thead>\n",
       "    <tr style=\"text-align: right;\">\n",
       "      <th></th>\n",
       "      <th>_unit_id</th>\n",
       "      <th>relevance</th>\n",
       "      <th>relevance:variance</th>\n",
       "      <th>product_image</th>\n",
       "      <th>product_link</th>\n",
       "      <th>product_price</th>\n",
       "      <th>product_title</th>\n",
       "      <th>query</th>\n",
       "      <th>rank</th>\n",
       "      <th>source</th>\n",
       "      <th>first_name</th>\n",
       "      <th>last_name</th>\n",
       "      <th>company_name</th>\n",
       "      <th>address</th>\n",
       "      <th>city</th>\n",
       "      <th>county</th>\n",
       "      <th>state</th>\n",
       "      <th>user_id</th>\n",
       "    </tr>\n",
       "  </thead>\n",
       "  <tbody>\n",
       "    <tr>\n",
       "      <th>0</th>\n",
       "      <td>711158459.0</td>\n",
       "      <td>3.67</td>\n",
       "      <td>0.471</td>\n",
       "      <td>http://thumbs2.ebaystatic.com/d/l225/m/mzvzEUI...</td>\n",
       "      <td>http://www.ebay.com/itm/Sony-PlayStation-4-PS4...</td>\n",
       "      <td>$329.98</td>\n",
       "      <td>Sony PlayStation 4 (PS4) (Latest Model)- 500 G...</td>\n",
       "      <td>playstation 4</td>\n",
       "      <td>1.0</td>\n",
       "      <td>eBay</td>\n",
       "      <td>James</td>\n",
       "      <td>Butt</td>\n",
       "      <td>Benton, John B Jr</td>\n",
       "      <td>6649 N Blue Gum St</td>\n",
       "      <td>New Orleans</td>\n",
       "      <td>Orleans</td>\n",
       "      <td>LA</td>\n",
       "      <td>70116.0</td>\n",
       "    </tr>\n",
       "    <tr>\n",
       "      <th>1</th>\n",
       "      <td>711158460.0</td>\n",
       "      <td>4.00</td>\n",
       "      <td>0.000</td>\n",
       "      <td>http://thumbs3.ebaystatic.com/d/l225/m/mJNDmSy...</td>\n",
       "      <td>http://www.ebay.com/itm/Sony-PlayStation-4-Lat...</td>\n",
       "      <td>$324.84</td>\n",
       "      <td>Sony PlayStation 4 (Latest Model)- 500 GB Jet ...</td>\n",
       "      <td>playstation 4</td>\n",
       "      <td>2.0</td>\n",
       "      <td>eBay</td>\n",
       "      <td>Josephine</td>\n",
       "      <td>Darakjy</td>\n",
       "      <td>Chanay, Jeffrey A Esq</td>\n",
       "      <td>4 B Blue Ridge Blvd</td>\n",
       "      <td>Brighton</td>\n",
       "      <td>Livingston</td>\n",
       "      <td>MI</td>\n",
       "      <td>48116.0</td>\n",
       "    </tr>\n",
       "    <tr>\n",
       "      <th>2</th>\n",
       "      <td>711158461.0</td>\n",
       "      <td>4.00</td>\n",
       "      <td>0.000</td>\n",
       "      <td>http://thumbs4.ebaystatic.com/d/l225/m/m10NZXA...</td>\n",
       "      <td>http://www.ebay.com/itm/Sony-PlayStation-4-PS4...</td>\n",
       "      <td>$324.83</td>\n",
       "      <td>Sony PlayStation 4 PS4 500 GB Jet Black Console</td>\n",
       "      <td>playstation 4</td>\n",
       "      <td>3.0</td>\n",
       "      <td>eBay</td>\n",
       "      <td>Art</td>\n",
       "      <td>Venere</td>\n",
       "      <td>Chemel, James L Cpa</td>\n",
       "      <td>8 W Cerritos Ave #54</td>\n",
       "      <td>Bridgeport</td>\n",
       "      <td>Gloucester</td>\n",
       "      <td>NJ</td>\n",
       "      <td>8014.0</td>\n",
       "    </tr>\n",
       "    <tr>\n",
       "      <th>3</th>\n",
       "      <td>711158462.0</td>\n",
       "      <td>3.67</td>\n",
       "      <td>0.471</td>\n",
       "      <td>http://thumbs2.ebaystatic.com/d/l225/m/mZZXTmA...</td>\n",
       "      <td>http://www.ebay.com/itm/Sony-PlayStation-4-500...</td>\n",
       "      <td>$350.00</td>\n",
       "      <td>Sony - PlayStation 4 500GB The Last of Us Rema...</td>\n",
       "      <td>playstation 4</td>\n",
       "      <td>4.0</td>\n",
       "      <td>eBay</td>\n",
       "      <td>Lenna</td>\n",
       "      <td>Paprocki</td>\n",
       "      <td>Feltz Printing Service</td>\n",
       "      <td>639 Main St</td>\n",
       "      <td>Anchorage</td>\n",
       "      <td>Anchorage</td>\n",
       "      <td>AK</td>\n",
       "      <td>99501.0</td>\n",
       "    </tr>\n",
       "    <tr>\n",
       "      <th>4</th>\n",
       "      <td>711158463.0</td>\n",
       "      <td>3.33</td>\n",
       "      <td>0.471</td>\n",
       "      <td>http://thumbs3.ebaystatic.com/d/l225/m/mzvzEUI...</td>\n",
       "      <td>http://www.ebay.com/itm/Sony-PlayStation-4-PS4...</td>\n",
       "      <td>$308.00</td>\n",
       "      <td>Sony PlayStation 4 (PS4) (Latest Model)- 500 G...</td>\n",
       "      <td>playstation 4</td>\n",
       "      <td>5.0</td>\n",
       "      <td>eBay</td>\n",
       "      <td>Donette</td>\n",
       "      <td>Foller</td>\n",
       "      <td>Printing Dimensions</td>\n",
       "      <td>34 Center St</td>\n",
       "      <td>Hamilton</td>\n",
       "      <td>Butler</td>\n",
       "      <td>OH</td>\n",
       "      <td>45011.0</td>\n",
       "    </tr>\n",
       "    <tr>\n",
       "      <th>...</th>\n",
       "      <td>...</td>\n",
       "      <td>...</td>\n",
       "      <td>...</td>\n",
       "      <td>...</td>\n",
       "      <td>...</td>\n",
       "      <td>...</td>\n",
       "      <td>...</td>\n",
       "      <td>...</td>\n",
       "      <td>...</td>\n",
       "      <td>...</td>\n",
       "      <td>...</td>\n",
       "      <td>...</td>\n",
       "      <td>...</td>\n",
       "      <td>...</td>\n",
       "      <td>...</td>\n",
       "      <td>...</td>\n",
       "      <td>...</td>\n",
       "      <td>...</td>\n",
       "    </tr>\n",
       "    <tr>\n",
       "      <th>32669</th>\n",
       "      <td>713196636.0</td>\n",
       "      <td>NaN</td>\n",
       "      <td>NaN</td>\n",
       "      <td>http://edge.shop.com/ccimg.shop.com/250000/250...</td>\n",
       "      <td>http://www.shop.com/nbts/p957783018-xinternals...</td>\n",
       "      <td>$169.00</td>\n",
       "      <td>Maine Pac Boots</td>\n",
       "      <td>snow boots</td>\n",
       "      <td>33.0</td>\n",
       "      <td>Shop.com</td>\n",
       "      <td>Lizbeth</td>\n",
       "      <td>Kohl</td>\n",
       "      <td>E T Balancing Co Inc</td>\n",
       "      <td>35433 Blake St #588</td>\n",
       "      <td>Gardena</td>\n",
       "      <td>Los Angeles</td>\n",
       "      <td>CA</td>\n",
       "      <td>90248.0</td>\n",
       "    </tr>\n",
       "    <tr>\n",
       "      <th>32670</th>\n",
       "      <td>713196637.0</td>\n",
       "      <td>NaN</td>\n",
       "      <td>NaN</td>\n",
       "      <td>http://edge.shop.com/ccimg.shop.com/240000/243...</td>\n",
       "      <td>http://www.shop.com/nbts/p1237032619-xinternal...</td>\n",
       "      <td>$39.99</td>\n",
       "      <td>Itasca Icebreaker Snow Boots - Waterproof, Ins...</td>\n",
       "      <td>snow boots</td>\n",
       "      <td>34.0</td>\n",
       "      <td>Shop.com</td>\n",
       "      <td>Glenn</td>\n",
       "      <td>Berray</td>\n",
       "      <td>Griswold, John E Esq</td>\n",
       "      <td>29 Cherry St #7073</td>\n",
       "      <td>Des Moines</td>\n",
       "      <td>Polk</td>\n",
       "      <td>IA</td>\n",
       "      <td>50315.0</td>\n",
       "    </tr>\n",
       "    <tr>\n",
       "      <th>32671</th>\n",
       "      <td>NaN</td>\n",
       "      <td>NaN</td>\n",
       "      <td>NaN</td>\n",
       "      <td>NaN</td>\n",
       "      <td>NaN</td>\n",
       "      <td>NaN</td>\n",
       "      <td>NaN</td>\n",
       "      <td>NaN</td>\n",
       "      <td>NaN</td>\n",
       "      <td>NaN</td>\n",
       "      <td>NaN</td>\n",
       "      <td>NaN</td>\n",
       "      <td>NaN</td>\n",
       "      <td>NaN</td>\n",
       "      <td>NaN</td>\n",
       "      <td>NaN</td>\n",
       "      <td>NaN</td>\n",
       "      <td>NaN</td>\n",
       "    </tr>\n",
       "    <tr>\n",
       "      <th>32672</th>\n",
       "      <td>NaN</td>\n",
       "      <td>NaN</td>\n",
       "      <td>NaN</td>\n",
       "      <td>NaN</td>\n",
       "      <td>NaN</td>\n",
       "      <td>NaN</td>\n",
       "      <td>NaN</td>\n",
       "      <td>NaN</td>\n",
       "      <td>NaN</td>\n",
       "      <td>NaN</td>\n",
       "      <td>NaN</td>\n",
       "      <td>NaN</td>\n",
       "      <td>NaN</td>\n",
       "      <td>NaN</td>\n",
       "      <td>NaN</td>\n",
       "      <td>NaN</td>\n",
       "      <td>NaN</td>\n",
       "      <td>NaN</td>\n",
       "    </tr>\n",
       "    <tr>\n",
       "      <th>32673</th>\n",
       "      <td>NaN</td>\n",
       "      <td>NaN</td>\n",
       "      <td>NaN</td>\n",
       "      <td>NaN</td>\n",
       "      <td>NaN</td>\n",
       "      <td>NaN</td>\n",
       "      <td>NaN</td>\n",
       "      <td>NaN</td>\n",
       "      <td>NaN</td>\n",
       "      <td>NaN</td>\n",
       "      <td>NaN</td>\n",
       "      <td>NaN</td>\n",
       "      <td>NaN</td>\n",
       "      <td>NaN</td>\n",
       "      <td>NaN</td>\n",
       "      <td>NaN</td>\n",
       "      <td>NaN</td>\n",
       "      <td>NaN</td>\n",
       "    </tr>\n",
       "  </tbody>\n",
       "</table>\n",
       "<p>32674 rows × 18 columns</p>\n",
       "</div>"
      ],
      "text/plain": [
       "          _unit_id  relevance  relevance:variance  \\\n",
       "0      711158459.0       3.67               0.471   \n",
       "1      711158460.0       4.00               0.000   \n",
       "2      711158461.0       4.00               0.000   \n",
       "3      711158462.0       3.67               0.471   \n",
       "4      711158463.0       3.33               0.471   \n",
       "...            ...        ...                 ...   \n",
       "32669  713196636.0        NaN                 NaN   \n",
       "32670  713196637.0        NaN                 NaN   \n",
       "32671          NaN        NaN                 NaN   \n",
       "32672          NaN        NaN                 NaN   \n",
       "32673          NaN        NaN                 NaN   \n",
       "\n",
       "                                           product_image  \\\n",
       "0      http://thumbs2.ebaystatic.com/d/l225/m/mzvzEUI...   \n",
       "1      http://thumbs3.ebaystatic.com/d/l225/m/mJNDmSy...   \n",
       "2      http://thumbs4.ebaystatic.com/d/l225/m/m10NZXA...   \n",
       "3      http://thumbs2.ebaystatic.com/d/l225/m/mZZXTmA...   \n",
       "4      http://thumbs3.ebaystatic.com/d/l225/m/mzvzEUI...   \n",
       "...                                                  ...   \n",
       "32669  http://edge.shop.com/ccimg.shop.com/250000/250...   \n",
       "32670  http://edge.shop.com/ccimg.shop.com/240000/243...   \n",
       "32671                                                NaN   \n",
       "32672                                                NaN   \n",
       "32673                                                NaN   \n",
       "\n",
       "                                            product_link product_price  \\\n",
       "0      http://www.ebay.com/itm/Sony-PlayStation-4-PS4...      $329.98    \n",
       "1      http://www.ebay.com/itm/Sony-PlayStation-4-Lat...      $324.84    \n",
       "2      http://www.ebay.com/itm/Sony-PlayStation-4-PS4...      $324.83    \n",
       "3      http://www.ebay.com/itm/Sony-PlayStation-4-500...      $350.00    \n",
       "4      http://www.ebay.com/itm/Sony-PlayStation-4-PS4...      $308.00    \n",
       "...                                                  ...           ...   \n",
       "32669  http://www.shop.com/nbts/p957783018-xinternals...      $169.00    \n",
       "32670  http://www.shop.com/nbts/p1237032619-xinternal...       $39.99    \n",
       "32671                                                NaN           NaN   \n",
       "32672                                                NaN           NaN   \n",
       "32673                                                NaN           NaN   \n",
       "\n",
       "                                           product_title          query  rank  \\\n",
       "0      Sony PlayStation 4 (PS4) (Latest Model)- 500 G...  playstation 4   1.0   \n",
       "1      Sony PlayStation 4 (Latest Model)- 500 GB Jet ...  playstation 4   2.0   \n",
       "2        Sony PlayStation 4 PS4 500 GB Jet Black Console  playstation 4   3.0   \n",
       "3      Sony - PlayStation 4 500GB The Last of Us Rema...  playstation 4   4.0   \n",
       "4      Sony PlayStation 4 (PS4) (Latest Model)- 500 G...  playstation 4   5.0   \n",
       "...                                                  ...            ...   ...   \n",
       "32669                                    Maine Pac Boots     snow boots  33.0   \n",
       "32670  Itasca Icebreaker Snow Boots - Waterproof, Ins...     snow boots  34.0   \n",
       "32671                                                NaN            NaN   NaN   \n",
       "32672                                                NaN            NaN   NaN   \n",
       "32673                                                NaN            NaN   NaN   \n",
       "\n",
       "         source first_name last_name            company_name  \\\n",
       "0          eBay      James      Butt       Benton, John B Jr   \n",
       "1          eBay  Josephine   Darakjy   Chanay, Jeffrey A Esq   \n",
       "2          eBay        Art    Venere     Chemel, James L Cpa   \n",
       "3          eBay      Lenna  Paprocki  Feltz Printing Service   \n",
       "4          eBay    Donette    Foller     Printing Dimensions   \n",
       "...         ...        ...       ...                     ...   \n",
       "32669  Shop.com    Lizbeth      Kohl    E T Balancing Co Inc   \n",
       "32670  Shop.com      Glenn    Berray    Griswold, John E Esq   \n",
       "32671       NaN        NaN       NaN                     NaN   \n",
       "32672       NaN        NaN       NaN                     NaN   \n",
       "32673       NaN        NaN       NaN                     NaN   \n",
       "\n",
       "                    address         city       county state  user_id  \n",
       "0        6649 N Blue Gum St  New Orleans      Orleans    LA  70116.0  \n",
       "1       4 B Blue Ridge Blvd     Brighton   Livingston    MI  48116.0  \n",
       "2      8 W Cerritos Ave #54   Bridgeport   Gloucester    NJ   8014.0  \n",
       "3               639 Main St    Anchorage    Anchorage    AK  99501.0  \n",
       "4              34 Center St     Hamilton       Butler    OH  45011.0  \n",
       "...                     ...          ...          ...   ...      ...  \n",
       "32669   35433 Blake St #588      Gardena  Los Angeles    CA  90248.0  \n",
       "32670    29 Cherry St #7073   Des Moines         Polk    IA  50315.0  \n",
       "32671                   NaN          NaN          NaN   NaN      NaN  \n",
       "32672                   NaN          NaN          NaN   NaN      NaN  \n",
       "32673                   NaN          NaN          NaN   NaN      NaN  \n",
       "\n",
       "[32674 rows x 18 columns]"
      ]
     },
     "execution_count": 2,
     "metadata": {},
     "output_type": "execute_result"
    }
   ],
   "source": [
    "df = pd.read_csv('kaggle_ecommerce 10abr.csv')\n",
    "df"
   ]
  },
  {
   "cell_type": "markdown",
   "id": "ac9e1456",
   "metadata": {},
   "source": [
    "### Tipos de datos en el dataset"
   ]
  },
  {
   "cell_type": "code",
   "execution_count": 3,
   "id": "7d156f88",
   "metadata": {},
   "outputs": [
    {
     "name": "stdout",
     "output_type": "stream",
     "text": [
      "<class 'pandas.core.frame.DataFrame'>\n",
      "RangeIndex: 32674 entries, 0 to 32673\n",
      "Data columns (total 18 columns):\n",
      " #   Column              Non-Null Count  Dtype  \n",
      "---  ------              --------------  -----  \n",
      " 0   _unit_id            32671 non-null  float64\n",
      " 1   relevance           20571 non-null  float64\n",
      " 2   relevance:variance  20571 non-null  float64\n",
      " 3   product_image       32671 non-null  object \n",
      " 4   product_link        32671 non-null  object \n",
      " 5   product_price       32671 non-null  object \n",
      " 6   product_title       32671 non-null  object \n",
      " 7   query               32671 non-null  object \n",
      " 8   rank                32671 non-null  float64\n",
      " 9   source              32671 non-null  object \n",
      " 10  first_name          32669 non-null  object \n",
      " 11  last_name           32669 non-null  object \n",
      " 12  company_name        32669 non-null  object \n",
      " 13  address             32669 non-null  object \n",
      " 14  city                32669 non-null  object \n",
      " 15  county              32669 non-null  object \n",
      " 16  state               32669 non-null  object \n",
      " 17  user_id             32669 non-null  float64\n",
      "dtypes: float64(5), object(13)\n",
      "memory usage: 4.5+ MB\n"
     ]
    }
   ],
   "source": [
    "df.info()"
   ]
  },
  {
   "cell_type": "markdown",
   "id": "b16c459f",
   "metadata": {},
   "source": [
    "### Eliminamos columnas innecesarias"
   ]
  },
  {
   "cell_type": "code",
   "execution_count": 4,
   "id": "206ef395",
   "metadata": {},
   "outputs": [
    {
     "ename": "KeyError",
     "evalue": "'zip'",
     "output_type": "error",
     "traceback": [
      "\u001b[1;31m---------------------------------------------------------------------------\u001b[0m",
      "\u001b[1;31mKeyError\u001b[0m                                  Traceback (most recent call last)",
      "\u001b[1;32m~\\anaconda3\\lib\\site-packages\\pandas\\core\\indexes\\base.py\u001b[0m in \u001b[0;36mget_loc\u001b[1;34m(self, key, method, tolerance)\u001b[0m\n\u001b[0;32m   3360\u001b[0m             \u001b[1;32mtry\u001b[0m\u001b[1;33m:\u001b[0m\u001b[1;33m\u001b[0m\u001b[1;33m\u001b[0m\u001b[0m\n\u001b[1;32m-> 3361\u001b[1;33m                 \u001b[1;32mreturn\u001b[0m \u001b[0mself\u001b[0m\u001b[1;33m.\u001b[0m\u001b[0m_engine\u001b[0m\u001b[1;33m.\u001b[0m\u001b[0mget_loc\u001b[0m\u001b[1;33m(\u001b[0m\u001b[0mcasted_key\u001b[0m\u001b[1;33m)\u001b[0m\u001b[1;33m\u001b[0m\u001b[1;33m\u001b[0m\u001b[0m\n\u001b[0m\u001b[0;32m   3362\u001b[0m             \u001b[1;32mexcept\u001b[0m \u001b[0mKeyError\u001b[0m \u001b[1;32mas\u001b[0m \u001b[0merr\u001b[0m\u001b[1;33m:\u001b[0m\u001b[1;33m\u001b[0m\u001b[1;33m\u001b[0m\u001b[0m\n",
      "\u001b[1;32m~\\anaconda3\\lib\\site-packages\\pandas\\_libs\\index.pyx\u001b[0m in \u001b[0;36mpandas._libs.index.IndexEngine.get_loc\u001b[1;34m()\u001b[0m\n",
      "\u001b[1;32m~\\anaconda3\\lib\\site-packages\\pandas\\_libs\\index.pyx\u001b[0m in \u001b[0;36mpandas._libs.index.IndexEngine.get_loc\u001b[1;34m()\u001b[0m\n",
      "\u001b[1;32mpandas\\_libs\\hashtable_class_helper.pxi\u001b[0m in \u001b[0;36mpandas._libs.hashtable.PyObjectHashTable.get_item\u001b[1;34m()\u001b[0m\n",
      "\u001b[1;32mpandas\\_libs\\hashtable_class_helper.pxi\u001b[0m in \u001b[0;36mpandas._libs.hashtable.PyObjectHashTable.get_item\u001b[1;34m()\u001b[0m\n",
      "\u001b[1;31mKeyError\u001b[0m: 'zip'",
      "\nThe above exception was the direct cause of the following exception:\n",
      "\u001b[1;31mKeyError\u001b[0m                                  Traceback (most recent call last)",
      "\u001b[1;32m~\\AppData\\Local\\Temp/ipykernel_6320/1124451084.py\u001b[0m in \u001b[0;36m<module>\u001b[1;34m\u001b[0m\n\u001b[0;32m      1\u001b[0m \u001b[0mdf\u001b[0m\u001b[1;33m.\u001b[0m\u001b[0mdrop\u001b[0m\u001b[1;33m(\u001b[0m\u001b[1;33m[\u001b[0m\u001b[1;34m'product_image'\u001b[0m\u001b[1;33m,\u001b[0m \u001b[1;34m'product_link'\u001b[0m\u001b[1;33m,\u001b[0m \u001b[1;34m'product_title'\u001b[0m\u001b[1;33m,\u001b[0m \u001b[1;34m'relevance'\u001b[0m\u001b[1;33m,\u001b[0m \u001b[1;34m'relevance:variance'\u001b[0m\u001b[1;33m,\u001b[0m \u001b[1;34m'rank'\u001b[0m\u001b[1;33m,\u001b[0m \u001b[1;34m'company_name'\u001b[0m\u001b[1;33m,\u001b[0m \u001b[1;34m'address'\u001b[0m\u001b[1;33m]\u001b[0m\u001b[1;33m,\u001b[0m \u001b[0maxis\u001b[0m\u001b[1;33m=\u001b[0m\u001b[1;36m1\u001b[0m\u001b[1;33m,\u001b[0m \u001b[0minplace\u001b[0m\u001b[1;33m=\u001b[0m\u001b[1;32mTrue\u001b[0m\u001b[1;33m)\u001b[0m\u001b[1;33m\u001b[0m\u001b[1;33m\u001b[0m\u001b[0m\n\u001b[1;32m----> 2\u001b[1;33m \u001b[0mdf\u001b[0m\u001b[1;33m[\u001b[0m\u001b[1;34m'clien_id'\u001b[0m\u001b[1;33m]\u001b[0m \u001b[1;33m=\u001b[0m \u001b[0mdf\u001b[0m\u001b[1;33m[\u001b[0m\u001b[1;34m'zip'\u001b[0m\u001b[1;33m]\u001b[0m\u001b[1;33m\u001b[0m\u001b[1;33m\u001b[0m\u001b[0m\n\u001b[0m\u001b[0;32m      3\u001b[0m \u001b[0mdf\u001b[0m\u001b[1;33m\u001b[0m\u001b[1;33m\u001b[0m\u001b[0m\n",
      "\u001b[1;32m~\\anaconda3\\lib\\site-packages\\pandas\\core\\frame.py\u001b[0m in \u001b[0;36m__getitem__\u001b[1;34m(self, key)\u001b[0m\n\u001b[0;32m   3456\u001b[0m             \u001b[1;32mif\u001b[0m \u001b[0mself\u001b[0m\u001b[1;33m.\u001b[0m\u001b[0mcolumns\u001b[0m\u001b[1;33m.\u001b[0m\u001b[0mnlevels\u001b[0m \u001b[1;33m>\u001b[0m \u001b[1;36m1\u001b[0m\u001b[1;33m:\u001b[0m\u001b[1;33m\u001b[0m\u001b[1;33m\u001b[0m\u001b[0m\n\u001b[0;32m   3457\u001b[0m                 \u001b[1;32mreturn\u001b[0m \u001b[0mself\u001b[0m\u001b[1;33m.\u001b[0m\u001b[0m_getitem_multilevel\u001b[0m\u001b[1;33m(\u001b[0m\u001b[0mkey\u001b[0m\u001b[1;33m)\u001b[0m\u001b[1;33m\u001b[0m\u001b[1;33m\u001b[0m\u001b[0m\n\u001b[1;32m-> 3458\u001b[1;33m             \u001b[0mindexer\u001b[0m \u001b[1;33m=\u001b[0m \u001b[0mself\u001b[0m\u001b[1;33m.\u001b[0m\u001b[0mcolumns\u001b[0m\u001b[1;33m.\u001b[0m\u001b[0mget_loc\u001b[0m\u001b[1;33m(\u001b[0m\u001b[0mkey\u001b[0m\u001b[1;33m)\u001b[0m\u001b[1;33m\u001b[0m\u001b[1;33m\u001b[0m\u001b[0m\n\u001b[0m\u001b[0;32m   3459\u001b[0m             \u001b[1;32mif\u001b[0m \u001b[0mis_integer\u001b[0m\u001b[1;33m(\u001b[0m\u001b[0mindexer\u001b[0m\u001b[1;33m)\u001b[0m\u001b[1;33m:\u001b[0m\u001b[1;33m\u001b[0m\u001b[1;33m\u001b[0m\u001b[0m\n\u001b[0;32m   3460\u001b[0m                 \u001b[0mindexer\u001b[0m \u001b[1;33m=\u001b[0m \u001b[1;33m[\u001b[0m\u001b[0mindexer\u001b[0m\u001b[1;33m]\u001b[0m\u001b[1;33m\u001b[0m\u001b[1;33m\u001b[0m\u001b[0m\n",
      "\u001b[1;32m~\\anaconda3\\lib\\site-packages\\pandas\\core\\indexes\\base.py\u001b[0m in \u001b[0;36mget_loc\u001b[1;34m(self, key, method, tolerance)\u001b[0m\n\u001b[0;32m   3361\u001b[0m                 \u001b[1;32mreturn\u001b[0m \u001b[0mself\u001b[0m\u001b[1;33m.\u001b[0m\u001b[0m_engine\u001b[0m\u001b[1;33m.\u001b[0m\u001b[0mget_loc\u001b[0m\u001b[1;33m(\u001b[0m\u001b[0mcasted_key\u001b[0m\u001b[1;33m)\u001b[0m\u001b[1;33m\u001b[0m\u001b[1;33m\u001b[0m\u001b[0m\n\u001b[0;32m   3362\u001b[0m             \u001b[1;32mexcept\u001b[0m \u001b[0mKeyError\u001b[0m \u001b[1;32mas\u001b[0m \u001b[0merr\u001b[0m\u001b[1;33m:\u001b[0m\u001b[1;33m\u001b[0m\u001b[1;33m\u001b[0m\u001b[0m\n\u001b[1;32m-> 3363\u001b[1;33m                 \u001b[1;32mraise\u001b[0m \u001b[0mKeyError\u001b[0m\u001b[1;33m(\u001b[0m\u001b[0mkey\u001b[0m\u001b[1;33m)\u001b[0m \u001b[1;32mfrom\u001b[0m \u001b[0merr\u001b[0m\u001b[1;33m\u001b[0m\u001b[1;33m\u001b[0m\u001b[0m\n\u001b[0m\u001b[0;32m   3364\u001b[0m \u001b[1;33m\u001b[0m\u001b[0m\n\u001b[0;32m   3365\u001b[0m         \u001b[1;32mif\u001b[0m \u001b[0mis_scalar\u001b[0m\u001b[1;33m(\u001b[0m\u001b[0mkey\u001b[0m\u001b[1;33m)\u001b[0m \u001b[1;32mand\u001b[0m \u001b[0misna\u001b[0m\u001b[1;33m(\u001b[0m\u001b[0mkey\u001b[0m\u001b[1;33m)\u001b[0m \u001b[1;32mand\u001b[0m \u001b[1;32mnot\u001b[0m \u001b[0mself\u001b[0m\u001b[1;33m.\u001b[0m\u001b[0mhasnans\u001b[0m\u001b[1;33m:\u001b[0m\u001b[1;33m\u001b[0m\u001b[1;33m\u001b[0m\u001b[0m\n",
      "\u001b[1;31mKeyError\u001b[0m: 'zip'"
     ]
    }
   ],
   "source": [
    "df.drop(['product_image', 'product_link', 'product_title', 'relevance', 'relevance:variance', 'rank', 'company_name', 'address'], axis=1, inplace=True)\n",
    "df['clien_id'] = df['zip']\n",
    "df"
   ]
  },
  {
   "cell_type": "markdown",
   "id": "7938ec4c",
   "metadata": {},
   "source": [
    "### La columna product_price tiene muchos tipos de datos"
   ]
  },
  {
   "cell_type": "code",
   "execution_count": null,
   "id": "1e6e994b",
   "metadata": {},
   "outputs": [],
   "source": [
    "df['product_price'].value_counts()"
   ]
  },
  {
   "cell_type": "markdown",
   "id": "d65e1084",
   "metadata": {},
   "source": [
    "### Limpiamos y convertimos el tipo de dato de \"object\" a \"float\""
   ]
  },
  {
   "cell_type": "code",
   "execution_count": null,
   "id": "40a1cd0c",
   "metadata": {},
   "outputs": [],
   "source": [
    "df[\"price\"]=df['product_price'].str[1:6]\n",
    "df"
   ]
  },
  {
   "cell_type": "code",
   "execution_count": null,
   "id": "42ce43ed",
   "metadata": {},
   "outputs": [],
   "source": [
    "df = df.drop([32671,32672,32673])\n",
    "df"
   ]
  },
  {
   "cell_type": "code",
   "execution_count": null,
   "id": "636b7961",
   "metadata": {},
   "outputs": [],
   "source": [
    "df.drop(['product_price', 'zip'], axis=1, inplace=True)\n",
    "df"
   ]
  },
  {
   "cell_type": "code",
   "execution_count": null,
   "id": "6359d228",
   "metadata": {},
   "outputs": [],
   "source": [
    "df1=df[df[\"price\"] == \"ale $\"].index\n",
    "df1=df.drop(df1)\n",
    "df2=df1[df1[\"price\"] == \"eg:\\np\"].index\n",
    "df2=df1.drop(df2)\n",
    "df3=df2[df2[\"price\"] == \"ist:\\n\"].index\n",
    "df3=df2.drop(df3)\n",
    "df3"
   ]
  },
  {
   "cell_type": "code",
   "execution_count": null,
   "id": "776da621",
   "metadata": {},
   "outputs": [],
   "source": [
    "df3['price'] = df3['price'].str.replace(',','')\n",
    "df3['price']"
   ]
  },
  {
   "cell_type": "code",
   "execution_count": null,
   "id": "8d355421",
   "metadata": {},
   "outputs": [],
   "source": [
    "df3['price'] = df3['price'].astype('float64')\n",
    "df3['price'].dtype"
   ]
  },
  {
   "cell_type": "code",
   "execution_count": null,
   "id": "13c498c0",
   "metadata": {},
   "outputs": [],
   "source": [
    "df3['source'].value_counts()"
   ]
  },
  {
   "cell_type": "code",
   "execution_count": null,
   "id": "d224dd10",
   "metadata": {},
   "outputs": [],
   "source": [
    "df3['query'].value_counts()"
   ]
  },
  {
   "cell_type": "code",
   "execution_count": null,
   "id": "ece9addb",
   "metadata": {},
   "outputs": [],
   "source": [
    "df3['clien_id'].value_counts()"
   ]
  },
  {
   "cell_type": "code",
   "execution_count": null,
   "id": "d1d6f732",
   "metadata": {},
   "outputs": [],
   "source": [
    "df4 = df3.groupby(['clien_id', 'query']).size()\n",
    "df4"
   ]
  },
  {
   "cell_type": "code",
   "execution_count": null,
   "id": "5bcc1533",
   "metadata": {},
   "outputs": [],
   "source": [
    "temp = df4.unstack(level=-1)\n",
    "temp"
   ]
  },
  {
   "cell_type": "code",
   "execution_count": null,
   "id": "6037f866",
   "metadata": {},
   "outputs": [],
   "source": [
    "online = temp.reset_index().fillna(0).set_index('clien_id')\n",
    "online"
   ]
  },
  {
   "cell_type": "code",
   "execution_count": null,
   "id": "064ed3ad",
   "metadata": {},
   "outputs": [],
   "source": [
    "online.columns"
   ]
  },
  {
   "cell_type": "code",
   "execution_count": null,
   "id": "e864cdee",
   "metadata": {},
   "outputs": [],
   "source": [
    "online.loc[99501,'laptop lenovo']"
   ]
  },
  {
   "cell_type": "code",
   "execution_count": null,
   "id": "d4764dbe",
   "metadata": {},
   "outputs": [],
   "source": [
    "def encode_units(x):\n",
    "    if x <= 0:\n",
    "        return 0\n",
    "    if x >= 1:\n",
    "        return 1\n",
    "online_sets = online.applymap(encode_units)\n",
    "online_sets"
   ]
  },
  {
   "cell_type": "code",
   "execution_count": null,
   "id": "866d7271",
   "metadata": {},
   "outputs": [],
   "source": [
    "frq_items = apriori(online_sets, min_support = 0.07, use_colnames = True) \n",
    "rules = association_rules(frq_items, metric =\"lift\", min_threshold = 1) \n",
    "rules = rules.sort_values(['confidence', 'lift'], ascending =[False, False]) \n",
    "rules.head()"
   ]
  },
  {
   "cell_type": "code",
   "execution_count": null,
   "id": "2a54801c",
   "metadata": {},
   "outputs": [],
   "source": [
    "frq_items = apriori(online_sets, min_support = 0.08, use_colnames = True) \n",
    "rules = association_rules(frq_items, metric =\"lift\", min_threshold = 0.5) \n",
    "rules = rules.sort_values(['confidence', 'lift'], ascending =[False, False]) \n",
    "rules.head()"
   ]
  },
  {
   "cell_type": "code",
   "execution_count": null,
   "id": "05c4333a",
   "metadata": {},
   "outputs": [],
   "source": [
    "df3"
   ]
  },
  {
   "cell_type": "code",
   "execution_count": null,
   "id": "b302f670",
   "metadata": {},
   "outputs": [],
   "source": [
    "df3.state.unique()"
   ]
  },
  {
   "cell_type": "code",
   "execution_count": null,
   "id": "e601f7d8",
   "metadata": {},
   "outputs": [],
   "source": [
    "state_1 = df3.groupby(['state', 'source']).size()\n",
    "state_1"
   ]
  },
  {
   "cell_type": "code",
   "execution_count": null,
   "id": "0d576cac",
   "metadata": {},
   "outputs": [],
   "source": [
    "temp1 = state_1.unstack(level=-1)\n",
    "temp1"
   ]
  },
  {
   "cell_type": "code",
   "execution_count": null,
   "id": "f8b93e3a",
   "metadata": {},
   "outputs": [],
   "source": [
    "state_2 = df3.groupby(['state', 'query']).size()\n",
    "state_2"
   ]
  },
  {
   "cell_type": "code",
   "execution_count": null,
   "id": "5acc7d6d",
   "metadata": {},
   "outputs": [],
   "source": [
    "temp2 = state_2.unstack(level=-1)\n",
    "temp2"
   ]
  },
  {
   "cell_type": "code",
   "execution_count": null,
   "id": "6119d644",
   "metadata": {},
   "outputs": [],
   "source": [
    "online1 = temp2.reset_index().fillna(0).set_index('state')\n",
    "online1"
   ]
  },
  {
   "cell_type": "code",
   "execution_count": null,
   "id": "c477aa60",
   "metadata": {},
   "outputs": [],
   "source": [
    "def encode_units(x):\n",
    "    if x <= 0:\n",
    "        return 0\n",
    "    if x >= 1:\n",
    "        return 1\n",
    "online_sets1 = online1.applymap(encode_units)\n",
    "online_sets1"
   ]
  },
  {
   "cell_type": "code",
   "execution_count": null,
   "id": "bbfa9cf4",
   "metadata": {},
   "outputs": [],
   "source": [
    "frq_items1 = apriori(online_sets1, min_support = 0.7, use_colnames = True) \n",
    "rules = association_rules(frq_items1, metric =\"lift\", min_threshold = 0.5) \n",
    "rules = rules.sort_values(['confidence', 'lift'], ascending =[False, False]) \n",
    "rules.head()"
   ]
  },
  {
   "cell_type": "code",
   "execution_count": null,
   "id": "44e83e72",
   "metadata": {},
   "outputs": [],
   "source": [
    "frq_items1 = apriori(online_sets1, min_support = 0.75, use_colnames = True) \n",
    "rules = association_rules(frq_items1, metric =\"lift\", min_threshold = 0.5) \n",
    "rules = rules.sort_values(['confidence', 'lift'], ascending =[False, False]) \n",
    "rules.head()"
   ]
  },
  {
   "cell_type": "code",
   "execution_count": null,
   "id": "e62aad57",
   "metadata": {},
   "outputs": [],
   "source": [
    "p = online_sets1.copy()\n",
    "for i in range(1, len(p.columns)+1):\n",
    "    p[\"Cat\"] = np.where(p[p.columns[i]] == 1, 1, 0)\n",
    "    p[p.columns[i]]= i\n",
    "    g = sns.scatterplot(p.index, p[p.columns[i]], hue = p.Cat, legend = False)\n",
    "    g.yaxis.set_label_text('state')\n",
    "    g.set_yticks(np.arange(1, len(p.columns)))\n",
    "    g.set_xticks(online_sets.index)\n",
    "    g.set_yticklabels(online_sets.columns)\n",
    "    plt.title(\"Online Ecommerce\")"
   ]
  },
  {
   "cell_type": "code",
   "execution_count": null,
   "id": "de282a37",
   "metadata": {},
   "outputs": [],
   "source": []
  },
  {
   "cell_type": "code",
   "execution_count": null,
   "id": "8b0fc62c",
   "metadata": {},
   "outputs": [],
   "source": []
  }
 ],
 "metadata": {
  "kernelspec": {
   "display_name": "Python 3 (ipykernel)",
   "language": "python",
   "name": "python3"
  },
  "language_info": {
   "codemirror_mode": {
    "name": "ipython",
    "version": 3
   },
   "file_extension": ".py",
   "mimetype": "text/x-python",
   "name": "python",
   "nbconvert_exporter": "python",
   "pygments_lexer": "ipython3",
   "version": "3.9.7"
  }
 },
 "nbformat": 4,
 "nbformat_minor": 5
}
