{
 "cells": [
  {
   "cell_type": "markdown",
   "id": "717b4aad",
   "metadata": {},
   "source": [
    "# Practica 2"
   ]
  },
  {
   "cell_type": "code",
   "execution_count": 1,
   "id": "e68b0fac",
   "metadata": {},
   "outputs": [],
   "source": [
    "import pandas as pd\n",
    "import matplotlib.pyplot as plt\n",
    "import seaborn as sb\n",
    "import numpy as np\n",
    "\n",
    "from pandas import Series, DataFrame\n",
    "from matplotlib import collections as collections\n",
    "from sklearn.preprocessing import StandardScaler\n",
    "from sklearn.feature_selection import VarianceThreshold\n",
    "from sklearn import preprocessing\n",
    "\n",
    "import warnings\n",
    "warnings.filterwarnings('ignore')\n",
    "%matplotlib inline\n",
    "\n",
    "sb.set_style('whitegrid')\n",
    "from numpy import median\n",
    "from numpy import mean"
   ]
  },
  {
   "cell_type": "code",
   "execution_count": 2,
   "id": "594fb9c0",
   "metadata": {},
   "outputs": [
    {
     "data": {
      "text/html": [
       "<div>\n",
       "<style scoped>\n",
       "    .dataframe tbody tr th:only-of-type {\n",
       "        vertical-align: middle;\n",
       "    }\n",
       "\n",
       "    .dataframe tbody tr th {\n",
       "        vertical-align: top;\n",
       "    }\n",
       "\n",
       "    .dataframe thead th {\n",
       "        text-align: right;\n",
       "    }\n",
       "</style>\n",
       "<table border=\"1\" class=\"dataframe\">\n",
       "  <thead>\n",
       "    <tr style=\"text-align: right;\">\n",
       "      <th></th>\n",
       "      <th>Store</th>\n",
       "      <th>DayOfWeek</th>\n",
       "      <th>Date</th>\n",
       "      <th>Sales</th>\n",
       "      <th>Customers</th>\n",
       "      <th>Open</th>\n",
       "      <th>Promo</th>\n",
       "      <th>StateHoliday</th>\n",
       "      <th>SchoolHoliday</th>\n",
       "      <th>StoreType</th>\n",
       "      <th>Assortment</th>\n",
       "      <th>CompetitionDistance</th>\n",
       "      <th>CompetitionOpenSinceMonth</th>\n",
       "      <th>CompetitionOpenSinceYear</th>\n",
       "      <th>Promo2</th>\n",
       "      <th>Promo2SinceWeek</th>\n",
       "      <th>Promo2SinceYear</th>\n",
       "      <th>PromoInterval</th>\n",
       "    </tr>\n",
       "  </thead>\n",
       "  <tbody>\n",
       "    <tr>\n",
       "      <th>0</th>\n",
       "      <td>107</td>\n",
       "      <td>6</td>\n",
       "      <td>5/23/15</td>\n",
       "      <td>3918</td>\n",
       "      <td>378</td>\n",
       "      <td>1</td>\n",
       "      <td>0</td>\n",
       "      <td>0</td>\n",
       "      <td>0</td>\n",
       "      <td>d</td>\n",
       "      <td>a</td>\n",
       "      <td>0</td>\n",
       "      <td>0.0</td>\n",
       "      <td>0.0</td>\n",
       "      <td>1</td>\n",
       "      <td>5.0</td>\n",
       "      <td>2013.0</td>\n",
       "      <td>Feb,May,Aug,Nov</td>\n",
       "    </tr>\n",
       "    <tr>\n",
       "      <th>1</th>\n",
       "      <td>492</td>\n",
       "      <td>3</td>\n",
       "      <td>6/5/2013</td>\n",
       "      <td>8856</td>\n",
       "      <td>901</td>\n",
       "      <td>1</td>\n",
       "      <td>1</td>\n",
       "      <td>0</td>\n",
       "      <td>0</td>\n",
       "      <td>d</td>\n",
       "      <td>a</td>\n",
       "      <td>0</td>\n",
       "      <td>0.0</td>\n",
       "      <td>0.0</td>\n",
       "      <td>0</td>\n",
       "      <td>NaN</td>\n",
       "      <td>NaN</td>\n",
       "      <td>NaN</td>\n",
       "    </tr>\n",
       "    <tr>\n",
       "      <th>2</th>\n",
       "      <td>57</td>\n",
       "      <td>1</td>\n",
       "      <td>12/30/13</td>\n",
       "      <td>5940</td>\n",
       "      <td>577</td>\n",
       "      <td>1</td>\n",
       "      <td>0</td>\n",
       "      <td>0</td>\n",
       "      <td>1</td>\n",
       "      <td>a</td>\n",
       "      <td>c</td>\n",
       "      <td>0</td>\n",
       "      <td>0.0</td>\n",
       "      <td>0.0</td>\n",
       "      <td>0</td>\n",
       "      <td>NaN</td>\n",
       "      <td>NaN</td>\n",
       "      <td>NaN</td>\n",
       "    </tr>\n",
       "    <tr>\n",
       "      <th>3</th>\n",
       "      <td>260</td>\n",
       "      <td>5</td>\n",
       "      <td>1/2/2015</td>\n",
       "      <td>4311</td>\n",
       "      <td>439</td>\n",
       "      <td>1</td>\n",
       "      <td>0</td>\n",
       "      <td>0</td>\n",
       "      <td>1</td>\n",
       "      <td>a</td>\n",
       "      <td>c</td>\n",
       "      <td>0</td>\n",
       "      <td>0.0</td>\n",
       "      <td>0.0</td>\n",
       "      <td>0</td>\n",
       "      <td>NaN</td>\n",
       "      <td>NaN</td>\n",
       "      <td>NaN</td>\n",
       "    </tr>\n",
       "    <tr>\n",
       "      <th>4</th>\n",
       "      <td>932</td>\n",
       "      <td>4</td>\n",
       "      <td>4/4/2013</td>\n",
       "      <td>3294</td>\n",
       "      <td>345</td>\n",
       "      <td>1</td>\n",
       "      <td>0</td>\n",
       "      <td>0</td>\n",
       "      <td>1</td>\n",
       "      <td>d</td>\n",
       "      <td>a</td>\n",
       "      <td>0</td>\n",
       "      <td>0.0</td>\n",
       "      <td>0.0</td>\n",
       "      <td>1</td>\n",
       "      <td>5.0</td>\n",
       "      <td>2013.0</td>\n",
       "      <td>Feb,May,Aug,Nov</td>\n",
       "    </tr>\n",
       "  </tbody>\n",
       "</table>\n",
       "</div>"
      ],
      "text/plain": [
       "   Store  DayOfWeek      Date  Sales  Customers  Open  Promo StateHoliday  \\\n",
       "0    107          6   5/23/15   3918        378     1      0            0   \n",
       "1    492          3  6/5/2013   8856        901     1      1            0   \n",
       "2     57          1  12/30/13   5940        577     1      0            0   \n",
       "3    260          5  1/2/2015   4311        439     1      0            0   \n",
       "4    932          4  4/4/2013   3294        345     1      0            0   \n",
       "\n",
       "   SchoolHoliday StoreType Assortment  CompetitionDistance  \\\n",
       "0              0         d          a                    0   \n",
       "1              0         d          a                    0   \n",
       "2              1         a          c                    0   \n",
       "3              1         a          c                    0   \n",
       "4              1         d          a                    0   \n",
       "\n",
       "   CompetitionOpenSinceMonth  CompetitionOpenSinceYear  Promo2  \\\n",
       "0                        0.0                       0.0       1   \n",
       "1                        0.0                       0.0       0   \n",
       "2                        0.0                       0.0       0   \n",
       "3                        0.0                       0.0       0   \n",
       "4                        0.0                       0.0       1   \n",
       "\n",
       "   Promo2SinceWeek  Promo2SinceYear    PromoInterval  \n",
       "0              5.0           2013.0  Feb,May,Aug,Nov  \n",
       "1              NaN              NaN              NaN  \n",
       "2              NaN              NaN              NaN  \n",
       "3              NaN              NaN              NaN  \n",
       "4              5.0           2013.0  Feb,May,Aug,Nov  "
      ]
     },
     "execution_count": 2,
     "metadata": {},
     "output_type": "execute_result"
    }
   ],
   "source": [
    "rossman = pd.read_csv('RossmanDataV1.csv',sep=';')\n",
    "rossman.head()"
   ]
  },
  {
   "cell_type": "markdown",
   "id": "2cf19576",
   "metadata": {},
   "source": [
    "### 1.\tQuitar filas duplicadas"
   ]
  },
  {
   "cell_type": "code",
   "execution_count": 3,
   "id": "d4ecbb77",
   "metadata": {},
   "outputs": [
    {
     "data": {
      "text/plain": [
       "False"
      ]
     },
     "execution_count": 3,
     "metadata": {},
     "output_type": "execute_result"
    }
   ],
   "source": [
    "rossman.duplicated().any()  "
   ]
  },
  {
   "cell_type": "markdown",
   "id": "673e8560",
   "metadata": {},
   "source": [
    "#### No existen duplicados en el dataset"
   ]
  },
  {
   "cell_type": "code",
   "execution_count": 4,
   "id": "cf51647d",
   "metadata": {},
   "outputs": [],
   "source": [
    "rossman.drop_duplicates(subset=None, inplace=True)  "
   ]
  },
  {
   "cell_type": "markdown",
   "id": "88a2f8f8",
   "metadata": {},
   "source": [
    "#### Aplicando la función, el Dataset se mantiene inalterado"
   ]
  },
  {
   "cell_type": "code",
   "execution_count": 5,
   "id": "f1150c39",
   "metadata": {},
   "outputs": [
    {
     "data": {
      "text/plain": [
       "Index(['Store', 'DayOfWeek', 'Date', 'Sales', 'Customers', 'Open', 'Promo',\n",
       "       'StateHoliday', 'SchoolHoliday', 'StoreType', 'Assortment',\n",
       "       'CompetitionDistance', 'CompetitionOpenSinceMonth',\n",
       "       'CompetitionOpenSinceYear', 'Promo2', 'Promo2SinceWeek',\n",
       "       'Promo2SinceYear', 'PromoInterval'],\n",
       "      dtype='object')"
      ]
     },
     "execution_count": 5,
     "metadata": {},
     "output_type": "execute_result"
    }
   ],
   "source": [
    "rossman.columns"
   ]
  },
  {
   "cell_type": "markdown",
   "id": "d7438a68",
   "metadata": {},
   "source": [
    "### 2.\tQuitar columnas duplicadas"
   ]
  },
  {
   "cell_type": "code",
   "execution_count": 6,
   "id": "5c6597fd",
   "metadata": {},
   "outputs": [
    {
     "data": {
      "text/plain": [
       "(5000, 18)"
      ]
     },
     "execution_count": 6,
     "metadata": {},
     "output_type": "execute_result"
    }
   ],
   "source": [
    "rossmanSinCR = rossman.T.drop_duplicates().T\n",
    "rossmanSinCR.shape"
   ]
  },
  {
   "cell_type": "markdown",
   "id": "4b378e04",
   "metadata": {},
   "source": [
    "#### No existen columnas repetidas"
   ]
  },
  {
   "cell_type": "markdown",
   "id": "318d9260",
   "metadata": {},
   "source": [
    "### 3. Identificar columnas que tienen valores constantes"
   ]
  },
  {
   "cell_type": "code",
   "execution_count": 7,
   "id": "e2c7a264",
   "metadata": {},
   "outputs": [],
   "source": [
    "def drop_constant_columns(dataframe):\n",
    "    result = dataframe.copy()\n",
    "    for column in dataframe.columns:\n",
    "        if len(dataframe[column].unique()) == 1:\n",
    "            result = result.drop(column,axis=1)\n",
    "    return result"
   ]
  },
  {
   "cell_type": "code",
   "execution_count": 8,
   "id": "470afe14",
   "metadata": {},
   "outputs": [
    {
     "data": {
      "text/plain": [
       "(5000, 18)"
      ]
     },
     "execution_count": 8,
     "metadata": {},
     "output_type": "execute_result"
    }
   ],
   "source": [
    "rossmanSinCK = drop_constant_columns(rossman)\n",
    "rossmanSinCK.shape  \n"
   ]
  },
  {
   "cell_type": "markdown",
   "id": "2f8e323f",
   "metadata": {},
   "source": [
    "####  El Datset no tiene valores constantes"
   ]
  },
  {
   "cell_type": "markdown",
   "id": "45a210b3",
   "metadata": {},
   "source": [
    "### 4.\tIdentifique el porcentaje de valores faltantes en las columnas"
   ]
  },
  {
   "cell_type": "code",
   "execution_count": 9,
   "id": "afa37674",
   "metadata": {},
   "outputs": [
    {
     "data": {
      "text/html": [
       "<div>\n",
       "<style scoped>\n",
       "    .dataframe tbody tr th:only-of-type {\n",
       "        vertical-align: middle;\n",
       "    }\n",
       "\n",
       "    .dataframe tbody tr th {\n",
       "        vertical-align: top;\n",
       "    }\n",
       "\n",
       "    .dataframe thead th {\n",
       "        text-align: right;\n",
       "    }\n",
       "</style>\n",
       "<table border=\"1\" class=\"dataframe\">\n",
       "  <thead>\n",
       "    <tr style=\"text-align: right;\">\n",
       "      <th></th>\n",
       "      <th>Total</th>\n",
       "      <th>Porcentaje</th>\n",
       "    </tr>\n",
       "  </thead>\n",
       "  <tbody>\n",
       "    <tr>\n",
       "      <th>PromoInterval</th>\n",
       "      <td>2497</td>\n",
       "      <td>0.4994</td>\n",
       "    </tr>\n",
       "    <tr>\n",
       "      <th>Promo2SinceYear</th>\n",
       "      <td>2497</td>\n",
       "      <td>0.4994</td>\n",
       "    </tr>\n",
       "    <tr>\n",
       "      <th>Promo2SinceWeek</th>\n",
       "      <td>2497</td>\n",
       "      <td>0.4994</td>\n",
       "    </tr>\n",
       "    <tr>\n",
       "      <th>CompetitionOpenSinceYear</th>\n",
       "      <td>1529</td>\n",
       "      <td>0.3058</td>\n",
       "    </tr>\n",
       "    <tr>\n",
       "      <th>CompetitionOpenSinceMonth</th>\n",
       "      <td>1529</td>\n",
       "      <td>0.3058</td>\n",
       "    </tr>\n",
       "    <tr>\n",
       "      <th>DayOfWeek</th>\n",
       "      <td>0</td>\n",
       "      <td>0.0000</td>\n",
       "    </tr>\n",
       "    <tr>\n",
       "      <th>Promo2</th>\n",
       "      <td>0</td>\n",
       "      <td>0.0000</td>\n",
       "    </tr>\n",
       "    <tr>\n",
       "      <th>CompetitionDistance</th>\n",
       "      <td>0</td>\n",
       "      <td>0.0000</td>\n",
       "    </tr>\n",
       "    <tr>\n",
       "      <th>Assortment</th>\n",
       "      <td>0</td>\n",
       "      <td>0.0000</td>\n",
       "    </tr>\n",
       "    <tr>\n",
       "      <th>Store</th>\n",
       "      <td>0</td>\n",
       "      <td>0.0000</td>\n",
       "    </tr>\n",
       "    <tr>\n",
       "      <th>SchoolHoliday</th>\n",
       "      <td>0</td>\n",
       "      <td>0.0000</td>\n",
       "    </tr>\n",
       "    <tr>\n",
       "      <th>StateHoliday</th>\n",
       "      <td>0</td>\n",
       "      <td>0.0000</td>\n",
       "    </tr>\n",
       "    <tr>\n",
       "      <th>Promo</th>\n",
       "      <td>0</td>\n",
       "      <td>0.0000</td>\n",
       "    </tr>\n",
       "    <tr>\n",
       "      <th>Open</th>\n",
       "      <td>0</td>\n",
       "      <td>0.0000</td>\n",
       "    </tr>\n",
       "    <tr>\n",
       "      <th>Customers</th>\n",
       "      <td>0</td>\n",
       "      <td>0.0000</td>\n",
       "    </tr>\n",
       "    <tr>\n",
       "      <th>Sales</th>\n",
       "      <td>0</td>\n",
       "      <td>0.0000</td>\n",
       "    </tr>\n",
       "    <tr>\n",
       "      <th>Date</th>\n",
       "      <td>0</td>\n",
       "      <td>0.0000</td>\n",
       "    </tr>\n",
       "    <tr>\n",
       "      <th>StoreType</th>\n",
       "      <td>0</td>\n",
       "      <td>0.0000</td>\n",
       "    </tr>\n",
       "  </tbody>\n",
       "</table>\n",
       "</div>"
      ],
      "text/plain": [
       "                           Total  Porcentaje\n",
       "PromoInterval               2497      0.4994\n",
       "Promo2SinceYear             2497      0.4994\n",
       "Promo2SinceWeek             2497      0.4994\n",
       "CompetitionOpenSinceYear    1529      0.3058\n",
       "CompetitionOpenSinceMonth   1529      0.3058\n",
       "DayOfWeek                      0      0.0000\n",
       "Promo2                         0      0.0000\n",
       "CompetitionDistance            0      0.0000\n",
       "Assortment                     0      0.0000\n",
       "Store                          0      0.0000\n",
       "SchoolHoliday                  0      0.0000\n",
       "StateHoliday                   0      0.0000\n",
       "Promo                          0      0.0000\n",
       "Open                           0      0.0000\n",
       "Customers                      0      0.0000\n",
       "Sales                          0      0.0000\n",
       "Date                           0      0.0000\n",
       "StoreType                      0      0.0000"
      ]
     },
     "execution_count": 9,
     "metadata": {},
     "output_type": "execute_result"
    }
   ],
   "source": [
    "total = rossman.isnull().sum().sort_values(ascending=False)\n",
    "porcentaje = (rossman.isnull().sum()/rossman.isnull().count()).sort_values(ascending=False)\n",
    "faltantes = pd.concat([total, porcentaje], axis=1, keys=['Total', 'Porcentaje'])\n",
    "faltantes  "
   ]
  },
  {
   "cell_type": "markdown",
   "id": "8434164f",
   "metadata": {},
   "source": [
    "### 5.\tAnalice el caso de los atributos que no serían apropiados para el dataset, por medio de gráficas. Cuáles decidiría usted de transformar o en su caso quitar, con el propósito de mejorar el dataset. Genere las siguientes gráficas:"
   ]
  },
  {
   "cell_type": "markdown",
   "id": "6d6b68e8",
   "metadata": {},
   "source": [
    "#### Histogramas"
   ]
  },
  {
   "cell_type": "code",
   "execution_count": 10,
   "id": "b4b3e1e0",
   "metadata": {},
   "outputs": [
    {
     "data": {
      "text/plain": [
       "array([[<AxesSubplot:title={'center':'Store'}>,\n",
       "        <AxesSubplot:title={'center':'DayOfWeek'}>,\n",
       "        <AxesSubplot:title={'center':'Sales'}>,\n",
       "        <AxesSubplot:title={'center':'Customers'}>],\n",
       "       [<AxesSubplot:title={'center':'Open'}>,\n",
       "        <AxesSubplot:title={'center':'Promo'}>,\n",
       "        <AxesSubplot:title={'center':'SchoolHoliday'}>,\n",
       "        <AxesSubplot:title={'center':'CompetitionDistance'}>],\n",
       "       [<AxesSubplot:title={'center':'CompetitionOpenSinceMonth'}>,\n",
       "        <AxesSubplot:title={'center':'CompetitionOpenSinceYear'}>,\n",
       "        <AxesSubplot:title={'center':'Promo2'}>,\n",
       "        <AxesSubplot:title={'center':'Promo2SinceWeek'}>],\n",
       "       [<AxesSubplot:title={'center':'Promo2SinceYear'}>, <AxesSubplot:>,\n",
       "        <AxesSubplot:>, <AxesSubplot:>]], dtype=object)"
      ]
     },
     "execution_count": 10,
     "metadata": {},
     "output_type": "execute_result"
    },
    {
     "data": {
      "image/png": "[encoded data removed]",
      "text/plain": [
       "<Figure size 1152x1440 with 16 Axes>"
      ]
     },
     "metadata": {},
     "output_type": "display_data"
    }
   ],
   "source": [
    "rossman.hist(figsize=(16, 20))"
   ]
  },
  {
   "cell_type": "markdown",
   "id": "1ca99e58",
   "metadata": {},
   "source": [
    "#### El campo Date no se visualiza en los gráficos de histogramas debido a que algunas fechas no tienen el formato correcto. Se debería transformar dicho campo y separarlo por dia, mes y año.\n",
    "#### Asimismo, los campos Promo2SinceWeek deberían señalar el mes o semana que empieza la promoción 2. De la forma que esta presentada en el DataSet no aporta información relevante en primera instancia.\n",
    "#### Finalmente, la variable PromoInterval debe ser transformada de modo que se señale el mes en que comienza la Promo2\n"
   ]
  },
  {
   "cell_type": "markdown",
   "id": "f954a8e1",
   "metadata": {},
   "source": [
    "#### ●  Quartiles"
   ]
  },
  {
   "cell_type": "code",
   "execution_count": 11,
   "id": "0f383c31",
   "metadata": {},
   "outputs": [
    {
     "data": {
      "text/plain": [
       "<AxesSubplot:xlabel='Open', ylabel='Sales'>"
      ]
     },
     "execution_count": 11,
     "metadata": {},
     "output_type": "execute_result"
    },
    {
     "data": {
      "image/png": "[encoded data removed]",
      "text/plain": [
       "<Figure size 432x288 with 1 Axes>"
      ]
     },
     "metadata": {},
     "output_type": "display_data"
    }
   ],
   "source": [
    "sb.boxplot(x='Open', y='Sales', data=rossman, palette='hls')"
   ]
  },
  {
   "cell_type": "code",
   "execution_count": 12,
   "id": "4f47d2c2",
   "metadata": {},
   "outputs": [
    {
     "data": {
      "text/plain": [
       "<AxesSubplot:xlabel='Promo', ylabel='Sales'>"
      ]
     },
     "execution_count": 12,
     "metadata": {},
     "output_type": "execute_result"
    },
    {
     "data": {
      "image/png": "[encoded data removed]",
      "text/plain": [
       "<Figure size 432x288 with 1 Axes>"
      ]
     },
     "metadata": {},
     "output_type": "display_data"
    }
   ],
   "source": [
    "sb.boxplot(x='Promo', y='Sales', data=rossman, palette='hls')"
   ]
  },
  {
   "cell_type": "code",
   "execution_count": 13,
   "id": "11388554",
   "metadata": {},
   "outputs": [
    {
     "data": {
      "text/plain": [
       "<AxesSubplot:xlabel='StateHoliday', ylabel='Sales'>"
      ]
     },
     "execution_count": 13,
     "metadata": {},
     "output_type": "execute_result"
    },
    {
     "data": {
      "image/png": "[encoded data removed]",
      "text/plain": [
       "<Figure size 432x288 with 1 Axes>"
      ]
     },
     "metadata": {},
     "output_type": "display_data"
    }
   ],
   "source": [
    "sb.boxplot(x='StateHoliday', y='Sales', data=rossman, palette='hls')"
   ]
  },
  {
   "cell_type": "code",
   "execution_count": 14,
   "id": "77028c92",
   "metadata": {},
   "outputs": [
    {
     "data": {
      "text/plain": [
       "<AxesSubplot:xlabel='SchoolHoliday', ylabel='Sales'>"
      ]
     },
     "execution_count": 14,
     "metadata": {},
     "output_type": "execute_result"
    },
    {
     "data": {
      "image/png": "[encoded data removed]",
      "text/plain": [
       "<Figure size 432x288 with 1 Axes>"
      ]
     },
     "metadata": {},
     "output_type": "display_data"
    }
   ],
   "source": [
    "sb.boxplot(x='SchoolHoliday', y='Sales', data=rossman, palette='hls')"
   ]
  },
  {
   "cell_type": "code",
   "execution_count": 15,
   "id": "a2a92371",
   "metadata": {},
   "outputs": [
    {
     "data": {
      "text/plain": [
       "<AxesSubplot:xlabel='StoreType', ylabel='Sales'>"
      ]
     },
     "execution_count": 15,
     "metadata": {},
     "output_type": "execute_result"
    },
    {
     "data": {
      "image/png": "[encoded data removed]",
      "text/plain": [
       "<Figure size 432x288 with 1 Axes>"
      ]
     },
     "metadata": {},
     "output_type": "display_data"
    }
   ],
   "source": [
    "sb.boxplot(x='StoreType', y='Sales', data=rossman, palette='hls')"
   ]
  },
  {
   "cell_type": "code",
   "execution_count": 16,
   "id": "8abc88fc",
   "metadata": {},
   "outputs": [
    {
     "data": {
      "text/plain": [
       "<AxesSubplot:xlabel='Assortment', ylabel='Sales'>"
      ]
     },
     "execution_count": 16,
     "metadata": {},
     "output_type": "execute_result"
    },
    {
     "data": {
      "image/png": "[encoded data removed]",
      "text/plain": [
       "<Figure size 432x288 with 1 Axes>"
      ]
     },
     "metadata": {},
     "output_type": "display_data"
    }
   ],
   "source": [
    "sb.boxplot(x='Assortment', y='Sales', data=rossman, palette='hls')"
   ]
  },
  {
   "cell_type": "markdown",
   "id": "9f5af36e",
   "metadata": {},
   "source": [
    "#### ●\tScatter plots\n"
   ]
  },
  {
   "cell_type": "code",
   "execution_count": 17,
   "id": "be605d5b",
   "metadata": {},
   "outputs": [
    {
     "data": {
      "text/plain": [
       "<AxesSubplot:xlabel='Customers', ylabel='Sales'>"
      ]
     },
     "execution_count": 17,
     "metadata": {},
     "output_type": "execute_result"
    },
    {
     "data": {
      "image/png": "[encoded data removed]",
      "text/plain": [
       "<Figure size 432x288 with 1 Axes>"
      ]
     },
     "metadata": {},
     "output_type": "display_data"
    }
   ],
   "source": [
    "sb.scatterplot(data=rossman, x=\"Customers\", y=\"Sales\", hue=\"Promo\", alpha=.6)"
   ]
  },
  {
   "cell_type": "code",
   "execution_count": 18,
   "id": "d13fb266",
   "metadata": {},
   "outputs": [
    {
     "data": {
      "text/plain": [
       "<AxesSubplot:xlabel='CompetitionDistance', ylabel='Sales'>"
      ]
     },
     "execution_count": 18,
     "metadata": {},
     "output_type": "execute_result"
    },
    {
     "data": {
      "image/png": "[encoded data removed]",
      "text/plain": [
       "<Figure size 432x288 with 1 Axes>"
      ]
     },
     "metadata": {},
     "output_type": "display_data"
    }
   ],
   "source": [
    "sb.scatterplot(data=rossman, x=\"CompetitionDistance\", y=\"Sales\", hue=\"Promo\", alpha=.6)"
   ]
  },
  {
   "cell_type": "code",
   "execution_count": 19,
   "id": "fceddb71",
   "metadata": {},
   "outputs": [
    {
     "data": {
      "text/plain": [
       "<AxesSubplot:xlabel='Customers', ylabel='Sales'>"
      ]
     },
     "execution_count": 19,
     "metadata": {},
     "output_type": "execute_result"
    },
    {
     "data": {
      "image/png": "[encoded data removed]",
      "text/plain": [
       "<Figure size 432x288 with 1 Axes>"
      ]
     },
     "metadata": {},
     "output_type": "display_data"
    }
   ],
   "source": [
    "sb.scatterplot(data=rossman, x=\"Customers\", y=\"Sales\", hue=\"StateHoliday\", alpha=.6)"
   ]
  },
  {
   "cell_type": "code",
   "execution_count": 20,
   "id": "8988f568",
   "metadata": {},
   "outputs": [
    {
     "data": {
      "text/plain": [
       "<AxesSubplot:xlabel='Customers', ylabel='Sales'>"
      ]
     },
     "execution_count": 20,
     "metadata": {},
     "output_type": "execute_result"
    },
    {
     "data": {
      "image/png": "[encoded data removed]",
      "text/plain": [
       "<Figure size 432x288 with 1 Axes>"
      ]
     },
     "metadata": {},
     "output_type": "display_data"
    }
   ],
   "source": [
    "sb.scatterplot(data=rossman, x=\"Customers\", y=\"Sales\", hue=\"StoreType\", alpha=.6)"
   ]
  },
  {
   "cell_type": "markdown",
   "id": "4b8ef466",
   "metadata": {},
   "source": [
    "#### ● Distributions\n"
   ]
  },
  {
   "cell_type": "code",
   "execution_count": 21,
   "id": "8f61b067",
   "metadata": {},
   "outputs": [
    {
     "data": {
      "text/plain": [
       "<AxesSubplot:xlabel='Sales', ylabel='Density'>"
      ]
     },
     "execution_count": 21,
     "metadata": {},
     "output_type": "execute_result"
    },
    {
     "data": {
      "image/png": "[encoded data removed]",
      "text/plain": [
       "<Figure size 432x288 with 1 Axes>"
      ]
     },
     "metadata": {},
     "output_type": "display_data"
    }
   ],
   "source": [
    "sb.distplot(rossman['Sales'])"
   ]
  },
  {
   "cell_type": "code",
   "execution_count": 22,
   "id": "a1743b34",
   "metadata": {},
   "outputs": [
    {
     "data": {
      "text/plain": [
       "<AxesSubplot:xlabel='CompetitionDistance', ylabel='Density'>"
      ]
     },
     "execution_count": 22,
     "metadata": {},
     "output_type": "execute_result"
    },
    {
     "data": {
      "image/png": "[encoded data removed]",
      "text/plain": [
       "<Figure size 432x288 with 1 Axes>"
      ]
     },
     "metadata": {},
     "output_type": "display_data"
    }
   ],
   "source": [
    "sb.distplot(rossman['CompetitionDistance'])"
   ]
  },
  {
   "cell_type": "code",
   "execution_count": 23,
   "id": "7736b766",
   "metadata": {},
   "outputs": [
    {
     "data": {
      "text/plain": [
       "<AxesSubplot:xlabel='Customers', ylabel='Density'>"
      ]
     },
     "execution_count": 23,
     "metadata": {},
     "output_type": "execute_result"
    },
    {
     "data": {
      "image/png": "[encoded data removed]",
      "text/plain": [
       "<Figure size 432x288 with 1 Axes>"
      ]
     },
     "metadata": {},
     "output_type": "display_data"
    }
   ],
   "source": [
    "sb.distplot(rossman['Customers'])"
   ]
  },
  {
   "cell_type": "markdown",
   "id": "b964690d",
   "metadata": {},
   "source": [
    "#### ● Heatmaps"
   ]
  },
  {
   "cell_type": "code",
   "execution_count": 24,
   "id": "2aa568ea",
   "metadata": {},
   "outputs": [
    {
     "data": {
      "text/plain": [
       "<AxesSubplot:xlabel='CompetitionDistance', ylabel='Promo'>"
      ]
     },
     "execution_count": 24,
     "metadata": {},
     "output_type": "execute_result"
    },
    {
     "data": {
      "image/png": "[encoded data removed]",
      "text/plain": [
       "<Figure size 864x648 with 2 Axes>"
      ]
     },
     "metadata": {},
     "output_type": "display_data"
    }
   ],
   "source": [
    "f, ax = plt.subplots(figsize=(12, 9))\n",
    "rossmanHeatMap=rossman[['Sales','CompetitionDistance','Promo']]\n",
    "\n",
    "heatmap1_data = pd.pivot_table(rossmanHeatMap, values='Sales', \n",
    "                     index=['Promo'], \n",
    "                     columns='CompetitionDistance')\n",
    "sb.heatmap(heatmap1_data, cmap=\"viridis\")\n"
   ]
  },
  {
   "cell_type": "markdown",
   "id": "91a74574",
   "metadata": {},
   "source": [
    "### 6.\tObtenga la matriz de correlación de las variables numéricas."
   ]
  },
  {
   "cell_type": "code",
   "execution_count": 25,
   "id": "9bb0c3e2",
   "metadata": {},
   "outputs": [
    {
     "data": {
      "text/html": [
       "<div>\n",
       "<style scoped>\n",
       "    .dataframe tbody tr th:only-of-type {\n",
       "        vertical-align: middle;\n",
       "    }\n",
       "\n",
       "    .dataframe tbody tr th {\n",
       "        vertical-align: top;\n",
       "    }\n",
       "\n",
       "    .dataframe thead th {\n",
       "        text-align: right;\n",
       "    }\n",
       "</style>\n",
       "<table border=\"1\" class=\"dataframe\">\n",
       "  <thead>\n",
       "    <tr style=\"text-align: right;\">\n",
       "      <th></th>\n",
       "      <th>Store</th>\n",
       "      <th>DayOfWeek</th>\n",
       "      <th>Sales</th>\n",
       "      <th>Customers</th>\n",
       "      <th>Open</th>\n",
       "      <th>Promo</th>\n",
       "      <th>SchoolHoliday</th>\n",
       "      <th>CompetitionDistance</th>\n",
       "      <th>CompetitionOpenSinceMonth</th>\n",
       "      <th>CompetitionOpenSinceYear</th>\n",
       "      <th>Promo2</th>\n",
       "      <th>Promo2SinceWeek</th>\n",
       "      <th>Promo2SinceYear</th>\n",
       "    </tr>\n",
       "  </thead>\n",
       "  <tbody>\n",
       "    <tr>\n",
       "      <th>Store</th>\n",
       "      <td>1.000000</td>\n",
       "      <td>0.007328</td>\n",
       "      <td>-0.006336</td>\n",
       "      <td>-0.002044</td>\n",
       "      <td>-0.005640</td>\n",
       "      <td>-0.001156</td>\n",
       "      <td>0.023658</td>\n",
       "      <td>-0.000746</td>\n",
       "      <td>0.001561</td>\n",
       "      <td>0.020674</td>\n",
       "      <td>0.006758</td>\n",
       "      <td>0.032085</td>\n",
       "      <td>-0.021478</td>\n",
       "    </tr>\n",
       "    <tr>\n",
       "      <th>DayOfWeek</th>\n",
       "      <td>0.007328</td>\n",
       "      <td>1.000000</td>\n",
       "      <td>-0.466284</td>\n",
       "      <td>-0.379915</td>\n",
       "      <td>-0.533832</td>\n",
       "      <td>-0.390240</td>\n",
       "      <td>-0.196871</td>\n",
       "      <td>0.004516</td>\n",
       "      <td>-0.007933</td>\n",
       "      <td>0.011986</td>\n",
       "      <td>-0.004891</td>\n",
       "      <td>-0.008108</td>\n",
       "      <td>0.021078</td>\n",
       "    </tr>\n",
       "    <tr>\n",
       "      <th>Sales</th>\n",
       "      <td>-0.006336</td>\n",
       "      <td>-0.466284</td>\n",
       "      <td>1.000000</td>\n",
       "      <td>0.892580</td>\n",
       "      <td>0.674644</td>\n",
       "      <td>0.446468</td>\n",
       "      <td>0.109038</td>\n",
       "      <td>-0.029147</td>\n",
       "      <td>-0.027478</td>\n",
       "      <td>0.011830</td>\n",
       "      <td>-0.106446</td>\n",
       "      <td>0.078716</td>\n",
       "      <td>-0.022570</td>\n",
       "    </tr>\n",
       "    <tr>\n",
       "      <th>Customers</th>\n",
       "      <td>-0.002044</td>\n",
       "      <td>-0.379915</td>\n",
       "      <td>0.892580</td>\n",
       "      <td>1.000000</td>\n",
       "      <td>0.605331</td>\n",
       "      <td>0.303503</td>\n",
       "      <td>0.096653</td>\n",
       "      <td>-0.115721</td>\n",
       "      <td>-0.039735</td>\n",
       "      <td>0.013763</td>\n",
       "      <td>-0.167134</td>\n",
       "      <td>0.054363</td>\n",
       "      <td>0.032426</td>\n",
       "    </tr>\n",
       "    <tr>\n",
       "      <th>Open</th>\n",
       "      <td>-0.005640</td>\n",
       "      <td>-0.533832</td>\n",
       "      <td>0.674644</td>\n",
       "      <td>0.605331</td>\n",
       "      <td>1.000000</td>\n",
       "      <td>0.295512</td>\n",
       "      <td>0.115792</td>\n",
       "      <td>0.000004</td>\n",
       "      <td>-0.006239</td>\n",
       "      <td>-0.008608</td>\n",
       "      <td>-0.018441</td>\n",
       "      <td>0.009817</td>\n",
       "      <td>-0.011466</td>\n",
       "    </tr>\n",
       "    <tr>\n",
       "      <th>Promo</th>\n",
       "      <td>-0.001156</td>\n",
       "      <td>-0.390240</td>\n",
       "      <td>0.446468</td>\n",
       "      <td>0.303503</td>\n",
       "      <td>0.295512</td>\n",
       "      <td>1.000000</td>\n",
       "      <td>0.063994</td>\n",
       "      <td>-0.013633</td>\n",
       "      <td>0.046225</td>\n",
       "      <td>-0.000236</td>\n",
       "      <td>-0.004236</td>\n",
       "      <td>0.002317</td>\n",
       "      <td>0.010611</td>\n",
       "    </tr>\n",
       "    <tr>\n",
       "      <th>SchoolHoliday</th>\n",
       "      <td>0.023658</td>\n",
       "      <td>-0.196871</td>\n",
       "      <td>0.109038</td>\n",
       "      <td>0.096653</td>\n",
       "      <td>0.115792</td>\n",
       "      <td>0.063994</td>\n",
       "      <td>1.000000</td>\n",
       "      <td>0.001020</td>\n",
       "      <td>0.029519</td>\n",
       "      <td>-0.044086</td>\n",
       "      <td>-0.022702</td>\n",
       "      <td>0.006464</td>\n",
       "      <td>-0.002074</td>\n",
       "    </tr>\n",
       "    <tr>\n",
       "      <th>CompetitionDistance</th>\n",
       "      <td>-0.000746</td>\n",
       "      <td>0.004516</td>\n",
       "      <td>-0.029147</td>\n",
       "      <td>-0.115721</td>\n",
       "      <td>0.000004</td>\n",
       "      <td>-0.013633</td>\n",
       "      <td>0.001020</td>\n",
       "      <td>1.000000</td>\n",
       "      <td>-0.070386</td>\n",
       "      <td>-0.034724</td>\n",
       "      <td>-0.121985</td>\n",
       "      <td>-0.020150</td>\n",
       "      <td>-0.127675</td>\n",
       "    </tr>\n",
       "    <tr>\n",
       "      <th>CompetitionOpenSinceMonth</th>\n",
       "      <td>0.001561</td>\n",
       "      <td>-0.007933</td>\n",
       "      <td>-0.027478</td>\n",
       "      <td>-0.039735</td>\n",
       "      <td>-0.006239</td>\n",
       "      <td>0.046225</td>\n",
       "      <td>0.029519</td>\n",
       "      <td>-0.070386</td>\n",
       "      <td>1.000000</td>\n",
       "      <td>0.149134</td>\n",
       "      <td>0.017952</td>\n",
       "      <td>-0.037676</td>\n",
       "      <td>0.045844</td>\n",
       "    </tr>\n",
       "    <tr>\n",
       "      <th>CompetitionOpenSinceYear</th>\n",
       "      <td>0.020674</td>\n",
       "      <td>0.011986</td>\n",
       "      <td>0.011830</td>\n",
       "      <td>0.013763</td>\n",
       "      <td>-0.008608</td>\n",
       "      <td>-0.000236</td>\n",
       "      <td>-0.044086</td>\n",
       "      <td>-0.034724</td>\n",
       "      <td>0.149134</td>\n",
       "      <td>1.000000</td>\n",
       "      <td>0.026432</td>\n",
       "      <td>0.060082</td>\n",
       "      <td>-0.033178</td>\n",
       "    </tr>\n",
       "    <tr>\n",
       "      <th>Promo2</th>\n",
       "      <td>0.006758</td>\n",
       "      <td>-0.004891</td>\n",
       "      <td>-0.106446</td>\n",
       "      <td>-0.167134</td>\n",
       "      <td>-0.018441</td>\n",
       "      <td>-0.004236</td>\n",
       "      <td>-0.022702</td>\n",
       "      <td>-0.121985</td>\n",
       "      <td>0.017952</td>\n",
       "      <td>0.026432</td>\n",
       "      <td>1.000000</td>\n",
       "      <td>NaN</td>\n",
       "      <td>NaN</td>\n",
       "    </tr>\n",
       "    <tr>\n",
       "      <th>Promo2SinceWeek</th>\n",
       "      <td>0.032085</td>\n",
       "      <td>-0.008108</td>\n",
       "      <td>0.078716</td>\n",
       "      <td>0.054363</td>\n",
       "      <td>0.009817</td>\n",
       "      <td>0.002317</td>\n",
       "      <td>0.006464</td>\n",
       "      <td>-0.020150</td>\n",
       "      <td>-0.037676</td>\n",
       "      <td>0.060082</td>\n",
       "      <td>NaN</td>\n",
       "      <td>1.000000</td>\n",
       "      <td>-0.225297</td>\n",
       "    </tr>\n",
       "    <tr>\n",
       "      <th>Promo2SinceYear</th>\n",
       "      <td>-0.021478</td>\n",
       "      <td>0.021078</td>\n",
       "      <td>-0.022570</td>\n",
       "      <td>0.032426</td>\n",
       "      <td>-0.011466</td>\n",
       "      <td>0.010611</td>\n",
       "      <td>-0.002074</td>\n",
       "      <td>-0.127675</td>\n",
       "      <td>0.045844</td>\n",
       "      <td>-0.033178</td>\n",
       "      <td>NaN</td>\n",
       "      <td>-0.225297</td>\n",
       "      <td>1.000000</td>\n",
       "    </tr>\n",
       "  </tbody>\n",
       "</table>\n",
       "</div>"
      ],
      "text/plain": [
       "                              Store  DayOfWeek     Sales  Customers      Open  \\\n",
       "Store                      1.000000   0.007328 -0.006336  -0.002044 -0.005640   \n",
       "DayOfWeek                  0.007328   1.000000 -0.466284  -0.379915 -0.533832   \n",
       "Sales                     -0.006336  -0.466284  1.000000   0.892580  0.674644   \n",
       "Customers                 -0.002044  -0.379915  0.892580   1.000000  0.605331   \n",
       "Open                      -0.005640  -0.533832  0.674644   0.605331  1.000000   \n",
       "Promo                     -0.001156  -0.390240  0.446468   0.303503  0.295512   \n",
       "SchoolHoliday              0.023658  -0.196871  0.109038   0.096653  0.115792   \n",
       "CompetitionDistance       -0.000746   0.004516 -0.029147  -0.115721  0.000004   \n",
       "CompetitionOpenSinceMonth  0.001561  -0.007933 -0.027478  -0.039735 -0.006239   \n",
       "CompetitionOpenSinceYear   0.020674   0.011986  0.011830   0.013763 -0.008608   \n",
       "Promo2                     0.006758  -0.004891 -0.106446  -0.167134 -0.018441   \n",
       "Promo2SinceWeek            0.032085  -0.008108  0.078716   0.054363  0.009817   \n",
       "Promo2SinceYear           -0.021478   0.021078 -0.022570   0.032426 -0.011466   \n",
       "\n",
       "                              Promo  SchoolHoliday  CompetitionDistance  \\\n",
       "Store                     -0.001156       0.023658            -0.000746   \n",
       "DayOfWeek                 -0.390240      -0.196871             0.004516   \n",
       "Sales                      0.446468       0.109038            -0.029147   \n",
       "Customers                  0.303503       0.096653            -0.115721   \n",
       "Open                       0.295512       0.115792             0.000004   \n",
       "Promo                      1.000000       0.063994            -0.013633   \n",
       "SchoolHoliday              0.063994       1.000000             0.001020   \n",
       "CompetitionDistance       -0.013633       0.001020             1.000000   \n",
       "CompetitionOpenSinceMonth  0.046225       0.029519            -0.070386   \n",
       "CompetitionOpenSinceYear  -0.000236      -0.044086            -0.034724   \n",
       "Promo2                    -0.004236      -0.022702            -0.121985   \n",
       "Promo2SinceWeek            0.002317       0.006464            -0.020150   \n",
       "Promo2SinceYear            0.010611      -0.002074            -0.127675   \n",
       "\n",
       "                           CompetitionOpenSinceMonth  \\\n",
       "Store                                       0.001561   \n",
       "DayOfWeek                                  -0.007933   \n",
       "Sales                                      -0.027478   \n",
       "Customers                                  -0.039735   \n",
       "Open                                       -0.006239   \n",
       "Promo                                       0.046225   \n",
       "SchoolHoliday                               0.029519   \n",
       "CompetitionDistance                        -0.070386   \n",
       "CompetitionOpenSinceMonth                   1.000000   \n",
       "CompetitionOpenSinceYear                    0.149134   \n",
       "Promo2                                      0.017952   \n",
       "Promo2SinceWeek                            -0.037676   \n",
       "Promo2SinceYear                             0.045844   \n",
       "\n",
       "                           CompetitionOpenSinceYear    Promo2  \\\n",
       "Store                                      0.020674  0.006758   \n",
       "DayOfWeek                                  0.011986 -0.004891   \n",
       "Sales                                      0.011830 -0.106446   \n",
       "Customers                                  0.013763 -0.167134   \n",
       "Open                                      -0.008608 -0.018441   \n",
       "Promo                                     -0.000236 -0.004236   \n",
       "SchoolHoliday                             -0.044086 -0.022702   \n",
       "CompetitionDistance                       -0.034724 -0.121985   \n",
       "CompetitionOpenSinceMonth                  0.149134  0.017952   \n",
       "CompetitionOpenSinceYear                   1.000000  0.026432   \n",
       "Promo2                                     0.026432  1.000000   \n",
       "Promo2SinceWeek                            0.060082       NaN   \n",
       "Promo2SinceYear                           -0.033178       NaN   \n",
       "\n",
       "                           Promo2SinceWeek  Promo2SinceYear  \n",
       "Store                             0.032085        -0.021478  \n",
       "DayOfWeek                        -0.008108         0.021078  \n",
       "Sales                             0.078716        -0.022570  \n",
       "Customers                         0.054363         0.032426  \n",
       "Open                              0.009817        -0.011466  \n",
       "Promo                             0.002317         0.010611  \n",
       "SchoolHoliday                     0.006464        -0.002074  \n",
       "CompetitionDistance              -0.020150        -0.127675  \n",
       "CompetitionOpenSinceMonth        -0.037676         0.045844  \n",
       "CompetitionOpenSinceYear          0.060082        -0.033178  \n",
       "Promo2                                 NaN              NaN  \n",
       "Promo2SinceWeek                   1.000000        -0.225297  \n",
       "Promo2SinceYear                  -0.225297         1.000000  "
      ]
     },
     "execution_count": 25,
     "metadata": {},
     "output_type": "execute_result"
    }
   ],
   "source": [
    "rossman.corr()"
   ]
  },
  {
   "cell_type": "code",
   "execution_count": 26,
   "id": "cc7fd1c1",
   "metadata": {},
   "outputs": [
    {
     "data": {
      "text/plain": [
       "(13.5, -0.5)"
      ]
     },
     "execution_count": 26,
     "metadata": {},
     "output_type": "execute_result"
    },
    {
     "data": {
      "image/png": "[encoded data removed]",
      "text/plain": [
       "<Figure size 864x648 with 2 Axes>"
      ]
     },
     "metadata": {},
     "output_type": "display_data"
    }
   ],
   "source": [
    "corrmat = rossman.corr()\n",
    "f, ax = plt.subplots(figsize=(12, 9))\n",
    "sb.heatmap(corrmat, vmax=.8, square=True);\n",
    "bottom, top = ax.get_ylim()\n",
    "ax.set_ylim(bottom+0.5, top-0.5)"
   ]
  },
  {
   "cell_type": "markdown",
   "id": "0db7f9c2",
   "metadata": {},
   "source": [
    "### 7. Mapear Day of Week con los días en literal."
   ]
  },
  {
   "cell_type": "code",
   "execution_count": 27,
   "id": "75af240e",
   "metadata": {},
   "outputs": [
    {
     "data": {
      "text/html": [
       "<div>\n",
       "<style scoped>\n",
       "    .dataframe tbody tr th:only-of-type {\n",
       "        vertical-align: middle;\n",
       "    }\n",
       "\n",
       "    .dataframe tbody tr th {\n",
       "        vertical-align: top;\n",
       "    }\n",
       "\n",
       "    .dataframe thead th {\n",
       "        text-align: right;\n",
       "    }\n",
       "</style>\n",
       "<table border=\"1\" class=\"dataframe\">\n",
       "  <thead>\n",
       "    <tr style=\"text-align: right;\">\n",
       "      <th></th>\n",
       "      <th>Store</th>\n",
       "      <th>DayOfWeek</th>\n",
       "      <th>Date</th>\n",
       "      <th>Sales</th>\n",
       "      <th>Customers</th>\n",
       "      <th>Open</th>\n",
       "      <th>Promo</th>\n",
       "      <th>StateHoliday</th>\n",
       "      <th>SchoolHoliday</th>\n",
       "      <th>StoreType</th>\n",
       "      <th>Assortment</th>\n",
       "      <th>CompetitionDistance</th>\n",
       "      <th>CompetitionOpenSinceMonth</th>\n",
       "      <th>CompetitionOpenSinceYear</th>\n",
       "      <th>Promo2</th>\n",
       "      <th>Promo2SinceWeek</th>\n",
       "      <th>Promo2SinceYear</th>\n",
       "      <th>PromoInterval</th>\n",
       "      <th>DiaLiteral</th>\n",
       "    </tr>\n",
       "  </thead>\n",
       "  <tbody>\n",
       "    <tr>\n",
       "      <th>0</th>\n",
       "      <td>107</td>\n",
       "      <td>6</td>\n",
       "      <td>5/23/15</td>\n",
       "      <td>3918</td>\n",
       "      <td>378</td>\n",
       "      <td>1</td>\n",
       "      <td>0</td>\n",
       "      <td>0</td>\n",
       "      <td>0</td>\n",
       "      <td>d</td>\n",
       "      <td>a</td>\n",
       "      <td>0</td>\n",
       "      <td>0.0</td>\n",
       "      <td>0.0</td>\n",
       "      <td>1</td>\n",
       "      <td>5.0</td>\n",
       "      <td>2013.0</td>\n",
       "      <td>Feb,May,Aug,Nov</td>\n",
       "      <td>Sábado</td>\n",
       "    </tr>\n",
       "    <tr>\n",
       "      <th>1</th>\n",
       "      <td>492</td>\n",
       "      <td>3</td>\n",
       "      <td>6/5/2013</td>\n",
       "      <td>8856</td>\n",
       "      <td>901</td>\n",
       "      <td>1</td>\n",
       "      <td>1</td>\n",
       "      <td>0</td>\n",
       "      <td>0</td>\n",
       "      <td>d</td>\n",
       "      <td>a</td>\n",
       "      <td>0</td>\n",
       "      <td>0.0</td>\n",
       "      <td>0.0</td>\n",
       "      <td>0</td>\n",
       "      <td>NaN</td>\n",
       "      <td>NaN</td>\n",
       "      <td>NaN</td>\n",
       "      <td>Miercoles</td>\n",
       "    </tr>\n",
       "    <tr>\n",
       "      <th>2</th>\n",
       "      <td>57</td>\n",
       "      <td>1</td>\n",
       "      <td>12/30/13</td>\n",
       "      <td>5940</td>\n",
       "      <td>577</td>\n",
       "      <td>1</td>\n",
       "      <td>0</td>\n",
       "      <td>0</td>\n",
       "      <td>1</td>\n",
       "      <td>a</td>\n",
       "      <td>c</td>\n",
       "      <td>0</td>\n",
       "      <td>0.0</td>\n",
       "      <td>0.0</td>\n",
       "      <td>0</td>\n",
       "      <td>NaN</td>\n",
       "      <td>NaN</td>\n",
       "      <td>NaN</td>\n",
       "      <td>Lunes</td>\n",
       "    </tr>\n",
       "    <tr>\n",
       "      <th>3</th>\n",
       "      <td>260</td>\n",
       "      <td>5</td>\n",
       "      <td>1/2/2015</td>\n",
       "      <td>4311</td>\n",
       "      <td>439</td>\n",
       "      <td>1</td>\n",
       "      <td>0</td>\n",
       "      <td>0</td>\n",
       "      <td>1</td>\n",
       "      <td>a</td>\n",
       "      <td>c</td>\n",
       "      <td>0</td>\n",
       "      <td>0.0</td>\n",
       "      <td>0.0</td>\n",
       "      <td>0</td>\n",
       "      <td>NaN</td>\n",
       "      <td>NaN</td>\n",
       "      <td>NaN</td>\n",
       "      <td>Viernes</td>\n",
       "    </tr>\n",
       "    <tr>\n",
       "      <th>4</th>\n",
       "      <td>932</td>\n",
       "      <td>4</td>\n",
       "      <td>4/4/2013</td>\n",
       "      <td>3294</td>\n",
       "      <td>345</td>\n",
       "      <td>1</td>\n",
       "      <td>0</td>\n",
       "      <td>0</td>\n",
       "      <td>1</td>\n",
       "      <td>d</td>\n",
       "      <td>a</td>\n",
       "      <td>0</td>\n",
       "      <td>0.0</td>\n",
       "      <td>0.0</td>\n",
       "      <td>1</td>\n",
       "      <td>5.0</td>\n",
       "      <td>2013.0</td>\n",
       "      <td>Feb,May,Aug,Nov</td>\n",
       "      <td>Jueves</td>\n",
       "    </tr>\n",
       "  </tbody>\n",
       "</table>\n",
       "</div>"
      ],
      "text/plain": [
       "   Store  DayOfWeek      Date  Sales  Customers  Open  Promo StateHoliday  \\\n",
       "0    107          6   5/23/15   3918        378     1      0            0   \n",
       "1    492          3  6/5/2013   8856        901     1      1            0   \n",
       "2     57          1  12/30/13   5940        577     1      0            0   \n",
       "3    260          5  1/2/2015   4311        439     1      0            0   \n",
       "4    932          4  4/4/2013   3294        345     1      0            0   \n",
       "\n",
       "   SchoolHoliday StoreType Assortment  CompetitionDistance  \\\n",
       "0              0         d          a                    0   \n",
       "1              0         d          a                    0   \n",
       "2              1         a          c                    0   \n",
       "3              1         a          c                    0   \n",
       "4              1         d          a                    0   \n",
       "\n",
       "   CompetitionOpenSinceMonth  CompetitionOpenSinceYear  Promo2  \\\n",
       "0                        0.0                       0.0       1   \n",
       "1                        0.0                       0.0       0   \n",
       "2                        0.0                       0.0       0   \n",
       "3                        0.0                       0.0       0   \n",
       "4                        0.0                       0.0       1   \n",
       "\n",
       "   Promo2SinceWeek  Promo2SinceYear    PromoInterval DiaLiteral  \n",
       "0              5.0           2013.0  Feb,May,Aug,Nov     Sábado  \n",
       "1              NaN              NaN              NaN  Miercoles  \n",
       "2              NaN              NaN              NaN      Lunes  \n",
       "3              NaN              NaN              NaN    Viernes  \n",
       "4              5.0           2013.0  Feb,May,Aug,Nov     Jueves  "
      ]
     },
     "execution_count": 27,
     "metadata": {},
     "output_type": "execute_result"
    }
   ],
   "source": [
    "semanadic = {1: \"Lunes\",2: \"Martes\",3: \"Miercoles\",4: \"Jueves\",5: \"Viernes\",6: \"Sábado\",7: \"Domingo\",}\n",
    "rossman['DiaLiteral'] = rossman['DayOfWeek'].map(semanadic)\n",
    "rossman.head()"
   ]
  },
  {
   "cell_type": "markdown",
   "id": "c7cf1a9f",
   "metadata": {},
   "source": [
    "### 8.\tObtenga la tabla de relación de frecuencias entre los atributos StoreType y Assortment\n"
   ]
  },
  {
   "cell_type": "code",
   "execution_count": 28,
   "id": "a436f94b",
   "metadata": {},
   "outputs": [
    {
     "data": {
      "text/html": [
       "<div>\n",
       "<style scoped>\n",
       "    .dataframe tbody tr th:only-of-type {\n",
       "        vertical-align: middle;\n",
       "    }\n",
       "\n",
       "    .dataframe tbody tr th {\n",
       "        vertical-align: top;\n",
       "    }\n",
       "\n",
       "    .dataframe thead th {\n",
       "        text-align: right;\n",
       "    }\n",
       "</style>\n",
       "<table border=\"1\" class=\"dataframe\">\n",
       "  <thead>\n",
       "    <tr style=\"text-align: right;\">\n",
       "      <th>Assortment</th>\n",
       "      <th>a</th>\n",
       "      <th>b</th>\n",
       "      <th>c</th>\n",
       "      <th>All</th>\n",
       "    </tr>\n",
       "    <tr>\n",
       "      <th>StoreType</th>\n",
       "      <th></th>\n",
       "      <th></th>\n",
       "      <th></th>\n",
       "      <th></th>\n",
       "    </tr>\n",
       "  </thead>\n",
       "  <tbody>\n",
       "    <tr>\n",
       "      <th>a</th>\n",
       "      <td>1718</td>\n",
       "      <td>0</td>\n",
       "      <td>1026</td>\n",
       "      <td>2744</td>\n",
       "    </tr>\n",
       "    <tr>\n",
       "      <th>b</th>\n",
       "      <td>39</td>\n",
       "      <td>48</td>\n",
       "      <td>7</td>\n",
       "      <td>94</td>\n",
       "    </tr>\n",
       "    <tr>\n",
       "      <th>c</th>\n",
       "      <td>306</td>\n",
       "      <td>0</td>\n",
       "      <td>337</td>\n",
       "      <td>643</td>\n",
       "    </tr>\n",
       "    <tr>\n",
       "      <th>d</th>\n",
       "      <td>587</td>\n",
       "      <td>0</td>\n",
       "      <td>932</td>\n",
       "      <td>1519</td>\n",
       "    </tr>\n",
       "    <tr>\n",
       "      <th>All</th>\n",
       "      <td>2650</td>\n",
       "      <td>48</td>\n",
       "      <td>2302</td>\n",
       "      <td>5000</td>\n",
       "    </tr>\n",
       "  </tbody>\n",
       "</table>\n",
       "</div>"
      ],
      "text/plain": [
       "Assortment     a   b     c   All\n",
       "StoreType                       \n",
       "a           1718   0  1026  2744\n",
       "b             39  48     7    94\n",
       "c            306   0   337   643\n",
       "d            587   0   932  1519\n",
       "All         2650  48  2302  5000"
      ]
     },
     "execution_count": 28,
     "metadata": {},
     "output_type": "execute_result"
    }
   ],
   "source": [
    "pd.crosstab(index=rossman[\"StoreType\"], \n",
    "            columns=rossman[\"Assortment\"], margins=True)"
   ]
  },
  {
   "cell_type": "markdown",
   "id": "92e2bedb",
   "metadata": {},
   "source": [
    "### 9.\tMapear el atributo CompetitionOpenSinceMonth con los meses del año en literal y rellenar los valores faltantes “?” con el mes que tenga la mayor frecuencia."
   ]
  },
  {
   "cell_type": "code",
   "execution_count": 29,
   "id": "6ca51859",
   "metadata": {},
   "outputs": [
    {
     "data": {
      "text/html": [
       "<div>\n",
       "<style scoped>\n",
       "    .dataframe tbody tr th:only-of-type {\n",
       "        vertical-align: middle;\n",
       "    }\n",
       "\n",
       "    .dataframe tbody tr th {\n",
       "        vertical-align: top;\n",
       "    }\n",
       "\n",
       "    .dataframe thead th {\n",
       "        text-align: right;\n",
       "    }\n",
       "</style>\n",
       "<table border=\"1\" class=\"dataframe\">\n",
       "  <thead>\n",
       "    <tr style=\"text-align: right;\">\n",
       "      <th></th>\n",
       "      <th>Store</th>\n",
       "      <th>DayOfWeek</th>\n",
       "      <th>Date</th>\n",
       "      <th>Sales</th>\n",
       "      <th>Customers</th>\n",
       "      <th>Open</th>\n",
       "      <th>Promo</th>\n",
       "      <th>StateHoliday</th>\n",
       "      <th>SchoolHoliday</th>\n",
       "      <th>StoreType</th>\n",
       "      <th>Assortment</th>\n",
       "      <th>CompetitionDistance</th>\n",
       "      <th>CompetitionOpenSinceMonth</th>\n",
       "      <th>CompetitionOpenSinceYear</th>\n",
       "      <th>Promo2</th>\n",
       "      <th>Promo2SinceWeek</th>\n",
       "      <th>Promo2SinceYear</th>\n",
       "      <th>PromoInterval</th>\n",
       "      <th>DiaLiteral</th>\n",
       "      <th>CompetenciaDesdeMes</th>\n",
       "    </tr>\n",
       "  </thead>\n",
       "  <tbody>\n",
       "    <tr>\n",
       "      <th>0</th>\n",
       "      <td>107</td>\n",
       "      <td>6</td>\n",
       "      <td>5/23/15</td>\n",
       "      <td>3918</td>\n",
       "      <td>378</td>\n",
       "      <td>1</td>\n",
       "      <td>0</td>\n",
       "      <td>0</td>\n",
       "      <td>0</td>\n",
       "      <td>d</td>\n",
       "      <td>a</td>\n",
       "      <td>0</td>\n",
       "      <td>0.0</td>\n",
       "      <td>0.0</td>\n",
       "      <td>1</td>\n",
       "      <td>5.0</td>\n",
       "      <td>2013.0</td>\n",
       "      <td>Feb,May,Aug,Nov</td>\n",
       "      <td>Sábado</td>\n",
       "      <td>NaN</td>\n",
       "    </tr>\n",
       "    <tr>\n",
       "      <th>1</th>\n",
       "      <td>492</td>\n",
       "      <td>3</td>\n",
       "      <td>6/5/2013</td>\n",
       "      <td>8856</td>\n",
       "      <td>901</td>\n",
       "      <td>1</td>\n",
       "      <td>1</td>\n",
       "      <td>0</td>\n",
       "      <td>0</td>\n",
       "      <td>d</td>\n",
       "      <td>a</td>\n",
       "      <td>0</td>\n",
       "      <td>0.0</td>\n",
       "      <td>0.0</td>\n",
       "      <td>0</td>\n",
       "      <td>NaN</td>\n",
       "      <td>NaN</td>\n",
       "      <td>NaN</td>\n",
       "      <td>Miercoles</td>\n",
       "      <td>NaN</td>\n",
       "    </tr>\n",
       "    <tr>\n",
       "      <th>2</th>\n",
       "      <td>57</td>\n",
       "      <td>1</td>\n",
       "      <td>12/30/13</td>\n",
       "      <td>5940</td>\n",
       "      <td>577</td>\n",
       "      <td>1</td>\n",
       "      <td>0</td>\n",
       "      <td>0</td>\n",
       "      <td>1</td>\n",
       "      <td>a</td>\n",
       "      <td>c</td>\n",
       "      <td>0</td>\n",
       "      <td>0.0</td>\n",
       "      <td>0.0</td>\n",
       "      <td>0</td>\n",
       "      <td>NaN</td>\n",
       "      <td>NaN</td>\n",
       "      <td>NaN</td>\n",
       "      <td>Lunes</td>\n",
       "      <td>NaN</td>\n",
       "    </tr>\n",
       "    <tr>\n",
       "      <th>3</th>\n",
       "      <td>260</td>\n",
       "      <td>5</td>\n",
       "      <td>1/2/2015</td>\n",
       "      <td>4311</td>\n",
       "      <td>439</td>\n",
       "      <td>1</td>\n",
       "      <td>0</td>\n",
       "      <td>0</td>\n",
       "      <td>1</td>\n",
       "      <td>a</td>\n",
       "      <td>c</td>\n",
       "      <td>0</td>\n",
       "      <td>0.0</td>\n",
       "      <td>0.0</td>\n",
       "      <td>0</td>\n",
       "      <td>NaN</td>\n",
       "      <td>NaN</td>\n",
       "      <td>NaN</td>\n",
       "      <td>Viernes</td>\n",
       "      <td>NaN</td>\n",
       "    </tr>\n",
       "    <tr>\n",
       "      <th>4</th>\n",
       "      <td>932</td>\n",
       "      <td>4</td>\n",
       "      <td>4/4/2013</td>\n",
       "      <td>3294</td>\n",
       "      <td>345</td>\n",
       "      <td>1</td>\n",
       "      <td>0</td>\n",
       "      <td>0</td>\n",
       "      <td>1</td>\n",
       "      <td>d</td>\n",
       "      <td>a</td>\n",
       "      <td>0</td>\n",
       "      <td>0.0</td>\n",
       "      <td>0.0</td>\n",
       "      <td>1</td>\n",
       "      <td>5.0</td>\n",
       "      <td>2013.0</td>\n",
       "      <td>Feb,May,Aug,Nov</td>\n",
       "      <td>Jueves</td>\n",
       "      <td>NaN</td>\n",
       "    </tr>\n",
       "    <tr>\n",
       "      <th>...</th>\n",
       "      <td>...</td>\n",
       "      <td>...</td>\n",
       "      <td>...</td>\n",
       "      <td>...</td>\n",
       "      <td>...</td>\n",
       "      <td>...</td>\n",
       "      <td>...</td>\n",
       "      <td>...</td>\n",
       "      <td>...</td>\n",
       "      <td>...</td>\n",
       "      <td>...</td>\n",
       "      <td>...</td>\n",
       "      <td>...</td>\n",
       "      <td>...</td>\n",
       "      <td>...</td>\n",
       "      <td>...</td>\n",
       "      <td>...</td>\n",
       "      <td>...</td>\n",
       "      <td>...</td>\n",
       "      <td>...</td>\n",
       "    </tr>\n",
       "    <tr>\n",
       "      <th>4995</th>\n",
       "      <td>773</td>\n",
       "      <td>3</td>\n",
       "      <td>9/24/14</td>\n",
       "      <td>3933</td>\n",
       "      <td>595</td>\n",
       "      <td>1</td>\n",
       "      <td>0</td>\n",
       "      <td>0</td>\n",
       "      <td>0</td>\n",
       "      <td>a</td>\n",
       "      <td>a</td>\n",
       "      <td>30</td>\n",
       "      <td>7.0</td>\n",
       "      <td>2002.0</td>\n",
       "      <td>0</td>\n",
       "      <td>NaN</td>\n",
       "      <td>NaN</td>\n",
       "      <td>NaN</td>\n",
       "      <td>Miercoles</td>\n",
       "      <td>Julio</td>\n",
       "    </tr>\n",
       "    <tr>\n",
       "      <th>4996</th>\n",
       "      <td>955</td>\n",
       "      <td>2</td>\n",
       "      <td>2/25/14</td>\n",
       "      <td>4775</td>\n",
       "      <td>682</td>\n",
       "      <td>1</td>\n",
       "      <td>0</td>\n",
       "      <td>0</td>\n",
       "      <td>0</td>\n",
       "      <td>a</td>\n",
       "      <td>c</td>\n",
       "      <td>20</td>\n",
       "      <td>NaN</td>\n",
       "      <td>NaN</td>\n",
       "      <td>1</td>\n",
       "      <td>35.0</td>\n",
       "      <td>2010.0</td>\n",
       "      <td>Mar,Jun,Sept,Dec</td>\n",
       "      <td>Martes</td>\n",
       "      <td>NaN</td>\n",
       "    </tr>\n",
       "    <tr>\n",
       "      <th>4997</th>\n",
       "      <td>1011</td>\n",
       "      <td>6</td>\n",
       "      <td>1/25/14</td>\n",
       "      <td>4463</td>\n",
       "      <td>601</td>\n",
       "      <td>1</td>\n",
       "      <td>0</td>\n",
       "      <td>0</td>\n",
       "      <td>0</td>\n",
       "      <td>a</td>\n",
       "      <td>c</td>\n",
       "      <td>20</td>\n",
       "      <td>NaN</td>\n",
       "      <td>NaN</td>\n",
       "      <td>1</td>\n",
       "      <td>35.0</td>\n",
       "      <td>2010.0</td>\n",
       "      <td>Mar,Jun,Sept,Dec</td>\n",
       "      <td>Sábado</td>\n",
       "      <td>NaN</td>\n",
       "    </tr>\n",
       "    <tr>\n",
       "      <th>4998</th>\n",
       "      <td>932</td>\n",
       "      <td>6</td>\n",
       "      <td>10/25/14</td>\n",
       "      <td>4362</td>\n",
       "      <td>631</td>\n",
       "      <td>1</td>\n",
       "      <td>0</td>\n",
       "      <td>0</td>\n",
       "      <td>0</td>\n",
       "      <td>a</td>\n",
       "      <td>c</td>\n",
       "      <td>20</td>\n",
       "      <td>NaN</td>\n",
       "      <td>NaN</td>\n",
       "      <td>1</td>\n",
       "      <td>35.0</td>\n",
       "      <td>2010.0</td>\n",
       "      <td>Mar,Jun,Sept,Dec</td>\n",
       "      <td>Sábado</td>\n",
       "      <td>NaN</td>\n",
       "    </tr>\n",
       "    <tr>\n",
       "      <th>4999</th>\n",
       "      <td>77</td>\n",
       "      <td>3</td>\n",
       "      <td>2/26/14</td>\n",
       "      <td>4357</td>\n",
       "      <td>670</td>\n",
       "      <td>1</td>\n",
       "      <td>0</td>\n",
       "      <td>0</td>\n",
       "      <td>0</td>\n",
       "      <td>a</td>\n",
       "      <td>c</td>\n",
       "      <td>20</td>\n",
       "      <td>NaN</td>\n",
       "      <td>NaN</td>\n",
       "      <td>1</td>\n",
       "      <td>35.0</td>\n",
       "      <td>2010.0</td>\n",
       "      <td>Mar,Jun,Sept,Dec</td>\n",
       "      <td>Miercoles</td>\n",
       "      <td>NaN</td>\n",
       "    </tr>\n",
       "  </tbody>\n",
       "</table>\n",
       "<p>5000 rows × 20 columns</p>\n",
       "</div>"
      ],
      "text/plain": [
       "      Store  DayOfWeek      Date  Sales  Customers  Open  Promo StateHoliday  \\\n",
       "0       107          6   5/23/15   3918        378     1      0            0   \n",
       "1       492          3  6/5/2013   8856        901     1      1            0   \n",
       "2        57          1  12/30/13   5940        577     1      0            0   \n",
       "3       260          5  1/2/2015   4311        439     1      0            0   \n",
       "4       932          4  4/4/2013   3294        345     1      0            0   \n",
       "...     ...        ...       ...    ...        ...   ...    ...          ...   \n",
       "4995    773          3   9/24/14   3933        595     1      0            0   \n",
       "4996    955          2   2/25/14   4775        682     1      0            0   \n",
       "4997   1011          6   1/25/14   4463        601     1      0            0   \n",
       "4998    932          6  10/25/14   4362        631     1      0            0   \n",
       "4999     77          3   2/26/14   4357        670     1      0            0   \n",
       "\n",
       "      SchoolHoliday StoreType Assortment  CompetitionDistance  \\\n",
       "0                 0         d          a                    0   \n",
       "1                 0         d          a                    0   \n",
       "2                 1         a          c                    0   \n",
       "3                 1         a          c                    0   \n",
       "4                 1         d          a                    0   \n",
       "...             ...       ...        ...                  ...   \n",
       "4995              0         a          a                   30   \n",
       "4996              0         a          c                   20   \n",
       "4997              0         a          c                   20   \n",
       "4998              0         a          c                   20   \n",
       "4999              0         a          c                   20   \n",
       "\n",
       "      CompetitionOpenSinceMonth  CompetitionOpenSinceYear  Promo2  \\\n",
       "0                           0.0                       0.0       1   \n",
       "1                           0.0                       0.0       0   \n",
       "2                           0.0                       0.0       0   \n",
       "3                           0.0                       0.0       0   \n",
       "4                           0.0                       0.0       1   \n",
       "...                         ...                       ...     ...   \n",
       "4995                        7.0                    2002.0       0   \n",
       "4996                        NaN                       NaN       1   \n",
       "4997                        NaN                       NaN       1   \n",
       "4998                        NaN                       NaN       1   \n",
       "4999                        NaN                       NaN       1   \n",
       "\n",
       "      Promo2SinceWeek  Promo2SinceYear     PromoInterval DiaLiteral  \\\n",
       "0                 5.0           2013.0   Feb,May,Aug,Nov     Sábado   \n",
       "1                 NaN              NaN               NaN  Miercoles   \n",
       "2                 NaN              NaN               NaN      Lunes   \n",
       "3                 NaN              NaN               NaN    Viernes   \n",
       "4                 5.0           2013.0   Feb,May,Aug,Nov     Jueves   \n",
       "...               ...              ...               ...        ...   \n",
       "4995              NaN              NaN               NaN  Miercoles   \n",
       "4996             35.0           2010.0  Mar,Jun,Sept,Dec     Martes   \n",
       "4997             35.0           2010.0  Mar,Jun,Sept,Dec     Sábado   \n",
       "4998             35.0           2010.0  Mar,Jun,Sept,Dec     Sábado   \n",
       "4999             35.0           2010.0  Mar,Jun,Sept,Dec  Miercoles   \n",
       "\n",
       "     CompetenciaDesdeMes  \n",
       "0                    NaN  \n",
       "1                    NaN  \n",
       "2                    NaN  \n",
       "3                    NaN  \n",
       "4                    NaN  \n",
       "...                  ...  \n",
       "4995               Julio  \n",
       "4996                 NaN  \n",
       "4997                 NaN  \n",
       "4998                 NaN  \n",
       "4999                 NaN  \n",
       "\n",
       "[5000 rows x 20 columns]"
      ]
     },
     "execution_count": 29,
     "metadata": {},
     "output_type": "execute_result"
    }
   ],
   "source": [
    "mesdic = {1:\"Enero\",2:\"Febrero\",3:\"Marzo\",4:\"Abril\",5:\"Mayo\",6:\"Junio\",7:\"Julio\",8:\"Agosto\",9:\"Septiembre\",10:\"Octubre\",11:\"Noviemnbre\",12:\"Diciembre\",}\n",
    "rossman['CompetenciaDesdeMes'] = rossman['CompetitionOpenSinceMonth'].map(mesdic)\n",
    "rossman"
   ]
  },
  {
   "cell_type": "code",
   "execution_count": 30,
   "id": "7ae2331f",
   "metadata": {},
   "outputs": [
    {
     "data": {
      "text/html": [
       "<div>\n",
       "<style scoped>\n",
       "    .dataframe tbody tr th:only-of-type {\n",
       "        vertical-align: middle;\n",
       "    }\n",
       "\n",
       "    .dataframe tbody tr th {\n",
       "        vertical-align: top;\n",
       "    }\n",
       "\n",
       "    .dataframe thead th {\n",
       "        text-align: right;\n",
       "    }\n",
       "</style>\n",
       "<table border=\"1\" class=\"dataframe\">\n",
       "  <thead>\n",
       "    <tr style=\"text-align: right;\">\n",
       "      <th></th>\n",
       "      <th>Store</th>\n",
       "      <th>DayOfWeek</th>\n",
       "      <th>Date</th>\n",
       "      <th>Sales</th>\n",
       "      <th>Customers</th>\n",
       "      <th>Open</th>\n",
       "      <th>Promo</th>\n",
       "      <th>StateHoliday</th>\n",
       "      <th>SchoolHoliday</th>\n",
       "      <th>StoreType</th>\n",
       "      <th>Assortment</th>\n",
       "      <th>CompetitionDistance</th>\n",
       "      <th>CompetitionOpenSinceMonth</th>\n",
       "      <th>CompetitionOpenSinceYear</th>\n",
       "      <th>Promo2</th>\n",
       "      <th>Promo2SinceWeek</th>\n",
       "      <th>Promo2SinceYear</th>\n",
       "      <th>PromoInterval</th>\n",
       "      <th>DiaLiteral</th>\n",
       "      <th>CompetenciaDesdeMes</th>\n",
       "    </tr>\n",
       "  </thead>\n",
       "  <tbody>\n",
       "    <tr>\n",
       "      <th>0</th>\n",
       "      <td>107</td>\n",
       "      <td>6</td>\n",
       "      <td>5/23/15</td>\n",
       "      <td>3918</td>\n",
       "      <td>378</td>\n",
       "      <td>1</td>\n",
       "      <td>0</td>\n",
       "      <td>0</td>\n",
       "      <td>0</td>\n",
       "      <td>d</td>\n",
       "      <td>a</td>\n",
       "      <td>0</td>\n",
       "      <td>0.0</td>\n",
       "      <td>0.0</td>\n",
       "      <td>1</td>\n",
       "      <td>5.0</td>\n",
       "      <td>2013.0</td>\n",
       "      <td>Feb,May,Aug,Nov</td>\n",
       "      <td>Sábado</td>\n",
       "      <td>Septiembre</td>\n",
       "    </tr>\n",
       "    <tr>\n",
       "      <th>1</th>\n",
       "      <td>492</td>\n",
       "      <td>3</td>\n",
       "      <td>6/5/2013</td>\n",
       "      <td>8856</td>\n",
       "      <td>901</td>\n",
       "      <td>1</td>\n",
       "      <td>1</td>\n",
       "      <td>0</td>\n",
       "      <td>0</td>\n",
       "      <td>d</td>\n",
       "      <td>a</td>\n",
       "      <td>0</td>\n",
       "      <td>0.0</td>\n",
       "      <td>0.0</td>\n",
       "      <td>0</td>\n",
       "      <td>NaN</td>\n",
       "      <td>NaN</td>\n",
       "      <td>NaN</td>\n",
       "      <td>Miercoles</td>\n",
       "      <td>Septiembre</td>\n",
       "    </tr>\n",
       "    <tr>\n",
       "      <th>2</th>\n",
       "      <td>57</td>\n",
       "      <td>1</td>\n",
       "      <td>12/30/13</td>\n",
       "      <td>5940</td>\n",
       "      <td>577</td>\n",
       "      <td>1</td>\n",
       "      <td>0</td>\n",
       "      <td>0</td>\n",
       "      <td>1</td>\n",
       "      <td>a</td>\n",
       "      <td>c</td>\n",
       "      <td>0</td>\n",
       "      <td>0.0</td>\n",
       "      <td>0.0</td>\n",
       "      <td>0</td>\n",
       "      <td>NaN</td>\n",
       "      <td>NaN</td>\n",
       "      <td>NaN</td>\n",
       "      <td>Lunes</td>\n",
       "      <td>Septiembre</td>\n",
       "    </tr>\n",
       "    <tr>\n",
       "      <th>3</th>\n",
       "      <td>260</td>\n",
       "      <td>5</td>\n",
       "      <td>1/2/2015</td>\n",
       "      <td>4311</td>\n",
       "      <td>439</td>\n",
       "      <td>1</td>\n",
       "      <td>0</td>\n",
       "      <td>0</td>\n",
       "      <td>1</td>\n",
       "      <td>a</td>\n",
       "      <td>c</td>\n",
       "      <td>0</td>\n",
       "      <td>0.0</td>\n",
       "      <td>0.0</td>\n",
       "      <td>0</td>\n",
       "      <td>NaN</td>\n",
       "      <td>NaN</td>\n",
       "      <td>NaN</td>\n",
       "      <td>Viernes</td>\n",
       "      <td>Septiembre</td>\n",
       "    </tr>\n",
       "    <tr>\n",
       "      <th>4</th>\n",
       "      <td>932</td>\n",
       "      <td>4</td>\n",
       "      <td>4/4/2013</td>\n",
       "      <td>3294</td>\n",
       "      <td>345</td>\n",
       "      <td>1</td>\n",
       "      <td>0</td>\n",
       "      <td>0</td>\n",
       "      <td>1</td>\n",
       "      <td>d</td>\n",
       "      <td>a</td>\n",
       "      <td>0</td>\n",
       "      <td>0.0</td>\n",
       "      <td>0.0</td>\n",
       "      <td>1</td>\n",
       "      <td>5.0</td>\n",
       "      <td>2013.0</td>\n",
       "      <td>Feb,May,Aug,Nov</td>\n",
       "      <td>Jueves</td>\n",
       "      <td>Septiembre</td>\n",
       "    </tr>\n",
       "    <tr>\n",
       "      <th>...</th>\n",
       "      <td>...</td>\n",
       "      <td>...</td>\n",
       "      <td>...</td>\n",
       "      <td>...</td>\n",
       "      <td>...</td>\n",
       "      <td>...</td>\n",
       "      <td>...</td>\n",
       "      <td>...</td>\n",
       "      <td>...</td>\n",
       "      <td>...</td>\n",
       "      <td>...</td>\n",
       "      <td>...</td>\n",
       "      <td>...</td>\n",
       "      <td>...</td>\n",
       "      <td>...</td>\n",
       "      <td>...</td>\n",
       "      <td>...</td>\n",
       "      <td>...</td>\n",
       "      <td>...</td>\n",
       "      <td>...</td>\n",
       "    </tr>\n",
       "    <tr>\n",
       "      <th>4995</th>\n",
       "      <td>773</td>\n",
       "      <td>3</td>\n",
       "      <td>9/24/14</td>\n",
       "      <td>3933</td>\n",
       "      <td>595</td>\n",
       "      <td>1</td>\n",
       "      <td>0</td>\n",
       "      <td>0</td>\n",
       "      <td>0</td>\n",
       "      <td>a</td>\n",
       "      <td>a</td>\n",
       "      <td>30</td>\n",
       "      <td>7.0</td>\n",
       "      <td>2002.0</td>\n",
       "      <td>0</td>\n",
       "      <td>NaN</td>\n",
       "      <td>NaN</td>\n",
       "      <td>NaN</td>\n",
       "      <td>Miercoles</td>\n",
       "      <td>Julio</td>\n",
       "    </tr>\n",
       "    <tr>\n",
       "      <th>4996</th>\n",
       "      <td>955</td>\n",
       "      <td>2</td>\n",
       "      <td>2/25/14</td>\n",
       "      <td>4775</td>\n",
       "      <td>682</td>\n",
       "      <td>1</td>\n",
       "      <td>0</td>\n",
       "      <td>0</td>\n",
       "      <td>0</td>\n",
       "      <td>a</td>\n",
       "      <td>c</td>\n",
       "      <td>20</td>\n",
       "      <td>NaN</td>\n",
       "      <td>NaN</td>\n",
       "      <td>1</td>\n",
       "      <td>35.0</td>\n",
       "      <td>2010.0</td>\n",
       "      <td>Mar,Jun,Sept,Dec</td>\n",
       "      <td>Martes</td>\n",
       "      <td>Septiembre</td>\n",
       "    </tr>\n",
       "    <tr>\n",
       "      <th>4997</th>\n",
       "      <td>1011</td>\n",
       "      <td>6</td>\n",
       "      <td>1/25/14</td>\n",
       "      <td>4463</td>\n",
       "      <td>601</td>\n",
       "      <td>1</td>\n",
       "      <td>0</td>\n",
       "      <td>0</td>\n",
       "      <td>0</td>\n",
       "      <td>a</td>\n",
       "      <td>c</td>\n",
       "      <td>20</td>\n",
       "      <td>NaN</td>\n",
       "      <td>NaN</td>\n",
       "      <td>1</td>\n",
       "      <td>35.0</td>\n",
       "      <td>2010.0</td>\n",
       "      <td>Mar,Jun,Sept,Dec</td>\n",
       "      <td>Sábado</td>\n",
       "      <td>Septiembre</td>\n",
       "    </tr>\n",
       "    <tr>\n",
       "      <th>4998</th>\n",
       "      <td>932</td>\n",
       "      <td>6</td>\n",
       "      <td>10/25/14</td>\n",
       "      <td>4362</td>\n",
       "      <td>631</td>\n",
       "      <td>1</td>\n",
       "      <td>0</td>\n",
       "      <td>0</td>\n",
       "      <td>0</td>\n",
       "      <td>a</td>\n",
       "      <td>c</td>\n",
       "      <td>20</td>\n",
       "      <td>NaN</td>\n",
       "      <td>NaN</td>\n",
       "      <td>1</td>\n",
       "      <td>35.0</td>\n",
       "      <td>2010.0</td>\n",
       "      <td>Mar,Jun,Sept,Dec</td>\n",
       "      <td>Sábado</td>\n",
       "      <td>Septiembre</td>\n",
       "    </tr>\n",
       "    <tr>\n",
       "      <th>4999</th>\n",
       "      <td>77</td>\n",
       "      <td>3</td>\n",
       "      <td>2/26/14</td>\n",
       "      <td>4357</td>\n",
       "      <td>670</td>\n",
       "      <td>1</td>\n",
       "      <td>0</td>\n",
       "      <td>0</td>\n",
       "      <td>0</td>\n",
       "      <td>a</td>\n",
       "      <td>c</td>\n",
       "      <td>20</td>\n",
       "      <td>NaN</td>\n",
       "      <td>NaN</td>\n",
       "      <td>1</td>\n",
       "      <td>35.0</td>\n",
       "      <td>2010.0</td>\n",
       "      <td>Mar,Jun,Sept,Dec</td>\n",
       "      <td>Miercoles</td>\n",
       "      <td>Septiembre</td>\n",
       "    </tr>\n",
       "  </tbody>\n",
       "</table>\n",
       "<p>5000 rows × 20 columns</p>\n",
       "</div>"
      ],
      "text/plain": [
       "      Store  DayOfWeek      Date  Sales  Customers  Open  Promo StateHoliday  \\\n",
       "0       107          6   5/23/15   3918        378     1      0            0   \n",
       "1       492          3  6/5/2013   8856        901     1      1            0   \n",
       "2        57          1  12/30/13   5940        577     1      0            0   \n",
       "3       260          5  1/2/2015   4311        439     1      0            0   \n",
       "4       932          4  4/4/2013   3294        345     1      0            0   \n",
       "...     ...        ...       ...    ...        ...   ...    ...          ...   \n",
       "4995    773          3   9/24/14   3933        595     1      0            0   \n",
       "4996    955          2   2/25/14   4775        682     1      0            0   \n",
       "4997   1011          6   1/25/14   4463        601     1      0            0   \n",
       "4998    932          6  10/25/14   4362        631     1      0            0   \n",
       "4999     77          3   2/26/14   4357        670     1      0            0   \n",
       "\n",
       "      SchoolHoliday StoreType Assortment  CompetitionDistance  \\\n",
       "0                 0         d          a                    0   \n",
       "1                 0         d          a                    0   \n",
       "2                 1         a          c                    0   \n",
       "3                 1         a          c                    0   \n",
       "4                 1         d          a                    0   \n",
       "...             ...       ...        ...                  ...   \n",
       "4995              0         a          a                   30   \n",
       "4996              0         a          c                   20   \n",
       "4997              0         a          c                   20   \n",
       "4998              0         a          c                   20   \n",
       "4999              0         a          c                   20   \n",
       "\n",
       "      CompetitionOpenSinceMonth  CompetitionOpenSinceYear  Promo2  \\\n",
       "0                           0.0                       0.0       1   \n",
       "1                           0.0                       0.0       0   \n",
       "2                           0.0                       0.0       0   \n",
       "3                           0.0                       0.0       0   \n",
       "4                           0.0                       0.0       1   \n",
       "...                         ...                       ...     ...   \n",
       "4995                        7.0                    2002.0       0   \n",
       "4996                        NaN                       NaN       1   \n",
       "4997                        NaN                       NaN       1   \n",
       "4998                        NaN                       NaN       1   \n",
       "4999                        NaN                       NaN       1   \n",
       "\n",
       "      Promo2SinceWeek  Promo2SinceYear     PromoInterval DiaLiteral  \\\n",
       "0                 5.0           2013.0   Feb,May,Aug,Nov     Sábado   \n",
       "1                 NaN              NaN               NaN  Miercoles   \n",
       "2                 NaN              NaN               NaN      Lunes   \n",
       "3                 NaN              NaN               NaN    Viernes   \n",
       "4                 5.0           2013.0   Feb,May,Aug,Nov     Jueves   \n",
       "...               ...              ...               ...        ...   \n",
       "4995              NaN              NaN               NaN  Miercoles   \n",
       "4996             35.0           2010.0  Mar,Jun,Sept,Dec     Martes   \n",
       "4997             35.0           2010.0  Mar,Jun,Sept,Dec     Sábado   \n",
       "4998             35.0           2010.0  Mar,Jun,Sept,Dec     Sábado   \n",
       "4999             35.0           2010.0  Mar,Jun,Sept,Dec  Miercoles   \n",
       "\n",
       "     CompetenciaDesdeMes  \n",
       "0             Septiembre  \n",
       "1             Septiembre  \n",
       "2             Septiembre  \n",
       "3             Septiembre  \n",
       "4             Septiembre  \n",
       "...                  ...  \n",
       "4995               Julio  \n",
       "4996          Septiembre  \n",
       "4997          Septiembre  \n",
       "4998          Septiembre  \n",
       "4999          Septiembre  \n",
       "\n",
       "[5000 rows x 20 columns]"
      ]
     },
     "execution_count": 30,
     "metadata": {},
     "output_type": "execute_result"
    }
   ],
   "source": [
    "masFrecuente= rossman['CompetenciaDesdeMes'].mode()\n",
    "masFrecuente=str(masFrecuente[0])\n",
    "#type(masFrecuente)\n",
    "#rossman['CompetenciaDesdeMes'].isna().sum()\n",
    "\n",
    "#rossman['CompetenciaDesdeMes'].fillna(masFrecuente) \n",
    "#data[\"Gender\"].fillna(\"No Gender\", inplace = True) \n",
    "\n",
    "rossman['CompetenciaDesdeMes']=rossman['CompetenciaDesdeMes'].fillna(masFrecuente)\n",
    "rossman"
   ]
  },
  {
   "cell_type": "markdown",
   "id": "39bac5c0",
   "metadata": {},
   "source": [
    "### 10.\tIdentifique atributos que no serían de utilidad por su nivel de variación, si hubiera. Usted identifique su nivel de utilidad, dando razones para ello."
   ]
  },
  {
   "cell_type": "code",
   "execution_count": 31,
   "id": "8b8dd96e",
   "metadata": {},
   "outputs": [
    {
     "data": {
      "text/plain": [
       "VarianceThreshold(threshold=0.15999999999999998)"
      ]
     },
     "execution_count": 31,
     "metadata": {},
     "output_type": "execute_result"
    }
   ],
   "source": [
    "rossmanAux= rossman.loc[:,[\"Store\",\"DayOfWeek\",\"Sales\",\"Customers\"]]\n",
    "variance_filter = VarianceThreshold(threshold=(.8 * (1 - .8)))\n",
    "variance_filter.fit(rossmanAux)"
   ]
  },
  {
   "cell_type": "code",
   "execution_count": 32,
   "id": "3085b297",
   "metadata": {},
   "outputs": [
    {
     "data": {
      "text/plain": [
       "(5000, 4)"
      ]
     },
     "execution_count": 32,
     "metadata": {},
     "output_type": "execute_result"
    }
   ],
   "source": [
    "rossmanAux.shape"
   ]
  },
  {
   "cell_type": "code",
   "execution_count": 33,
   "id": "b1f28cfc",
   "metadata": {},
   "outputs": [
    {
     "data": {
      "text/plain": [
       "Store        1.022389e+05\n",
       "DayOfWeek    4.032704e+00\n",
       "Sales        1.553958e+07\n",
       "Customers    2.361984e+05\n",
       "dtype: float64"
      ]
     },
     "execution_count": 33,
     "metadata": {},
     "output_type": "execute_result"
    }
   ],
   "source": [
    "rossmanAux.var()"
   ]
  },
  {
   "cell_type": "code",
   "execution_count": 34,
   "id": "7c466138",
   "metadata": {},
   "outputs": [
    {
     "data": {
      "text/plain": [
       "4"
      ]
     },
     "execution_count": 34,
     "metadata": {},
     "output_type": "execute_result"
    }
   ],
   "source": [
    "len(rossmanAux.columns[variance_filter.get_support()])  "
   ]
  },
  {
   "cell_type": "code",
   "execution_count": 35,
   "id": "8f8f157e",
   "metadata": {},
   "outputs": [
    {
     "name": "stdout",
     "output_type": "stream",
     "text": [
      "0\n"
     ]
    }
   ],
   "source": [
    "constant_columns = [column for column in rossmanAux.columns\n",
    "                    if column not in rossmanAux.columns[variance_filter.get_support()]]\n",
    "\n",
    "print(len(constant_columns))  "
   ]
  },
  {
   "cell_type": "code",
   "execution_count": 36,
   "id": "577142e4",
   "metadata": {},
   "outputs": [],
   "source": [
    "for column in constant_columns:\n",
    "    print(column)"
   ]
  },
  {
   "cell_type": "code",
   "execution_count": 37,
   "id": "4c56fcde",
   "metadata": {},
   "outputs": [
    {
     "data": {
      "text/plain": [
       "(5000, 4)"
      ]
     },
     "execution_count": 37,
     "metadata": {},
     "output_type": "execute_result"
    }
   ],
   "source": [
    "rossmanAux.drop(labels=constant_columns, axis=1, inplace=True)  \n",
    "rossmanAux.shape"
   ]
  },
  {
   "cell_type": "markdown",
   "id": "68c2b1c5",
   "metadata": {},
   "source": [
    "#### Conclusión: No existe la necesidad de eliminar variables dado el umbral de 0,16%. Las demas variables con poca varianza son útiles para el análisis."
   ]
  },
  {
   "cell_type": "markdown",
   "id": "cedc38d7",
   "metadata": {},
   "source": [
    "### 11.\tIdentifique los campos que tienen valores faltantes y decida como reemplazarlos, haciendo un análisis en cada caso."
   ]
  },
  {
   "cell_type": "code",
   "execution_count": 38,
   "id": "b7c4deca",
   "metadata": {},
   "outputs": [
    {
     "data": {
      "text/html": [
       "<div>\n",
       "<style scoped>\n",
       "    .dataframe tbody tr th:only-of-type {\n",
       "        vertical-align: middle;\n",
       "    }\n",
       "\n",
       "    .dataframe tbody tr th {\n",
       "        vertical-align: top;\n",
       "    }\n",
       "\n",
       "    .dataframe thead th {\n",
       "        text-align: right;\n",
       "    }\n",
       "</style>\n",
       "<table border=\"1\" class=\"dataframe\">\n",
       "  <thead>\n",
       "    <tr style=\"text-align: right;\">\n",
       "      <th></th>\n",
       "      <th>Total</th>\n",
       "      <th>Porcentaje</th>\n",
       "    </tr>\n",
       "  </thead>\n",
       "  <tbody>\n",
       "    <tr>\n",
       "      <th>PromoInterval</th>\n",
       "      <td>2497</td>\n",
       "      <td>0.4994</td>\n",
       "    </tr>\n",
       "    <tr>\n",
       "      <th>Promo2SinceYear</th>\n",
       "      <td>2497</td>\n",
       "      <td>0.4994</td>\n",
       "    </tr>\n",
       "    <tr>\n",
       "      <th>Promo2SinceWeek</th>\n",
       "      <td>2497</td>\n",
       "      <td>0.4994</td>\n",
       "    </tr>\n",
       "    <tr>\n",
       "      <th>CompetitionOpenSinceYear</th>\n",
       "      <td>1529</td>\n",
       "      <td>0.3058</td>\n",
       "    </tr>\n",
       "    <tr>\n",
       "      <th>CompetitionOpenSinceMonth</th>\n",
       "      <td>1529</td>\n",
       "      <td>0.3058</td>\n",
       "    </tr>\n",
       "  </tbody>\n",
       "</table>\n",
       "</div>"
      ],
      "text/plain": [
       "                           Total  Porcentaje\n",
       "PromoInterval               2497      0.4994\n",
       "Promo2SinceYear             2497      0.4994\n",
       "Promo2SinceWeek             2497      0.4994\n",
       "CompetitionOpenSinceYear    1529      0.3058\n",
       "CompetitionOpenSinceMonth   1529      0.3058"
      ]
     },
     "execution_count": 38,
     "metadata": {},
     "output_type": "execute_result"
    }
   ],
   "source": [
    "total = rossman.isnull().sum().sort_values(ascending=False)\n",
    "porcentaje = (rossman.isnull().sum()/rossman.isnull().count()).sort_values(ascending=False)\n",
    "faltantes = pd.concat([total, porcentaje], axis=1, keys=['Total', 'Porcentaje'])\n",
    "faltantes[faltantes[\"Porcentaje\"]>0]"
   ]
  },
  {
   "cell_type": "markdown",
   "id": "8e601dd5",
   "metadata": {},
   "source": [
    "#### Variable CompetitionOpenSinceMonth. Ya se modificó por CompetenciaDesdeMes reemplanzado los valores faltantes por el valor mas frecuente (moda).\n",
    "#### Variable CompetitionOpenSinceYear. Los valores faltantes se pueden reemplazar también por el valor mas frecuente.\n",
    "#### Variable Promo2SinceWeek, Promo2SinceYear y PromoInterval,. Se encuentra en función de la Variable Promo2, lo que implica que no corresponde reemplazar los valores faltantes.\n"
   ]
  },
  {
   "cell_type": "code",
   "execution_count": 39,
   "id": "02f9c493",
   "metadata": {},
   "outputs": [
    {
     "data": {
      "text/plain": [
       "Promo2             2503\n",
       "Promo2SinceWeek    2503\n",
       "Promo2SinceYear    2503\n",
       "PromoInterval      2503\n",
       "dtype: int64"
      ]
     },
     "execution_count": 39,
     "metadata": {},
     "output_type": "execute_result"
    }
   ],
   "source": [
    "rossman[(rossman.Promo2==1)][['Promo2','Promo2SinceWeek', 'Promo2SinceYear','PromoInterval']].isnull().count()"
   ]
  },
  {
   "cell_type": "markdown",
   "id": "b0e43694",
   "metadata": {},
   "source": [
    "### 12.\tObtenga por día de semana (DayOfWeek) el total en ventas (Sales) y ordénelo por ventas en forma descendente."
   ]
  },
  {
   "cell_type": "code",
   "execution_count": 40,
   "id": "f7366d8d",
   "metadata": {},
   "outputs": [
    {
     "data": {
      "text/html": [
       "<div>\n",
       "<style scoped>\n",
       "    .dataframe tbody tr th:only-of-type {\n",
       "        vertical-align: middle;\n",
       "    }\n",
       "\n",
       "    .dataframe tbody tr th {\n",
       "        vertical-align: top;\n",
       "    }\n",
       "\n",
       "    .dataframe thead th {\n",
       "        text-align: right;\n",
       "    }\n",
       "</style>\n",
       "<table border=\"1\" class=\"dataframe\">\n",
       "  <thead>\n",
       "    <tr style=\"text-align: right;\">\n",
       "      <th></th>\n",
       "      <th>DayOfWeek</th>\n",
       "      <th>Sales</th>\n",
       "    </tr>\n",
       "  </thead>\n",
       "  <tbody>\n",
       "    <tr>\n",
       "      <th>4737</th>\n",
       "      <td>1</td>\n",
       "      <td>34001</td>\n",
       "    </tr>\n",
       "    <tr>\n",
       "      <th>3297</th>\n",
       "      <td>4</td>\n",
       "      <td>29903</td>\n",
       "    </tr>\n",
       "    <tr>\n",
       "      <th>4629</th>\n",
       "      <td>1</td>\n",
       "      <td>27157</td>\n",
       "    </tr>\n",
       "    <tr>\n",
       "      <th>4761</th>\n",
       "      <td>5</td>\n",
       "      <td>25758</td>\n",
       "    </tr>\n",
       "    <tr>\n",
       "      <th>4202</th>\n",
       "      <td>2</td>\n",
       "      <td>25441</td>\n",
       "    </tr>\n",
       "    <tr>\n",
       "      <th>...</th>\n",
       "      <td>...</td>\n",
       "      <td>...</td>\n",
       "    </tr>\n",
       "    <tr>\n",
       "      <th>2256</th>\n",
       "      <td>7</td>\n",
       "      <td>0</td>\n",
       "    </tr>\n",
       "    <tr>\n",
       "      <th>3732</th>\n",
       "      <td>7</td>\n",
       "      <td>0</td>\n",
       "    </tr>\n",
       "    <tr>\n",
       "      <th>2833</th>\n",
       "      <td>4</td>\n",
       "      <td>0</td>\n",
       "    </tr>\n",
       "    <tr>\n",
       "      <th>2835</th>\n",
       "      <td>7</td>\n",
       "      <td>0</td>\n",
       "    </tr>\n",
       "    <tr>\n",
       "      <th>1366</th>\n",
       "      <td>7</td>\n",
       "      <td>0</td>\n",
       "    </tr>\n",
       "  </tbody>\n",
       "</table>\n",
       "<p>5000 rows × 2 columns</p>\n",
       "</div>"
      ],
      "text/plain": [
       "      DayOfWeek  Sales\n",
       "4737          1  34001\n",
       "3297          4  29903\n",
       "4629          1  27157\n",
       "4761          5  25758\n",
       "4202          2  25441\n",
       "...         ...    ...\n",
       "2256          7      0\n",
       "3732          7      0\n",
       "2833          4      0\n",
       "2835          7      0\n",
       "1366          7      0\n",
       "\n",
       "[5000 rows x 2 columns]"
      ]
     },
     "execution_count": 40,
     "metadata": {},
     "output_type": "execute_result"
    }
   ],
   "source": [
    "rossman.loc[:,('DayOfWeek','Sales')].sort_values(by='Sales', ascending=False)"
   ]
  },
  {
   "cell_type": "markdown",
   "id": "138ae782",
   "metadata": {},
   "source": [
    "### 13.\tObtenga por día de semana (DayOfWeek) y tienda el total y el promedio en ventas (Sales) y ordénelo por ventas en forma ascendente."
   ]
  },
  {
   "cell_type": "code",
   "execution_count": 41,
   "id": "d46f9438",
   "metadata": {},
   "outputs": [
    {
     "data": {
      "text/html": [
       "<div>\n",
       "<style scoped>\n",
       "    .dataframe tbody tr th:only-of-type {\n",
       "        vertical-align: middle;\n",
       "    }\n",
       "\n",
       "    .dataframe tbody tr th {\n",
       "        vertical-align: top;\n",
       "    }\n",
       "\n",
       "    .dataframe thead th {\n",
       "        text-align: right;\n",
       "    }\n",
       "</style>\n",
       "<table border=\"1\" class=\"dataframe\">\n",
       "  <thead>\n",
       "    <tr style=\"text-align: right;\">\n",
       "      <th></th>\n",
       "      <th>DayOfWeek</th>\n",
       "      <th>Sales</th>\n",
       "    </tr>\n",
       "  </thead>\n",
       "  <tbody>\n",
       "    <tr>\n",
       "      <th>6</th>\n",
       "      <td>7</td>\n",
       "      <td>284.710419</td>\n",
       "    </tr>\n",
       "    <tr>\n",
       "      <th>5</th>\n",
       "      <td>6</td>\n",
       "      <td>5869.167852</td>\n",
       "    </tr>\n",
       "    <tr>\n",
       "      <th>3</th>\n",
       "      <td>4</td>\n",
       "      <td>6232.068966</td>\n",
       "    </tr>\n",
       "    <tr>\n",
       "      <th>2</th>\n",
       "      <td>3</td>\n",
       "      <td>6657.065434</td>\n",
       "    </tr>\n",
       "    <tr>\n",
       "      <th>4</th>\n",
       "      <td>5</td>\n",
       "      <td>6699.621585</td>\n",
       "    </tr>\n",
       "    <tr>\n",
       "      <th>1</th>\n",
       "      <td>2</td>\n",
       "      <td>7092.036313</td>\n",
       "    </tr>\n",
       "    <tr>\n",
       "      <th>0</th>\n",
       "      <td>1</td>\n",
       "      <td>7923.087201</td>\n",
       "    </tr>\n",
       "  </tbody>\n",
       "</table>\n",
       "</div>"
      ],
      "text/plain": [
       "   DayOfWeek        Sales\n",
       "6          7   284.710419\n",
       "5          6  5869.167852\n",
       "3          4  6232.068966\n",
       "2          3  6657.065434\n",
       "4          5  6699.621585\n",
       "1          2  7092.036313\n",
       "0          1  7923.087201"
      ]
     },
     "execution_count": 41,
     "metadata": {},
     "output_type": "execute_result"
    }
   ],
   "source": [
    "rossman[['DayOfWeek','Sales']].groupby('DayOfWeek').agg({'Sales':'sum','Sales':'mean'}).reset_index().sort_values(by='Sales', ascending=True)"
   ]
  }
 ],
 "metadata": {
  "kernelspec": {
   "display_name": "Python 3",
   "language": "python",
   "name": "python3"
  },
  "language_info": {
   "codemirror_mode": {
    "name": "ipython",
    "version": 3
   },
   "file_extension": ".py",
   "mimetype": "text/x-python",
   "name": "python",
   "nbconvert_exporter": "python",
   "pygments_lexer": "ipython3",
   "version": "3.8.8"
  }
 },
 "nbformat": 4,
 "nbformat_minor": 5
}
