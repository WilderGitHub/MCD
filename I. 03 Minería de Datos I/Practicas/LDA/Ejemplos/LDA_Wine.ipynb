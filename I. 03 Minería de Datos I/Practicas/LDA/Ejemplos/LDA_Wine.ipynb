{
 "cells": [
  {
   "cell_type": "markdown",
   "metadata": {
    "executionInfo": {
     "elapsed": 39,
     "status": "ok",
     "timestamp": 1645977258897,
     "user": {
      "displayName": "Oswaldo F. Domejean",
      "photoUrl": "https://lh3.googleusercontent.com/a-/AOh14GgrrnWewPJ3D3YBimv-HM1EDjwYWY6ji4hK63ROQg=s64",
      "userId": "01199731014140770411"
     },
     "user_tz": 240
    },
    "id": "glZ3mhUPgQr5"
   },
   "source": [
    "### Ref.: https://www.projectpro.io/recipes/classify-wine-using-sklearn-lda-and-qda-model"
   ]
  },
  {
   "cell_type": "code",
   "execution_count": 1,
   "metadata": {
    "executionInfo": {
     "elapsed": 1103,
     "status": "ok",
     "timestamp": 1645977647409,
     "user": {
      "displayName": "Oswaldo F. Domejean",
      "photoUrl": "https://lh3.googleusercontent.com/a-/AOh14GgrrnWewPJ3D3YBimv-HM1EDjwYWY6ji4hK63ROQg=s64",
      "userId": "01199731014140770411"
     },
     "user_tz": 240
    },
    "id": "4VJlrIQvbpJ-"
   },
   "outputs": [],
   "source": [
    "from sklearn import datasets\n",
    "from sklearn import metrics\n",
    "from sklearn.model_selection import train_test_split\n",
    "import matplotlib.pyplot as plt\n",
    "plt.style.use(\"ggplot\")\n",
    "from sklearn import discriminant_analysis\n"
   ]
  },
  {
   "cell_type": "code",
   "execution_count": 2,
   "metadata": {
    "executionInfo": {
     "elapsed": 797,
     "status": "ok",
     "timestamp": 1645977652410,
     "user": {
      "displayName": "Oswaldo F. Domejean",
      "photoUrl": "https://lh3.googleusercontent.com/a-/AOh14GgrrnWewPJ3D3YBimv-HM1EDjwYWY6ji4hK63ROQg=s64",
      "userId": "01199731014140770411"
     },
     "user_tz": 240
    },
    "id": "df1pz6SkbpMj"
   },
   "outputs": [],
   "source": [
    "dataset = datasets.load_wine()\n",
    "X = dataset.data; y = dataset.target\n",
    "X_train, X_test, y_train, y_test = train_test_split(X, y, test_size=0.25)"
   ]
  },
  {
   "cell_type": "code",
   "execution_count": 3,
   "metadata": {
    "colab": {
     "base_uri": "https://localhost:8080/"
    },
    "executionInfo": {
     "elapsed": 452,
     "status": "ok",
     "timestamp": 1645977660611,
     "user": {
      "displayName": "Oswaldo F. Domejean",
      "photoUrl": "https://lh3.googleusercontent.com/a-/AOh14GgrrnWewPJ3D3YBimv-HM1EDjwYWY6ji4hK63ROQg=s64",
      "userId": "01199731014140770411"
     },
     "user_tz": 240
    },
    "id": "eB1bpbJAfWqn",
    "outputId": "7e2eb1de-99ce-40dc-b126-f097a069214f"
   },
   "outputs": [
    {
     "name": "stdout",
     "output_type": "stream",
     "text": [
      "LinearDiscriminantAnalysis()\n"
     ]
    }
   ],
   "source": [
    "model = discriminant_analysis.LinearDiscriminantAnalysis()\n",
    "model.fit(X_train, y_train)\n",
    "print(model)"
   ]
  },
  {
   "cell_type": "code",
   "execution_count": 4,
   "metadata": {
    "executionInfo": {
     "elapsed": 480,
     "status": "ok",
     "timestamp": 1645977665378,
     "user": {
      "displayName": "Oswaldo F. Domejean",
      "photoUrl": "https://lh3.googleusercontent.com/a-/AOh14GgrrnWewPJ3D3YBimv-HM1EDjwYWY6ji4hK63ROQg=s64",
      "userId": "01199731014140770411"
     },
     "user_tz": 240
    },
    "id": "vrY9HaDzfWtZ"
   },
   "outputs": [],
   "source": [
    "expected_y  = y_test\n",
    "predicted_y = model.predict(X_test) "
   ]
  },
  {
   "cell_type": "code",
   "execution_count": 5,
   "metadata": {
    "colab": {
     "base_uri": "https://localhost:8080/"
    },
    "executionInfo": {
     "elapsed": 513,
     "status": "ok",
     "timestamp": 1645977674421,
     "user": {
      "displayName": "Oswaldo F. Domejean",
      "photoUrl": "https://lh3.googleusercontent.com/a-/AOh14GgrrnWewPJ3D3YBimv-HM1EDjwYWY6ji4hK63ROQg=s64",
      "userId": "01199731014140770411"
     },
     "user_tz": 240
    },
    "id": "wFIAAilYfWv2",
    "outputId": "604931e0-2f5d-4542-8945-05c0f24c6042"
   },
   "outputs": [
    {
     "name": "stdout",
     "output_type": "stream",
     "text": [
      "              precision    recall  f1-score   support\n",
      "\n",
      "     class_0       1.00      1.00      1.00        13\n",
      "     class_1       1.00      0.95      0.97        20\n",
      "     class_2       0.92      1.00      0.96        12\n",
      "\n",
      "    accuracy                           0.98        45\n",
      "   macro avg       0.97      0.98      0.98        45\n",
      "weighted avg       0.98      0.98      0.98        45\n",
      "\n",
      "[[13  0  0]\n",
      " [ 0 19  1]\n",
      " [ 0  0 12]]\n"
     ]
    }
   ],
   "source": [
    "print(metrics.classification_report(expected_y, predicted_y, target_names=dataset.target_names))\n",
    "print(metrics.confusion_matrix(expected_y, predicted_y))"
   ]
  },
  {
   "cell_type": "code",
   "execution_count": 6,
   "metadata": {
    "colab": {
     "base_uri": "https://localhost:8080/"
    },
    "executionInfo": {
     "elapsed": 513,
     "status": "ok",
     "timestamp": 1645977724634,
     "user": {
      "displayName": "Oswaldo F. Domejean",
      "photoUrl": "https://lh3.googleusercontent.com/a-/AOh14GgrrnWewPJ3D3YBimv-HM1EDjwYWY6ji4hK63ROQg=s64",
      "userId": "01199731014140770411"
     },
     "user_tz": 240
    },
    "id": "5XkKZOhufWyd",
    "outputId": "80fc18cb-0f78-4812-f7ec-90f14795584d"
   },
   "outputs": [
    {
     "name": "stdout",
     "output_type": "stream",
     "text": [
      "QuadraticDiscriminantAnalysis()\n"
     ]
    }
   ],
   "source": [
    "model = discriminant_analysis.QuadraticDiscriminantAnalysis()\n",
    "model.fit(X_train, y_train)\n",
    "print(model)"
   ]
  },
  {
   "cell_type": "code",
   "execution_count": 7,
   "metadata": {
    "executionInfo": {
     "elapsed": 21,
     "status": "ok",
     "timestamp": 1645977727306,
     "user": {
      "displayName": "Oswaldo F. Domejean",
      "photoUrl": "https://lh3.googleusercontent.com/a-/AOh14GgrrnWewPJ3D3YBimv-HM1EDjwYWY6ji4hK63ROQg=s64",
      "userId": "01199731014140770411"
     },
     "user_tz": 240
    },
    "id": "5h2XTsBGf0tf"
   },
   "outputs": [],
   "source": [
    "expected_y  = y_test\n",
    "predicted_y = model.predict(X_test)"
   ]
  },
  {
   "cell_type": "code",
   "execution_count": 8,
   "metadata": {
    "colab": {
     "base_uri": "https://localhost:8080/"
    },
    "executionInfo": {
     "elapsed": 580,
     "status": "ok",
     "timestamp": 1645977730743,
     "user": {
      "displayName": "Oswaldo F. Domejean",
      "photoUrl": "https://lh3.googleusercontent.com/a-/AOh14GgrrnWewPJ3D3YBimv-HM1EDjwYWY6ji4hK63ROQg=s64",
      "userId": "01199731014140770411"
     },
     "user_tz": 240
    },
    "id": "iw4jo0qKf0wH",
    "outputId": "69126908-3897-466c-b9d0-902eda9f8456"
   },
   "outputs": [
    {
     "name": "stdout",
     "output_type": "stream",
     "text": [
      "              precision    recall  f1-score   support\n",
      "\n",
      "     class_0       1.00      1.00      1.00        13\n",
      "     class_1       1.00      1.00      1.00        20\n",
      "     class_2       1.00      1.00      1.00        12\n",
      "\n",
      "    accuracy                           1.00        45\n",
      "   macro avg       1.00      1.00      1.00        45\n",
      "weighted avg       1.00      1.00      1.00        45\n",
      "\n",
      "[[13  0  0]\n",
      " [ 0 20  0]\n",
      " [ 0  0 12]]\n"
     ]
    }
   ],
   "source": [
    "print(metrics.classification_report(expected_y, predicted_y, target_names=dataset.target_names))\n",
    "print(metrics.confusion_matrix(expected_y, predicted_y))"
   ]
  },
  {
   "cell_type": "code",
   "execution_count": null,
   "metadata": {
    "id": "lsQWAvG1f0yi"
   },
   "outputs": [],
   "source": []
  },
  {
   "cell_type": "code",
   "execution_count": null,
   "metadata": {},
   "outputs": [],
   "source": []
  }
 ],
 "metadata": {
  "colab": {
   "authorship_tag": "ABX9TyMXsEBBlU/OOpL5KOrqsRcs",
   "collapsed_sections": [],
   "name": "LDA_Wine.ipynb",
   "provenance": []
  },
  "kernelspec": {
   "display_name": "Python 3",
   "language": "python",
   "name": "python3"
  },
  "language_info": {
   "codemirror_mode": {
    "name": "ipython",
    "version": 3
   },
   "file_extension": ".py",
   "mimetype": "text/x-python",
   "name": "python",
   "nbconvert_exporter": "python",
   "pygments_lexer": "ipython3",
   "version": "3.7.4"
  }
 },
 "nbformat": 4,
 "nbformat_minor": 1
}
