{
 "cells": [
  {
   "cell_type": "code",
   "execution_count": 1,
   "id": "0d86920e",
   "metadata": {},
   "outputs": [
    {
     "name": "stdout",
     "output_type": "stream",
     "text": [
      "Collecting es-dep-news-trf==3.3.0\n",
      "  Downloading https://github.com/explosion/spacy-models/releases/download/es_dep_news_trf-3.3.0/es_dep_news_trf-3.3.0-py3-none-any.whl (410.2 MB)\n",
      "     -------------------------------------- 410.2/410.2 MB 4.3 MB/s eta 0:00:00\n",
      "Requirement already satisfied: spacy<3.4.0,>=3.3.0.dev0 in c:\\users\\wilde\\appdata\\local\\programs\\python\\python310\\lib\\site-packages (from es-dep-news-trf==3.3.0) (3.3.1)\n",
      "Requirement already satisfied: spacy-transformers<1.2.0,>=1.1.2 in c:\\users\\wilde\\appdata\\local\\programs\\python\\python310\\lib\\site-packages (from es-dep-news-trf==3.3.0) (1.1.6)\n",
      "Requirement already satisfied: pydantic!=1.8,!=1.8.1,<1.9.0,>=1.7.4 in c:\\users\\wilde\\appdata\\local\\programs\\python\\python310\\lib\\site-packages (from spacy<3.4.0,>=3.3.0.dev0->es-dep-news-trf==3.3.0) (1.8.2)\n",
      "Requirement already satisfied: blis<0.8.0,>=0.4.0 in c:\\users\\wilde\\appdata\\local\\programs\\python\\python310\\lib\\site-packages (from spacy<3.4.0,>=3.3.0.dev0->es-dep-news-trf==3.3.0) (0.7.7)\n",
      "Requirement already satisfied: requests<3.0.0,>=2.13.0 in c:\\users\\wilde\\appdata\\local\\programs\\python\\python310\\lib\\site-packages (from spacy<3.4.0,>=3.3.0.dev0->es-dep-news-trf==3.3.0) (2.28.0)\n",
      "Requirement already satisfied: setuptools in c:\\users\\wilde\\appdata\\local\\programs\\python\\python310\\lib\\site-packages (from spacy<3.4.0,>=3.3.0.dev0->es-dep-news-trf==3.3.0) (62.3.4)\n",
      "Requirement already satisfied: murmurhash<1.1.0,>=0.28.0 in c:\\users\\wilde\\appdata\\local\\programs\\python\\python310\\lib\\site-packages (from spacy<3.4.0,>=3.3.0.dev0->es-dep-news-trf==3.3.0) (1.0.7)\n",
      "Requirement already satisfied: thinc<8.1.0,>=8.0.14 in c:\\users\\wilde\\appdata\\local\\programs\\python\\python310\\lib\\site-packages (from spacy<3.4.0,>=3.3.0.dev0->es-dep-news-trf==3.3.0) (8.0.17)\n",
      "Requirement already satisfied: catalogue<2.1.0,>=2.0.6 in c:\\users\\wilde\\appdata\\local\\programs\\python\\python310\\lib\\site-packages (from spacy<3.4.0,>=3.3.0.dev0->es-dep-news-trf==3.3.0) (2.0.7)\n",
      "Requirement already satisfied: langcodes<4.0.0,>=3.2.0 in c:\\users\\wilde\\appdata\\local\\programs\\python\\python310\\lib\\site-packages (from spacy<3.4.0,>=3.3.0.dev0->es-dep-news-trf==3.3.0) (3.3.0)\n",
      "Requirement already satisfied: spacy-legacy<3.1.0,>=3.0.9 in c:\\users\\wilde\\appdata\\local\\programs\\python\\python310\\lib\\site-packages (from spacy<3.4.0,>=3.3.0.dev0->es-dep-news-trf==3.3.0) (3.0.9)\n",
      "Requirement already satisfied: packaging>=20.0 in c:\\users\\wilde\\appdata\\local\\programs\\python\\python310\\lib\\site-packages (from spacy<3.4.0,>=3.3.0.dev0->es-dep-news-trf==3.3.0) (21.3)\n",
      "Requirement already satisfied: wasabi<1.1.0,>=0.9.1 in c:\\users\\wilde\\appdata\\local\\programs\\python\\python310\\lib\\site-packages (from spacy<3.4.0,>=3.3.0.dev0->es-dep-news-trf==3.3.0) (0.9.1)\n",
      "Requirement already satisfied: spacy-loggers<2.0.0,>=1.0.0 in c:\\users\\wilde\\appdata\\local\\programs\\python\\python310\\lib\\site-packages (from spacy<3.4.0,>=3.3.0.dev0->es-dep-news-trf==3.3.0) (1.0.2)\n",
      "Requirement already satisfied: pathy>=0.3.5 in c:\\users\\wilde\\appdata\\local\\programs\\python\\python310\\lib\\site-packages (from spacy<3.4.0,>=3.3.0.dev0->es-dep-news-trf==3.3.0) (0.6.1)\n",
      "Requirement already satisfied: typer<0.5.0,>=0.3.0 in c:\\users\\wilde\\appdata\\local\\programs\\python\\python310\\lib\\site-packages (from spacy<3.4.0,>=3.3.0.dev0->es-dep-news-trf==3.3.0) (0.4.1)\n",
      "Requirement already satisfied: jinja2 in c:\\users\\wilde\\appdata\\local\\programs\\python\\python310\\lib\\site-packages (from spacy<3.4.0,>=3.3.0.dev0->es-dep-news-trf==3.3.0) (3.1.2)\n",
      "Requirement already satisfied: tqdm<5.0.0,>=4.38.0 in c:\\users\\wilde\\appdata\\local\\programs\\python\\python310\\lib\\site-packages (from spacy<3.4.0,>=3.3.0.dev0->es-dep-news-trf==3.3.0) (4.64.0)\n",
      "Requirement already satisfied: numpy>=1.15.0 in c:\\users\\wilde\\appdata\\local\\programs\\python\\python310\\lib\\site-packages (from spacy<3.4.0,>=3.3.0.dev0->es-dep-news-trf==3.3.0) (1.22.3)\n",
      "Requirement already satisfied: preshed<3.1.0,>=3.0.2 in c:\\users\\wilde\\appdata\\local\\programs\\python\\python310\\lib\\site-packages (from spacy<3.4.0,>=3.3.0.dev0->es-dep-news-trf==3.3.0) (3.0.6)\n",
      "Requirement already satisfied: srsly<3.0.0,>=2.4.3 in c:\\users\\wilde\\appdata\\local\\programs\\python\\python310\\lib\\site-packages (from spacy<3.4.0,>=3.3.0.dev0->es-dep-news-trf==3.3.0) (2.4.3)\n",
      "Requirement already satisfied: cymem<2.1.0,>=2.0.2 in c:\\users\\wilde\\appdata\\local\\programs\\python\\python310\\lib\\site-packages (from spacy<3.4.0,>=3.3.0.dev0->es-dep-news-trf==3.3.0) (2.0.6)\n",
      "Requirement already satisfied: transformers<4.20.0,>=3.4.0 in c:\\users\\wilde\\appdata\\local\\programs\\python\\python310\\lib\\site-packages (from spacy-transformers<1.2.0,>=1.1.2->es-dep-news-trf==3.3.0) (4.19.4)\n",
      "Requirement already satisfied: spacy-alignments<1.0.0,>=0.7.2 in c:\\users\\wilde\\appdata\\local\\programs\\python\\python310\\lib\\site-packages (from spacy-transformers<1.2.0,>=1.1.2->es-dep-news-trf==3.3.0) (0.8.5)\n",
      "Requirement already satisfied: torch>=1.6.0 in c:\\users\\wilde\\appdata\\local\\programs\\python\\python310\\lib\\site-packages (from spacy-transformers<1.2.0,>=1.1.2->es-dep-news-trf==3.3.0) (1.11.0)\n",
      "Requirement already satisfied: pyparsing!=3.0.5,>=2.0.2 in c:\\users\\wilde\\appdata\\local\\programs\\python\\python310\\lib\\site-packages (from packaging>=20.0->spacy<3.4.0,>=3.3.0.dev0->es-dep-news-trf==3.3.0) (3.0.9)\n",
      "Requirement already satisfied: smart-open<6.0.0,>=5.0.0 in c:\\users\\wilde\\appdata\\local\\programs\\python\\python310\\lib\\site-packages (from pathy>=0.3.5->spacy<3.4.0,>=3.3.0.dev0->es-dep-news-trf==3.3.0) (5.2.1)\n",
      "Requirement already satisfied: typing-extensions>=3.7.4.3 in c:\\users\\wilde\\appdata\\local\\programs\\python\\python310\\lib\\site-packages (from pydantic!=1.8,!=1.8.1,<1.9.0,>=1.7.4->spacy<3.4.0,>=3.3.0.dev0->es-dep-news-trf==3.3.0) (4.2.0)\n",
      "Requirement already satisfied: certifi>=2017.4.17 in c:\\users\\wilde\\appdata\\local\\programs\\python\\python310\\lib\\site-packages (from requests<3.0.0,>=2.13.0->spacy<3.4.0,>=3.3.0.dev0->es-dep-news-trf==3.3.0) (2022.5.18.1)\n",
      "Requirement already satisfied: idna<4,>=2.5 in c:\\users\\wilde\\appdata\\local\\programs\\python\\python310\\lib\\site-packages (from requests<3.0.0,>=2.13.0->spacy<3.4.0,>=3.3.0.dev0->es-dep-news-trf==3.3.0) (3.3)\n",
      "Requirement already satisfied: charset-normalizer~=2.0.0 in c:\\users\\wilde\\appdata\\local\\programs\\python\\python310\\lib\\site-packages (from requests<3.0.0,>=2.13.0->spacy<3.4.0,>=3.3.0.dev0->es-dep-news-trf==3.3.0) (2.0.12)\n",
      "Requirement already satisfied: urllib3<1.27,>=1.21.1 in c:\\users\\wilde\\appdata\\local\\programs\\python\\python310\\lib\\site-packages (from requests<3.0.0,>=2.13.0->spacy<3.4.0,>=3.3.0.dev0->es-dep-news-trf==3.3.0) (1.26.9)\n",
      "Requirement already satisfied: colorama in c:\\users\\wilde\\appdata\\local\\programs\\python\\python310\\lib\\site-packages (from tqdm<5.0.0,>=4.38.0->spacy<3.4.0,>=3.3.0.dev0->es-dep-news-trf==3.3.0) (0.4.4)\n",
      "Requirement already satisfied: tokenizers!=0.11.3,<0.13,>=0.11.1 in c:\\users\\wilde\\appdata\\local\\programs\\python\\python310\\lib\\site-packages (from transformers<4.20.0,>=3.4.0->spacy-transformers<1.2.0,>=1.1.2->es-dep-news-trf==3.3.0) (0.12.1)\n",
      "Requirement already satisfied: huggingface-hub<1.0,>=0.1.0 in c:\\users\\wilde\\appdata\\local\\programs\\python\\python310\\lib\\site-packages (from transformers<4.20.0,>=3.4.0->spacy-transformers<1.2.0,>=1.1.2->es-dep-news-trf==3.3.0) (0.7.0)\n",
      "Requirement already satisfied: pyyaml>=5.1 in c:\\users\\wilde\\appdata\\local\\programs\\python\\python310\\lib\\site-packages (from transformers<4.20.0,>=3.4.0->spacy-transformers<1.2.0,>=1.1.2->es-dep-news-trf==3.3.0) (6.0)\n",
      "Requirement already satisfied: filelock in c:\\users\\wilde\\appdata\\local\\programs\\python\\python310\\lib\\site-packages (from transformers<4.20.0,>=3.4.0->spacy-transformers<1.2.0,>=1.1.2->es-dep-news-trf==3.3.0) (3.7.1)\n",
      "Requirement already satisfied: regex!=2019.12.17 in c:\\users\\wilde\\appdata\\local\\programs\\python\\python310\\lib\\site-packages (from transformers<4.20.0,>=3.4.0->spacy-transformers<1.2.0,>=1.1.2->es-dep-news-trf==3.3.0) (2022.6.2)\n",
      "Requirement already satisfied: click<9.0.0,>=7.1.1 in c:\\users\\wilde\\appdata\\local\\programs\\python\\python310\\lib\\site-packages (from typer<0.5.0,>=0.3.0->spacy<3.4.0,>=3.3.0.dev0->es-dep-news-trf==3.3.0) (8.1.3)\n",
      "Requirement already satisfied: MarkupSafe>=2.0 in c:\\users\\wilde\\appdata\\local\\programs\\python\\python310\\lib\\site-packages (from jinja2->spacy<3.4.0,>=3.3.0.dev0->es-dep-news-trf==3.3.0) (2.1.1)\n",
      "\n",
      "[notice] A new release of pip available: 22.1.2 -> 22.2.2\n",
      "[notice] To update, run: python.exe -m pip install --upgrade pip\n",
      "[+] Download and installation successful\n",
      "You can now load the package via spacy.load('es_dep_news_trf')\n"
     ]
    }
   ],
   "source": [
    "!python -m spacy download es_dep_news_trf"
   ]
  },
  {
   "cell_type": "code",
   "execution_count": 6,
   "id": "b499dede",
   "metadata": {},
   "outputs": [
    {
     "name": "stdout",
     "output_type": "stream",
     "text": [
      "Requirement already satisfied: pip in c:\\users\\wilde\\appdata\\local\\programs\\python\\python310\\lib\\site-packages (22.1.2)\n",
      "Collecting pip\n",
      "  Downloading pip-22.2.2-py3-none-any.whl (2.0 MB)\n",
      "     ---------------------------------------- 2.0/2.0 MB 5.9 MB/s eta 0:00:00\n",
      "Requirement already satisfied: setuptools in c:\\users\\wilde\\appdata\\local\\programs\\python\\python310\\lib\\site-packages (62.3.4)\n",
      "Collecting setuptools\n",
      "  Downloading setuptools-63.4.1-py3-none-any.whl (1.2 MB)\n",
      "     ---------------------------------------- 1.2/1.2 MB 7.1 MB/s eta 0:00:00\n",
      "Requirement already satisfied: wheel in c:\\users\\wilde\\appdata\\local\\programs\\python\\python310\\lib\\site-packages (0.37.1)\n",
      "\n",
      "[notice] A new release of pip available: 22.1.2 -> 22.2.2\n",
      "[notice] To update, run: python.exe -m pip install --upgrade pip\n"
     ]
    },
    {
     "name": "stderr",
     "output_type": "stream",
     "text": [
      "ERROR: To modify pip, please run the following command:\n",
      "C:\\Users\\wilde\\AppData\\Local\\Programs\\Python\\Python310\\python.exe -m pip install -U pip setuptools wheel\n"
     ]
    }
   ],
   "source": [
    "!pip install -U pip setuptools wheel"
   ]
  },
  {
   "cell_type": "code",
   "execution_count": 7,
   "id": "9a96de95",
   "metadata": {},
   "outputs": [
    {
     "name": "stdout",
     "output_type": "stream",
     "text": [
      "Requirement already satisfied: spacy in c:\\users\\wilde\\appdata\\local\\programs\\python\\python310\\lib\\site-packages (3.3.1)\n",
      "Collecting spacy\n",
      "  Downloading spacy-3.4.1-cp310-cp310-win_amd64.whl (11.7 MB)\n",
      "     ---------------------------------------- 11.7/11.7 MB 5.8 MB/s eta 0:00:00\n",
      "Requirement already satisfied: langcodes<4.0.0,>=3.2.0 in c:\\users\\wilde\\appdata\\local\\programs\\python\\python310\\lib\\site-packages (from spacy) (3.3.0)\n",
      "Requirement already satisfied: srsly<3.0.0,>=2.4.3 in c:\\users\\wilde\\appdata\\local\\programs\\python\\python310\\lib\\site-packages (from spacy) (2.4.3)\n",
      "Requirement already satisfied: wasabi<1.1.0,>=0.9.1 in c:\\users\\wilde\\appdata\\local\\programs\\python\\python310\\lib\\site-packages (from spacy) (0.9.1)\n",
      "Requirement already satisfied: cymem<2.1.0,>=2.0.2 in c:\\users\\wilde\\appdata\\local\\programs\\python\\python310\\lib\\site-packages (from spacy) (2.0.6)\n",
      "Requirement already satisfied: preshed<3.1.0,>=3.0.2 in c:\\users\\wilde\\appdata\\local\\programs\\python\\python310\\lib\\site-packages (from spacy) (3.0.6)\n",
      "Requirement already satisfied: catalogue<2.1.0,>=2.0.6 in c:\\users\\wilde\\appdata\\local\\programs\\python\\python310\\lib\\site-packages (from spacy) (2.0.7)\n",
      "Requirement already satisfied: pydantic!=1.8,!=1.8.1,<1.10.0,>=1.7.4 in c:\\users\\wilde\\appdata\\local\\programs\\python\\python310\\lib\\site-packages (from spacy) (1.8.2)\n",
      "Requirement already satisfied: numpy>=1.15.0 in c:\\users\\wilde\\appdata\\local\\programs\\python\\python310\\lib\\site-packages (from spacy) (1.22.3)\n",
      "Requirement already satisfied: requests<3.0.0,>=2.13.0 in c:\\users\\wilde\\appdata\\local\\programs\\python\\python310\\lib\\site-packages (from spacy) (2.28.0)\n",
      "Requirement already satisfied: murmurhash<1.1.0,>=0.28.0 in c:\\users\\wilde\\appdata\\local\\programs\\python\\python310\\lib\\site-packages (from spacy) (1.0.7)\n",
      "Collecting thinc<8.2.0,>=8.1.0\n",
      "  Downloading thinc-8.1.0-cp310-cp310-win_amd64.whl (1.3 MB)\n",
      "     ---------------------------------------- 1.3/1.3 MB 5.4 MB/s eta 0:00:00\n",
      "Requirement already satisfied: tqdm<5.0.0,>=4.38.0 in c:\\users\\wilde\\appdata\\local\\programs\\python\\python310\\lib\\site-packages (from spacy) (4.64.0)\n",
      "Requirement already satisfied: jinja2 in c:\\users\\wilde\\appdata\\local\\programs\\python\\python310\\lib\\site-packages (from spacy) (3.1.2)\n",
      "Requirement already satisfied: packaging>=20.0 in c:\\users\\wilde\\appdata\\local\\programs\\python\\python310\\lib\\site-packages (from spacy) (21.3)\n",
      "Requirement already satisfied: pathy>=0.3.5 in c:\\users\\wilde\\appdata\\local\\programs\\python\\python310\\lib\\site-packages (from spacy) (0.6.1)\n",
      "Requirement already satisfied: typer<0.5.0,>=0.3.0 in c:\\users\\wilde\\appdata\\local\\programs\\python\\python310\\lib\\site-packages (from spacy) (0.4.1)\n",
      "Requirement already satisfied: spacy-legacy<3.1.0,>=3.0.9 in c:\\users\\wilde\\appdata\\local\\programs\\python\\python310\\lib\\site-packages (from spacy) (3.0.9)\n",
      "Requirement already satisfied: setuptools in c:\\users\\wilde\\appdata\\local\\programs\\python\\python310\\lib\\site-packages (from spacy) (62.3.4)\n",
      "Requirement already satisfied: spacy-loggers<2.0.0,>=1.0.0 in c:\\users\\wilde\\appdata\\local\\programs\\python\\python310\\lib\\site-packages (from spacy) (1.0.2)\n",
      "Requirement already satisfied: pyparsing!=3.0.5,>=2.0.2 in c:\\users\\wilde\\appdata\\local\\programs\\python\\python310\\lib\\site-packages (from packaging>=20.0->spacy) (3.0.9)\n",
      "Requirement already satisfied: smart-open<6.0.0,>=5.0.0 in c:\\users\\wilde\\appdata\\local\\programs\\python\\python310\\lib\\site-packages (from pathy>=0.3.5->spacy) (5.2.1)\n",
      "Requirement already satisfied: typing-extensions>=3.7.4.3 in c:\\users\\wilde\\appdata\\local\\programs\\python\\python310\\lib\\site-packages (from pydantic!=1.8,!=1.8.1,<1.10.0,>=1.7.4->spacy) (4.2.0)\n",
      "Requirement already satisfied: idna<4,>=2.5 in c:\\users\\wilde\\appdata\\local\\programs\\python\\python310\\lib\\site-packages (from requests<3.0.0,>=2.13.0->spacy) (3.3)\n",
      "Requirement already satisfied: charset-normalizer~=2.0.0 in c:\\users\\wilde\\appdata\\local\\programs\\python\\python310\\lib\\site-packages (from requests<3.0.0,>=2.13.0->spacy) (2.0.12)\n",
      "Requirement already satisfied: certifi>=2017.4.17 in c:\\users\\wilde\\appdata\\local\\programs\\python\\python310\\lib\\site-packages (from requests<3.0.0,>=2.13.0->spacy) (2022.5.18.1)\n",
      "Requirement already satisfied: urllib3<1.27,>=1.21.1 in c:\\users\\wilde\\appdata\\local\\programs\\python\\python310\\lib\\site-packages (from requests<3.0.0,>=2.13.0->spacy) (1.26.9)\n",
      "Collecting blis<0.8.0,>=0.7.8\n",
      "  Downloading blis-0.7.8-cp310-cp310-win_amd64.whl (6.6 MB)\n",
      "     ---------------------------------------- 6.6/6.6 MB 6.3 MB/s eta 0:00:00\n",
      "Requirement already satisfied: colorama in c:\\users\\wilde\\appdata\\local\\programs\\python\\python310\\lib\\site-packages (from tqdm<5.0.0,>=4.38.0->spacy) (0.4.4)\n",
      "Requirement already satisfied: click<9.0.0,>=7.1.1 in c:\\users\\wilde\\appdata\\local\\programs\\python\\python310\\lib\\site-packages (from typer<0.5.0,>=0.3.0->spacy) (8.1.3)\n",
      "Requirement already satisfied: MarkupSafe>=2.0 in c:\\users\\wilde\\appdata\\local\\programs\\python\\python310\\lib\\site-packages (from jinja2->spacy) (2.1.1)\n",
      "Installing collected packages: blis, thinc, spacy\n",
      "  Attempting uninstall: blis\n",
      "    Found existing installation: blis 0.7.7\n",
      "    Uninstalling blis-0.7.7:\n",
      "      Successfully uninstalled blis-0.7.7\n",
      "  Attempting uninstall: thinc\n",
      "    Found existing installation: thinc 8.0.17\n",
      "    Uninstalling thinc-8.0.17:\n",
      "      Successfully uninstalled thinc-8.0.17\n",
      "  Attempting uninstall: spacy\n",
      "    Found existing installation: spacy 3.3.1\n",
      "    Uninstalling spacy-3.3.1:\n",
      "      Successfully uninstalled spacy-3.3.1\n",
      "Successfully installed blis-0.7.8 spacy-3.4.1 thinc-8.1.0\n",
      "\n",
      "[notice] A new release of pip available: 22.1.2 -> 22.2.2\n",
      "[notice] To update, run: python.exe -m pip install --upgrade pip\n"
     ]
    },
    {
     "name": "stderr",
     "output_type": "stream",
     "text": [
      "ERROR: pip's dependency resolver does not currently take into account all the packages that are installed. This behaviour is the source of the following dependency conflicts.\n",
      "es-dep-news-trf 3.3.0 requires spacy<3.4.0,>=3.3.0.dev0, but you have spacy 3.4.1 which is incompatible.\n"
     ]
    }
   ],
   "source": [
    "!pip install -U spacy"
   ]
  },
  {
   "cell_type": "code",
   "execution_count": 8,
   "id": "5580bebd",
   "metadata": {},
   "outputs": [
    {
     "name": "stdout",
     "output_type": "stream",
     "text": [
      "Collecting es-dep-news-trf==3.4.0\n",
      "  Downloading https://github.com/explosion/spacy-models/releases/download/es_dep_news_trf-3.4.0/es_dep_news_trf-3.4.0-py3-none-any.whl (410.2 MB)\n",
      "     -------------------------------------- 410.2/410.2 MB 4.1 MB/s eta 0:00:00\n",
      "Requirement already satisfied: spacy<3.5.0,>=3.4.0 in c:\\users\\wilde\\appdata\\local\\programs\\python\\python310\\lib\\site-packages (from es-dep-news-trf==3.4.0) (3.4.1)\n",
      "Requirement already satisfied: spacy-transformers<1.2.0,>=1.1.2 in c:\\users\\wilde\\appdata\\local\\programs\\python\\python310\\lib\\site-packages (from es-dep-news-trf==3.4.0) (1.1.6)\n",
      "Requirement already satisfied: srsly<3.0.0,>=2.4.3 in c:\\users\\wilde\\appdata\\local\\programs\\python\\python310\\lib\\site-packages (from spacy<3.5.0,>=3.4.0->es-dep-news-trf==3.4.0) (2.4.3)\n",
      "Requirement already satisfied: murmurhash<1.1.0,>=0.28.0 in c:\\users\\wilde\\appdata\\local\\programs\\python\\python310\\lib\\site-packages (from spacy<3.5.0,>=3.4.0->es-dep-news-trf==3.4.0) (1.0.7)\n",
      "Requirement already satisfied: spacy-legacy<3.1.0,>=3.0.9 in c:\\users\\wilde\\appdata\\local\\programs\\python\\python310\\lib\\site-packages (from spacy<3.5.0,>=3.4.0->es-dep-news-trf==3.4.0) (3.0.9)\n",
      "Requirement already satisfied: wasabi<1.1.0,>=0.9.1 in c:\\users\\wilde\\appdata\\local\\programs\\python\\python310\\lib\\site-packages (from spacy<3.5.0,>=3.4.0->es-dep-news-trf==3.4.0) (0.9.1)\n",
      "Requirement already satisfied: pathy>=0.3.5 in c:\\users\\wilde\\appdata\\local\\programs\\python\\python310\\lib\\site-packages (from spacy<3.5.0,>=3.4.0->es-dep-news-trf==3.4.0) (0.6.1)\n",
      "Requirement already satisfied: preshed<3.1.0,>=3.0.2 in c:\\users\\wilde\\appdata\\local\\programs\\python\\python310\\lib\\site-packages (from spacy<3.5.0,>=3.4.0->es-dep-news-trf==3.4.0) (3.0.6)\n",
      "Requirement already satisfied: spacy-loggers<2.0.0,>=1.0.0 in c:\\users\\wilde\\appdata\\local\\programs\\python\\python310\\lib\\site-packages (from spacy<3.5.0,>=3.4.0->es-dep-news-trf==3.4.0) (1.0.2)\n",
      "Requirement already satisfied: jinja2 in c:\\users\\wilde\\appdata\\local\\programs\\python\\python310\\lib\\site-packages (from spacy<3.5.0,>=3.4.0->es-dep-news-trf==3.4.0) (3.1.2)\n",
      "Requirement already satisfied: requests<3.0.0,>=2.13.0 in c:\\users\\wilde\\appdata\\local\\programs\\python\\python310\\lib\\site-packages (from spacy<3.5.0,>=3.4.0->es-dep-news-trf==3.4.0) (2.28.0)\n",
      "Requirement already satisfied: langcodes<4.0.0,>=3.2.0 in c:\\users\\wilde\\appdata\\local\\programs\\python\\python310\\lib\\site-packages (from spacy<3.5.0,>=3.4.0->es-dep-news-trf==3.4.0) (3.3.0)\n",
      "Requirement already satisfied: packaging>=20.0 in c:\\users\\wilde\\appdata\\local\\programs\\python\\python310\\lib\\site-packages (from spacy<3.5.0,>=3.4.0->es-dep-news-trf==3.4.0) (21.3)\n",
      "Requirement already satisfied: catalogue<2.1.0,>=2.0.6 in c:\\users\\wilde\\appdata\\local\\programs\\python\\python310\\lib\\site-packages (from spacy<3.5.0,>=3.4.0->es-dep-news-trf==3.4.0) (2.0.7)\n",
      "Requirement already satisfied: thinc<8.2.0,>=8.1.0 in c:\\users\\wilde\\appdata\\local\\programs\\python\\python310\\lib\\site-packages (from spacy<3.5.0,>=3.4.0->es-dep-news-trf==3.4.0) (8.1.0)\n",
      "Requirement already satisfied: numpy>=1.15.0 in c:\\users\\wilde\\appdata\\local\\programs\\python\\python310\\lib\\site-packages (from spacy<3.5.0,>=3.4.0->es-dep-news-trf==3.4.0) (1.22.3)\n",
      "Requirement already satisfied: tqdm<5.0.0,>=4.38.0 in c:\\users\\wilde\\appdata\\local\\programs\\python\\python310\\lib\\site-packages (from spacy<3.5.0,>=3.4.0->es-dep-news-trf==3.4.0) (4.64.0)\n",
      "Requirement already satisfied: pydantic!=1.8,!=1.8.1,<1.10.0,>=1.7.4 in c:\\users\\wilde\\appdata\\local\\programs\\python\\python310\\lib\\site-packages (from spacy<3.5.0,>=3.4.0->es-dep-news-trf==3.4.0) (1.8.2)\n",
      "Requirement already satisfied: setuptools in c:\\users\\wilde\\appdata\\local\\programs\\python\\python310\\lib\\site-packages (from spacy<3.5.0,>=3.4.0->es-dep-news-trf==3.4.0) (62.3.4)\n",
      "Requirement already satisfied: cymem<2.1.0,>=2.0.2 in c:\\users\\wilde\\appdata\\local\\programs\\python\\python310\\lib\\site-packages (from spacy<3.5.0,>=3.4.0->es-dep-news-trf==3.4.0) (2.0.6)\n",
      "Requirement already satisfied: typer<0.5.0,>=0.3.0 in c:\\users\\wilde\\appdata\\local\\programs\\python\\python310\\lib\\site-packages (from spacy<3.5.0,>=3.4.0->es-dep-news-trf==3.4.0) (0.4.1)\n",
      "Requirement already satisfied: torch>=1.6.0 in c:\\users\\wilde\\appdata\\local\\programs\\python\\python310\\lib\\site-packages (from spacy-transformers<1.2.0,>=1.1.2->es-dep-news-trf==3.4.0) (1.11.0)\n",
      "Requirement already satisfied: spacy-alignments<1.0.0,>=0.7.2 in c:\\users\\wilde\\appdata\\local\\programs\\python\\python310\\lib\\site-packages (from spacy-transformers<1.2.0,>=1.1.2->es-dep-news-trf==3.4.0) (0.8.5)\n",
      "Requirement already satisfied: transformers<4.20.0,>=3.4.0 in c:\\users\\wilde\\appdata\\local\\programs\\python\\python310\\lib\\site-packages (from spacy-transformers<1.2.0,>=1.1.2->es-dep-news-trf==3.4.0) (4.19.4)\n",
      "Requirement already satisfied: pyparsing!=3.0.5,>=2.0.2 in c:\\users\\wilde\\appdata\\local\\programs\\python\\python310\\lib\\site-packages (from packaging>=20.0->spacy<3.5.0,>=3.4.0->es-dep-news-trf==3.4.0) (3.0.9)\n",
      "Requirement already satisfied: smart-open<6.0.0,>=5.0.0 in c:\\users\\wilde\\appdata\\local\\programs\\python\\python310\\lib\\site-packages (from pathy>=0.3.5->spacy<3.5.0,>=3.4.0->es-dep-news-trf==3.4.0) (5.2.1)\n",
      "Requirement already satisfied: typing-extensions>=3.7.4.3 in c:\\users\\wilde\\appdata\\local\\programs\\python\\python310\\lib\\site-packages (from pydantic!=1.8,!=1.8.1,<1.10.0,>=1.7.4->spacy<3.5.0,>=3.4.0->es-dep-news-trf==3.4.0) (4.2.0)\n",
      "Requirement already satisfied: certifi>=2017.4.17 in c:\\users\\wilde\\appdata\\local\\programs\\python\\python310\\lib\\site-packages (from requests<3.0.0,>=2.13.0->spacy<3.5.0,>=3.4.0->es-dep-news-trf==3.4.0) (2022.5.18.1)\n",
      "Requirement already satisfied: idna<4,>=2.5 in c:\\users\\wilde\\appdata\\local\\programs\\python\\python310\\lib\\site-packages (from requests<3.0.0,>=2.13.0->spacy<3.5.0,>=3.4.0->es-dep-news-trf==3.4.0) (3.3)\n",
      "Requirement already satisfied: charset-normalizer~=2.0.0 in c:\\users\\wilde\\appdata\\local\\programs\\python\\python310\\lib\\site-packages (from requests<3.0.0,>=2.13.0->spacy<3.5.0,>=3.4.0->es-dep-news-trf==3.4.0) (2.0.12)\n",
      "Requirement already satisfied: urllib3<1.27,>=1.21.1 in c:\\users\\wilde\\appdata\\local\\programs\\python\\python310\\lib\\site-packages (from requests<3.0.0,>=2.13.0->spacy<3.5.0,>=3.4.0->es-dep-news-trf==3.4.0) (1.26.9)\n",
      "Requirement already satisfied: blis<0.8.0,>=0.7.8 in c:\\users\\wilde\\appdata\\local\\programs\\python\\python310\\lib\\site-packages (from thinc<8.2.0,>=8.1.0->spacy<3.5.0,>=3.4.0->es-dep-news-trf==3.4.0) (0.7.8)\n",
      "Requirement already satisfied: colorama in c:\\users\\wilde\\appdata\\local\\programs\\python\\python310\\lib\\site-packages (from tqdm<5.0.0,>=4.38.0->spacy<3.5.0,>=3.4.0->es-dep-news-trf==3.4.0) (0.4.4)\n",
      "Requirement already satisfied: filelock in c:\\users\\wilde\\appdata\\local\\programs\\python\\python310\\lib\\site-packages (from transformers<4.20.0,>=3.4.0->spacy-transformers<1.2.0,>=1.1.2->es-dep-news-trf==3.4.0) (3.7.1)\n",
      "Requirement already satisfied: regex!=2019.12.17 in c:\\users\\wilde\\appdata\\local\\programs\\python\\python310\\lib\\site-packages (from transformers<4.20.0,>=3.4.0->spacy-transformers<1.2.0,>=1.1.2->es-dep-news-trf==3.4.0) (2022.6.2)\n",
      "Requirement already satisfied: tokenizers!=0.11.3,<0.13,>=0.11.1 in c:\\users\\wilde\\appdata\\local\\programs\\python\\python310\\lib\\site-packages (from transformers<4.20.0,>=3.4.0->spacy-transformers<1.2.0,>=1.1.2->es-dep-news-trf==3.4.0) (0.12.1)\n",
      "Requirement already satisfied: huggingface-hub<1.0,>=0.1.0 in c:\\users\\wilde\\appdata\\local\\programs\\python\\python310\\lib\\site-packages (from transformers<4.20.0,>=3.4.0->spacy-transformers<1.2.0,>=1.1.2->es-dep-news-trf==3.4.0) (0.7.0)\n",
      "Requirement already satisfied: pyyaml>=5.1 in c:\\users\\wilde\\appdata\\local\\programs\\python\\python310\\lib\\site-packages (from transformers<4.20.0,>=3.4.0->spacy-transformers<1.2.0,>=1.1.2->es-dep-news-trf==3.4.0) (6.0)\n",
      "Requirement already satisfied: click<9.0.0,>=7.1.1 in c:\\users\\wilde\\appdata\\local\\programs\\python\\python310\\lib\\site-packages (from typer<0.5.0,>=0.3.0->spacy<3.5.0,>=3.4.0->es-dep-news-trf==3.4.0) (8.1.3)\n",
      "Requirement already satisfied: MarkupSafe>=2.0 in c:\\users\\wilde\\appdata\\local\\programs\\python\\python310\\lib\\site-packages (from jinja2->spacy<3.5.0,>=3.4.0->es-dep-news-trf==3.4.0) (2.1.1)\n",
      "Installing collected packages: es-dep-news-trf\n",
      "  Attempting uninstall: es-dep-news-trf\n",
      "    Found existing installation: es-dep-news-trf 3.3.0\n",
      "    Uninstalling es-dep-news-trf-3.3.0:\n",
      "      Successfully uninstalled es-dep-news-trf-3.3.0\n",
      "Successfully installed es-dep-news-trf-3.4.0\n",
      "\n",
      "[notice] A new release of pip available: 22.1.2 -> 22.2.2\n",
      "[notice] To update, run: python.exe -m pip install --upgrade pip\n",
      "[+] Download and installation successful\n",
      "You can now load the package via spacy.load('es_dep_news_trf')\n"
     ]
    }
   ],
   "source": [
    "!python -m spacy download es_dep_news_trf"
   ]
  },
  {
   "cell_type": "code",
   "execution_count": 9,
   "id": "9495ecec",
   "metadata": {},
   "outputs": [],
   "source": [
    "from sklearn.datasets import load_files\n",
    "import pandas as pd\n",
    "import numpy as np\n",
    "\n",
    "import spacy\n",
    "from spacy.lang.es.examples import sentences "
   ]
  },
  {
   "cell_type": "code",
   "execution_count": 11,
   "id": "d6409e50",
   "metadata": {},
   "outputs": [
    {
     "name": "stdout",
     "output_type": "stream",
     "text": [
      "Collecting nltk\n",
      "  Using cached nltk-3.7-py3-none-any.whl (1.5 MB)\n",
      "Requirement already satisfied: joblib in c:\\users\\wilde\\appdata\\local\\programs\\python\\python310\\lib\\site-packages (from nltk) (1.1.0)\n",
      "Requirement already satisfied: regex>=2021.8.3 in c:\\users\\wilde\\appdata\\local\\programs\\python\\python310\\lib\\site-packages (from nltk) (2022.6.2)\n",
      "Requirement already satisfied: click in c:\\users\\wilde\\appdata\\local\\programs\\python\\python310\\lib\\site-packages (from nltk) (8.1.3)\n",
      "Requirement already satisfied: tqdm in c:\\users\\wilde\\appdata\\local\\programs\\python\\python310\\lib\\site-packages (from nltk) (4.64.0)\n",
      "Requirement already satisfied: colorama in c:\\users\\wilde\\appdata\\local\\programs\\python\\python310\\lib\\site-packages (from click->nltk) (0.4.4)\n",
      "Installing collected packages: nltk\n",
      "Successfully installed nltk-3.7\n",
      "\n",
      "[notice] A new release of pip available: 22.1.2 -> 22.2.2\n",
      "[notice] To update, run: python.exe -m pip install --upgrade pip\n"
     ]
    }
   ],
   "source": [
    "!pip install -U nltk"
   ]
  },
  {
   "cell_type": "code",
   "execution_count": 12,
   "id": "f29bdeff",
   "metadata": {},
   "outputs": [
    {
     "name": "stderr",
     "output_type": "stream",
     "text": [
      "[nltk_data] Downloading package stopwords to\n",
      "[nltk_data]     C:\\Users\\wilde\\AppData\\Roaming\\nltk_data...\n"
     ]
    },
    {
     "name": "stdout",
     "output_type": "stream",
     "text": [
      "{'seáis', 'tuviéramos', 'antes', 'habidos', 'por', 'fue', 'esto', 'estuvo', 'fuimos', 'fuese', 'tuvimos', 'suyo', 'serán', 'tuvieseis', 'para', 'fuesen', 'estarán', 'hayamos', 'hubieron', 'habías', 'mío', 'hubiesen', 'sentidos', 'del', 'tuve', 'tuya', 'suya', 'fueras', 'sus', 'tenéis', 'estarías', 'estaban', 'uno', 'tendrías', 'habrías', 'estoy', 'vosotros', 'las', 'eres', 'tendríamos', 'vuestras', 'otro', 'este', 'tenemos', 'os', 'habríamos', 'sean', 'teniendo', 'tendríais', 'donde', 'tenía', 'tenían', 'hubisteis', 'desde', 'habré', 'más', 'teníais', 'han', 'nada', 'hubieran', 'tuyos', 'estábamos', 'teníamos', 'tuviesen', 'hubierais', 'sintiendo', 'nuestras', 'fui', 'la', 'estaréis', 'estabas', 'has', 'he', 'hay', 'ese', 'hubieseis', 'les', 'otra', 'tuvierais', 'poco', 'estuvimos', 'habrían', 'tienen', 'mías', 'habían', 'muchos', 'fuerais', 'durante', 'estarían', 'eras', 'entre', 'de', 'estuvieran', 'esta', 'tengo', 'qué', 'estadas', 'será', 'tendré', 'nos', 'erais', 'tuvieras', 'míos', 'estuviesen', 'está', 'vuestros', 'contra', 'tenidas', 'fuisteis', 'fueseis', 'serías', 'otros', 'todos', 'en', 'habida', 'hemos', 'tendrían', 'cuando', 'habidas', 'estuviera', 'habiendo', 'algunos', 'porque', 'ella', 'esos', 'pero', 'quienes', 'fuésemos', 'estuvieses', 'eran', 'estaríamos', 'esté', 'hubiésemos', 'otras', 'al', 'tengan', 'habría', 'fueses', 'sentido', 'estuvisteis', 'algunas', 'tuvieses', 'un', 'fuiste', 'tendrán', 'seremos', 'cual', 'hubiste', 'somos', 'tú', 'ha', 'te', 'hayas', 'estén', 'tienes', 'estuvieron', 'sentid', 'sin', 'estando', 'habremos', 'e', 'estamos', 'hubiéramos', 'ante', 'estés', 'tenías', 'también', 'estaba', 'hayáis', 'había', 'tengas', 'sentidas', 'su', 'estás', 'tanto', 'sería', 'hubiese', 'habéis', 'seríamos', 'estado', 'habíais', 'hasta', 'hubieses', 'vosotras', 'habrán', 'con', 'tuyas', 'hayan', 'tendría', 'ti', 'serían', 'estados', 'yo', 'ellas', 'tuvisteis', 'hubo', 'estas', 'unos', 'fuéramos', 'estáis', 'habréis', 'estaríais', 'estaré', 'vuestra', 'fueran', 'tenidos', 'estará', 'sobre', 'todo', 'mucho', 'seré', 'estéis', 'vuestro', 'tengáis', 'suyos', 'estuviese', 'no', 'ya', 'estuvieseis', 'fueron', 'estuviste', 'ellos', 'y', 'ni', 'tuvo', 'estada', 'estabais', 'tuviésemos', 'nuestro', 'tuviera', 'nosotros', 'estos', 'se', 'hubiera', 'lo', 'hube', 'era', 'sí', 'eso', 'seas', 'estaría', 'esas', 'éramos', 'estuvieras', 'están', 'habíamos', 'es', 'seríais', 'nuestra', 'tenga', 'tendrás', 'mía', 'sea', 'hubieras', 'sentida', 'tendremos', 'estuvierais', 'muy', 'siente', 'seamos', 'esa', 'seréis', 'los', 'a', 'suyas', 'tenido', 'soy', 'me', 'que', 'sois', 'estuviéramos', 'una', 'tu', 'habrás', 'algo', 'él', 'nuestros', 'hubimos', 'tengamos', 'habido', 'nosotras', 'mi', 'fuera', 'quien', 'tendrá', 'haya', 'tuyo', 'tuviste', 'tiene', 'habrá', 'estuve', 'tus', 'le', 'mis', 'mí', 'tuviese', 'tuvieran', 'tened', 'estad', 'habríais', 'tendréis', 'estemos', 'serás', 'estarás', 'estar', 'como', 'estaremos', 'o', 'estuviésemos', 'son', 'tenida', 'el', 'tuvieron'}\n"
     ]
    },
    {
     "name": "stderr",
     "output_type": "stream",
     "text": [
      "[nltk_data]   Unzipping corpora\\stopwords.zip.\n"
     ]
    }
   ],
   "source": [
    "import nltk\n",
    "nltk.download('stopwords')\n",
    "from nltk.corpus import stopwords\n",
    "\n",
    "stops = set(stopwords.words('spanish'))\n",
    "print(stops)"
   ]
  },
  {
   "cell_type": "code",
   "execution_count": 25,
   "id": "f5893e82",
   "metadata": {},
   "outputs": [
    {
     "name": "stderr",
     "output_type": "stream",
     "text": [
      "C:\\Users\\wilde\\AppData\\Local\\Temp\\ipykernel_4108\\2497702300.py:3: DeprecationWarning: `np.str` is a deprecated alias for the builtin `str`. To silence this warning, use `str` by itself. Doing this will not modify any behavior and is safe. If you specifically wanted the numpy scalar type, use `np.str_` here.\n",
      "Deprecated in NumPy 1.20; for more details and guidance: https://numpy.org/devdocs/release/1.20.0-notes.html#deprecations\n",
      "  data = pd.read_excel(ruta, dtype={'texto': np.str, 'label': np.str})\n"
     ]
    }
   ],
   "source": [
    "ruta=\"scip1.xlsx\"\n",
    "#data=pd.read_excel(ruta)\n",
    "data = pd.read_excel(ruta, dtype={'texto': np.str, 'label': np.str})"
   ]
  },
  {
   "cell_type": "code",
   "execution_count": 26,
   "id": "2c734381",
   "metadata": {},
   "outputs": [
    {
     "data": {
      "text/plain": [
       "3    1382\n",
       "4     749\n",
       "2     264\n",
       "8     216\n",
       "9      96\n",
       "5      93\n",
       "6      70\n",
       "7      56\n",
       "1      21\n",
       "Name: label, dtype: int64"
      ]
     },
     "execution_count": 26,
     "metadata": {},
     "output_type": "execute_result"
    }
   ],
   "source": [
    "data['label'].value_counts()"
   ]
  },
  {
   "cell_type": "code",
   "execution_count": 27,
   "id": "c9fc4c1a",
   "metadata": {},
   "outputs": [
    {
     "data": {
      "text/html": [
       "<div>\n",
       "<style scoped>\n",
       "    .dataframe tbody tr th:only-of-type {\n",
       "        vertical-align: middle;\n",
       "    }\n",
       "\n",
       "    .dataframe tbody tr th {\n",
       "        vertical-align: top;\n",
       "    }\n",
       "\n",
       "    .dataframe thead th {\n",
       "        text-align: right;\n",
       "    }\n",
       "</style>\n",
       "<table border=\"1\" class=\"dataframe\">\n",
       "  <thead>\n",
       "    <tr style=\"text-align: right;\">\n",
       "      <th></th>\n",
       "      <th>texto</th>\n",
       "      <th>label</th>\n",
       "    </tr>\n",
       "  </thead>\n",
       "  <tbody>\n",
       "    <tr>\n",
       "      <th>0</th>\n",
       "      <td>COMPRA DE MATERIAL DESLIZANTE RODAMIENTOS</td>\n",
       "      <td>3</td>\n",
       "    </tr>\n",
       "    <tr>\n",
       "      <th>1</th>\n",
       "      <td>COMPRA DE MATERIAL OPTICO PAGO DE PROFORMA REF...</td>\n",
       "      <td>3</td>\n",
       "    </tr>\n",
       "    <tr>\n",
       "      <th>2</th>\n",
       "      <td>PAGO EXPORTACIONES ENERO Y FEB 22</td>\n",
       "      <td>3</td>\n",
       "    </tr>\n",
       "    <tr>\n",
       "      <th>3</th>\n",
       "      <td>FONDO DE INVERSION</td>\n",
       "      <td>8</td>\n",
       "    </tr>\n",
       "    <tr>\n",
       "      <th>4</th>\n",
       "      <td>COMPRA DE VIVIENDA EN GRANADA ESPANA ENVIO A M...</td>\n",
       "      <td>8</td>\n",
       "    </tr>\n",
       "  </tbody>\n",
       "</table>\n",
       "</div>"
      ],
      "text/plain": [
       "                                               texto label\n",
       "0          COMPRA DE MATERIAL DESLIZANTE RODAMIENTOS     3\n",
       "1  COMPRA DE MATERIAL OPTICO PAGO DE PROFORMA REF...     3\n",
       "2                  PAGO EXPORTACIONES ENERO Y FEB 22     3\n",
       "3                                 FONDO DE INVERSION     8\n",
       "4  COMPRA DE VIVIENDA EN GRANADA ESPANA ENVIO A M...     8"
      ]
     },
     "execution_count": 27,
     "metadata": {},
     "output_type": "execute_result"
    }
   ],
   "source": [
    "data.head()"
   ]
  },
  {
   "cell_type": "code",
   "execution_count": 28,
   "id": "914539e8",
   "metadata": {},
   "outputs": [
    {
     "data": {
      "text/plain": [
       "texto    object\n",
       "label    object\n",
       "dtype: object"
      ]
     },
     "execution_count": 28,
     "metadata": {},
     "output_type": "execute_result"
    }
   ],
   "source": [
    "data.dtypes"
   ]
  },
  {
   "cell_type": "code",
   "execution_count": 29,
   "id": "4946309c",
   "metadata": {},
   "outputs": [],
   "source": [
    "nlp = spacy.load(\"es_dep_news_trf\")"
   ]
  },
  {
   "cell_type": "code",
   "execution_count": 30,
   "id": "17a33e06",
   "metadata": {},
   "outputs": [
    {
     "name": "stderr",
     "output_type": "stream",
     "text": [
      "C:\\Users\\wilde\\AppData\\Local\\Programs\\Python\\Python310\\lib\\site-packages\\torch\\autocast_mode.py:162: UserWarning: User provided device_type of 'cuda', but CUDA is not available. Disabling\n",
      "  warnings.warn('User provided device_type of \\'cuda\\', but CUDA is not available. Disabling')\n"
     ]
    },
    {
     "data": {
      "text/html": [
       "<div>\n",
       "<style scoped>\n",
       "    .dataframe tbody tr th:only-of-type {\n",
       "        vertical-align: middle;\n",
       "    }\n",
       "\n",
       "    .dataframe tbody tr th {\n",
       "        vertical-align: top;\n",
       "    }\n",
       "\n",
       "    .dataframe thead th {\n",
       "        text-align: right;\n",
       "    }\n",
       "</style>\n",
       "<table border=\"1\" class=\"dataframe\">\n",
       "  <thead>\n",
       "    <tr style=\"text-align: right;\">\n",
       "      <th></th>\n",
       "      <th>texto</th>\n",
       "      <th>label</th>\n",
       "    </tr>\n",
       "  </thead>\n",
       "  <tbody>\n",
       "    <tr>\n",
       "      <th>0</th>\n",
       "      <td>compra material rodamiento</td>\n",
       "      <td>3</td>\n",
       "    </tr>\n",
       "    <tr>\n",
       "      <th>1</th>\n",
       "      <td>compra material pago</td>\n",
       "      <td>3</td>\n",
       "    </tr>\n",
       "    <tr>\n",
       "      <th>2</th>\n",
       "      <td>exportación</td>\n",
       "      <td>3</td>\n",
       "    </tr>\n",
       "    <tr>\n",
       "      <th>3</th>\n",
       "      <td></td>\n",
       "      <td>8</td>\n",
       "    </tr>\n",
       "    <tr>\n",
       "      <th>4</th>\n",
       "      <td>compra vivienda hermano</td>\n",
       "      <td>8</td>\n",
       "    </tr>\n",
       "  </tbody>\n",
       "</table>\n",
       "</div>"
      ],
      "text/plain": [
       "                        texto label\n",
       "0  compra material rodamiento     3\n",
       "1        compra material pago     3\n",
       "2                 exportación     3\n",
       "3                                 8\n",
       "4     compra vivienda hermano     8"
      ]
     },
     "execution_count": 30,
     "metadata": {},
     "output_type": "execute_result"
    }
   ],
   "source": [
    "random_state = 0\n",
    "\n",
    "''' DATA_DIR = \"./bbc/\"\n",
    "data = load_files(DATA_DIR, encoding=\"utf-8\", decode_error=\"replace\", random_state=random_state)\n",
    "df = pd.DataFrame(list(zip(data['data'], data['target'])), columns=['text', 'label'])\n",
    " '''\n",
    "#data={\"text\":[\"PAGO DE INTERCAMBIO DE COLEGIO PARA ANTONELY GUTIERREZ OSORIO\",\"PAGO TOTAL PROFORMA NO. 0012022 REACTIVOS PARA LABORATORIO CLINICO\"],\"label\":[0,1] }\n",
    "df = data\n",
    "def only_nouns(texts):\n",
    "    output = []\n",
    "    for doc in nlp.pipe(texts):\n",
    "        noun_text = \" \".join(token.lemma_ for token in doc if token.pos_ == 'NOUN')\n",
    "        output.append(noun_text)\n",
    "    return output\n",
    "\n",
    "\n",
    "df['texto'] = only_nouns(df['texto'])\n",
    "\n",
    "df.head()"
   ]
  },
  {
   "cell_type": "code",
   "execution_count": 32,
   "id": "e8e8f7a2",
   "metadata": {},
   "outputs": [
    {
     "data": {
      "text/html": [
       "<style>#sk-container-id-3 {color: black;background-color: white;}#sk-container-id-3 pre{padding: 0;}#sk-container-id-3 div.sk-toggleable {background-color: white;}#sk-container-id-3 label.sk-toggleable__label {cursor: pointer;display: block;width: 100%;margin-bottom: 0;padding: 0.3em;box-sizing: border-box;text-align: center;}#sk-container-id-3 label.sk-toggleable__label-arrow:before {content: \"▸\";float: left;margin-right: 0.25em;color: #696969;}#sk-container-id-3 label.sk-toggleable__label-arrow:hover:before {color: black;}#sk-container-id-3 div.sk-estimator:hover label.sk-toggleable__label-arrow:before {color: black;}#sk-container-id-3 div.sk-toggleable__content {max-height: 0;max-width: 0;overflow: hidden;text-align: left;background-color: #f0f8ff;}#sk-container-id-3 div.sk-toggleable__content pre {margin: 0.2em;color: black;border-radius: 0.25em;background-color: #f0f8ff;}#sk-container-id-3 input.sk-toggleable__control:checked~div.sk-toggleable__content {max-height: 200px;max-width: 100%;overflow: auto;}#sk-container-id-3 input.sk-toggleable__control:checked~label.sk-toggleable__label-arrow:before {content: \"▾\";}#sk-container-id-3 div.sk-estimator input.sk-toggleable__control:checked~label.sk-toggleable__label {background-color: #d4ebff;}#sk-container-id-3 div.sk-label input.sk-toggleable__control:checked~label.sk-toggleable__label {background-color: #d4ebff;}#sk-container-id-3 input.sk-hidden--visually {border: 0;clip: rect(1px 1px 1px 1px);clip: rect(1px, 1px, 1px, 1px);height: 1px;margin: -1px;overflow: hidden;padding: 0;position: absolute;width: 1px;}#sk-container-id-3 div.sk-estimator {font-family: monospace;background-color: #f0f8ff;border: 1px dotted black;border-radius: 0.25em;box-sizing: border-box;margin-bottom: 0.5em;}#sk-container-id-3 div.sk-estimator:hover {background-color: #d4ebff;}#sk-container-id-3 div.sk-parallel-item::after {content: \"\";width: 100%;border-bottom: 1px solid gray;flex-grow: 1;}#sk-container-id-3 div.sk-label:hover label.sk-toggleable__label {background-color: #d4ebff;}#sk-container-id-3 div.sk-serial::before {content: \"\";position: absolute;border-left: 1px solid gray;box-sizing: border-box;top: 0;bottom: 0;left: 50%;z-index: 0;}#sk-container-id-3 div.sk-serial {display: flex;flex-direction: column;align-items: center;background-color: white;padding-right: 0.2em;padding-left: 0.2em;position: relative;}#sk-container-id-3 div.sk-item {position: relative;z-index: 1;}#sk-container-id-3 div.sk-parallel {display: flex;align-items: stretch;justify-content: center;background-color: white;position: relative;}#sk-container-id-3 div.sk-item::before, #sk-container-id-3 div.sk-parallel-item::before {content: \"\";position: absolute;border-left: 1px solid gray;box-sizing: border-box;top: 0;bottom: 0;left: 50%;z-index: -1;}#sk-container-id-3 div.sk-parallel-item {display: flex;flex-direction: column;z-index: 1;position: relative;background-color: white;}#sk-container-id-3 div.sk-parallel-item:first-child::after {align-self: flex-end;width: 50%;}#sk-container-id-3 div.sk-parallel-item:last-child::after {align-self: flex-start;width: 50%;}#sk-container-id-3 div.sk-parallel-item:only-child::after {width: 0;}#sk-container-id-3 div.sk-dashed-wrapped {border: 1px dashed gray;margin: 0 0.4em 0.5em 0.4em;box-sizing: border-box;padding-bottom: 0.4em;background-color: white;}#sk-container-id-3 div.sk-label label {font-family: monospace;font-weight: bold;display: inline-block;line-height: 1.2em;}#sk-container-id-3 div.sk-label-container {text-align: center;}#sk-container-id-3 div.sk-container {/* jupyter's `normalize.less` sets `[hidden] { display: none; }` but bootstrap.min.css set `[hidden] { display: none !important; }` so we also need the `!important` here to be able to override the default hidden behavior on the sphinx rendered scikit-learn.org. See: https://github.com/scikit-learn/scikit-learn/issues/21755 */display: inline-block !important;position: relative;}#sk-container-id-3 div.sk-text-repr-fallback {display: none;}</style><div id=\"sk-container-id-3\" class=\"sk-top-container\"><div class=\"sk-text-repr-fallback\"><pre>NMF(n_components=9, random_state=0)</pre><b>In a Jupyter environment, please rerun this cell to show the HTML representation or trust the notebook. <br />On GitHub, the HTML representation is unable to render, please try loading this page with nbviewer.org.</b></div><div class=\"sk-container\" hidden><div class=\"sk-item\"><div class=\"sk-estimator sk-toggleable\"><input class=\"sk-toggleable__control sk-hidden--visually\" id=\"sk-estimator-id-3\" type=\"checkbox\" checked><label for=\"sk-estimator-id-3\" class=\"sk-toggleable__label sk-toggleable__label-arrow\">NMF</label><div class=\"sk-toggleable__content\"><pre>NMF(n_components=9, random_state=0)</pre></div></div></div></div></div>"
      ],
      "text/plain": [
       "NMF(n_components=9, random_state=0)"
      ]
     },
     "execution_count": 32,
     "metadata": {},
     "output_type": "execute_result"
    }
   ],
   "source": [
    "\n",
    "n_topics = 9\n",
    "\n",
    "from sklearn.feature_extraction.text import CountVectorizer, TfidfVectorizer\n",
    "vec = TfidfVectorizer(max_features=50, stop_words= stops, max_df=.95, min_df=2)\n",
    "features = vec.fit_transform(df.texto)\n",
    "\n",
    "from sklearn.decomposition import NMF\n",
    "cls = NMF(n_components=n_topics, random_state=random_state)\n",
    "cls.fit(features)"
   ]
  },
  {
   "cell_type": "code",
   "execution_count": 36,
   "id": "5b6d7af8",
   "metadata": {},
   "outputs": [
    {
     "name": "stdout",
     "output_type": "stream",
     "text": [
      "0 compra equipo accesorio material \n",
      "1 pago interés mercancia estudio \n",
      "2 gasto estudio ayuda vivienda \n",
      "3 servicio equipo transporte laboratorio \n",
      "4 importacion producto anticipo equipo \n",
      "5 cuenta transferencia ahorro fondo \n",
      "6 factura equipo producto maquinaria \n",
      "7 prestamo devolucion dinero interés \n",
      "8 repuesto celular vehiculo motocicleta \n"
     ]
    }
   ],
   "source": [
    "# list of unique words found by the vectorizer\n",
    "feature_names = vec.get_feature_names()\n",
    "\n",
    "# number of most influencing words to display per topic\n",
    "n_top_words = 4\n",
    "\n",
    "for i, topic_vec in enumerate(cls.components_):\n",
    "    print(i, end=' ')\n",
    "   \n",
    "    for fid in topic_vec.argsort()[-1:-n_top_words-1:-1]:\n",
    "        print(feature_names[fid], end=' ')\n",
    "    print()"
   ]
  },
  {
   "cell_type": "code",
   "execution_count": 34,
   "id": "4f5c0885",
   "metadata": {},
   "outputs": [
    {
     "data": {
      "text/plain": [
       "array([7, 1], dtype=int64)"
      ]
     },
     "execution_count": 34,
     "metadata": {},
     "output_type": "execute_result"
    }
   ],
   "source": [
    "new_articles = [\n",
    "    \"DEVOLUCION DE PRESTAMO\",\n",
    "    \"PARA PAGO DE DEUDA FAMILIAR A OSCAR ARANCIBIA\"\n",
    "]\n",
    "# first transform the text into features using vec\n",
    "# then pass it to transform of cls\n",
    "# the result will be a matrix of shape [2, 10]\n",
    "# then we sort the topic id based on the score using argsort\n",
    "# and take the last one (with the highest score) for each row using `[:,-1]` indexing\n",
    "cls.transform(vec.transform(new_articles)).argsort(axis=1)[:,-1]"
   ]
  },
  {
   "cell_type": "code",
   "execution_count": null,
   "id": "b39b4fe7",
   "metadata": {},
   "outputs": [],
   "source": []
  }
 ],
 "metadata": {
  "kernelspec": {
   "display_name": "Python 3 (ipykernel)",
   "language": "python",
   "name": "python3"
  },
  "language_info": {
   "codemirror_mode": {
    "name": "ipython",
    "version": 3
   },
   "file_extension": ".py",
   "mimetype": "text/x-python",
   "name": "python",
   "nbconvert_exporter": "python",
   "pygments_lexer": "ipython3",
   "version": "3.10.4"
  }
 },
 "nbformat": 4,
 "nbformat_minor": 5
}
